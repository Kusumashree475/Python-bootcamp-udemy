{
 "cells": [
  {
   "cell_type": "markdown",
   "metadata": {},
   "source": [
    "___\n",
    "\n",
    "<a href='http://www.pieriandata.com'> <img src='../../Pierian_Data_Logo.png' /></a>\n",
    "___"
   ]
  },
  {
   "cell_type": "markdown",
   "metadata": {},
   "source": [
    "# SF Salaries Exercise \n",
    "\n",
    "Welcome to a quick exercise for you to practice your pandas skills! We will be using the [SF Salaries Dataset](https://www.kaggle.com/kaggle/sf-salaries) from Kaggle! Just follow along and complete the tasks outlined in bold below. The tasks will get harder and harder as you go along."
   ]
  },
  {
   "cell_type": "markdown",
   "metadata": {},
   "source": [
    "** Import pandas as pd.**"
   ]
  },
  {
   "cell_type": "code",
   "execution_count": 1,
   "metadata": {},
   "outputs": [],
   "source": [
    "import pandas as pd"
   ]
  },
  {
   "cell_type": "markdown",
   "metadata": {},
   "source": [
    "** Read Salaries.csv as a dataframe called sal.**"
   ]
  },
  {
   "cell_type": "code",
   "execution_count": 2,
   "metadata": {},
   "outputs": [],
   "source": [
    "salaries_df=pd.read_csv('Salaries.csv')\n"
   ]
  },
  {
   "cell_type": "markdown",
   "metadata": {},
   "source": [
    "** Check the head of the DataFrame. **"
   ]
  },
  {
   "cell_type": "code",
   "execution_count": 3,
   "metadata": {},
   "outputs": [
    {
     "data": {
      "text/html": [
       "<div>\n",
       "<style scoped>\n",
       "    .dataframe tbody tr th:only-of-type {\n",
       "        vertical-align: middle;\n",
       "    }\n",
       "\n",
       "    .dataframe tbody tr th {\n",
       "        vertical-align: top;\n",
       "    }\n",
       "\n",
       "    .dataframe thead th {\n",
       "        text-align: right;\n",
       "    }\n",
       "</style>\n",
       "<table border=\"1\" class=\"dataframe\">\n",
       "  <thead>\n",
       "    <tr style=\"text-align: right;\">\n",
       "      <th></th>\n",
       "      <th>Id</th>\n",
       "      <th>EmployeeName</th>\n",
       "      <th>JobTitle</th>\n",
       "      <th>BasePay</th>\n",
       "      <th>OvertimePay</th>\n",
       "      <th>OtherPay</th>\n",
       "      <th>Benefits</th>\n",
       "      <th>TotalPay</th>\n",
       "      <th>TotalPayBenefits</th>\n",
       "      <th>Year</th>\n",
       "      <th>Notes</th>\n",
       "      <th>Agency</th>\n",
       "      <th>Status</th>\n",
       "    </tr>\n",
       "  </thead>\n",
       "  <tbody>\n",
       "    <tr>\n",
       "      <th>0</th>\n",
       "      <td>1</td>\n",
       "      <td>NATHANIEL FORD</td>\n",
       "      <td>GENERAL MANAGER-METROPOLITAN TRANSIT AUTHORITY</td>\n",
       "      <td>167411.18</td>\n",
       "      <td>0.00</td>\n",
       "      <td>400184.25</td>\n",
       "      <td>NaN</td>\n",
       "      <td>567595.43</td>\n",
       "      <td>567595.43</td>\n",
       "      <td>2011</td>\n",
       "      <td>NaN</td>\n",
       "      <td>San Francisco</td>\n",
       "      <td>NaN</td>\n",
       "    </tr>\n",
       "    <tr>\n",
       "      <th>1</th>\n",
       "      <td>2</td>\n",
       "      <td>GARY JIMENEZ</td>\n",
       "      <td>CAPTAIN III (POLICE DEPARTMENT)</td>\n",
       "      <td>155966.02</td>\n",
       "      <td>245131.88</td>\n",
       "      <td>137811.38</td>\n",
       "      <td>NaN</td>\n",
       "      <td>538909.28</td>\n",
       "      <td>538909.28</td>\n",
       "      <td>2011</td>\n",
       "      <td>NaN</td>\n",
       "      <td>San Francisco</td>\n",
       "      <td>NaN</td>\n",
       "    </tr>\n",
       "    <tr>\n",
       "      <th>2</th>\n",
       "      <td>3</td>\n",
       "      <td>ALBERT PARDINI</td>\n",
       "      <td>CAPTAIN III (POLICE DEPARTMENT)</td>\n",
       "      <td>212739.13</td>\n",
       "      <td>106088.18</td>\n",
       "      <td>16452.60</td>\n",
       "      <td>NaN</td>\n",
       "      <td>335279.91</td>\n",
       "      <td>335279.91</td>\n",
       "      <td>2011</td>\n",
       "      <td>NaN</td>\n",
       "      <td>San Francisco</td>\n",
       "      <td>NaN</td>\n",
       "    </tr>\n",
       "    <tr>\n",
       "      <th>3</th>\n",
       "      <td>4</td>\n",
       "      <td>CHRISTOPHER CHONG</td>\n",
       "      <td>WIRE ROPE CABLE MAINTENANCE MECHANIC</td>\n",
       "      <td>77916.00</td>\n",
       "      <td>56120.71</td>\n",
       "      <td>198306.90</td>\n",
       "      <td>NaN</td>\n",
       "      <td>332343.61</td>\n",
       "      <td>332343.61</td>\n",
       "      <td>2011</td>\n",
       "      <td>NaN</td>\n",
       "      <td>San Francisco</td>\n",
       "      <td>NaN</td>\n",
       "    </tr>\n",
       "    <tr>\n",
       "      <th>4</th>\n",
       "      <td>5</td>\n",
       "      <td>PATRICK GARDNER</td>\n",
       "      <td>DEPUTY CHIEF OF DEPARTMENT,(FIRE DEPARTMENT)</td>\n",
       "      <td>134401.60</td>\n",
       "      <td>9737.00</td>\n",
       "      <td>182234.59</td>\n",
       "      <td>NaN</td>\n",
       "      <td>326373.19</td>\n",
       "      <td>326373.19</td>\n",
       "      <td>2011</td>\n",
       "      <td>NaN</td>\n",
       "      <td>San Francisco</td>\n",
       "      <td>NaN</td>\n",
       "    </tr>\n",
       "  </tbody>\n",
       "</table>\n",
       "</div>"
      ],
      "text/plain": [
       "   Id       EmployeeName                                        JobTitle  \\\n",
       "0   1     NATHANIEL FORD  GENERAL MANAGER-METROPOLITAN TRANSIT AUTHORITY   \n",
       "1   2       GARY JIMENEZ                 CAPTAIN III (POLICE DEPARTMENT)   \n",
       "2   3     ALBERT PARDINI                 CAPTAIN III (POLICE DEPARTMENT)   \n",
       "3   4  CHRISTOPHER CHONG            WIRE ROPE CABLE MAINTENANCE MECHANIC   \n",
       "4   5    PATRICK GARDNER    DEPUTY CHIEF OF DEPARTMENT,(FIRE DEPARTMENT)   \n",
       "\n",
       "     BasePay  OvertimePay   OtherPay  Benefits   TotalPay  TotalPayBenefits  \\\n",
       "0  167411.18         0.00  400184.25       NaN  567595.43         567595.43   \n",
       "1  155966.02    245131.88  137811.38       NaN  538909.28         538909.28   \n",
       "2  212739.13    106088.18   16452.60       NaN  335279.91         335279.91   \n",
       "3   77916.00     56120.71  198306.90       NaN  332343.61         332343.61   \n",
       "4  134401.60      9737.00  182234.59       NaN  326373.19         326373.19   \n",
       "\n",
       "   Year  Notes         Agency  Status  \n",
       "0  2011    NaN  San Francisco     NaN  \n",
       "1  2011    NaN  San Francisco     NaN  \n",
       "2  2011    NaN  San Francisco     NaN  \n",
       "3  2011    NaN  San Francisco     NaN  \n",
       "4  2011    NaN  San Francisco     NaN  "
      ]
     },
     "execution_count": 3,
     "metadata": {},
     "output_type": "execute_result"
    }
   ],
   "source": [
    "salaries_df.head()"
   ]
  },
  {
   "cell_type": "markdown",
   "metadata": {},
   "source": [
    "** Use the .info() method to find out how many entries there are.**"
   ]
  },
  {
   "cell_type": "code",
   "execution_count": 4,
   "metadata": {},
   "outputs": [
    {
     "name": "stdout",
     "output_type": "stream",
     "text": [
      "<class 'pandas.core.frame.DataFrame'>\n",
      "RangeIndex: 148654 entries, 0 to 148653\n",
      "Data columns (total 13 columns):\n",
      "Id                  148654 non-null int64\n",
      "EmployeeName        148654 non-null object\n",
      "JobTitle            148654 non-null object\n",
      "BasePay             148045 non-null float64\n",
      "OvertimePay         148650 non-null float64\n",
      "OtherPay            148650 non-null float64\n",
      "Benefits            112491 non-null float64\n",
      "TotalPay            148654 non-null float64\n",
      "TotalPayBenefits    148654 non-null float64\n",
      "Year                148654 non-null int64\n",
      "Notes               0 non-null float64\n",
      "Agency              148654 non-null object\n",
      "Status              0 non-null float64\n",
      "dtypes: float64(8), int64(2), object(3)\n",
      "memory usage: 14.7+ MB\n"
     ]
    }
   ],
   "source": [
    "salaries_df.info()"
   ]
  },
  {
   "cell_type": "markdown",
   "metadata": {},
   "source": [
    "**What is the average BasePay ?**"
   ]
  },
  {
   "cell_type": "code",
   "execution_count": 5,
   "metadata": {},
   "outputs": [
    {
     "data": {
      "text/plain": [
       "66325.44884050643"
      ]
     },
     "execution_count": 5,
     "metadata": {},
     "output_type": "execute_result"
    }
   ],
   "source": [
    "salaries_df['BasePay'].mean()"
   ]
  },
  {
   "cell_type": "markdown",
   "metadata": {},
   "source": [
    "** What is the highest amount of OvertimePay in the dataset ? **"
   ]
  },
  {
   "cell_type": "code",
   "execution_count": 6,
   "metadata": {},
   "outputs": [
    {
     "data": {
      "text/plain": [
       "245131.88"
      ]
     },
     "execution_count": 6,
     "metadata": {},
     "output_type": "execute_result"
    }
   ],
   "source": [
    "salaries_df['OvertimePay'].max()"
   ]
  },
  {
   "cell_type": "markdown",
   "metadata": {},
   "source": [
    "** What is the job title of  JOSEPH DRISCOLL ? Note: Use all caps, otherwise you may get an answer that doesn't match up (there is also a lowercase Joseph Driscoll). **"
   ]
  },
  {
   "cell_type": "code",
   "execution_count": 7,
   "metadata": {},
   "outputs": [
    {
     "data": {
      "text/plain": [
       "24    CAPTAIN, FIRE SUPPRESSION\n",
       "Name: JobTitle, dtype: object"
      ]
     },
     "execution_count": 7,
     "metadata": {},
     "output_type": "execute_result"
    }
   ],
   "source": [
    "salaries_df[salaries_df['EmployeeName']=='JOSEPH DRISCOLL']['JobTitle']"
   ]
  },
  {
   "cell_type": "code",
   "execution_count": 8,
   "metadata": {},
   "outputs": [
    {
     "data": {
      "text/html": [
       "<div>\n",
       "<style scoped>\n",
       "    .dataframe tbody tr th:only-of-type {\n",
       "        vertical-align: middle;\n",
       "    }\n",
       "\n",
       "    .dataframe tbody tr th {\n",
       "        vertical-align: top;\n",
       "    }\n",
       "\n",
       "    .dataframe thead th {\n",
       "        text-align: right;\n",
       "    }\n",
       "</style>\n",
       "<table border=\"1\" class=\"dataframe\">\n",
       "  <thead>\n",
       "    <tr style=\"text-align: right;\">\n",
       "      <th></th>\n",
       "      <th>Id</th>\n",
       "      <th>EmployeeName</th>\n",
       "      <th>JobTitle</th>\n",
       "      <th>BasePay</th>\n",
       "      <th>OvertimePay</th>\n",
       "      <th>OtherPay</th>\n",
       "      <th>Benefits</th>\n",
       "      <th>TotalPay</th>\n",
       "      <th>TotalPayBenefits</th>\n",
       "      <th>Year</th>\n",
       "      <th>Notes</th>\n",
       "      <th>Agency</th>\n",
       "      <th>Status</th>\n",
       "    </tr>\n",
       "  </thead>\n",
       "  <tbody>\n",
       "    <tr>\n",
       "      <th>24</th>\n",
       "      <td>25</td>\n",
       "      <td>JOSEPH DRISCOLL</td>\n",
       "      <td>CAPTAIN, FIRE SUPPRESSION</td>\n",
       "      <td>140546.86</td>\n",
       "      <td>97868.77</td>\n",
       "      <td>31909.28</td>\n",
       "      <td>NaN</td>\n",
       "      <td>270324.91</td>\n",
       "      <td>270324.91</td>\n",
       "      <td>2011</td>\n",
       "      <td>NaN</td>\n",
       "      <td>San Francisco</td>\n",
       "      <td>NaN</td>\n",
       "    </tr>\n",
       "  </tbody>\n",
       "</table>\n",
       "</div>"
      ],
      "text/plain": [
       "    Id     EmployeeName                   JobTitle    BasePay  OvertimePay  \\\n",
       "24  25  JOSEPH DRISCOLL  CAPTAIN, FIRE SUPPRESSION  140546.86     97868.77   \n",
       "\n",
       "    OtherPay  Benefits   TotalPay  TotalPayBenefits  Year  Notes  \\\n",
       "24  31909.28       NaN  270324.91         270324.91  2011    NaN   \n",
       "\n",
       "           Agency  Status  \n",
       "24  San Francisco     NaN  "
      ]
     },
     "execution_count": 8,
     "metadata": {},
     "output_type": "execute_result"
    }
   ],
   "source": [
    "salaries_df[salaries_df['EmployeeName']=='JOSEPH DRISCOLL']"
   ]
  },
  {
   "cell_type": "markdown",
   "metadata": {},
   "source": [
    "** How much does JOSEPH DRISCOLL make (including benefits)? **"
   ]
  },
  {
   "cell_type": "code",
   "execution_count": 14,
   "metadata": {},
   "outputs": [
    {
     "data": {
      "text/plain": [
       "24    270324.91\n",
       "Name: TotalPayBenefits, dtype: float64"
      ]
     },
     "execution_count": 14,
     "metadata": {},
     "output_type": "execute_result"
    }
   ],
   "source": [
    "salaries_df[salaries_df['EmployeeName']=='JOSEPH DRISCOLL']['TotalPayBenefits']"
   ]
  },
  {
   "cell_type": "markdown",
   "metadata": {},
   "source": [
    "** What is the name of highest paid person (including benefits)?**"
   ]
  },
  {
   "cell_type": "code",
   "execution_count": 18,
   "metadata": {},
   "outputs": [
    {
     "data": {
      "text/html": [
       "<div>\n",
       "<style scoped>\n",
       "    .dataframe tbody tr th:only-of-type {\n",
       "        vertical-align: middle;\n",
       "    }\n",
       "\n",
       "    .dataframe tbody tr th {\n",
       "        vertical-align: top;\n",
       "    }\n",
       "\n",
       "    .dataframe thead th {\n",
       "        text-align: right;\n",
       "    }\n",
       "</style>\n",
       "<table border=\"1\" class=\"dataframe\">\n",
       "  <thead>\n",
       "    <tr style=\"text-align: right;\">\n",
       "      <th></th>\n",
       "      <th>Id</th>\n",
       "      <th>EmployeeName</th>\n",
       "      <th>JobTitle</th>\n",
       "      <th>BasePay</th>\n",
       "      <th>OvertimePay</th>\n",
       "      <th>OtherPay</th>\n",
       "      <th>Benefits</th>\n",
       "      <th>TotalPay</th>\n",
       "      <th>TotalPayBenefits</th>\n",
       "      <th>Year</th>\n",
       "      <th>Notes</th>\n",
       "      <th>Agency</th>\n",
       "      <th>Status</th>\n",
       "    </tr>\n",
       "  </thead>\n",
       "  <tbody>\n",
       "    <tr>\n",
       "      <th>0</th>\n",
       "      <td>1</td>\n",
       "      <td>NATHANIEL FORD</td>\n",
       "      <td>GENERAL MANAGER-METROPOLITAN TRANSIT AUTHORITY</td>\n",
       "      <td>167411.18</td>\n",
       "      <td>0.0</td>\n",
       "      <td>400184.25</td>\n",
       "      <td>NaN</td>\n",
       "      <td>567595.43</td>\n",
       "      <td>567595.43</td>\n",
       "      <td>2011</td>\n",
       "      <td>NaN</td>\n",
       "      <td>San Francisco</td>\n",
       "      <td>NaN</td>\n",
       "    </tr>\n",
       "  </tbody>\n",
       "</table>\n",
       "</div>"
      ],
      "text/plain": [
       "   Id    EmployeeName                                        JobTitle  \\\n",
       "0   1  NATHANIEL FORD  GENERAL MANAGER-METROPOLITAN TRANSIT AUTHORITY   \n",
       "\n",
       "     BasePay  OvertimePay   OtherPay  Benefits   TotalPay  TotalPayBenefits  \\\n",
       "0  167411.18          0.0  400184.25       NaN  567595.43         567595.43   \n",
       "\n",
       "   Year  Notes         Agency  Status  \n",
       "0  2011    NaN  San Francisco     NaN  "
      ]
     },
     "execution_count": 18,
     "metadata": {},
     "output_type": "execute_result"
    }
   ],
   "source": [
    "salaries_df[salaries_df['TotalPayBenefits']==max(salaries_df['TotalPayBenefits'])]"
   ]
  },
  {
   "cell_type": "markdown",
   "metadata": {},
   "source": [
    "** What is the name of lowest paid person (including benefits)? Do you notice something strange about how much he or she is paid?**"
   ]
  },
  {
   "cell_type": "code",
   "execution_count": 17,
   "metadata": {},
   "outputs": [
    {
     "data": {
      "text/html": [
       "<div>\n",
       "<style scoped>\n",
       "    .dataframe tbody tr th:only-of-type {\n",
       "        vertical-align: middle;\n",
       "    }\n",
       "\n",
       "    .dataframe tbody tr th {\n",
       "        vertical-align: top;\n",
       "    }\n",
       "\n",
       "    .dataframe thead th {\n",
       "        text-align: right;\n",
       "    }\n",
       "</style>\n",
       "<table border=\"1\" class=\"dataframe\">\n",
       "  <thead>\n",
       "    <tr style=\"text-align: right;\">\n",
       "      <th></th>\n",
       "      <th>Id</th>\n",
       "      <th>EmployeeName</th>\n",
       "      <th>JobTitle</th>\n",
       "      <th>BasePay</th>\n",
       "      <th>OvertimePay</th>\n",
       "      <th>OtherPay</th>\n",
       "      <th>Benefits</th>\n",
       "      <th>TotalPay</th>\n",
       "      <th>TotalPayBenefits</th>\n",
       "      <th>Year</th>\n",
       "      <th>Notes</th>\n",
       "      <th>Agency</th>\n",
       "      <th>Status</th>\n",
       "    </tr>\n",
       "  </thead>\n",
       "  <tbody>\n",
       "    <tr>\n",
       "      <th>148653</th>\n",
       "      <td>148654</td>\n",
       "      <td>Joe Lopez</td>\n",
       "      <td>Counselor, Log Cabin Ranch</td>\n",
       "      <td>0.0</td>\n",
       "      <td>0.0</td>\n",
       "      <td>-618.13</td>\n",
       "      <td>0.0</td>\n",
       "      <td>-618.13</td>\n",
       "      <td>-618.13</td>\n",
       "      <td>2014</td>\n",
       "      <td>NaN</td>\n",
       "      <td>San Francisco</td>\n",
       "      <td>NaN</td>\n",
       "    </tr>\n",
       "  </tbody>\n",
       "</table>\n",
       "</div>"
      ],
      "text/plain": [
       "            Id EmployeeName                    JobTitle  BasePay  OvertimePay  \\\n",
       "148653  148654    Joe Lopez  Counselor, Log Cabin Ranch      0.0          0.0   \n",
       "\n",
       "        OtherPay  Benefits  TotalPay  TotalPayBenefits  Year  Notes  \\\n",
       "148653   -618.13       0.0   -618.13           -618.13  2014    NaN   \n",
       "\n",
       "               Agency  Status  \n",
       "148653  San Francisco     NaN  "
      ]
     },
     "execution_count": 17,
     "metadata": {},
     "output_type": "execute_result"
    }
   ],
   "source": [
    "salaries_df[salaries_df['TotalPayBenefits']==min(salaries_df['TotalPayBenefits'])]"
   ]
  },
  {
   "cell_type": "markdown",
   "metadata": {},
   "source": [
    "** What was the average (mean) BasePay of all employees per year? (2011-2014) ? **"
   ]
  },
  {
   "cell_type": "code",
   "execution_count": 20,
   "metadata": {
    "scrolled": true
   },
   "outputs": [
    {
     "name": "stdout",
     "output_type": "stream",
     "text": [
      "[2011 2012 2013 2014]\n"
     ]
    }
   ],
   "source": [
    "print(salaries_df['Year'].unique())"
   ]
  },
  {
   "cell_type": "code",
   "execution_count": 22,
   "metadata": {},
   "outputs": [
    {
     "data": {
      "text/plain": [
       "Year\n",
       "2011    63595.956517\n",
       "2012    65436.406857\n",
       "2013    69630.030216\n",
       "2014    66564.421924\n",
       "Name: BasePay, dtype: float64"
      ]
     },
     "execution_count": 22,
     "metadata": {},
     "output_type": "execute_result"
    }
   ],
   "source": [
    "salaries_df.groupby('Year')['BasePay'].mean()"
   ]
  },
  {
   "cell_type": "markdown",
   "metadata": {},
   "source": [
    "** How many unique job titles are there? **"
   ]
  },
  {
   "cell_type": "code",
   "execution_count": 23,
   "metadata": {},
   "outputs": [
    {
     "data": {
      "text/plain": [
       "2159"
      ]
     },
     "execution_count": 23,
     "metadata": {},
     "output_type": "execute_result"
    }
   ],
   "source": [
    "salaries_df['JobTitle'].nunique()"
   ]
  },
  {
   "cell_type": "markdown",
   "metadata": {},
   "source": [
    "** What are the top 5 most common jobs? **"
   ]
  },
  {
   "cell_type": "code",
   "execution_count": 25,
   "metadata": {},
   "outputs": [
    {
     "data": {
      "text/plain": [
       "Transit Operator                7036\n",
       "Special Nurse                   4389\n",
       "Registered Nurse                3736\n",
       "Public Svc Aide-Public Works    2518\n",
       "Police Officer 3                2421\n",
       "Name: JobTitle, dtype: int64"
      ]
     },
     "execution_count": 25,
     "metadata": {},
     "output_type": "execute_result"
    }
   ],
   "source": []
  },
  {
   "cell_type": "code",
   "execution_count": 18,
   "metadata": {},
   "outputs": [
    {
     "data": {
      "text/plain": [
       "Transit Operator                7036\n",
       "Special Nurse                   4389\n",
       "Registered Nurse                3736\n",
       "Public Svc Aide-Public Works    2518\n",
       "Police Officer 3                2421\n",
       "Name: JobTitle, dtype: int64"
      ]
     },
     "execution_count": 18,
     "metadata": {},
     "output_type": "execute_result"
    }
   ],
   "source": [
    "salaries_df['JobTitle'].value_counts().head()"
   ]
  },
  {
   "cell_type": "markdown",
   "metadata": {},
   "source": [
    "** How many Job Titles were represented by only one person in 2013? (e.g. Job Titles with only one occurence in 2013?) **"
   ]
  },
  {
   "cell_type": "code",
   "execution_count": 31,
   "metadata": {
    "scrolled": true
   },
   "outputs": [
    {
     "data": {
      "text/plain": [
       "202"
      ]
     },
     "execution_count": 31,
     "metadata": {},
     "output_type": "execute_result"
    }
   ],
   "source": [
    "# salaries_df.groupby('Year')['JobTitle'].value_counts()\n",
    "sum(salaries_df[salaries_df['Year']==2013]['JobTitle'].value_counts()==1)"
   ]
  },
  {
   "cell_type": "code",
   "execution_count": 19,
   "metadata": {},
   "outputs": [
    {
     "data": {
      "text/plain": [
       "202"
      ]
     },
     "execution_count": 19,
     "metadata": {},
     "output_type": "execute_result"
    }
   ],
   "source": []
  },
  {
   "cell_type": "markdown",
   "metadata": {},
   "source": [
    "** How many people have the word Chief in their job title? (This is pretty tricky) **"
   ]
  },
  {
   "cell_type": "code",
   "execution_count": 180,
   "metadata": {},
   "outputs": [],
   "source": [
    "# class Cheif_count:\n",
    "#         count=0\n",
    "#         def init(self):\n",
    "#             self.count=0\n",
    "#         def count1(x,count):\n",
    "#             #     print(x.split())\n",
    "#             li=x.lower().split()\n",
    "#             #     print(li)\n",
    "#             print(';hello ',count)\n",
    "#             ind=-1\n",
    "#             try:\n",
    "#                 ind=li.index('chief')\n",
    "#                 #         print(ind)\n",
    "#                 if ind>=0:\n",
    "#                     self.count=self.count+1 \n",
    "#                     print('hi ',count)\n",
    "#                 #             print(count)\n",
    "#             except ValueError:\n",
    "#                 pass\n",
    "#             try:\n",
    "#                 ind1=-1\n",
    "#                 ind1=li.index('chief,')        \n",
    "#                 if ind1>=0:\n",
    "#                     self.count=self.count+1\n",
    "#             except ValueError:\n",
    "#                 pass\n",
    "#             return count\n",
    "obj=Cheif_count()"
   ]
  },
  {
   "cell_type": "code",
   "execution_count": 181,
   "metadata": {},
   "outputs": [],
   "source": []
  },
  {
   "cell_type": "code",
   "execution_count": 190,
   "metadata": {
    "collapsed": true
   },
   "outputs": [
    {
     "name": "stdout",
     "output_type": "stream",
     "text": [
      "hi  1\n",
      "hi  2\n",
      "hi  3\n",
      "hi  4\n",
      "hi  5\n",
      "hi  6\n",
      "hi  7\n",
      "hi  8\n",
      "hi  9\n",
      "hi  10\n",
      "hi  11\n",
      "hi  12\n",
      "hi  13\n",
      "hi  14\n",
      "hi  15\n",
      "hi  16\n",
      "hi  17\n",
      "hi  18\n",
      "hi  19\n",
      "hi  20\n",
      "hi  21\n",
      "hi  22\n",
      "hi  23\n",
      "hi  24\n",
      "hi  25\n",
      "hi  26\n",
      "hi  27\n",
      "hi  28\n",
      "hi  29\n",
      "hi  30\n",
      "hi  31\n",
      "hi  32\n",
      "hi  33\n",
      "hi  34\n",
      "hi  35\n",
      "hi  36\n",
      "hi  37\n",
      "hi  38\n",
      "hi  39\n",
      "hi  40\n",
      "hi  41\n",
      "hi  42\n",
      "hi  43\n",
      "hi  44\n",
      "hi  45\n",
      "hi  46\n",
      "hi  47\n",
      "hi  48\n",
      "hi  49\n",
      "hi  50\n",
      "hi  51\n",
      "hi  52\n",
      "hi  53\n",
      "hi  54\n",
      "hi  55\n",
      "hi  56\n",
      "hi  57\n",
      "hi  58\n",
      "hi  59\n",
      "hi  60\n",
      "hi  61\n",
      "hi  62\n",
      "hi  63\n",
      "hi  64\n",
      "hi  65\n",
      "hi  66\n",
      "hi  67\n",
      "hi  68\n",
      "hi  69\n",
      "hi  70\n",
      "hi  71\n",
      "hi  72\n",
      "hi  73\n",
      "hi  74\n",
      "hi  75\n",
      "hi  76\n",
      "hi  77\n",
      "hi  78\n",
      "hi  79\n",
      "hi  80\n",
      "hi  81\n",
      "hi  82\n",
      "hi  83\n",
      "hi  84\n",
      "hi  85\n",
      "hi  86\n",
      "hi  87\n",
      "hi  88\n",
      "hi  89\n",
      "hi  90\n",
      "hi  91\n",
      "hi  92\n",
      "hi  93\n",
      "hi  94\n",
      "hi  95\n",
      "hi  96\n",
      "hi  97\n",
      "hi  98\n",
      "hi  99\n",
      "hi  100\n",
      "hi  101\n",
      "hi  102\n",
      "hi  103\n",
      "hi  104\n",
      "hi  105\n",
      "hi  106\n",
      "hi  107\n",
      "hi  108\n",
      "hi  109\n",
      "hi  110\n",
      "hi  111\n",
      "hi  112\n",
      "hi  113\n",
      "hi  114\n",
      "hi  115\n",
      "hi  116\n",
      "hi  117\n",
      "hi  118\n",
      "hi  119\n",
      "hi  120\n",
      "hi  121\n",
      "hi  122\n",
      "hi  123\n",
      "hi  124\n",
      "hi  125\n",
      "hi  126\n",
      "hi  127\n",
      "hi  128\n",
      "hi  129\n",
      "hi  130\n",
      "hi  131\n",
      "hi  132\n",
      "hi  133\n",
      "hi  134\n",
      "hi  135\n",
      "hi  136\n",
      "hi  137\n",
      "hi  138\n",
      "hi  139\n",
      "hi  140\n",
      "hi  141\n",
      "hi  142\n",
      "hi  143\n",
      "hi  144\n",
      "hi  145\n",
      "hi  146\n",
      "hi  147\n",
      "hi  148\n",
      "hi  149\n",
      "hi  150\n",
      "hi  151\n",
      "hi  152\n",
      "hi  153\n",
      "hi  154\n",
      "hi  155\n",
      "hi  156\n",
      "hi  157\n",
      "hi  158\n",
      "hi  159\n",
      "hi  160\n",
      "hi  161\n",
      "hi  162\n",
      "hi  163\n",
      "hi  164\n",
      "hi  165\n",
      "hi  166\n",
      "hi  167\n",
      "hi  168\n",
      "hi  169\n",
      "hi  170\n",
      "hi  171\n",
      "hi  172\n",
      "hi  173\n",
      "hi  174\n",
      "hi  175\n",
      "hi  176\n",
      "hi  177\n",
      "hi  178\n",
      "hi  179\n",
      "hi  180\n",
      "hi  181\n",
      "hi  182\n",
      "hi  183\n",
      "hi  184\n",
      "hi  185\n",
      "hi  186\n",
      "hi  187\n",
      "hi  188\n",
      "hi  189\n",
      "hi  190\n",
      "hi  191\n",
      "hi  192\n",
      "hi  193\n",
      "hi  194\n",
      "hi  195\n",
      "hi  196\n",
      "hi  197\n",
      "hi  198\n",
      "hi  199\n",
      "hi  200\n",
      "hi  201\n",
      "hi  202\n",
      "hi  203\n",
      "hi  204\n",
      "hi  205\n",
      "hi  206\n",
      "hi  207\n",
      "hi  208\n",
      "hi  209\n",
      "hi  210\n",
      "hi  211\n",
      "hi  212\n",
      "hi  213\n",
      "hi  214\n",
      "hi  215\n",
      "hi  216\n",
      "hi  217\n",
      "hi  218\n",
      "hi  219\n",
      "hi  220\n",
      "hi  221\n",
      "hi  222\n",
      "hi  223\n",
      "hi  224\n",
      "hi  225\n",
      "hi  226\n",
      "hi  227\n",
      "hi  228\n",
      "hi  229\n",
      "hi  230\n",
      "hi  231\n",
      "hi  232\n",
      "hi  233\n",
      "hi  234\n",
      "hi  235\n",
      "hi  236\n",
      "hi  237\n",
      "hi  238\n",
      "hi  239\n",
      "hi  240\n",
      "hi  241\n",
      "hi  242\n",
      "hi  243\n",
      "hi  244\n",
      "hi  245\n",
      "hi  246\n",
      "hi  247\n",
      "hi  248\n",
      "hi  249\n",
      "hi  250\n",
      "hi  251\n",
      "hi  252\n",
      "hi  253\n",
      "hi  254\n",
      "hi  255\n",
      "hi  256\n",
      "hi  257\n",
      "hi  258\n",
      "hi  259\n",
      "hi  260\n",
      "hi  261\n",
      "hi  262\n",
      "hi  263\n",
      "hi  264\n",
      "hi  265\n",
      "hi  266\n",
      "hi  267\n",
      "hi  268\n",
      "hi  269\n",
      "hi  270\n",
      "hi  271\n",
      "hi  272\n",
      "hi  273\n",
      "hi  274\n",
      "hi  275\n",
      "hi  276\n",
      "hi  277\n",
      "hi  278\n",
      "hi  279\n",
      "hi  280\n",
      "hi  281\n",
      "hi  282\n",
      "hi  283\n",
      "hi  284\n",
      "hi  285\n",
      "hi  286\n",
      "hi  287\n",
      "hi  288\n",
      "hi  289\n",
      "hi  290\n",
      "hi  291\n",
      "hi  292\n",
      "hi  293\n",
      "hi  294\n",
      "hi  295\n",
      "hi  296\n",
      "hi  297\n",
      "hi  298\n",
      "hi  299\n",
      "hi  300\n",
      "hi  301\n",
      "hi  302\n",
      "hi  303\n",
      "hi  304\n",
      "hi  305\n",
      "hi  306\n",
      "hi  307\n",
      "hi  308\n",
      "hi  309\n",
      "hi  310\n",
      "hi  311\n",
      "hi  312\n",
      "hi  313\n",
      "hi  314\n",
      "hi  315\n",
      "hi  316\n",
      "hi  317\n",
      "hi  318\n",
      "hi  319\n",
      "hi  320\n",
      "hi  321\n",
      "hi  322\n",
      "hi  323\n",
      "hi  324\n",
      "hi  325\n",
      "hi  326\n",
      "hi  327\n",
      "hi  328\n",
      "hi  329\n",
      "hi  330\n",
      "hi  331\n",
      "hi  332\n",
      "hi  333\n",
      "hi  334\n",
      "hi  335\n",
      "hi  336\n",
      "hi  337\n",
      "hi  338\n",
      "hi  339\n",
      "hi  340\n",
      "hi  341\n",
      "hi  342\n",
      "hi  343\n",
      "hi  344\n",
      "hi  345\n",
      "hi  346\n",
      "hi  347\n",
      "hi  348\n",
      "hi  349\n",
      "hi  350\n",
      "hi  351\n",
      "hi  352\n",
      "hi  353\n",
      "hi  354\n",
      "hi  355\n",
      "hi  356\n",
      "hi  357\n",
      "hi  358\n",
      "hi  359\n",
      "hi  360\n",
      "hi  361\n",
      "hi  362\n",
      "hi  363\n",
      "hi  364\n",
      "hi  365\n",
      "hi  366\n",
      "hi  367\n",
      "hi  368\n",
      "hi  369\n",
      "hi  370\n",
      "hi  371\n",
      "hi  372\n",
      "hi  373\n",
      "hi  374\n",
      "hi  375\n",
      "hi  376\n",
      "hi  377\n",
      "hi  378\n",
      "hi  379\n",
      "hi  380\n",
      "hi  381\n",
      "hi  382\n",
      "hi  383\n",
      "hi  384\n",
      "hi  385\n",
      "hi  386\n",
      "hi  387\n",
      "hi  388\n",
      "hi  389\n",
      "hi  390\n",
      "hi  391\n",
      "hi  392\n",
      "hi  393\n",
      "hi  394\n",
      "hi  395\n",
      "hi  396\n",
      "hi  397\n",
      "hi  398\n",
      "hi  399\n",
      "hi  400\n",
      "hi  401\n",
      "hi  402\n",
      "hi  403\n",
      "hi  404\n",
      "hi  405\n",
      "hi  406\n",
      "hi  407\n",
      "hi  408\n",
      "hi  409\n",
      "hi  410\n",
      "hi  411\n",
      "hi  412\n",
      "hi  413\n",
      "hi  414\n",
      "hi  415\n",
      "hi  416\n",
      "hi  417\n",
      "hi  418\n",
      "hi  419\n",
      "hi  420\n",
      "hi  421\n",
      "hi  422\n",
      "hi  423\n",
      "hi  424\n",
      "hi  425\n",
      "hi  426\n",
      "hi  427\n",
      "hi  428\n",
      "hi  429\n",
      "hi  430\n",
      "hi  431\n",
      "hi  432\n",
      "hi  433\n",
      "hi  434\n",
      "hi  435\n",
      "hi  436\n",
      "hi  437\n",
      "hi  438\n",
      "hi  439\n",
      "hi  440\n",
      "hi  441\n",
      "hi  442\n",
      "hi  443\n",
      "hi  444\n",
      "hi  445\n",
      "hi  446\n",
      "hi  447\n",
      "hi  448\n",
      "hi  449\n",
      "hi  450\n",
      "hi  451\n",
      "hi  452\n",
      "hi  453\n",
      "hi  454\n",
      "hi  455\n",
      "hi  456\n",
      "hi  457\n",
      "hi  458\n",
      "hi  459\n",
      "hi  460\n",
      "hi  461\n",
      "hi  462\n",
      "hi  463\n",
      "hi  464\n",
      "hi  465\n",
      "hi  466\n",
      "hi  467\n",
      "hi  468\n",
      "hi  469\n",
      "hi  470\n",
      "hi  471\n",
      "hi  472\n",
      "hi  473\n",
      "hi  474\n",
      "hi  475\n",
      "hi  476\n",
      "hi  477\n"
     ]
    }
   ],
   "source": [
    "count=0\n",
    "# salaries_df['JobTitle'].apply(lambda x: count1(x,obj.count))\n",
    "for x in salaries_df['JobTitle']:\n",
    "    li=x.lower().split()\n",
    "    #     print(li)\n",
    "    ind=-1\n",
    "    try:\n",
    "        ind=li.index('chief')\n",
    "        if ind>=0:\n",
    "            count=count+1\n",
    "#             print('hi ',count)\n",
    "    except ValueError:\n",
    "        pass\n",
    "#     try:\n",
    "#         ind1=-1\n",
    "#         ind1=li.index('chief,')        \n",
    "#         if ind1>=0:\n",
    "#             count=count+1\n",
    "#             print('hi ',count)\n",
    "#     except ValueError:\n",
    "#         pass\n",
    "    \n"
   ]
  },
  {
   "cell_type": "code",
   "execution_count": 191,
   "metadata": {},
   "outputs": [
    {
     "name": "stdout",
     "output_type": "stream",
     "text": [
      "477\n"
     ]
    }
   ],
   "source": [
    "print(count)"
   ]
  },
  {
   "cell_type": "markdown",
   "metadata": {},
   "source": [
    "** Bonus: Is there a correlation between length of the Job Title string and Salary? **"
   ]
  },
  {
   "cell_type": "code",
   "execution_count": 213,
   "metadata": {},
   "outputs": [
    {
     "data": {
      "text/plain": [
       "0    46\n",
       "1    31\n",
       "2    31\n",
       "3    36\n",
       "4    44\n",
       "Name: title_len, dtype: int64"
      ]
     },
     "execution_count": 213,
     "metadata": {},
     "output_type": "execute_result"
    }
   ],
   "source": [
    "salaries_df['title_len']=''\n",
    "salaries_df['title_len']=salaries_df['JobTitle'].apply(len)\n",
    "salaries_df['title_len'].head()"
   ]
  },
  {
   "cell_type": "code",
   "execution_count": 214,
   "metadata": {
    "scrolled": true
   },
   "outputs": [
    {
     "data": {
      "text/html": [
       "<div>\n",
       "<style scoped>\n",
       "    .dataframe tbody tr th:only-of-type {\n",
       "        vertical-align: middle;\n",
       "    }\n",
       "\n",
       "    .dataframe tbody tr th {\n",
       "        vertical-align: top;\n",
       "    }\n",
       "\n",
       "    .dataframe thead th {\n",
       "        text-align: right;\n",
       "    }\n",
       "</style>\n",
       "<table border=\"1\" class=\"dataframe\">\n",
       "  <thead>\n",
       "    <tr style=\"text-align: right;\">\n",
       "      <th></th>\n",
       "      <th>Id</th>\n",
       "      <th>BasePay</th>\n",
       "      <th>OvertimePay</th>\n",
       "      <th>OtherPay</th>\n",
       "      <th>Benefits</th>\n",
       "      <th>TotalPay</th>\n",
       "      <th>TotalPayBenefits</th>\n",
       "      <th>Year</th>\n",
       "      <th>Notes</th>\n",
       "      <th>Status</th>\n",
       "      <th>title_len</th>\n",
       "    </tr>\n",
       "  </thead>\n",
       "  <tbody>\n",
       "    <tr>\n",
       "      <th>Id</th>\n",
       "      <td>1.000000</td>\n",
       "      <td>-0.204878</td>\n",
       "      <td>-0.081505</td>\n",
       "      <td>-0.100403</td>\n",
       "      <td>-0.348957</td>\n",
       "      <td>-0.211478</td>\n",
       "      <td>-0.092190</td>\n",
       "      <td>0.968171</td>\n",
       "      <td>NaN</td>\n",
       "      <td>NaN</td>\n",
       "      <td>-0.085332</td>\n",
       "    </tr>\n",
       "    <tr>\n",
       "      <th>BasePay</th>\n",
       "      <td>-0.204878</td>\n",
       "      <td>1.000000</td>\n",
       "      <td>0.266740</td>\n",
       "      <td>0.285655</td>\n",
       "      <td>0.918028</td>\n",
       "      <td>0.954494</td>\n",
       "      <td>0.946595</td>\n",
       "      <td>0.033751</td>\n",
       "      <td>NaN</td>\n",
       "      <td>NaN</td>\n",
       "      <td>-0.005059</td>\n",
       "    </tr>\n",
       "    <tr>\n",
       "      <th>OvertimePay</th>\n",
       "      <td>-0.081505</td>\n",
       "      <td>0.266740</td>\n",
       "      <td>1.000000</td>\n",
       "      <td>0.316592</td>\n",
       "      <td>0.301207</td>\n",
       "      <td>0.504859</td>\n",
       "      <td>0.467981</td>\n",
       "      <td>0.027887</td>\n",
       "      <td>NaN</td>\n",
       "      <td>NaN</td>\n",
       "      <td>-0.017172</td>\n",
       "    </tr>\n",
       "    <tr>\n",
       "      <th>OtherPay</th>\n",
       "      <td>-0.100403</td>\n",
       "      <td>0.285655</td>\n",
       "      <td>0.316592</td>\n",
       "      <td>1.000000</td>\n",
       "      <td>0.233178</td>\n",
       "      <td>0.470496</td>\n",
       "      <td>0.422341</td>\n",
       "      <td>-0.002499</td>\n",
       "      <td>NaN</td>\n",
       "      <td>NaN</td>\n",
       "      <td>-0.042587</td>\n",
       "    </tr>\n",
       "    <tr>\n",
       "      <th>Benefits</th>\n",
       "      <td>-0.348957</td>\n",
       "      <td>0.918028</td>\n",
       "      <td>0.301207</td>\n",
       "      <td>0.233178</td>\n",
       "      <td>1.000000</td>\n",
       "      <td>0.884097</td>\n",
       "      <td>0.930140</td>\n",
       "      <td>-0.043136</td>\n",
       "      <td>NaN</td>\n",
       "      <td>NaN</td>\n",
       "      <td>-0.021469</td>\n",
       "    </tr>\n",
       "    <tr>\n",
       "      <th>TotalPay</th>\n",
       "      <td>-0.211478</td>\n",
       "      <td>0.954494</td>\n",
       "      <td>0.504859</td>\n",
       "      <td>0.470496</td>\n",
       "      <td>0.884097</td>\n",
       "      <td>1.000000</td>\n",
       "      <td>0.977313</td>\n",
       "      <td>0.032090</td>\n",
       "      <td>NaN</td>\n",
       "      <td>NaN</td>\n",
       "      <td>-0.015356</td>\n",
       "    </tr>\n",
       "    <tr>\n",
       "      <th>TotalPayBenefits</th>\n",
       "      <td>-0.092190</td>\n",
       "      <td>0.946595</td>\n",
       "      <td>0.467981</td>\n",
       "      <td>0.422341</td>\n",
       "      <td>0.930140</td>\n",
       "      <td>0.977313</td>\n",
       "      <td>1.000000</td>\n",
       "      <td>0.151947</td>\n",
       "      <td>NaN</td>\n",
       "      <td>NaN</td>\n",
       "      <td>-0.036878</td>\n",
       "    </tr>\n",
       "    <tr>\n",
       "      <th>Year</th>\n",
       "      <td>0.968171</td>\n",
       "      <td>0.033751</td>\n",
       "      <td>0.027887</td>\n",
       "      <td>-0.002499</td>\n",
       "      <td>-0.043136</td>\n",
       "      <td>0.032090</td>\n",
       "      <td>0.151947</td>\n",
       "      <td>1.000000</td>\n",
       "      <td>NaN</td>\n",
       "      <td>NaN</td>\n",
       "      <td>-0.088883</td>\n",
       "    </tr>\n",
       "    <tr>\n",
       "      <th>Notes</th>\n",
       "      <td>NaN</td>\n",
       "      <td>NaN</td>\n",
       "      <td>NaN</td>\n",
       "      <td>NaN</td>\n",
       "      <td>NaN</td>\n",
       "      <td>NaN</td>\n",
       "      <td>NaN</td>\n",
       "      <td>NaN</td>\n",
       "      <td>NaN</td>\n",
       "      <td>NaN</td>\n",
       "      <td>NaN</td>\n",
       "    </tr>\n",
       "    <tr>\n",
       "      <th>Status</th>\n",
       "      <td>NaN</td>\n",
       "      <td>NaN</td>\n",
       "      <td>NaN</td>\n",
       "      <td>NaN</td>\n",
       "      <td>NaN</td>\n",
       "      <td>NaN</td>\n",
       "      <td>NaN</td>\n",
       "      <td>NaN</td>\n",
       "      <td>NaN</td>\n",
       "      <td>NaN</td>\n",
       "      <td>NaN</td>\n",
       "    </tr>\n",
       "    <tr>\n",
       "      <th>title_len</th>\n",
       "      <td>-0.085332</td>\n",
       "      <td>-0.005059</td>\n",
       "      <td>-0.017172</td>\n",
       "      <td>-0.042587</td>\n",
       "      <td>-0.021469</td>\n",
       "      <td>-0.015356</td>\n",
       "      <td>-0.036878</td>\n",
       "      <td>-0.088883</td>\n",
       "      <td>NaN</td>\n",
       "      <td>NaN</td>\n",
       "      <td>1.000000</td>\n",
       "    </tr>\n",
       "  </tbody>\n",
       "</table>\n",
       "</div>"
      ],
      "text/plain": [
       "                        Id   BasePay  OvertimePay  OtherPay  Benefits  \\\n",
       "Id                1.000000 -0.204878    -0.081505 -0.100403 -0.348957   \n",
       "BasePay          -0.204878  1.000000     0.266740  0.285655  0.918028   \n",
       "OvertimePay      -0.081505  0.266740     1.000000  0.316592  0.301207   \n",
       "OtherPay         -0.100403  0.285655     0.316592  1.000000  0.233178   \n",
       "Benefits         -0.348957  0.918028     0.301207  0.233178  1.000000   \n",
       "TotalPay         -0.211478  0.954494     0.504859  0.470496  0.884097   \n",
       "TotalPayBenefits -0.092190  0.946595     0.467981  0.422341  0.930140   \n",
       "Year              0.968171  0.033751     0.027887 -0.002499 -0.043136   \n",
       "Notes                  NaN       NaN          NaN       NaN       NaN   \n",
       "Status                 NaN       NaN          NaN       NaN       NaN   \n",
       "title_len        -0.085332 -0.005059    -0.017172 -0.042587 -0.021469   \n",
       "\n",
       "                  TotalPay  TotalPayBenefits      Year  Notes  Status  \\\n",
       "Id               -0.211478         -0.092190  0.968171    NaN     NaN   \n",
       "BasePay           0.954494          0.946595  0.033751    NaN     NaN   \n",
       "OvertimePay       0.504859          0.467981  0.027887    NaN     NaN   \n",
       "OtherPay          0.470496          0.422341 -0.002499    NaN     NaN   \n",
       "Benefits          0.884097          0.930140 -0.043136    NaN     NaN   \n",
       "TotalPay          1.000000          0.977313  0.032090    NaN     NaN   \n",
       "TotalPayBenefits  0.977313          1.000000  0.151947    NaN     NaN   \n",
       "Year              0.032090          0.151947  1.000000    NaN     NaN   \n",
       "Notes                  NaN               NaN       NaN    NaN     NaN   \n",
       "Status                 NaN               NaN       NaN    NaN     NaN   \n",
       "title_len        -0.015356         -0.036878 -0.088883    NaN     NaN   \n",
       "\n",
       "                  title_len  \n",
       "Id                -0.085332  \n",
       "BasePay           -0.005059  \n",
       "OvertimePay       -0.017172  \n",
       "OtherPay          -0.042587  \n",
       "Benefits          -0.021469  \n",
       "TotalPay          -0.015356  \n",
       "TotalPayBenefits  -0.036878  \n",
       "Year              -0.088883  \n",
       "Notes                   NaN  \n",
       "Status                  NaN  \n",
       "title_len          1.000000  "
      ]
     },
     "execution_count": 214,
     "metadata": {},
     "output_type": "execute_result"
    }
   ],
   "source": [
    "salaries_df.corr()"
   ]
  },
  {
   "cell_type": "code",
   "execution_count": 215,
   "metadata": {
    "scrolled": false
   },
   "outputs": [
    {
     "data": {
      "text/html": [
       "<div>\n",
       "<style scoped>\n",
       "    .dataframe tbody tr th:only-of-type {\n",
       "        vertical-align: middle;\n",
       "    }\n",
       "\n",
       "    .dataframe tbody tr th {\n",
       "        vertical-align: top;\n",
       "    }\n",
       "\n",
       "    .dataframe thead th {\n",
       "        text-align: right;\n",
       "    }\n",
       "</style>\n",
       "<table border=\"1\" class=\"dataframe\">\n",
       "  <thead>\n",
       "    <tr style=\"text-align: right;\">\n",
       "      <th></th>\n",
       "      <th>title_len</th>\n",
       "      <th>TotalPayBenefits</th>\n",
       "    </tr>\n",
       "  </thead>\n",
       "  <tbody>\n",
       "    <tr>\n",
       "      <th>title_len</th>\n",
       "      <td>1.000000</td>\n",
       "      <td>-0.036878</td>\n",
       "    </tr>\n",
       "    <tr>\n",
       "      <th>TotalPayBenefits</th>\n",
       "      <td>-0.036878</td>\n",
       "      <td>1.000000</td>\n",
       "    </tr>\n",
       "  </tbody>\n",
       "</table>\n",
       "</div>"
      ],
      "text/plain": [
       "                  title_len  TotalPayBenefits\n",
       "title_len          1.000000         -0.036878\n",
       "TotalPayBenefits  -0.036878          1.000000"
      ]
     },
     "execution_count": 215,
     "metadata": {},
     "output_type": "execute_result"
    }
   ],
   "source": [
    "salaries_df.corr().loc[['title_len','TotalPayBenefits'],['title_len','TotalPayBenefits']]"
   ]
  },
  {
   "cell_type": "markdown",
   "metadata": {},
   "source": [
    "# Great Job!"
   ]
  }
 ],
 "metadata": {
  "kernelspec": {
   "display_name": "Python 3",
   "language": "python",
   "name": "python3"
  },
  "language_info": {
   "codemirror_mode": {
    "name": "ipython",
    "version": 3
   },
   "file_extension": ".py",
   "mimetype": "text/x-python",
   "name": "python",
   "nbconvert_exporter": "python",
   "pygments_lexer": "ipython3",
   "version": "3.7.1"
  }
 },
 "nbformat": 4,
 "nbformat_minor": 1
}
