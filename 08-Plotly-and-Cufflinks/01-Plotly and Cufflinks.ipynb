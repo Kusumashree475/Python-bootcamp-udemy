{
 "cells": [
  {
   "cell_type": "markdown",
   "metadata": {},
   "source": [
    "___\n",
    "\n",
    "<a href='http://www.pieriandata.com'> <img src='../Pierian_Data_Logo.png' /></a>\n",
    "___\n",
    "# Plotly and Cufflinks"
   ]
  },
  {
   "cell_type": "markdown",
   "metadata": {},
   "source": [
    "Plotly is a library that allows you to create interactive plots that you can use in dashboards or websites (you can save them as html files or static images).\n",
    "\n",
    "## Installation\n",
    "\n",
    "In order for this all to work, you'll need to install plotly and cufflinks to call plots directly off of a pandas dataframe. These libraries are not currently available through **conda** but are available through **pip**. Install the libraries at your command line/terminal using:\n",
    "\n",
    "    pip install plotly\n",
    "    pip install cufflinks\n",
    "\n",
    "** NOTE: Make sure you only have one installation of Python on your computer when you do this, otherwise the installation may not work. **\n",
    "\n",
    "## Imports and Set-up"
   ]
  },
  {
   "cell_type": "code",
   "execution_count": 1,
   "metadata": {},
   "outputs": [],
   "source": [
    "import pandas as pd\n",
    "import numpy as np\n",
    "%matplotlib inline"
   ]
  },
  {
   "cell_type": "code",
   "execution_count": 2,
   "metadata": {},
   "outputs": [
    {
     "name": "stdout",
     "output_type": "stream",
     "text": [
      "4.3.0\n"
     ]
    }
   ],
   "source": [
    "from plotly import __version__\n",
    "from plotly.offline import download_plotlyjs, init_notebook_mode, plot, iplot\n",
    "\n",
    "print(__version__) # requires version >= 1.9.0"
   ]
  },
  {
   "cell_type": "code",
   "execution_count": 3,
   "metadata": {},
   "outputs": [],
   "source": [
    "import cufflinks as cf"
   ]
  },
  {
   "cell_type": "code",
   "execution_count": 4,
   "metadata": {},
   "outputs": [
    {
     "data": {
      "text/html": [
       "        <script type=\"text/javascript\">\n",
       "        window.PlotlyConfig = {MathJaxConfig: 'local'};\n",
       "        if (window.MathJax) {MathJax.Hub.Config({SVG: {font: \"STIX-Web\"}});}\n",
       "        if (typeof require !== 'undefined') {\n",
       "        require.undef(\"plotly\");\n",
       "        requirejs.config({\n",
       "            paths: {\n",
       "                'plotly': ['https://cdn.plot.ly/plotly-latest.min']\n",
       "            }\n",
       "        });\n",
       "        require(['plotly'], function(Plotly) {\n",
       "            window._Plotly = Plotly;\n",
       "        });\n",
       "        }\n",
       "        </script>\n",
       "        "
      ]
     },
     "metadata": {},
     "output_type": "display_data"
    }
   ],
   "source": [
    "# For Notebooks\n",
    "init_notebook_mode(connected=True)"
   ]
  },
  {
   "cell_type": "code",
   "execution_count": 5,
   "metadata": {},
   "outputs": [
    {
     "data": {
      "text/html": [
       "        <script type=\"text/javascript\">\n",
       "        window.PlotlyConfig = {MathJaxConfig: 'local'};\n",
       "        if (window.MathJax) {MathJax.Hub.Config({SVG: {font: \"STIX-Web\"}});}\n",
       "        if (typeof require !== 'undefined') {\n",
       "        require.undef(\"plotly\");\n",
       "        requirejs.config({\n",
       "            paths: {\n",
       "                'plotly': ['https://cdn.plot.ly/plotly-latest.min']\n",
       "            }\n",
       "        });\n",
       "        require(['plotly'], function(Plotly) {\n",
       "            window._Plotly = Plotly;\n",
       "        });\n",
       "        }\n",
       "        </script>\n",
       "        "
      ]
     },
     "metadata": {},
     "output_type": "display_data"
    }
   ],
   "source": [
    "# For offline use\n",
    "cf.go_offline()"
   ]
  },
  {
   "cell_type": "markdown",
   "metadata": {},
   "source": [
    "### Fake Data"
   ]
  },
  {
   "cell_type": "code",
   "execution_count": 6,
   "metadata": {},
   "outputs": [],
   "source": [
    "df = pd.DataFrame(np.random.randn(100,4),columns='A B C D'.split())"
   ]
  },
  {
   "cell_type": "code",
   "execution_count": 7,
   "metadata": {},
   "outputs": [
    {
     "data": {
      "text/html": [
       "<div>\n",
       "<style scoped>\n",
       "    .dataframe tbody tr th:only-of-type {\n",
       "        vertical-align: middle;\n",
       "    }\n",
       "\n",
       "    .dataframe tbody tr th {\n",
       "        vertical-align: top;\n",
       "    }\n",
       "\n",
       "    .dataframe thead th {\n",
       "        text-align: right;\n",
       "    }\n",
       "</style>\n",
       "<table border=\"1\" class=\"dataframe\">\n",
       "  <thead>\n",
       "    <tr style=\"text-align: right;\">\n",
       "      <th></th>\n",
       "      <th>A</th>\n",
       "      <th>B</th>\n",
       "      <th>C</th>\n",
       "      <th>D</th>\n",
       "    </tr>\n",
       "  </thead>\n",
       "  <tbody>\n",
       "    <tr>\n",
       "      <th>0</th>\n",
       "      <td>0.045862</td>\n",
       "      <td>-0.609768</td>\n",
       "      <td>-0.792364</td>\n",
       "      <td>-0.102954</td>\n",
       "    </tr>\n",
       "    <tr>\n",
       "      <th>1</th>\n",
       "      <td>-0.654004</td>\n",
       "      <td>-0.849349</td>\n",
       "      <td>0.706001</td>\n",
       "      <td>-0.028289</td>\n",
       "    </tr>\n",
       "    <tr>\n",
       "      <th>2</th>\n",
       "      <td>-0.155529</td>\n",
       "      <td>0.997751</td>\n",
       "      <td>0.053074</td>\n",
       "      <td>-1.602237</td>\n",
       "    </tr>\n",
       "    <tr>\n",
       "      <th>3</th>\n",
       "      <td>0.424675</td>\n",
       "      <td>-0.107196</td>\n",
       "      <td>-0.043731</td>\n",
       "      <td>-0.667758</td>\n",
       "    </tr>\n",
       "    <tr>\n",
       "      <th>4</th>\n",
       "      <td>-0.742894</td>\n",
       "      <td>-1.699525</td>\n",
       "      <td>1.290272</td>\n",
       "      <td>1.159237</td>\n",
       "    </tr>\n",
       "  </tbody>\n",
       "</table>\n",
       "</div>"
      ],
      "text/plain": [
       "          A         B         C         D\n",
       "0  0.045862 -0.609768 -0.792364 -0.102954\n",
       "1 -0.654004 -0.849349  0.706001 -0.028289\n",
       "2 -0.155529  0.997751  0.053074 -1.602237\n",
       "3  0.424675 -0.107196 -0.043731 -0.667758\n",
       "4 -0.742894 -1.699525  1.290272  1.159237"
      ]
     },
     "execution_count": 7,
     "metadata": {},
     "output_type": "execute_result"
    }
   ],
   "source": [
    "df.head()"
   ]
  },
  {
   "cell_type": "code",
   "execution_count": 8,
   "metadata": {},
   "outputs": [],
   "source": [
    "df2 = pd.DataFrame({'Category':['A','B','C'],'Values':[32,43,50]})"
   ]
  },
  {
   "cell_type": "code",
   "execution_count": 9,
   "metadata": {},
   "outputs": [
    {
     "data": {
      "text/html": [
       "<div>\n",
       "<style scoped>\n",
       "    .dataframe tbody tr th:only-of-type {\n",
       "        vertical-align: middle;\n",
       "    }\n",
       "\n",
       "    .dataframe tbody tr th {\n",
       "        vertical-align: top;\n",
       "    }\n",
       "\n",
       "    .dataframe thead th {\n",
       "        text-align: right;\n",
       "    }\n",
       "</style>\n",
       "<table border=\"1\" class=\"dataframe\">\n",
       "  <thead>\n",
       "    <tr style=\"text-align: right;\">\n",
       "      <th></th>\n",
       "      <th>Category</th>\n",
       "      <th>Values</th>\n",
       "    </tr>\n",
       "  </thead>\n",
       "  <tbody>\n",
       "    <tr>\n",
       "      <th>0</th>\n",
       "      <td>A</td>\n",
       "      <td>32</td>\n",
       "    </tr>\n",
       "    <tr>\n",
       "      <th>1</th>\n",
       "      <td>B</td>\n",
       "      <td>43</td>\n",
       "    </tr>\n",
       "    <tr>\n",
       "      <th>2</th>\n",
       "      <td>C</td>\n",
       "      <td>50</td>\n",
       "    </tr>\n",
       "  </tbody>\n",
       "</table>\n",
       "</div>"
      ],
      "text/plain": [
       "  Category  Values\n",
       "0        A      32\n",
       "1        B      43\n",
       "2        C      50"
      ]
     },
     "execution_count": 9,
     "metadata": {},
     "output_type": "execute_result"
    }
   ],
   "source": [
    "df2.head()"
   ]
  },
  {
   "cell_type": "markdown",
   "metadata": {},
   "source": [
    "## Using Cufflinks and iplot()\n",
    "\n",
    "* scatter\n",
    "* bar\n",
    "* box\n",
    "* spread\n",
    "* ratio\n",
    "* heatmap\n",
    "* surface\n",
    "* histogram\n",
    "* bubble"
   ]
  },
  {
   "cell_type": "markdown",
   "metadata": {},
   "source": [
    "## Scatter"
   ]
  },
  {
   "cell_type": "code",
   "execution_count": 10,
   "metadata": {},
   "outputs": [
    {
     "data": {
      "application/vnd.plotly.v1+json": {
       "config": {
        "linkText": "Export to plot.ly",
        "plotlyServerURL": "https://plot.ly",
        "showLink": true
       },
       "data": [
        {
         "line": {
          "color": "rgba(255, 153, 51, 1.0)",
          "dash": "solid",
          "shape": "linear",
          "width": 1.3
         },
         "marker": {
          "size": 10,
          "symbol": "circle"
         },
         "mode": "markers",
         "name": "B",
         "text": "",
         "type": "scatter",
         "x": [
          0.04586201721326738,
          -0.6540043750178025,
          -0.15552861422961764,
          0.4246745931194628,
          -0.7428941263058662,
          1.9759454512955896,
          0.37216312274345376,
          0.270346199650836,
          0.7526879532742253,
          0.6835958715969624,
          -0.2546175189374106,
          -1.4262276612733924,
          -0.8727506868121251,
          -1.6379838534075002,
          -0.3785322805868584,
          -0.8599010083088068,
          0.4629342549127315,
          -0.47817504277382034,
          1.7604777274770929,
          -0.6838113680207202,
          -1.4307352427821491,
          -1.8252753776981603,
          0.0833413830786923,
          0.35628092995480676,
          -1.274976737920389,
          -0.11359150113388154,
          -0.9893370579804546,
          -0.8534703806103016,
          -0.990879781989911,
          -0.11339893230127164,
          -0.3639574025477662,
          -1.9198230956237927,
          -0.15604885841910177,
          -1.242009328543386,
          -1.0874855796153915,
          0.14390334649378728,
          -0.3382339542174146,
          -0.3514758760147406,
          -0.7062967985429734,
          -0.12500964817068996,
          -0.9285989000331202,
          1.5833434550109415,
          -2.4928407726420563,
          0.9246153518224425,
          -0.8612041766022565,
          -1.1870843867017409,
          -0.14298953029197703,
          -1.1632402625589469,
          0.4098274611640754,
          -0.2891110705534637,
          -0.377333312529668,
          -0.7700418964086341,
          1.4419245123587963,
          0.03299347750695614,
          0.30446587287069704,
          1.7167246528354863,
          -1.7488558374419065,
          -0.4082248364598318,
          -0.43705062056267563,
          0.27557456940654934,
          -1.7749290440262324,
          -0.26864031013567036,
          -0.6490697916177971,
          0.31078916234165116,
          -1.3008179237598356,
          0.4139975331828292,
          1.3674410813628795,
          1.67921356806546,
          -1.7257549896922175,
          0.10065480714282876,
          -1.61503423879273,
          0.5862729398825437,
          -1.3634403525084011,
          0.2775805459514663,
          -0.9757974847933348,
          -1.098944519453516,
          1.0101077930359967,
          -0.17781895824552374,
          -0.7734803747585632,
          -0.7535167319015652,
          -0.16708705618339023,
          -0.3297590324897727,
          -0.6069608199941531,
          0.151103955896672,
          1.0641636909694312,
          1.1434256632642008,
          -1.4467009135114968,
          0.19060882578590008,
          -0.41156483114802506,
          3.198680605796546,
          -1.6909576942364866,
          -1.1686824788204284,
          -1.0525002047918235,
          -0.2669890197908835,
          -0.9245356187364816,
          0.7589373225722542,
          -0.40615315896270865,
          0.5371900954827098,
          0.5919142019373578,
          0.36842146133318476
         ],
         "y": [
          -0.6097684872700382,
          -0.8493487007227505,
          0.9977510237274378,
          -0.1071962371054894,
          -1.699524977003542,
          0.8082757927760422,
          0.8193580554685013,
          -0.2061772615607506,
          -0.26313042840768197,
          0.5600361067764692,
          -0.4501981737498376,
          -0.9544772042218531,
          -1.319940076686102,
          -1.125617561514794,
          -0.3956045049936414,
          -0.8370623937043047,
          1.1686872383712643,
          -0.23243709044945235,
          -0.5340987999737385,
          -2.0614316426642536,
          0.753559286628637,
          -0.8528918211334426,
          -0.22309759866097068,
          -0.7113387792238788,
          -0.5101411104217729,
          -0.6342668440941034,
          -0.6324370086317639,
          0.2714510243492082,
          -0.5213238007382588,
          -1.4086465885726056,
          -0.5420087867655164,
          0.6677503468224606,
          -0.18855694230016076,
          2.0671336870595733,
          -0.47682455918418043,
          -0.024979430414229276,
          1.3061706720343416,
          2.786030341090841,
          0.5486606319358823,
          1.1606684174771362,
          0.1451160819641703,
          2.136969133851484,
          0.770381179614506,
          -0.7556527371529544,
          0.5601210636156078,
          0.3307869065359323,
          -1.3478670652302134,
          0.08644174068175664,
          1.2905756068011163,
          2.275549593676335,
          -0.47563159079150313,
          0.23889454006422195,
          -1.7043014333897235,
          -1.4533176672403718,
          0.5360611298269806,
          0.25318959135101454,
          0.004821837557940499,
          1.4422811243330096,
          0.7317807073826776,
          0.40437412573002657,
          -0.09522520392275328,
          0.6365245480331461,
          0.23493643856197943,
          0.8931242125821466,
          -0.46845291625732416,
          0.3781014047855431,
          -1.2452813787819295,
          0.7720600839543568,
          -0.1467225346322123,
          -0.6315021974816304,
          -0.7269821770978143,
          -0.4242118835802408,
          1.8098886957875182,
          0.6340870632825684,
          -0.7524498968821255,
          2.334655966396287,
          -0.8492378201748007,
          1.1964317058351615,
          0.18153694390689393,
          0.8732838633312291,
          1.07784296658968,
          0.3459866622514968,
          -0.7214103607850231,
          -1.2049057150110316,
          0.5013151212405151,
          -1.3069831656188589,
          0.11814842323440919,
          -0.01760325733177132,
          -1.031507466879412,
          0.8105398816366775,
          0.2630311106697119,
          1.1610935950229937,
          -0.9110603984749275,
          0.38128147794092065,
          -0.32120478827120125,
          -0.909703102805338,
          0.9665818363963105,
          -0.815837744405378,
          -1.5352152603233933,
          0.20011286751182206
         ]
        }
       ],
       "layout": {
        "legend": {
         "bgcolor": "#F5F6F9",
         "font": {
          "color": "#4D5663"
         }
        },
        "paper_bgcolor": "#F5F6F9",
        "plot_bgcolor": "#F5F6F9",
        "template": {
         "data": {
          "bar": [
           {
            "error_x": {
             "color": "#2a3f5f"
            },
            "error_y": {
             "color": "#2a3f5f"
            },
            "marker": {
             "line": {
              "color": "#E5ECF6",
              "width": 0.5
             }
            },
            "type": "bar"
           }
          ],
          "barpolar": [
           {
            "marker": {
             "line": {
              "color": "#E5ECF6",
              "width": 0.5
             }
            },
            "type": "barpolar"
           }
          ],
          "carpet": [
           {
            "aaxis": {
             "endlinecolor": "#2a3f5f",
             "gridcolor": "white",
             "linecolor": "white",
             "minorgridcolor": "white",
             "startlinecolor": "#2a3f5f"
            },
            "baxis": {
             "endlinecolor": "#2a3f5f",
             "gridcolor": "white",
             "linecolor": "white",
             "minorgridcolor": "white",
             "startlinecolor": "#2a3f5f"
            },
            "type": "carpet"
           }
          ],
          "choropleth": [
           {
            "colorbar": {
             "outlinewidth": 0,
             "ticks": ""
            },
            "type": "choropleth"
           }
          ],
          "contour": [
           {
            "colorbar": {
             "outlinewidth": 0,
             "ticks": ""
            },
            "colorscale": [
             [
              0,
              "#0d0887"
             ],
             [
              0.1111111111111111,
              "#46039f"
             ],
             [
              0.2222222222222222,
              "#7201a8"
             ],
             [
              0.3333333333333333,
              "#9c179e"
             ],
             [
              0.4444444444444444,
              "#bd3786"
             ],
             [
              0.5555555555555556,
              "#d8576b"
             ],
             [
              0.6666666666666666,
              "#ed7953"
             ],
             [
              0.7777777777777778,
              "#fb9f3a"
             ],
             [
              0.8888888888888888,
              "#fdca26"
             ],
             [
              1,
              "#f0f921"
             ]
            ],
            "type": "contour"
           }
          ],
          "contourcarpet": [
           {
            "colorbar": {
             "outlinewidth": 0,
             "ticks": ""
            },
            "type": "contourcarpet"
           }
          ],
          "heatmap": [
           {
            "colorbar": {
             "outlinewidth": 0,
             "ticks": ""
            },
            "colorscale": [
             [
              0,
              "#0d0887"
             ],
             [
              0.1111111111111111,
              "#46039f"
             ],
             [
              0.2222222222222222,
              "#7201a8"
             ],
             [
              0.3333333333333333,
              "#9c179e"
             ],
             [
              0.4444444444444444,
              "#bd3786"
             ],
             [
              0.5555555555555556,
              "#d8576b"
             ],
             [
              0.6666666666666666,
              "#ed7953"
             ],
             [
              0.7777777777777778,
              "#fb9f3a"
             ],
             [
              0.8888888888888888,
              "#fdca26"
             ],
             [
              1,
              "#f0f921"
             ]
            ],
            "type": "heatmap"
           }
          ],
          "heatmapgl": [
           {
            "colorbar": {
             "outlinewidth": 0,
             "ticks": ""
            },
            "colorscale": [
             [
              0,
              "#0d0887"
             ],
             [
              0.1111111111111111,
              "#46039f"
             ],
             [
              0.2222222222222222,
              "#7201a8"
             ],
             [
              0.3333333333333333,
              "#9c179e"
             ],
             [
              0.4444444444444444,
              "#bd3786"
             ],
             [
              0.5555555555555556,
              "#d8576b"
             ],
             [
              0.6666666666666666,
              "#ed7953"
             ],
             [
              0.7777777777777778,
              "#fb9f3a"
             ],
             [
              0.8888888888888888,
              "#fdca26"
             ],
             [
              1,
              "#f0f921"
             ]
            ],
            "type": "heatmapgl"
           }
          ],
          "histogram": [
           {
            "marker": {
             "colorbar": {
              "outlinewidth": 0,
              "ticks": ""
             }
            },
            "type": "histogram"
           }
          ],
          "histogram2d": [
           {
            "colorbar": {
             "outlinewidth": 0,
             "ticks": ""
            },
            "colorscale": [
             [
              0,
              "#0d0887"
             ],
             [
              0.1111111111111111,
              "#46039f"
             ],
             [
              0.2222222222222222,
              "#7201a8"
             ],
             [
              0.3333333333333333,
              "#9c179e"
             ],
             [
              0.4444444444444444,
              "#bd3786"
             ],
             [
              0.5555555555555556,
              "#d8576b"
             ],
             [
              0.6666666666666666,
              "#ed7953"
             ],
             [
              0.7777777777777778,
              "#fb9f3a"
             ],
             [
              0.8888888888888888,
              "#fdca26"
             ],
             [
              1,
              "#f0f921"
             ]
            ],
            "type": "histogram2d"
           }
          ],
          "histogram2dcontour": [
           {
            "colorbar": {
             "outlinewidth": 0,
             "ticks": ""
            },
            "colorscale": [
             [
              0,
              "#0d0887"
             ],
             [
              0.1111111111111111,
              "#46039f"
             ],
             [
              0.2222222222222222,
              "#7201a8"
             ],
             [
              0.3333333333333333,
              "#9c179e"
             ],
             [
              0.4444444444444444,
              "#bd3786"
             ],
             [
              0.5555555555555556,
              "#d8576b"
             ],
             [
              0.6666666666666666,
              "#ed7953"
             ],
             [
              0.7777777777777778,
              "#fb9f3a"
             ],
             [
              0.8888888888888888,
              "#fdca26"
             ],
             [
              1,
              "#f0f921"
             ]
            ],
            "type": "histogram2dcontour"
           }
          ],
          "mesh3d": [
           {
            "colorbar": {
             "outlinewidth": 0,
             "ticks": ""
            },
            "type": "mesh3d"
           }
          ],
          "parcoords": [
           {
            "line": {
             "colorbar": {
              "outlinewidth": 0,
              "ticks": ""
             }
            },
            "type": "parcoords"
           }
          ],
          "pie": [
           {
            "automargin": true,
            "type": "pie"
           }
          ],
          "scatter": [
           {
            "marker": {
             "colorbar": {
              "outlinewidth": 0,
              "ticks": ""
             }
            },
            "type": "scatter"
           }
          ],
          "scatter3d": [
           {
            "line": {
             "colorbar": {
              "outlinewidth": 0,
              "ticks": ""
             }
            },
            "marker": {
             "colorbar": {
              "outlinewidth": 0,
              "ticks": ""
             }
            },
            "type": "scatter3d"
           }
          ],
          "scattercarpet": [
           {
            "marker": {
             "colorbar": {
              "outlinewidth": 0,
              "ticks": ""
             }
            },
            "type": "scattercarpet"
           }
          ],
          "scattergeo": [
           {
            "marker": {
             "colorbar": {
              "outlinewidth": 0,
              "ticks": ""
             }
            },
            "type": "scattergeo"
           }
          ],
          "scattergl": [
           {
            "marker": {
             "colorbar": {
              "outlinewidth": 0,
              "ticks": ""
             }
            },
            "type": "scattergl"
           }
          ],
          "scattermapbox": [
           {
            "marker": {
             "colorbar": {
              "outlinewidth": 0,
              "ticks": ""
             }
            },
            "type": "scattermapbox"
           }
          ],
          "scatterpolar": [
           {
            "marker": {
             "colorbar": {
              "outlinewidth": 0,
              "ticks": ""
             }
            },
            "type": "scatterpolar"
           }
          ],
          "scatterpolargl": [
           {
            "marker": {
             "colorbar": {
              "outlinewidth": 0,
              "ticks": ""
             }
            },
            "type": "scatterpolargl"
           }
          ],
          "scatterternary": [
           {
            "marker": {
             "colorbar": {
              "outlinewidth": 0,
              "ticks": ""
             }
            },
            "type": "scatterternary"
           }
          ],
          "surface": [
           {
            "colorbar": {
             "outlinewidth": 0,
             "ticks": ""
            },
            "colorscale": [
             [
              0,
              "#0d0887"
             ],
             [
              0.1111111111111111,
              "#46039f"
             ],
             [
              0.2222222222222222,
              "#7201a8"
             ],
             [
              0.3333333333333333,
              "#9c179e"
             ],
             [
              0.4444444444444444,
              "#bd3786"
             ],
             [
              0.5555555555555556,
              "#d8576b"
             ],
             [
              0.6666666666666666,
              "#ed7953"
             ],
             [
              0.7777777777777778,
              "#fb9f3a"
             ],
             [
              0.8888888888888888,
              "#fdca26"
             ],
             [
              1,
              "#f0f921"
             ]
            ],
            "type": "surface"
           }
          ],
          "table": [
           {
            "cells": {
             "fill": {
              "color": "#EBF0F8"
             },
             "line": {
              "color": "white"
             }
            },
            "header": {
             "fill": {
              "color": "#C8D4E3"
             },
             "line": {
              "color": "white"
             }
            },
            "type": "table"
           }
          ]
         },
         "layout": {
          "annotationdefaults": {
           "arrowcolor": "#2a3f5f",
           "arrowhead": 0,
           "arrowwidth": 1
          },
          "coloraxis": {
           "colorbar": {
            "outlinewidth": 0,
            "ticks": ""
           }
          },
          "colorscale": {
           "diverging": [
            [
             0,
             "#8e0152"
            ],
            [
             0.1,
             "#c51b7d"
            ],
            [
             0.2,
             "#de77ae"
            ],
            [
             0.3,
             "#f1b6da"
            ],
            [
             0.4,
             "#fde0ef"
            ],
            [
             0.5,
             "#f7f7f7"
            ],
            [
             0.6,
             "#e6f5d0"
            ],
            [
             0.7,
             "#b8e186"
            ],
            [
             0.8,
             "#7fbc41"
            ],
            [
             0.9,
             "#4d9221"
            ],
            [
             1,
             "#276419"
            ]
           ],
           "sequential": [
            [
             0,
             "#0d0887"
            ],
            [
             0.1111111111111111,
             "#46039f"
            ],
            [
             0.2222222222222222,
             "#7201a8"
            ],
            [
             0.3333333333333333,
             "#9c179e"
            ],
            [
             0.4444444444444444,
             "#bd3786"
            ],
            [
             0.5555555555555556,
             "#d8576b"
            ],
            [
             0.6666666666666666,
             "#ed7953"
            ],
            [
             0.7777777777777778,
             "#fb9f3a"
            ],
            [
             0.8888888888888888,
             "#fdca26"
            ],
            [
             1,
             "#f0f921"
            ]
           ],
           "sequentialminus": [
            [
             0,
             "#0d0887"
            ],
            [
             0.1111111111111111,
             "#46039f"
            ],
            [
             0.2222222222222222,
             "#7201a8"
            ],
            [
             0.3333333333333333,
             "#9c179e"
            ],
            [
             0.4444444444444444,
             "#bd3786"
            ],
            [
             0.5555555555555556,
             "#d8576b"
            ],
            [
             0.6666666666666666,
             "#ed7953"
            ],
            [
             0.7777777777777778,
             "#fb9f3a"
            ],
            [
             0.8888888888888888,
             "#fdca26"
            ],
            [
             1,
             "#f0f921"
            ]
           ]
          },
          "colorway": [
           "#636efa",
           "#EF553B",
           "#00cc96",
           "#ab63fa",
           "#FFA15A",
           "#19d3f3",
           "#FF6692",
           "#B6E880",
           "#FF97FF",
           "#FECB52"
          ],
          "font": {
           "color": "#2a3f5f"
          },
          "geo": {
           "bgcolor": "white",
           "lakecolor": "white",
           "landcolor": "#E5ECF6",
           "showlakes": true,
           "showland": true,
           "subunitcolor": "white"
          },
          "hoverlabel": {
           "align": "left"
          },
          "hovermode": "closest",
          "mapbox": {
           "style": "light"
          },
          "paper_bgcolor": "white",
          "plot_bgcolor": "#E5ECF6",
          "polar": {
           "angularaxis": {
            "gridcolor": "white",
            "linecolor": "white",
            "ticks": ""
           },
           "bgcolor": "#E5ECF6",
           "radialaxis": {
            "gridcolor": "white",
            "linecolor": "white",
            "ticks": ""
           }
          },
          "scene": {
           "xaxis": {
            "backgroundcolor": "#E5ECF6",
            "gridcolor": "white",
            "gridwidth": 2,
            "linecolor": "white",
            "showbackground": true,
            "ticks": "",
            "zerolinecolor": "white"
           },
           "yaxis": {
            "backgroundcolor": "#E5ECF6",
            "gridcolor": "white",
            "gridwidth": 2,
            "linecolor": "white",
            "showbackground": true,
            "ticks": "",
            "zerolinecolor": "white"
           },
           "zaxis": {
            "backgroundcolor": "#E5ECF6",
            "gridcolor": "white",
            "gridwidth": 2,
            "linecolor": "white",
            "showbackground": true,
            "ticks": "",
            "zerolinecolor": "white"
           }
          },
          "shapedefaults": {
           "line": {
            "color": "#2a3f5f"
           }
          },
          "ternary": {
           "aaxis": {
            "gridcolor": "white",
            "linecolor": "white",
            "ticks": ""
           },
           "baxis": {
            "gridcolor": "white",
            "linecolor": "white",
            "ticks": ""
           },
           "bgcolor": "#E5ECF6",
           "caxis": {
            "gridcolor": "white",
            "linecolor": "white",
            "ticks": ""
           }
          },
          "title": {
           "x": 0.05
          },
          "xaxis": {
           "automargin": true,
           "gridcolor": "white",
           "linecolor": "white",
           "ticks": "",
           "title": {
            "standoff": 15
           },
           "zerolinecolor": "white",
           "zerolinewidth": 2
          },
          "yaxis": {
           "automargin": true,
           "gridcolor": "white",
           "linecolor": "white",
           "ticks": "",
           "title": {
            "standoff": 15
           },
           "zerolinecolor": "white",
           "zerolinewidth": 2
          }
         }
        },
        "title": {
         "font": {
          "color": "#4D5663"
         }
        },
        "xaxis": {
         "gridcolor": "#E1E5ED",
         "showgrid": true,
         "tickfont": {
          "color": "#4D5663"
         },
         "title": {
          "font": {
           "color": "#4D5663"
          },
          "text": ""
         },
         "zerolinecolor": "#E1E5ED"
        },
        "yaxis": {
         "gridcolor": "#E1E5ED",
         "showgrid": true,
         "tickfont": {
          "color": "#4D5663"
         },
         "title": {
          "font": {
           "color": "#4D5663"
          },
          "text": ""
         },
         "zerolinecolor": "#E1E5ED"
        }
       }
      },
      "text/html": [
       "<div>\n",
       "        \n",
       "        \n",
       "            <div id=\"9394495a-c8a7-48bf-b436-0c0e991ddda6\" class=\"plotly-graph-div\" style=\"height:525px; width:100%;\"></div>\n",
       "            <script type=\"text/javascript\">\n",
       "                require([\"plotly\"], function(Plotly) {\n",
       "                    window.PLOTLYENV=window.PLOTLYENV || {};\n",
       "                    window.PLOTLYENV.BASE_URL='https://plot.ly';\n",
       "                    \n",
       "                if (document.getElementById(\"9394495a-c8a7-48bf-b436-0c0e991ddda6\")) {\n",
       "                    Plotly.newPlot(\n",
       "                        '9394495a-c8a7-48bf-b436-0c0e991ddda6',\n",
       "                        [{\"line\": {\"color\": \"rgba(255, 153, 51, 1.0)\", \"dash\": \"solid\", \"shape\": \"linear\", \"width\": 1.3}, \"marker\": {\"size\": 10, \"symbol\": \"circle\"}, \"mode\": \"markers\", \"name\": \"B\", \"text\": \"\", \"type\": \"scatter\", \"x\": [0.04586201721326738, -0.6540043750178025, -0.15552861422961764, 0.4246745931194628, -0.7428941263058662, 1.9759454512955896, 0.37216312274345376, 0.270346199650836, 0.7526879532742253, 0.6835958715969624, -0.2546175189374106, -1.4262276612733924, -0.8727506868121251, -1.6379838534075002, -0.3785322805868584, -0.8599010083088068, 0.4629342549127315, -0.47817504277382034, 1.7604777274770929, -0.6838113680207202, -1.4307352427821491, -1.8252753776981603, 0.0833413830786923, 0.35628092995480676, -1.274976737920389, -0.11359150113388154, -0.9893370579804546, -0.8534703806103016, -0.990879781989911, -0.11339893230127164, -0.3639574025477662, -1.9198230956237927, -0.15604885841910177, -1.242009328543386, -1.0874855796153915, 0.14390334649378728, -0.3382339542174146, -0.3514758760147406, -0.7062967985429734, -0.12500964817068996, -0.9285989000331202, 1.5833434550109415, -2.4928407726420563, 0.9246153518224425, -0.8612041766022565, -1.1870843867017409, -0.14298953029197703, -1.1632402625589469, 0.4098274611640754, -0.2891110705534637, -0.377333312529668, -0.7700418964086341, 1.4419245123587963, 0.03299347750695614, 0.30446587287069704, 1.7167246528354863, -1.7488558374419065, -0.4082248364598318, -0.43705062056267563, 0.27557456940654934, -1.7749290440262324, -0.26864031013567036, -0.6490697916177971, 0.31078916234165116, -1.3008179237598356, 0.4139975331828292, 1.3674410813628795, 1.67921356806546, -1.7257549896922175, 0.10065480714282876, -1.61503423879273, 0.5862729398825437, -1.3634403525084011, 0.2775805459514663, -0.9757974847933348, -1.098944519453516, 1.0101077930359967, -0.17781895824552374, -0.7734803747585632, -0.7535167319015652, -0.16708705618339023, -0.3297590324897727, -0.6069608199941531, 0.151103955896672, 1.0641636909694312, 1.1434256632642008, -1.4467009135114968, 0.19060882578590008, -0.41156483114802506, 3.198680605796546, -1.6909576942364866, -1.1686824788204284, -1.0525002047918235, -0.2669890197908835, -0.9245356187364816, 0.7589373225722542, -0.40615315896270865, 0.5371900954827098, 0.5919142019373578, 0.36842146133318476], \"y\": [-0.6097684872700382, -0.8493487007227505, 0.9977510237274378, -0.1071962371054894, -1.699524977003542, 0.8082757927760422, 0.8193580554685013, -0.2061772615607506, -0.26313042840768197, 0.5600361067764692, -0.4501981737498376, -0.9544772042218531, -1.319940076686102, -1.125617561514794, -0.3956045049936414, -0.8370623937043047, 1.1686872383712643, -0.23243709044945235, -0.5340987999737385, -2.0614316426642536, 0.753559286628637, -0.8528918211334426, -0.22309759866097068, -0.7113387792238788, -0.5101411104217729, -0.6342668440941034, -0.6324370086317639, 0.2714510243492082, -0.5213238007382588, -1.4086465885726056, -0.5420087867655164, 0.6677503468224606, -0.18855694230016076, 2.0671336870595733, -0.47682455918418043, -0.024979430414229276, 1.3061706720343416, 2.786030341090841, 0.5486606319358823, 1.1606684174771362, 0.1451160819641703, 2.136969133851484, 0.770381179614506, -0.7556527371529544, 0.5601210636156078, 0.3307869065359323, -1.3478670652302134, 0.08644174068175664, 1.2905756068011163, 2.275549593676335, -0.47563159079150313, 0.23889454006422195, -1.7043014333897235, -1.4533176672403718, 0.5360611298269806, 0.25318959135101454, 0.004821837557940499, 1.4422811243330096, 0.7317807073826776, 0.40437412573002657, -0.09522520392275328, 0.6365245480331461, 0.23493643856197943, 0.8931242125821466, -0.46845291625732416, 0.3781014047855431, -1.2452813787819295, 0.7720600839543568, -0.1467225346322123, -0.6315021974816304, -0.7269821770978143, -0.4242118835802408, 1.8098886957875182, 0.6340870632825684, -0.7524498968821255, 2.334655966396287, -0.8492378201748007, 1.1964317058351615, 0.18153694390689393, 0.8732838633312291, 1.07784296658968, 0.3459866622514968, -0.7214103607850231, -1.2049057150110316, 0.5013151212405151, -1.3069831656188589, 0.11814842323440919, -0.01760325733177132, -1.031507466879412, 0.8105398816366775, 0.2630311106697119, 1.1610935950229937, -0.9110603984749275, 0.38128147794092065, -0.32120478827120125, -0.909703102805338, 0.9665818363963105, -0.815837744405378, -1.5352152603233933, 0.20011286751182206]}],\n",
       "                        {\"legend\": {\"bgcolor\": \"#F5F6F9\", \"font\": {\"color\": \"#4D5663\"}}, \"paper_bgcolor\": \"#F5F6F9\", \"plot_bgcolor\": \"#F5F6F9\", \"template\": {\"data\": {\"bar\": [{\"error_x\": {\"color\": \"#2a3f5f\"}, \"error_y\": {\"color\": \"#2a3f5f\"}, \"marker\": {\"line\": {\"color\": \"#E5ECF6\", \"width\": 0.5}}, \"type\": \"bar\"}], \"barpolar\": [{\"marker\": {\"line\": {\"color\": \"#E5ECF6\", \"width\": 0.5}}, \"type\": \"barpolar\"}], \"carpet\": [{\"aaxis\": {\"endlinecolor\": \"#2a3f5f\", \"gridcolor\": \"white\", \"linecolor\": \"white\", \"minorgridcolor\": \"white\", \"startlinecolor\": \"#2a3f5f\"}, \"baxis\": {\"endlinecolor\": \"#2a3f5f\", \"gridcolor\": \"white\", \"linecolor\": \"white\", \"minorgridcolor\": \"white\", \"startlinecolor\": \"#2a3f5f\"}, \"type\": \"carpet\"}], \"choropleth\": [{\"colorbar\": {\"outlinewidth\": 0, \"ticks\": \"\"}, \"type\": \"choropleth\"}], \"contour\": [{\"colorbar\": {\"outlinewidth\": 0, \"ticks\": \"\"}, \"colorscale\": [[0.0, \"#0d0887\"], [0.1111111111111111, \"#46039f\"], [0.2222222222222222, \"#7201a8\"], [0.3333333333333333, \"#9c179e\"], [0.4444444444444444, \"#bd3786\"], [0.5555555555555556, \"#d8576b\"], [0.6666666666666666, \"#ed7953\"], [0.7777777777777778, \"#fb9f3a\"], [0.8888888888888888, \"#fdca26\"], [1.0, \"#f0f921\"]], \"type\": \"contour\"}], \"contourcarpet\": [{\"colorbar\": {\"outlinewidth\": 0, \"ticks\": \"\"}, \"type\": \"contourcarpet\"}], \"heatmap\": [{\"colorbar\": {\"outlinewidth\": 0, \"ticks\": \"\"}, \"colorscale\": [[0.0, \"#0d0887\"], [0.1111111111111111, \"#46039f\"], [0.2222222222222222, \"#7201a8\"], [0.3333333333333333, \"#9c179e\"], [0.4444444444444444, \"#bd3786\"], [0.5555555555555556, \"#d8576b\"], [0.6666666666666666, \"#ed7953\"], [0.7777777777777778, \"#fb9f3a\"], [0.8888888888888888, \"#fdca26\"], [1.0, \"#f0f921\"]], \"type\": \"heatmap\"}], \"heatmapgl\": [{\"colorbar\": {\"outlinewidth\": 0, \"ticks\": \"\"}, \"colorscale\": [[0.0, \"#0d0887\"], [0.1111111111111111, \"#46039f\"], [0.2222222222222222, \"#7201a8\"], [0.3333333333333333, \"#9c179e\"], [0.4444444444444444, \"#bd3786\"], [0.5555555555555556, \"#d8576b\"], [0.6666666666666666, \"#ed7953\"], [0.7777777777777778, \"#fb9f3a\"], [0.8888888888888888, \"#fdca26\"], [1.0, \"#f0f921\"]], \"type\": \"heatmapgl\"}], \"histogram\": [{\"marker\": {\"colorbar\": {\"outlinewidth\": 0, \"ticks\": \"\"}}, \"type\": \"histogram\"}], \"histogram2d\": [{\"colorbar\": {\"outlinewidth\": 0, \"ticks\": \"\"}, \"colorscale\": [[0.0, \"#0d0887\"], [0.1111111111111111, \"#46039f\"], [0.2222222222222222, \"#7201a8\"], [0.3333333333333333, \"#9c179e\"], [0.4444444444444444, \"#bd3786\"], [0.5555555555555556, \"#d8576b\"], [0.6666666666666666, \"#ed7953\"], [0.7777777777777778, \"#fb9f3a\"], [0.8888888888888888, \"#fdca26\"], [1.0, \"#f0f921\"]], \"type\": \"histogram2d\"}], \"histogram2dcontour\": [{\"colorbar\": {\"outlinewidth\": 0, \"ticks\": \"\"}, \"colorscale\": [[0.0, \"#0d0887\"], [0.1111111111111111, \"#46039f\"], [0.2222222222222222, \"#7201a8\"], [0.3333333333333333, \"#9c179e\"], [0.4444444444444444, \"#bd3786\"], [0.5555555555555556, \"#d8576b\"], [0.6666666666666666, \"#ed7953\"], [0.7777777777777778, \"#fb9f3a\"], [0.8888888888888888, \"#fdca26\"], [1.0, \"#f0f921\"]], \"type\": \"histogram2dcontour\"}], \"mesh3d\": [{\"colorbar\": {\"outlinewidth\": 0, \"ticks\": \"\"}, \"type\": \"mesh3d\"}], \"parcoords\": [{\"line\": {\"colorbar\": {\"outlinewidth\": 0, \"ticks\": \"\"}}, \"type\": \"parcoords\"}], \"pie\": [{\"automargin\": true, \"type\": \"pie\"}], \"scatter\": [{\"marker\": {\"colorbar\": {\"outlinewidth\": 0, \"ticks\": \"\"}}, \"type\": \"scatter\"}], \"scatter3d\": [{\"line\": {\"colorbar\": {\"outlinewidth\": 0, \"ticks\": \"\"}}, \"marker\": {\"colorbar\": {\"outlinewidth\": 0, \"ticks\": \"\"}}, \"type\": \"scatter3d\"}], \"scattercarpet\": [{\"marker\": {\"colorbar\": {\"outlinewidth\": 0, \"ticks\": \"\"}}, \"type\": \"scattercarpet\"}], \"scattergeo\": [{\"marker\": {\"colorbar\": {\"outlinewidth\": 0, \"ticks\": \"\"}}, \"type\": \"scattergeo\"}], \"scattergl\": [{\"marker\": {\"colorbar\": {\"outlinewidth\": 0, \"ticks\": \"\"}}, \"type\": \"scattergl\"}], \"scattermapbox\": [{\"marker\": {\"colorbar\": {\"outlinewidth\": 0, \"ticks\": \"\"}}, \"type\": \"scattermapbox\"}], \"scatterpolar\": [{\"marker\": {\"colorbar\": {\"outlinewidth\": 0, \"ticks\": \"\"}}, \"type\": \"scatterpolar\"}], \"scatterpolargl\": [{\"marker\": {\"colorbar\": {\"outlinewidth\": 0, \"ticks\": \"\"}}, \"type\": \"scatterpolargl\"}], \"scatterternary\": [{\"marker\": {\"colorbar\": {\"outlinewidth\": 0, \"ticks\": \"\"}}, \"type\": \"scatterternary\"}], \"surface\": [{\"colorbar\": {\"outlinewidth\": 0, \"ticks\": \"\"}, \"colorscale\": [[0.0, \"#0d0887\"], [0.1111111111111111, \"#46039f\"], [0.2222222222222222, \"#7201a8\"], [0.3333333333333333, \"#9c179e\"], [0.4444444444444444, \"#bd3786\"], [0.5555555555555556, \"#d8576b\"], [0.6666666666666666, \"#ed7953\"], [0.7777777777777778, \"#fb9f3a\"], [0.8888888888888888, \"#fdca26\"], [1.0, \"#f0f921\"]], \"type\": \"surface\"}], \"table\": [{\"cells\": {\"fill\": {\"color\": \"#EBF0F8\"}, \"line\": {\"color\": \"white\"}}, \"header\": {\"fill\": {\"color\": \"#C8D4E3\"}, \"line\": {\"color\": \"white\"}}, \"type\": \"table\"}]}, \"layout\": {\"annotationdefaults\": {\"arrowcolor\": \"#2a3f5f\", \"arrowhead\": 0, \"arrowwidth\": 1}, \"coloraxis\": {\"colorbar\": {\"outlinewidth\": 0, \"ticks\": \"\"}}, \"colorscale\": {\"diverging\": [[0, \"#8e0152\"], [0.1, \"#c51b7d\"], [0.2, \"#de77ae\"], [0.3, \"#f1b6da\"], [0.4, \"#fde0ef\"], [0.5, \"#f7f7f7\"], [0.6, \"#e6f5d0\"], [0.7, \"#b8e186\"], [0.8, \"#7fbc41\"], [0.9, \"#4d9221\"], [1, \"#276419\"]], \"sequential\": [[0.0, \"#0d0887\"], [0.1111111111111111, \"#46039f\"], [0.2222222222222222, \"#7201a8\"], [0.3333333333333333, \"#9c179e\"], [0.4444444444444444, \"#bd3786\"], [0.5555555555555556, \"#d8576b\"], [0.6666666666666666, \"#ed7953\"], [0.7777777777777778, \"#fb9f3a\"], [0.8888888888888888, \"#fdca26\"], [1.0, \"#f0f921\"]], \"sequentialminus\": [[0.0, \"#0d0887\"], [0.1111111111111111, \"#46039f\"], [0.2222222222222222, \"#7201a8\"], [0.3333333333333333, \"#9c179e\"], [0.4444444444444444, \"#bd3786\"], [0.5555555555555556, \"#d8576b\"], [0.6666666666666666, \"#ed7953\"], [0.7777777777777778, \"#fb9f3a\"], [0.8888888888888888, \"#fdca26\"], [1.0, \"#f0f921\"]]}, \"colorway\": [\"#636efa\", \"#EF553B\", \"#00cc96\", \"#ab63fa\", \"#FFA15A\", \"#19d3f3\", \"#FF6692\", \"#B6E880\", \"#FF97FF\", \"#FECB52\"], \"font\": {\"color\": \"#2a3f5f\"}, \"geo\": {\"bgcolor\": \"white\", \"lakecolor\": \"white\", \"landcolor\": \"#E5ECF6\", \"showlakes\": true, \"showland\": true, \"subunitcolor\": \"white\"}, \"hoverlabel\": {\"align\": \"left\"}, \"hovermode\": \"closest\", \"mapbox\": {\"style\": \"light\"}, \"paper_bgcolor\": \"white\", \"plot_bgcolor\": \"#E5ECF6\", \"polar\": {\"angularaxis\": {\"gridcolor\": \"white\", \"linecolor\": \"white\", \"ticks\": \"\"}, \"bgcolor\": \"#E5ECF6\", \"radialaxis\": {\"gridcolor\": \"white\", \"linecolor\": \"white\", \"ticks\": \"\"}}, \"scene\": {\"xaxis\": {\"backgroundcolor\": \"#E5ECF6\", \"gridcolor\": \"white\", \"gridwidth\": 2, \"linecolor\": \"white\", \"showbackground\": true, \"ticks\": \"\", \"zerolinecolor\": \"white\"}, \"yaxis\": {\"backgroundcolor\": \"#E5ECF6\", \"gridcolor\": \"white\", \"gridwidth\": 2, \"linecolor\": \"white\", \"showbackground\": true, \"ticks\": \"\", \"zerolinecolor\": \"white\"}, \"zaxis\": {\"backgroundcolor\": \"#E5ECF6\", \"gridcolor\": \"white\", \"gridwidth\": 2, \"linecolor\": \"white\", \"showbackground\": true, \"ticks\": \"\", \"zerolinecolor\": \"white\"}}, \"shapedefaults\": {\"line\": {\"color\": \"#2a3f5f\"}}, \"ternary\": {\"aaxis\": {\"gridcolor\": \"white\", \"linecolor\": \"white\", \"ticks\": \"\"}, \"baxis\": {\"gridcolor\": \"white\", \"linecolor\": \"white\", \"ticks\": \"\"}, \"bgcolor\": \"#E5ECF6\", \"caxis\": {\"gridcolor\": \"white\", \"linecolor\": \"white\", \"ticks\": \"\"}}, \"title\": {\"x\": 0.05}, \"xaxis\": {\"automargin\": true, \"gridcolor\": \"white\", \"linecolor\": \"white\", \"ticks\": \"\", \"title\": {\"standoff\": 15}, \"zerolinecolor\": \"white\", \"zerolinewidth\": 2}, \"yaxis\": {\"automargin\": true, \"gridcolor\": \"white\", \"linecolor\": \"white\", \"ticks\": \"\", \"title\": {\"standoff\": 15}, \"zerolinecolor\": \"white\", \"zerolinewidth\": 2}}}, \"title\": {\"font\": {\"color\": \"#4D5663\"}}, \"xaxis\": {\"gridcolor\": \"#E1E5ED\", \"showgrid\": true, \"tickfont\": {\"color\": \"#4D5663\"}, \"title\": {\"font\": {\"color\": \"#4D5663\"}, \"text\": \"\"}, \"zerolinecolor\": \"#E1E5ED\"}, \"yaxis\": {\"gridcolor\": \"#E1E5ED\", \"showgrid\": true, \"tickfont\": {\"color\": \"#4D5663\"}, \"title\": {\"font\": {\"color\": \"#4D5663\"}, \"text\": \"\"}, \"zerolinecolor\": \"#E1E5ED\"}},\n",
       "                        {\"showLink\": true, \"linkText\": \"Export to plot.ly\", \"plotlyServerURL\": \"https://plot.ly\", \"responsive\": true}\n",
       "                    ).then(function(){\n",
       "                            \n",
       "var gd = document.getElementById('9394495a-c8a7-48bf-b436-0c0e991ddda6');\n",
       "var x = new MutationObserver(function (mutations, observer) {{\n",
       "        var display = window.getComputedStyle(gd).display;\n",
       "        if (!display || display === 'none') {{\n",
       "            console.log([gd, 'removed!']);\n",
       "            Plotly.purge(gd);\n",
       "            observer.disconnect();\n",
       "        }}\n",
       "}});\n",
       "\n",
       "// Listen for the removal of the full notebook cells\n",
       "var notebookContainer = gd.closest('#notebook-container');\n",
       "if (notebookContainer) {{\n",
       "    x.observe(notebookContainer, {childList: true});\n",
       "}}\n",
       "\n",
       "// Listen for the clearing of the current output cell\n",
       "var outputEl = gd.closest('.output');\n",
       "if (outputEl) {{\n",
       "    x.observe(outputEl, {childList: true});\n",
       "}}\n",
       "\n",
       "                        })\n",
       "                };\n",
       "                });\n",
       "            </script>\n",
       "        </div>"
      ]
     },
     "metadata": {},
     "output_type": "display_data"
    }
   ],
   "source": [
    "df.iplot(kind='scatter',x='A',y='B',mode='markers',size=10)"
   ]
  },
  {
   "cell_type": "markdown",
   "metadata": {},
   "source": [
    "## Bar Plots"
   ]
  },
  {
   "cell_type": "code",
   "execution_count": 11,
   "metadata": {},
   "outputs": [
    {
     "data": {
      "application/vnd.plotly.v1+json": {
       "config": {
        "linkText": "Export to plot.ly",
        "plotlyServerURL": "https://plot.ly",
        "showLink": true
       },
       "data": [
        {
         "marker": {
          "color": "rgba(255, 153, 51, 0.6)",
          "line": {
           "color": "rgba(255, 153, 51, 1.0)",
           "width": 1
          }
         },
         "name": "Values",
         "orientation": "v",
         "text": "",
         "type": "bar",
         "x": [
          "A",
          "B",
          "C"
         ],
         "y": [
          32,
          43,
          50
         ]
        }
       ],
       "layout": {
        "legend": {
         "bgcolor": "#F5F6F9",
         "font": {
          "color": "#4D5663"
         }
        },
        "paper_bgcolor": "#F5F6F9",
        "plot_bgcolor": "#F5F6F9",
        "template": {
         "data": {
          "bar": [
           {
            "error_x": {
             "color": "#2a3f5f"
            },
            "error_y": {
             "color": "#2a3f5f"
            },
            "marker": {
             "line": {
              "color": "#E5ECF6",
              "width": 0.5
             }
            },
            "type": "bar"
           }
          ],
          "barpolar": [
           {
            "marker": {
             "line": {
              "color": "#E5ECF6",
              "width": 0.5
             }
            },
            "type": "barpolar"
           }
          ],
          "carpet": [
           {
            "aaxis": {
             "endlinecolor": "#2a3f5f",
             "gridcolor": "white",
             "linecolor": "white",
             "minorgridcolor": "white",
             "startlinecolor": "#2a3f5f"
            },
            "baxis": {
             "endlinecolor": "#2a3f5f",
             "gridcolor": "white",
             "linecolor": "white",
             "minorgridcolor": "white",
             "startlinecolor": "#2a3f5f"
            },
            "type": "carpet"
           }
          ],
          "choropleth": [
           {
            "colorbar": {
             "outlinewidth": 0,
             "ticks": ""
            },
            "type": "choropleth"
           }
          ],
          "contour": [
           {
            "colorbar": {
             "outlinewidth": 0,
             "ticks": ""
            },
            "colorscale": [
             [
              0,
              "#0d0887"
             ],
             [
              0.1111111111111111,
              "#46039f"
             ],
             [
              0.2222222222222222,
              "#7201a8"
             ],
             [
              0.3333333333333333,
              "#9c179e"
             ],
             [
              0.4444444444444444,
              "#bd3786"
             ],
             [
              0.5555555555555556,
              "#d8576b"
             ],
             [
              0.6666666666666666,
              "#ed7953"
             ],
             [
              0.7777777777777778,
              "#fb9f3a"
             ],
             [
              0.8888888888888888,
              "#fdca26"
             ],
             [
              1,
              "#f0f921"
             ]
            ],
            "type": "contour"
           }
          ],
          "contourcarpet": [
           {
            "colorbar": {
             "outlinewidth": 0,
             "ticks": ""
            },
            "type": "contourcarpet"
           }
          ],
          "heatmap": [
           {
            "colorbar": {
             "outlinewidth": 0,
             "ticks": ""
            },
            "colorscale": [
             [
              0,
              "#0d0887"
             ],
             [
              0.1111111111111111,
              "#46039f"
             ],
             [
              0.2222222222222222,
              "#7201a8"
             ],
             [
              0.3333333333333333,
              "#9c179e"
             ],
             [
              0.4444444444444444,
              "#bd3786"
             ],
             [
              0.5555555555555556,
              "#d8576b"
             ],
             [
              0.6666666666666666,
              "#ed7953"
             ],
             [
              0.7777777777777778,
              "#fb9f3a"
             ],
             [
              0.8888888888888888,
              "#fdca26"
             ],
             [
              1,
              "#f0f921"
             ]
            ],
            "type": "heatmap"
           }
          ],
          "heatmapgl": [
           {
            "colorbar": {
             "outlinewidth": 0,
             "ticks": ""
            },
            "colorscale": [
             [
              0,
              "#0d0887"
             ],
             [
              0.1111111111111111,
              "#46039f"
             ],
             [
              0.2222222222222222,
              "#7201a8"
             ],
             [
              0.3333333333333333,
              "#9c179e"
             ],
             [
              0.4444444444444444,
              "#bd3786"
             ],
             [
              0.5555555555555556,
              "#d8576b"
             ],
             [
              0.6666666666666666,
              "#ed7953"
             ],
             [
              0.7777777777777778,
              "#fb9f3a"
             ],
             [
              0.8888888888888888,
              "#fdca26"
             ],
             [
              1,
              "#f0f921"
             ]
            ],
            "type": "heatmapgl"
           }
          ],
          "histogram": [
           {
            "marker": {
             "colorbar": {
              "outlinewidth": 0,
              "ticks": ""
             }
            },
            "type": "histogram"
           }
          ],
          "histogram2d": [
           {
            "colorbar": {
             "outlinewidth": 0,
             "ticks": ""
            },
            "colorscale": [
             [
              0,
              "#0d0887"
             ],
             [
              0.1111111111111111,
              "#46039f"
             ],
             [
              0.2222222222222222,
              "#7201a8"
             ],
             [
              0.3333333333333333,
              "#9c179e"
             ],
             [
              0.4444444444444444,
              "#bd3786"
             ],
             [
              0.5555555555555556,
              "#d8576b"
             ],
             [
              0.6666666666666666,
              "#ed7953"
             ],
             [
              0.7777777777777778,
              "#fb9f3a"
             ],
             [
              0.8888888888888888,
              "#fdca26"
             ],
             [
              1,
              "#f0f921"
             ]
            ],
            "type": "histogram2d"
           }
          ],
          "histogram2dcontour": [
           {
            "colorbar": {
             "outlinewidth": 0,
             "ticks": ""
            },
            "colorscale": [
             [
              0,
              "#0d0887"
             ],
             [
              0.1111111111111111,
              "#46039f"
             ],
             [
              0.2222222222222222,
              "#7201a8"
             ],
             [
              0.3333333333333333,
              "#9c179e"
             ],
             [
              0.4444444444444444,
              "#bd3786"
             ],
             [
              0.5555555555555556,
              "#d8576b"
             ],
             [
              0.6666666666666666,
              "#ed7953"
             ],
             [
              0.7777777777777778,
              "#fb9f3a"
             ],
             [
              0.8888888888888888,
              "#fdca26"
             ],
             [
              1,
              "#f0f921"
             ]
            ],
            "type": "histogram2dcontour"
           }
          ],
          "mesh3d": [
           {
            "colorbar": {
             "outlinewidth": 0,
             "ticks": ""
            },
            "type": "mesh3d"
           }
          ],
          "parcoords": [
           {
            "line": {
             "colorbar": {
              "outlinewidth": 0,
              "ticks": ""
             }
            },
            "type": "parcoords"
           }
          ],
          "pie": [
           {
            "automargin": true,
            "type": "pie"
           }
          ],
          "scatter": [
           {
            "marker": {
             "colorbar": {
              "outlinewidth": 0,
              "ticks": ""
             }
            },
            "type": "scatter"
           }
          ],
          "scatter3d": [
           {
            "line": {
             "colorbar": {
              "outlinewidth": 0,
              "ticks": ""
             }
            },
            "marker": {
             "colorbar": {
              "outlinewidth": 0,
              "ticks": ""
             }
            },
            "type": "scatter3d"
           }
          ],
          "scattercarpet": [
           {
            "marker": {
             "colorbar": {
              "outlinewidth": 0,
              "ticks": ""
             }
            },
            "type": "scattercarpet"
           }
          ],
          "scattergeo": [
           {
            "marker": {
             "colorbar": {
              "outlinewidth": 0,
              "ticks": ""
             }
            },
            "type": "scattergeo"
           }
          ],
          "scattergl": [
           {
            "marker": {
             "colorbar": {
              "outlinewidth": 0,
              "ticks": ""
             }
            },
            "type": "scattergl"
           }
          ],
          "scattermapbox": [
           {
            "marker": {
             "colorbar": {
              "outlinewidth": 0,
              "ticks": ""
             }
            },
            "type": "scattermapbox"
           }
          ],
          "scatterpolar": [
           {
            "marker": {
             "colorbar": {
              "outlinewidth": 0,
              "ticks": ""
             }
            },
            "type": "scatterpolar"
           }
          ],
          "scatterpolargl": [
           {
            "marker": {
             "colorbar": {
              "outlinewidth": 0,
              "ticks": ""
             }
            },
            "type": "scatterpolargl"
           }
          ],
          "scatterternary": [
           {
            "marker": {
             "colorbar": {
              "outlinewidth": 0,
              "ticks": ""
             }
            },
            "type": "scatterternary"
           }
          ],
          "surface": [
           {
            "colorbar": {
             "outlinewidth": 0,
             "ticks": ""
            },
            "colorscale": [
             [
              0,
              "#0d0887"
             ],
             [
              0.1111111111111111,
              "#46039f"
             ],
             [
              0.2222222222222222,
              "#7201a8"
             ],
             [
              0.3333333333333333,
              "#9c179e"
             ],
             [
              0.4444444444444444,
              "#bd3786"
             ],
             [
              0.5555555555555556,
              "#d8576b"
             ],
             [
              0.6666666666666666,
              "#ed7953"
             ],
             [
              0.7777777777777778,
              "#fb9f3a"
             ],
             [
              0.8888888888888888,
              "#fdca26"
             ],
             [
              1,
              "#f0f921"
             ]
            ],
            "type": "surface"
           }
          ],
          "table": [
           {
            "cells": {
             "fill": {
              "color": "#EBF0F8"
             },
             "line": {
              "color": "white"
             }
            },
            "header": {
             "fill": {
              "color": "#C8D4E3"
             },
             "line": {
              "color": "white"
             }
            },
            "type": "table"
           }
          ]
         },
         "layout": {
          "annotationdefaults": {
           "arrowcolor": "#2a3f5f",
           "arrowhead": 0,
           "arrowwidth": 1
          },
          "coloraxis": {
           "colorbar": {
            "outlinewidth": 0,
            "ticks": ""
           }
          },
          "colorscale": {
           "diverging": [
            [
             0,
             "#8e0152"
            ],
            [
             0.1,
             "#c51b7d"
            ],
            [
             0.2,
             "#de77ae"
            ],
            [
             0.3,
             "#f1b6da"
            ],
            [
             0.4,
             "#fde0ef"
            ],
            [
             0.5,
             "#f7f7f7"
            ],
            [
             0.6,
             "#e6f5d0"
            ],
            [
             0.7,
             "#b8e186"
            ],
            [
             0.8,
             "#7fbc41"
            ],
            [
             0.9,
             "#4d9221"
            ],
            [
             1,
             "#276419"
            ]
           ],
           "sequential": [
            [
             0,
             "#0d0887"
            ],
            [
             0.1111111111111111,
             "#46039f"
            ],
            [
             0.2222222222222222,
             "#7201a8"
            ],
            [
             0.3333333333333333,
             "#9c179e"
            ],
            [
             0.4444444444444444,
             "#bd3786"
            ],
            [
             0.5555555555555556,
             "#d8576b"
            ],
            [
             0.6666666666666666,
             "#ed7953"
            ],
            [
             0.7777777777777778,
             "#fb9f3a"
            ],
            [
             0.8888888888888888,
             "#fdca26"
            ],
            [
             1,
             "#f0f921"
            ]
           ],
           "sequentialminus": [
            [
             0,
             "#0d0887"
            ],
            [
             0.1111111111111111,
             "#46039f"
            ],
            [
             0.2222222222222222,
             "#7201a8"
            ],
            [
             0.3333333333333333,
             "#9c179e"
            ],
            [
             0.4444444444444444,
             "#bd3786"
            ],
            [
             0.5555555555555556,
             "#d8576b"
            ],
            [
             0.6666666666666666,
             "#ed7953"
            ],
            [
             0.7777777777777778,
             "#fb9f3a"
            ],
            [
             0.8888888888888888,
             "#fdca26"
            ],
            [
             1,
             "#f0f921"
            ]
           ]
          },
          "colorway": [
           "#636efa",
           "#EF553B",
           "#00cc96",
           "#ab63fa",
           "#FFA15A",
           "#19d3f3",
           "#FF6692",
           "#B6E880",
           "#FF97FF",
           "#FECB52"
          ],
          "font": {
           "color": "#2a3f5f"
          },
          "geo": {
           "bgcolor": "white",
           "lakecolor": "white",
           "landcolor": "#E5ECF6",
           "showlakes": true,
           "showland": true,
           "subunitcolor": "white"
          },
          "hoverlabel": {
           "align": "left"
          },
          "hovermode": "closest",
          "mapbox": {
           "style": "light"
          },
          "paper_bgcolor": "white",
          "plot_bgcolor": "#E5ECF6",
          "polar": {
           "angularaxis": {
            "gridcolor": "white",
            "linecolor": "white",
            "ticks": ""
           },
           "bgcolor": "#E5ECF6",
           "radialaxis": {
            "gridcolor": "white",
            "linecolor": "white",
            "ticks": ""
           }
          },
          "scene": {
           "xaxis": {
            "backgroundcolor": "#E5ECF6",
            "gridcolor": "white",
            "gridwidth": 2,
            "linecolor": "white",
            "showbackground": true,
            "ticks": "",
            "zerolinecolor": "white"
           },
           "yaxis": {
            "backgroundcolor": "#E5ECF6",
            "gridcolor": "white",
            "gridwidth": 2,
            "linecolor": "white",
            "showbackground": true,
            "ticks": "",
            "zerolinecolor": "white"
           },
           "zaxis": {
            "backgroundcolor": "#E5ECF6",
            "gridcolor": "white",
            "gridwidth": 2,
            "linecolor": "white",
            "showbackground": true,
            "ticks": "",
            "zerolinecolor": "white"
           }
          },
          "shapedefaults": {
           "line": {
            "color": "#2a3f5f"
           }
          },
          "ternary": {
           "aaxis": {
            "gridcolor": "white",
            "linecolor": "white",
            "ticks": ""
           },
           "baxis": {
            "gridcolor": "white",
            "linecolor": "white",
            "ticks": ""
           },
           "bgcolor": "#E5ECF6",
           "caxis": {
            "gridcolor": "white",
            "linecolor": "white",
            "ticks": ""
           }
          },
          "title": {
           "x": 0.05
          },
          "xaxis": {
           "automargin": true,
           "gridcolor": "white",
           "linecolor": "white",
           "ticks": "",
           "title": {
            "standoff": 15
           },
           "zerolinecolor": "white",
           "zerolinewidth": 2
          },
          "yaxis": {
           "automargin": true,
           "gridcolor": "white",
           "linecolor": "white",
           "ticks": "",
           "title": {
            "standoff": 15
           },
           "zerolinecolor": "white",
           "zerolinewidth": 2
          }
         }
        },
        "title": {
         "font": {
          "color": "#4D5663"
         }
        },
        "xaxis": {
         "gridcolor": "#E1E5ED",
         "showgrid": true,
         "tickfont": {
          "color": "#4D5663"
         },
         "title": {
          "font": {
           "color": "#4D5663"
          },
          "text": ""
         },
         "zerolinecolor": "#E1E5ED"
        },
        "yaxis": {
         "gridcolor": "#E1E5ED",
         "showgrid": true,
         "tickfont": {
          "color": "#4D5663"
         },
         "title": {
          "font": {
           "color": "#4D5663"
          },
          "text": ""
         },
         "zerolinecolor": "#E1E5ED"
        }
       }
      },
      "text/html": [
       "<div>\n",
       "        \n",
       "        \n",
       "            <div id=\"eef582e6-ca8a-49a9-baaa-ead43287c3ad\" class=\"plotly-graph-div\" style=\"height:525px; width:100%;\"></div>\n",
       "            <script type=\"text/javascript\">\n",
       "                require([\"plotly\"], function(Plotly) {\n",
       "                    window.PLOTLYENV=window.PLOTLYENV || {};\n",
       "                    window.PLOTLYENV.BASE_URL='https://plot.ly';\n",
       "                    \n",
       "                if (document.getElementById(\"eef582e6-ca8a-49a9-baaa-ead43287c3ad\")) {\n",
       "                    Plotly.newPlot(\n",
       "                        'eef582e6-ca8a-49a9-baaa-ead43287c3ad',\n",
       "                        [{\"marker\": {\"color\": \"rgba(255, 153, 51, 0.6)\", \"line\": {\"color\": \"rgba(255, 153, 51, 1.0)\", \"width\": 1}}, \"name\": \"Values\", \"orientation\": \"v\", \"text\": \"\", \"type\": \"bar\", \"x\": [\"A\", \"B\", \"C\"], \"y\": [32, 43, 50]}],\n",
       "                        {\"legend\": {\"bgcolor\": \"#F5F6F9\", \"font\": {\"color\": \"#4D5663\"}}, \"paper_bgcolor\": \"#F5F6F9\", \"plot_bgcolor\": \"#F5F6F9\", \"template\": {\"data\": {\"bar\": [{\"error_x\": {\"color\": \"#2a3f5f\"}, \"error_y\": {\"color\": \"#2a3f5f\"}, \"marker\": {\"line\": {\"color\": \"#E5ECF6\", \"width\": 0.5}}, \"type\": \"bar\"}], \"barpolar\": [{\"marker\": {\"line\": {\"color\": \"#E5ECF6\", \"width\": 0.5}}, \"type\": \"barpolar\"}], \"carpet\": [{\"aaxis\": {\"endlinecolor\": \"#2a3f5f\", \"gridcolor\": \"white\", \"linecolor\": \"white\", \"minorgridcolor\": \"white\", \"startlinecolor\": \"#2a3f5f\"}, \"baxis\": {\"endlinecolor\": \"#2a3f5f\", \"gridcolor\": \"white\", \"linecolor\": \"white\", \"minorgridcolor\": \"white\", \"startlinecolor\": \"#2a3f5f\"}, \"type\": \"carpet\"}], \"choropleth\": [{\"colorbar\": {\"outlinewidth\": 0, \"ticks\": \"\"}, \"type\": \"choropleth\"}], \"contour\": [{\"colorbar\": {\"outlinewidth\": 0, \"ticks\": \"\"}, \"colorscale\": [[0.0, \"#0d0887\"], [0.1111111111111111, \"#46039f\"], [0.2222222222222222, \"#7201a8\"], [0.3333333333333333, \"#9c179e\"], [0.4444444444444444, \"#bd3786\"], [0.5555555555555556, \"#d8576b\"], [0.6666666666666666, \"#ed7953\"], [0.7777777777777778, \"#fb9f3a\"], [0.8888888888888888, \"#fdca26\"], [1.0, \"#f0f921\"]], \"type\": \"contour\"}], \"contourcarpet\": [{\"colorbar\": {\"outlinewidth\": 0, \"ticks\": \"\"}, \"type\": \"contourcarpet\"}], \"heatmap\": [{\"colorbar\": {\"outlinewidth\": 0, \"ticks\": \"\"}, \"colorscale\": [[0.0, \"#0d0887\"], [0.1111111111111111, \"#46039f\"], [0.2222222222222222, \"#7201a8\"], [0.3333333333333333, \"#9c179e\"], [0.4444444444444444, \"#bd3786\"], [0.5555555555555556, \"#d8576b\"], [0.6666666666666666, \"#ed7953\"], [0.7777777777777778, \"#fb9f3a\"], [0.8888888888888888, \"#fdca26\"], [1.0, \"#f0f921\"]], \"type\": \"heatmap\"}], \"heatmapgl\": [{\"colorbar\": {\"outlinewidth\": 0, \"ticks\": \"\"}, \"colorscale\": [[0.0, \"#0d0887\"], [0.1111111111111111, \"#46039f\"], [0.2222222222222222, \"#7201a8\"], [0.3333333333333333, \"#9c179e\"], [0.4444444444444444, \"#bd3786\"], [0.5555555555555556, \"#d8576b\"], [0.6666666666666666, \"#ed7953\"], [0.7777777777777778, \"#fb9f3a\"], [0.8888888888888888, \"#fdca26\"], [1.0, \"#f0f921\"]], \"type\": \"heatmapgl\"}], \"histogram\": [{\"marker\": {\"colorbar\": {\"outlinewidth\": 0, \"ticks\": \"\"}}, \"type\": \"histogram\"}], \"histogram2d\": [{\"colorbar\": {\"outlinewidth\": 0, \"ticks\": \"\"}, \"colorscale\": [[0.0, \"#0d0887\"], [0.1111111111111111, \"#46039f\"], [0.2222222222222222, \"#7201a8\"], [0.3333333333333333, \"#9c179e\"], [0.4444444444444444, \"#bd3786\"], [0.5555555555555556, \"#d8576b\"], [0.6666666666666666, \"#ed7953\"], [0.7777777777777778, \"#fb9f3a\"], [0.8888888888888888, \"#fdca26\"], [1.0, \"#f0f921\"]], \"type\": \"histogram2d\"}], \"histogram2dcontour\": [{\"colorbar\": {\"outlinewidth\": 0, \"ticks\": \"\"}, \"colorscale\": [[0.0, \"#0d0887\"], [0.1111111111111111, \"#46039f\"], [0.2222222222222222, \"#7201a8\"], [0.3333333333333333, \"#9c179e\"], [0.4444444444444444, \"#bd3786\"], [0.5555555555555556, \"#d8576b\"], [0.6666666666666666, \"#ed7953\"], [0.7777777777777778, \"#fb9f3a\"], [0.8888888888888888, \"#fdca26\"], [1.0, \"#f0f921\"]], \"type\": \"histogram2dcontour\"}], \"mesh3d\": [{\"colorbar\": {\"outlinewidth\": 0, \"ticks\": \"\"}, \"type\": \"mesh3d\"}], \"parcoords\": [{\"line\": {\"colorbar\": {\"outlinewidth\": 0, \"ticks\": \"\"}}, \"type\": \"parcoords\"}], \"pie\": [{\"automargin\": true, \"type\": \"pie\"}], \"scatter\": [{\"marker\": {\"colorbar\": {\"outlinewidth\": 0, \"ticks\": \"\"}}, \"type\": \"scatter\"}], \"scatter3d\": [{\"line\": {\"colorbar\": {\"outlinewidth\": 0, \"ticks\": \"\"}}, \"marker\": {\"colorbar\": {\"outlinewidth\": 0, \"ticks\": \"\"}}, \"type\": \"scatter3d\"}], \"scattercarpet\": [{\"marker\": {\"colorbar\": {\"outlinewidth\": 0, \"ticks\": \"\"}}, \"type\": \"scattercarpet\"}], \"scattergeo\": [{\"marker\": {\"colorbar\": {\"outlinewidth\": 0, \"ticks\": \"\"}}, \"type\": \"scattergeo\"}], \"scattergl\": [{\"marker\": {\"colorbar\": {\"outlinewidth\": 0, \"ticks\": \"\"}}, \"type\": \"scattergl\"}], \"scattermapbox\": [{\"marker\": {\"colorbar\": {\"outlinewidth\": 0, \"ticks\": \"\"}}, \"type\": \"scattermapbox\"}], \"scatterpolar\": [{\"marker\": {\"colorbar\": {\"outlinewidth\": 0, \"ticks\": \"\"}}, \"type\": \"scatterpolar\"}], \"scatterpolargl\": [{\"marker\": {\"colorbar\": {\"outlinewidth\": 0, \"ticks\": \"\"}}, \"type\": \"scatterpolargl\"}], \"scatterternary\": [{\"marker\": {\"colorbar\": {\"outlinewidth\": 0, \"ticks\": \"\"}}, \"type\": \"scatterternary\"}], \"surface\": [{\"colorbar\": {\"outlinewidth\": 0, \"ticks\": \"\"}, \"colorscale\": [[0.0, \"#0d0887\"], [0.1111111111111111, \"#46039f\"], [0.2222222222222222, \"#7201a8\"], [0.3333333333333333, \"#9c179e\"], [0.4444444444444444, \"#bd3786\"], [0.5555555555555556, \"#d8576b\"], [0.6666666666666666, \"#ed7953\"], [0.7777777777777778, \"#fb9f3a\"], [0.8888888888888888, \"#fdca26\"], [1.0, \"#f0f921\"]], \"type\": \"surface\"}], \"table\": [{\"cells\": {\"fill\": {\"color\": \"#EBF0F8\"}, \"line\": {\"color\": \"white\"}}, \"header\": {\"fill\": {\"color\": \"#C8D4E3\"}, \"line\": {\"color\": \"white\"}}, \"type\": \"table\"}]}, \"layout\": {\"annotationdefaults\": {\"arrowcolor\": \"#2a3f5f\", \"arrowhead\": 0, \"arrowwidth\": 1}, \"coloraxis\": {\"colorbar\": {\"outlinewidth\": 0, \"ticks\": \"\"}}, \"colorscale\": {\"diverging\": [[0, \"#8e0152\"], [0.1, \"#c51b7d\"], [0.2, \"#de77ae\"], [0.3, \"#f1b6da\"], [0.4, \"#fde0ef\"], [0.5, \"#f7f7f7\"], [0.6, \"#e6f5d0\"], [0.7, \"#b8e186\"], [0.8, \"#7fbc41\"], [0.9, \"#4d9221\"], [1, \"#276419\"]], \"sequential\": [[0.0, \"#0d0887\"], [0.1111111111111111, \"#46039f\"], [0.2222222222222222, \"#7201a8\"], [0.3333333333333333, \"#9c179e\"], [0.4444444444444444, \"#bd3786\"], [0.5555555555555556, \"#d8576b\"], [0.6666666666666666, \"#ed7953\"], [0.7777777777777778, \"#fb9f3a\"], [0.8888888888888888, \"#fdca26\"], [1.0, \"#f0f921\"]], \"sequentialminus\": [[0.0, \"#0d0887\"], [0.1111111111111111, \"#46039f\"], [0.2222222222222222, \"#7201a8\"], [0.3333333333333333, \"#9c179e\"], [0.4444444444444444, \"#bd3786\"], [0.5555555555555556, \"#d8576b\"], [0.6666666666666666, \"#ed7953\"], [0.7777777777777778, \"#fb9f3a\"], [0.8888888888888888, \"#fdca26\"], [1.0, \"#f0f921\"]]}, \"colorway\": [\"#636efa\", \"#EF553B\", \"#00cc96\", \"#ab63fa\", \"#FFA15A\", \"#19d3f3\", \"#FF6692\", \"#B6E880\", \"#FF97FF\", \"#FECB52\"], \"font\": {\"color\": \"#2a3f5f\"}, \"geo\": {\"bgcolor\": \"white\", \"lakecolor\": \"white\", \"landcolor\": \"#E5ECF6\", \"showlakes\": true, \"showland\": true, \"subunitcolor\": \"white\"}, \"hoverlabel\": {\"align\": \"left\"}, \"hovermode\": \"closest\", \"mapbox\": {\"style\": \"light\"}, \"paper_bgcolor\": \"white\", \"plot_bgcolor\": \"#E5ECF6\", \"polar\": {\"angularaxis\": {\"gridcolor\": \"white\", \"linecolor\": \"white\", \"ticks\": \"\"}, \"bgcolor\": \"#E5ECF6\", \"radialaxis\": {\"gridcolor\": \"white\", \"linecolor\": \"white\", \"ticks\": \"\"}}, \"scene\": {\"xaxis\": {\"backgroundcolor\": \"#E5ECF6\", \"gridcolor\": \"white\", \"gridwidth\": 2, \"linecolor\": \"white\", \"showbackground\": true, \"ticks\": \"\", \"zerolinecolor\": \"white\"}, \"yaxis\": {\"backgroundcolor\": \"#E5ECF6\", \"gridcolor\": \"white\", \"gridwidth\": 2, \"linecolor\": \"white\", \"showbackground\": true, \"ticks\": \"\", \"zerolinecolor\": \"white\"}, \"zaxis\": {\"backgroundcolor\": \"#E5ECF6\", \"gridcolor\": \"white\", \"gridwidth\": 2, \"linecolor\": \"white\", \"showbackground\": true, \"ticks\": \"\", \"zerolinecolor\": \"white\"}}, \"shapedefaults\": {\"line\": {\"color\": \"#2a3f5f\"}}, \"ternary\": {\"aaxis\": {\"gridcolor\": \"white\", \"linecolor\": \"white\", \"ticks\": \"\"}, \"baxis\": {\"gridcolor\": \"white\", \"linecolor\": \"white\", \"ticks\": \"\"}, \"bgcolor\": \"#E5ECF6\", \"caxis\": {\"gridcolor\": \"white\", \"linecolor\": \"white\", \"ticks\": \"\"}}, \"title\": {\"x\": 0.05}, \"xaxis\": {\"automargin\": true, \"gridcolor\": \"white\", \"linecolor\": \"white\", \"ticks\": \"\", \"title\": {\"standoff\": 15}, \"zerolinecolor\": \"white\", \"zerolinewidth\": 2}, \"yaxis\": {\"automargin\": true, \"gridcolor\": \"white\", \"linecolor\": \"white\", \"ticks\": \"\", \"title\": {\"standoff\": 15}, \"zerolinecolor\": \"white\", \"zerolinewidth\": 2}}}, \"title\": {\"font\": {\"color\": \"#4D5663\"}}, \"xaxis\": {\"gridcolor\": \"#E1E5ED\", \"showgrid\": true, \"tickfont\": {\"color\": \"#4D5663\"}, \"title\": {\"font\": {\"color\": \"#4D5663\"}, \"text\": \"\"}, \"zerolinecolor\": \"#E1E5ED\"}, \"yaxis\": {\"gridcolor\": \"#E1E5ED\", \"showgrid\": true, \"tickfont\": {\"color\": \"#4D5663\"}, \"title\": {\"font\": {\"color\": \"#4D5663\"}, \"text\": \"\"}, \"zerolinecolor\": \"#E1E5ED\"}},\n",
       "                        {\"showLink\": true, \"linkText\": \"Export to plot.ly\", \"plotlyServerURL\": \"https://plot.ly\", \"responsive\": true}\n",
       "                    ).then(function(){\n",
       "                            \n",
       "var gd = document.getElementById('eef582e6-ca8a-49a9-baaa-ead43287c3ad');\n",
       "var x = new MutationObserver(function (mutations, observer) {{\n",
       "        var display = window.getComputedStyle(gd).display;\n",
       "        if (!display || display === 'none') {{\n",
       "            console.log([gd, 'removed!']);\n",
       "            Plotly.purge(gd);\n",
       "            observer.disconnect();\n",
       "        }}\n",
       "}});\n",
       "\n",
       "// Listen for the removal of the full notebook cells\n",
       "var notebookContainer = gd.closest('#notebook-container');\n",
       "if (notebookContainer) {{\n",
       "    x.observe(notebookContainer, {childList: true});\n",
       "}}\n",
       "\n",
       "// Listen for the clearing of the current output cell\n",
       "var outputEl = gd.closest('.output');\n",
       "if (outputEl) {{\n",
       "    x.observe(outputEl, {childList: true});\n",
       "}}\n",
       "\n",
       "                        })\n",
       "                };\n",
       "                });\n",
       "            </script>\n",
       "        </div>"
      ]
     },
     "metadata": {},
     "output_type": "display_data"
    }
   ],
   "source": [
    "df2.iplot(kind='bar',x='Category',y='Values')"
   ]
  },
  {
   "cell_type": "code",
   "execution_count": 12,
   "metadata": {},
   "outputs": [
    {
     "data": {
      "application/vnd.plotly.v1+json": {
       "config": {
        "linkText": "Export to plot.ly",
        "plotlyServerURL": "https://plot.ly",
        "showLink": true
       },
       "data": [
        {
         "marker": {
          "color": "rgba(255, 153, 51, 0.6)",
          "line": {
           "color": "rgba(255, 153, 51, 1.0)",
           "width": 1
          }
         },
         "name": "None",
         "orientation": "v",
         "text": "",
         "type": "bar",
         "x": [
          "A",
          "B",
          "C",
          "D"
         ],
         "y": [
          100,
          100,
          100,
          100
         ]
        }
       ],
       "layout": {
        "legend": {
         "bgcolor": "#F5F6F9",
         "font": {
          "color": "#4D5663"
         }
        },
        "paper_bgcolor": "#F5F6F9",
        "plot_bgcolor": "#F5F6F9",
        "template": {
         "data": {
          "bar": [
           {
            "error_x": {
             "color": "#2a3f5f"
            },
            "error_y": {
             "color": "#2a3f5f"
            },
            "marker": {
             "line": {
              "color": "#E5ECF6",
              "width": 0.5
             }
            },
            "type": "bar"
           }
          ],
          "barpolar": [
           {
            "marker": {
             "line": {
              "color": "#E5ECF6",
              "width": 0.5
             }
            },
            "type": "barpolar"
           }
          ],
          "carpet": [
           {
            "aaxis": {
             "endlinecolor": "#2a3f5f",
             "gridcolor": "white",
             "linecolor": "white",
             "minorgridcolor": "white",
             "startlinecolor": "#2a3f5f"
            },
            "baxis": {
             "endlinecolor": "#2a3f5f",
             "gridcolor": "white",
             "linecolor": "white",
             "minorgridcolor": "white",
             "startlinecolor": "#2a3f5f"
            },
            "type": "carpet"
           }
          ],
          "choropleth": [
           {
            "colorbar": {
             "outlinewidth": 0,
             "ticks": ""
            },
            "type": "choropleth"
           }
          ],
          "contour": [
           {
            "colorbar": {
             "outlinewidth": 0,
             "ticks": ""
            },
            "colorscale": [
             [
              0,
              "#0d0887"
             ],
             [
              0.1111111111111111,
              "#46039f"
             ],
             [
              0.2222222222222222,
              "#7201a8"
             ],
             [
              0.3333333333333333,
              "#9c179e"
             ],
             [
              0.4444444444444444,
              "#bd3786"
             ],
             [
              0.5555555555555556,
              "#d8576b"
             ],
             [
              0.6666666666666666,
              "#ed7953"
             ],
             [
              0.7777777777777778,
              "#fb9f3a"
             ],
             [
              0.8888888888888888,
              "#fdca26"
             ],
             [
              1,
              "#f0f921"
             ]
            ],
            "type": "contour"
           }
          ],
          "contourcarpet": [
           {
            "colorbar": {
             "outlinewidth": 0,
             "ticks": ""
            },
            "type": "contourcarpet"
           }
          ],
          "heatmap": [
           {
            "colorbar": {
             "outlinewidth": 0,
             "ticks": ""
            },
            "colorscale": [
             [
              0,
              "#0d0887"
             ],
             [
              0.1111111111111111,
              "#46039f"
             ],
             [
              0.2222222222222222,
              "#7201a8"
             ],
             [
              0.3333333333333333,
              "#9c179e"
             ],
             [
              0.4444444444444444,
              "#bd3786"
             ],
             [
              0.5555555555555556,
              "#d8576b"
             ],
             [
              0.6666666666666666,
              "#ed7953"
             ],
             [
              0.7777777777777778,
              "#fb9f3a"
             ],
             [
              0.8888888888888888,
              "#fdca26"
             ],
             [
              1,
              "#f0f921"
             ]
            ],
            "type": "heatmap"
           }
          ],
          "heatmapgl": [
           {
            "colorbar": {
             "outlinewidth": 0,
             "ticks": ""
            },
            "colorscale": [
             [
              0,
              "#0d0887"
             ],
             [
              0.1111111111111111,
              "#46039f"
             ],
             [
              0.2222222222222222,
              "#7201a8"
             ],
             [
              0.3333333333333333,
              "#9c179e"
             ],
             [
              0.4444444444444444,
              "#bd3786"
             ],
             [
              0.5555555555555556,
              "#d8576b"
             ],
             [
              0.6666666666666666,
              "#ed7953"
             ],
             [
              0.7777777777777778,
              "#fb9f3a"
             ],
             [
              0.8888888888888888,
              "#fdca26"
             ],
             [
              1,
              "#f0f921"
             ]
            ],
            "type": "heatmapgl"
           }
          ],
          "histogram": [
           {
            "marker": {
             "colorbar": {
              "outlinewidth": 0,
              "ticks": ""
             }
            },
            "type": "histogram"
           }
          ],
          "histogram2d": [
           {
            "colorbar": {
             "outlinewidth": 0,
             "ticks": ""
            },
            "colorscale": [
             [
              0,
              "#0d0887"
             ],
             [
              0.1111111111111111,
              "#46039f"
             ],
             [
              0.2222222222222222,
              "#7201a8"
             ],
             [
              0.3333333333333333,
              "#9c179e"
             ],
             [
              0.4444444444444444,
              "#bd3786"
             ],
             [
              0.5555555555555556,
              "#d8576b"
             ],
             [
              0.6666666666666666,
              "#ed7953"
             ],
             [
              0.7777777777777778,
              "#fb9f3a"
             ],
             [
              0.8888888888888888,
              "#fdca26"
             ],
             [
              1,
              "#f0f921"
             ]
            ],
            "type": "histogram2d"
           }
          ],
          "histogram2dcontour": [
           {
            "colorbar": {
             "outlinewidth": 0,
             "ticks": ""
            },
            "colorscale": [
             [
              0,
              "#0d0887"
             ],
             [
              0.1111111111111111,
              "#46039f"
             ],
             [
              0.2222222222222222,
              "#7201a8"
             ],
             [
              0.3333333333333333,
              "#9c179e"
             ],
             [
              0.4444444444444444,
              "#bd3786"
             ],
             [
              0.5555555555555556,
              "#d8576b"
             ],
             [
              0.6666666666666666,
              "#ed7953"
             ],
             [
              0.7777777777777778,
              "#fb9f3a"
             ],
             [
              0.8888888888888888,
              "#fdca26"
             ],
             [
              1,
              "#f0f921"
             ]
            ],
            "type": "histogram2dcontour"
           }
          ],
          "mesh3d": [
           {
            "colorbar": {
             "outlinewidth": 0,
             "ticks": ""
            },
            "type": "mesh3d"
           }
          ],
          "parcoords": [
           {
            "line": {
             "colorbar": {
              "outlinewidth": 0,
              "ticks": ""
             }
            },
            "type": "parcoords"
           }
          ],
          "pie": [
           {
            "automargin": true,
            "type": "pie"
           }
          ],
          "scatter": [
           {
            "marker": {
             "colorbar": {
              "outlinewidth": 0,
              "ticks": ""
             }
            },
            "type": "scatter"
           }
          ],
          "scatter3d": [
           {
            "line": {
             "colorbar": {
              "outlinewidth": 0,
              "ticks": ""
             }
            },
            "marker": {
             "colorbar": {
              "outlinewidth": 0,
              "ticks": ""
             }
            },
            "type": "scatter3d"
           }
          ],
          "scattercarpet": [
           {
            "marker": {
             "colorbar": {
              "outlinewidth": 0,
              "ticks": ""
             }
            },
            "type": "scattercarpet"
           }
          ],
          "scattergeo": [
           {
            "marker": {
             "colorbar": {
              "outlinewidth": 0,
              "ticks": ""
             }
            },
            "type": "scattergeo"
           }
          ],
          "scattergl": [
           {
            "marker": {
             "colorbar": {
              "outlinewidth": 0,
              "ticks": ""
             }
            },
            "type": "scattergl"
           }
          ],
          "scattermapbox": [
           {
            "marker": {
             "colorbar": {
              "outlinewidth": 0,
              "ticks": ""
             }
            },
            "type": "scattermapbox"
           }
          ],
          "scatterpolar": [
           {
            "marker": {
             "colorbar": {
              "outlinewidth": 0,
              "ticks": ""
             }
            },
            "type": "scatterpolar"
           }
          ],
          "scatterpolargl": [
           {
            "marker": {
             "colorbar": {
              "outlinewidth": 0,
              "ticks": ""
             }
            },
            "type": "scatterpolargl"
           }
          ],
          "scatterternary": [
           {
            "marker": {
             "colorbar": {
              "outlinewidth": 0,
              "ticks": ""
             }
            },
            "type": "scatterternary"
           }
          ],
          "surface": [
           {
            "colorbar": {
             "outlinewidth": 0,
             "ticks": ""
            },
            "colorscale": [
             [
              0,
              "#0d0887"
             ],
             [
              0.1111111111111111,
              "#46039f"
             ],
             [
              0.2222222222222222,
              "#7201a8"
             ],
             [
              0.3333333333333333,
              "#9c179e"
             ],
             [
              0.4444444444444444,
              "#bd3786"
             ],
             [
              0.5555555555555556,
              "#d8576b"
             ],
             [
              0.6666666666666666,
              "#ed7953"
             ],
             [
              0.7777777777777778,
              "#fb9f3a"
             ],
             [
              0.8888888888888888,
              "#fdca26"
             ],
             [
              1,
              "#f0f921"
             ]
            ],
            "type": "surface"
           }
          ],
          "table": [
           {
            "cells": {
             "fill": {
              "color": "#EBF0F8"
             },
             "line": {
              "color": "white"
             }
            },
            "header": {
             "fill": {
              "color": "#C8D4E3"
             },
             "line": {
              "color": "white"
             }
            },
            "type": "table"
           }
          ]
         },
         "layout": {
          "annotationdefaults": {
           "arrowcolor": "#2a3f5f",
           "arrowhead": 0,
           "arrowwidth": 1
          },
          "coloraxis": {
           "colorbar": {
            "outlinewidth": 0,
            "ticks": ""
           }
          },
          "colorscale": {
           "diverging": [
            [
             0,
             "#8e0152"
            ],
            [
             0.1,
             "#c51b7d"
            ],
            [
             0.2,
             "#de77ae"
            ],
            [
             0.3,
             "#f1b6da"
            ],
            [
             0.4,
             "#fde0ef"
            ],
            [
             0.5,
             "#f7f7f7"
            ],
            [
             0.6,
             "#e6f5d0"
            ],
            [
             0.7,
             "#b8e186"
            ],
            [
             0.8,
             "#7fbc41"
            ],
            [
             0.9,
             "#4d9221"
            ],
            [
             1,
             "#276419"
            ]
           ],
           "sequential": [
            [
             0,
             "#0d0887"
            ],
            [
             0.1111111111111111,
             "#46039f"
            ],
            [
             0.2222222222222222,
             "#7201a8"
            ],
            [
             0.3333333333333333,
             "#9c179e"
            ],
            [
             0.4444444444444444,
             "#bd3786"
            ],
            [
             0.5555555555555556,
             "#d8576b"
            ],
            [
             0.6666666666666666,
             "#ed7953"
            ],
            [
             0.7777777777777778,
             "#fb9f3a"
            ],
            [
             0.8888888888888888,
             "#fdca26"
            ],
            [
             1,
             "#f0f921"
            ]
           ],
           "sequentialminus": [
            [
             0,
             "#0d0887"
            ],
            [
             0.1111111111111111,
             "#46039f"
            ],
            [
             0.2222222222222222,
             "#7201a8"
            ],
            [
             0.3333333333333333,
             "#9c179e"
            ],
            [
             0.4444444444444444,
             "#bd3786"
            ],
            [
             0.5555555555555556,
             "#d8576b"
            ],
            [
             0.6666666666666666,
             "#ed7953"
            ],
            [
             0.7777777777777778,
             "#fb9f3a"
            ],
            [
             0.8888888888888888,
             "#fdca26"
            ],
            [
             1,
             "#f0f921"
            ]
           ]
          },
          "colorway": [
           "#636efa",
           "#EF553B",
           "#00cc96",
           "#ab63fa",
           "#FFA15A",
           "#19d3f3",
           "#FF6692",
           "#B6E880",
           "#FF97FF",
           "#FECB52"
          ],
          "font": {
           "color": "#2a3f5f"
          },
          "geo": {
           "bgcolor": "white",
           "lakecolor": "white",
           "landcolor": "#E5ECF6",
           "showlakes": true,
           "showland": true,
           "subunitcolor": "white"
          },
          "hoverlabel": {
           "align": "left"
          },
          "hovermode": "closest",
          "mapbox": {
           "style": "light"
          },
          "paper_bgcolor": "white",
          "plot_bgcolor": "#E5ECF6",
          "polar": {
           "angularaxis": {
            "gridcolor": "white",
            "linecolor": "white",
            "ticks": ""
           },
           "bgcolor": "#E5ECF6",
           "radialaxis": {
            "gridcolor": "white",
            "linecolor": "white",
            "ticks": ""
           }
          },
          "scene": {
           "xaxis": {
            "backgroundcolor": "#E5ECF6",
            "gridcolor": "white",
            "gridwidth": 2,
            "linecolor": "white",
            "showbackground": true,
            "ticks": "",
            "zerolinecolor": "white"
           },
           "yaxis": {
            "backgroundcolor": "#E5ECF6",
            "gridcolor": "white",
            "gridwidth": 2,
            "linecolor": "white",
            "showbackground": true,
            "ticks": "",
            "zerolinecolor": "white"
           },
           "zaxis": {
            "backgroundcolor": "#E5ECF6",
            "gridcolor": "white",
            "gridwidth": 2,
            "linecolor": "white",
            "showbackground": true,
            "ticks": "",
            "zerolinecolor": "white"
           }
          },
          "shapedefaults": {
           "line": {
            "color": "#2a3f5f"
           }
          },
          "ternary": {
           "aaxis": {
            "gridcolor": "white",
            "linecolor": "white",
            "ticks": ""
           },
           "baxis": {
            "gridcolor": "white",
            "linecolor": "white",
            "ticks": ""
           },
           "bgcolor": "#E5ECF6",
           "caxis": {
            "gridcolor": "white",
            "linecolor": "white",
            "ticks": ""
           }
          },
          "title": {
           "x": 0.05
          },
          "xaxis": {
           "automargin": true,
           "gridcolor": "white",
           "linecolor": "white",
           "ticks": "",
           "title": {
            "standoff": 15
           },
           "zerolinecolor": "white",
           "zerolinewidth": 2
          },
          "yaxis": {
           "automargin": true,
           "gridcolor": "white",
           "linecolor": "white",
           "ticks": "",
           "title": {
            "standoff": 15
           },
           "zerolinecolor": "white",
           "zerolinewidth": 2
          }
         }
        },
        "title": {
         "font": {
          "color": "#4D5663"
         }
        },
        "xaxis": {
         "gridcolor": "#E1E5ED",
         "showgrid": true,
         "tickfont": {
          "color": "#4D5663"
         },
         "title": {
          "font": {
           "color": "#4D5663"
          },
          "text": ""
         },
         "zerolinecolor": "#E1E5ED"
        },
        "yaxis": {
         "gridcolor": "#E1E5ED",
         "showgrid": true,
         "tickfont": {
          "color": "#4D5663"
         },
         "title": {
          "font": {
           "color": "#4D5663"
          },
          "text": ""
         },
         "zerolinecolor": "#E1E5ED"
        }
       }
      },
      "text/html": [
       "<div>\n",
       "        \n",
       "        \n",
       "            <div id=\"f28118e5-3b20-4e47-a1e0-62cfa0d6c7ab\" class=\"plotly-graph-div\" style=\"height:525px; width:100%;\"></div>\n",
       "            <script type=\"text/javascript\">\n",
       "                require([\"plotly\"], function(Plotly) {\n",
       "                    window.PLOTLYENV=window.PLOTLYENV || {};\n",
       "                    window.PLOTLYENV.BASE_URL='https://plot.ly';\n",
       "                    \n",
       "                if (document.getElementById(\"f28118e5-3b20-4e47-a1e0-62cfa0d6c7ab\")) {\n",
       "                    Plotly.newPlot(\n",
       "                        'f28118e5-3b20-4e47-a1e0-62cfa0d6c7ab',\n",
       "                        [{\"marker\": {\"color\": \"rgba(255, 153, 51, 0.6)\", \"line\": {\"color\": \"rgba(255, 153, 51, 1.0)\", \"width\": 1}}, \"name\": \"None\", \"orientation\": \"v\", \"text\": \"\", \"type\": \"bar\", \"x\": [\"A\", \"B\", \"C\", \"D\"], \"y\": [100, 100, 100, 100]}],\n",
       "                        {\"legend\": {\"bgcolor\": \"#F5F6F9\", \"font\": {\"color\": \"#4D5663\"}}, \"paper_bgcolor\": \"#F5F6F9\", \"plot_bgcolor\": \"#F5F6F9\", \"template\": {\"data\": {\"bar\": [{\"error_x\": {\"color\": \"#2a3f5f\"}, \"error_y\": {\"color\": \"#2a3f5f\"}, \"marker\": {\"line\": {\"color\": \"#E5ECF6\", \"width\": 0.5}}, \"type\": \"bar\"}], \"barpolar\": [{\"marker\": {\"line\": {\"color\": \"#E5ECF6\", \"width\": 0.5}}, \"type\": \"barpolar\"}], \"carpet\": [{\"aaxis\": {\"endlinecolor\": \"#2a3f5f\", \"gridcolor\": \"white\", \"linecolor\": \"white\", \"minorgridcolor\": \"white\", \"startlinecolor\": \"#2a3f5f\"}, \"baxis\": {\"endlinecolor\": \"#2a3f5f\", \"gridcolor\": \"white\", \"linecolor\": \"white\", \"minorgridcolor\": \"white\", \"startlinecolor\": \"#2a3f5f\"}, \"type\": \"carpet\"}], \"choropleth\": [{\"colorbar\": {\"outlinewidth\": 0, \"ticks\": \"\"}, \"type\": \"choropleth\"}], \"contour\": [{\"colorbar\": {\"outlinewidth\": 0, \"ticks\": \"\"}, \"colorscale\": [[0.0, \"#0d0887\"], [0.1111111111111111, \"#46039f\"], [0.2222222222222222, \"#7201a8\"], [0.3333333333333333, \"#9c179e\"], [0.4444444444444444, \"#bd3786\"], [0.5555555555555556, \"#d8576b\"], [0.6666666666666666, \"#ed7953\"], [0.7777777777777778, \"#fb9f3a\"], [0.8888888888888888, \"#fdca26\"], [1.0, \"#f0f921\"]], \"type\": \"contour\"}], \"contourcarpet\": [{\"colorbar\": {\"outlinewidth\": 0, \"ticks\": \"\"}, \"type\": \"contourcarpet\"}], \"heatmap\": [{\"colorbar\": {\"outlinewidth\": 0, \"ticks\": \"\"}, \"colorscale\": [[0.0, \"#0d0887\"], [0.1111111111111111, \"#46039f\"], [0.2222222222222222, \"#7201a8\"], [0.3333333333333333, \"#9c179e\"], [0.4444444444444444, \"#bd3786\"], [0.5555555555555556, \"#d8576b\"], [0.6666666666666666, \"#ed7953\"], [0.7777777777777778, \"#fb9f3a\"], [0.8888888888888888, \"#fdca26\"], [1.0, \"#f0f921\"]], \"type\": \"heatmap\"}], \"heatmapgl\": [{\"colorbar\": {\"outlinewidth\": 0, \"ticks\": \"\"}, \"colorscale\": [[0.0, \"#0d0887\"], [0.1111111111111111, \"#46039f\"], [0.2222222222222222, \"#7201a8\"], [0.3333333333333333, \"#9c179e\"], [0.4444444444444444, \"#bd3786\"], [0.5555555555555556, \"#d8576b\"], [0.6666666666666666, \"#ed7953\"], [0.7777777777777778, \"#fb9f3a\"], [0.8888888888888888, \"#fdca26\"], [1.0, \"#f0f921\"]], \"type\": \"heatmapgl\"}], \"histogram\": [{\"marker\": {\"colorbar\": {\"outlinewidth\": 0, \"ticks\": \"\"}}, \"type\": \"histogram\"}], \"histogram2d\": [{\"colorbar\": {\"outlinewidth\": 0, \"ticks\": \"\"}, \"colorscale\": [[0.0, \"#0d0887\"], [0.1111111111111111, \"#46039f\"], [0.2222222222222222, \"#7201a8\"], [0.3333333333333333, \"#9c179e\"], [0.4444444444444444, \"#bd3786\"], [0.5555555555555556, \"#d8576b\"], [0.6666666666666666, \"#ed7953\"], [0.7777777777777778, \"#fb9f3a\"], [0.8888888888888888, \"#fdca26\"], [1.0, \"#f0f921\"]], \"type\": \"histogram2d\"}], \"histogram2dcontour\": [{\"colorbar\": {\"outlinewidth\": 0, \"ticks\": \"\"}, \"colorscale\": [[0.0, \"#0d0887\"], [0.1111111111111111, \"#46039f\"], [0.2222222222222222, \"#7201a8\"], [0.3333333333333333, \"#9c179e\"], [0.4444444444444444, \"#bd3786\"], [0.5555555555555556, \"#d8576b\"], [0.6666666666666666, \"#ed7953\"], [0.7777777777777778, \"#fb9f3a\"], [0.8888888888888888, \"#fdca26\"], [1.0, \"#f0f921\"]], \"type\": \"histogram2dcontour\"}], \"mesh3d\": [{\"colorbar\": {\"outlinewidth\": 0, \"ticks\": \"\"}, \"type\": \"mesh3d\"}], \"parcoords\": [{\"line\": {\"colorbar\": {\"outlinewidth\": 0, \"ticks\": \"\"}}, \"type\": \"parcoords\"}], \"pie\": [{\"automargin\": true, \"type\": \"pie\"}], \"scatter\": [{\"marker\": {\"colorbar\": {\"outlinewidth\": 0, \"ticks\": \"\"}}, \"type\": \"scatter\"}], \"scatter3d\": [{\"line\": {\"colorbar\": {\"outlinewidth\": 0, \"ticks\": \"\"}}, \"marker\": {\"colorbar\": {\"outlinewidth\": 0, \"ticks\": \"\"}}, \"type\": \"scatter3d\"}], \"scattercarpet\": [{\"marker\": {\"colorbar\": {\"outlinewidth\": 0, \"ticks\": \"\"}}, \"type\": \"scattercarpet\"}], \"scattergeo\": [{\"marker\": {\"colorbar\": {\"outlinewidth\": 0, \"ticks\": \"\"}}, \"type\": \"scattergeo\"}], \"scattergl\": [{\"marker\": {\"colorbar\": {\"outlinewidth\": 0, \"ticks\": \"\"}}, \"type\": \"scattergl\"}], \"scattermapbox\": [{\"marker\": {\"colorbar\": {\"outlinewidth\": 0, \"ticks\": \"\"}}, \"type\": \"scattermapbox\"}], \"scatterpolar\": [{\"marker\": {\"colorbar\": {\"outlinewidth\": 0, \"ticks\": \"\"}}, \"type\": \"scatterpolar\"}], \"scatterpolargl\": [{\"marker\": {\"colorbar\": {\"outlinewidth\": 0, \"ticks\": \"\"}}, \"type\": \"scatterpolargl\"}], \"scatterternary\": [{\"marker\": {\"colorbar\": {\"outlinewidth\": 0, \"ticks\": \"\"}}, \"type\": \"scatterternary\"}], \"surface\": [{\"colorbar\": {\"outlinewidth\": 0, \"ticks\": \"\"}, \"colorscale\": [[0.0, \"#0d0887\"], [0.1111111111111111, \"#46039f\"], [0.2222222222222222, \"#7201a8\"], [0.3333333333333333, \"#9c179e\"], [0.4444444444444444, \"#bd3786\"], [0.5555555555555556, \"#d8576b\"], [0.6666666666666666, \"#ed7953\"], [0.7777777777777778, \"#fb9f3a\"], [0.8888888888888888, \"#fdca26\"], [1.0, \"#f0f921\"]], \"type\": \"surface\"}], \"table\": [{\"cells\": {\"fill\": {\"color\": \"#EBF0F8\"}, \"line\": {\"color\": \"white\"}}, \"header\": {\"fill\": {\"color\": \"#C8D4E3\"}, \"line\": {\"color\": \"white\"}}, \"type\": \"table\"}]}, \"layout\": {\"annotationdefaults\": {\"arrowcolor\": \"#2a3f5f\", \"arrowhead\": 0, \"arrowwidth\": 1}, \"coloraxis\": {\"colorbar\": {\"outlinewidth\": 0, \"ticks\": \"\"}}, \"colorscale\": {\"diverging\": [[0, \"#8e0152\"], [0.1, \"#c51b7d\"], [0.2, \"#de77ae\"], [0.3, \"#f1b6da\"], [0.4, \"#fde0ef\"], [0.5, \"#f7f7f7\"], [0.6, \"#e6f5d0\"], [0.7, \"#b8e186\"], [0.8, \"#7fbc41\"], [0.9, \"#4d9221\"], [1, \"#276419\"]], \"sequential\": [[0.0, \"#0d0887\"], [0.1111111111111111, \"#46039f\"], [0.2222222222222222, \"#7201a8\"], [0.3333333333333333, \"#9c179e\"], [0.4444444444444444, \"#bd3786\"], [0.5555555555555556, \"#d8576b\"], [0.6666666666666666, \"#ed7953\"], [0.7777777777777778, \"#fb9f3a\"], [0.8888888888888888, \"#fdca26\"], [1.0, \"#f0f921\"]], \"sequentialminus\": [[0.0, \"#0d0887\"], [0.1111111111111111, \"#46039f\"], [0.2222222222222222, \"#7201a8\"], [0.3333333333333333, \"#9c179e\"], [0.4444444444444444, \"#bd3786\"], [0.5555555555555556, \"#d8576b\"], [0.6666666666666666, \"#ed7953\"], [0.7777777777777778, \"#fb9f3a\"], [0.8888888888888888, \"#fdca26\"], [1.0, \"#f0f921\"]]}, \"colorway\": [\"#636efa\", \"#EF553B\", \"#00cc96\", \"#ab63fa\", \"#FFA15A\", \"#19d3f3\", \"#FF6692\", \"#B6E880\", \"#FF97FF\", \"#FECB52\"], \"font\": {\"color\": \"#2a3f5f\"}, \"geo\": {\"bgcolor\": \"white\", \"lakecolor\": \"white\", \"landcolor\": \"#E5ECF6\", \"showlakes\": true, \"showland\": true, \"subunitcolor\": \"white\"}, \"hoverlabel\": {\"align\": \"left\"}, \"hovermode\": \"closest\", \"mapbox\": {\"style\": \"light\"}, \"paper_bgcolor\": \"white\", \"plot_bgcolor\": \"#E5ECF6\", \"polar\": {\"angularaxis\": {\"gridcolor\": \"white\", \"linecolor\": \"white\", \"ticks\": \"\"}, \"bgcolor\": \"#E5ECF6\", \"radialaxis\": {\"gridcolor\": \"white\", \"linecolor\": \"white\", \"ticks\": \"\"}}, \"scene\": {\"xaxis\": {\"backgroundcolor\": \"#E5ECF6\", \"gridcolor\": \"white\", \"gridwidth\": 2, \"linecolor\": \"white\", \"showbackground\": true, \"ticks\": \"\", \"zerolinecolor\": \"white\"}, \"yaxis\": {\"backgroundcolor\": \"#E5ECF6\", \"gridcolor\": \"white\", \"gridwidth\": 2, \"linecolor\": \"white\", \"showbackground\": true, \"ticks\": \"\", \"zerolinecolor\": \"white\"}, \"zaxis\": {\"backgroundcolor\": \"#E5ECF6\", \"gridcolor\": \"white\", \"gridwidth\": 2, \"linecolor\": \"white\", \"showbackground\": true, \"ticks\": \"\", \"zerolinecolor\": \"white\"}}, \"shapedefaults\": {\"line\": {\"color\": \"#2a3f5f\"}}, \"ternary\": {\"aaxis\": {\"gridcolor\": \"white\", \"linecolor\": \"white\", \"ticks\": \"\"}, \"baxis\": {\"gridcolor\": \"white\", \"linecolor\": \"white\", \"ticks\": \"\"}, \"bgcolor\": \"#E5ECF6\", \"caxis\": {\"gridcolor\": \"white\", \"linecolor\": \"white\", \"ticks\": \"\"}}, \"title\": {\"x\": 0.05}, \"xaxis\": {\"automargin\": true, \"gridcolor\": \"white\", \"linecolor\": \"white\", \"ticks\": \"\", \"title\": {\"standoff\": 15}, \"zerolinecolor\": \"white\", \"zerolinewidth\": 2}, \"yaxis\": {\"automargin\": true, \"gridcolor\": \"white\", \"linecolor\": \"white\", \"ticks\": \"\", \"title\": {\"standoff\": 15}, \"zerolinecolor\": \"white\", \"zerolinewidth\": 2}}}, \"title\": {\"font\": {\"color\": \"#4D5663\"}}, \"xaxis\": {\"gridcolor\": \"#E1E5ED\", \"showgrid\": true, \"tickfont\": {\"color\": \"#4D5663\"}, \"title\": {\"font\": {\"color\": \"#4D5663\"}, \"text\": \"\"}, \"zerolinecolor\": \"#E1E5ED\"}, \"yaxis\": {\"gridcolor\": \"#E1E5ED\", \"showgrid\": true, \"tickfont\": {\"color\": \"#4D5663\"}, \"title\": {\"font\": {\"color\": \"#4D5663\"}, \"text\": \"\"}, \"zerolinecolor\": \"#E1E5ED\"}},\n",
       "                        {\"showLink\": true, \"linkText\": \"Export to plot.ly\", \"plotlyServerURL\": \"https://plot.ly\", \"responsive\": true}\n",
       "                    ).then(function(){\n",
       "                            \n",
       "var gd = document.getElementById('f28118e5-3b20-4e47-a1e0-62cfa0d6c7ab');\n",
       "var x = new MutationObserver(function (mutations, observer) {{\n",
       "        var display = window.getComputedStyle(gd).display;\n",
       "        if (!display || display === 'none') {{\n",
       "            console.log([gd, 'removed!']);\n",
       "            Plotly.purge(gd);\n",
       "            observer.disconnect();\n",
       "        }}\n",
       "}});\n",
       "\n",
       "// Listen for the removal of the full notebook cells\n",
       "var notebookContainer = gd.closest('#notebook-container');\n",
       "if (notebookContainer) {{\n",
       "    x.observe(notebookContainer, {childList: true});\n",
       "}}\n",
       "\n",
       "// Listen for the clearing of the current output cell\n",
       "var outputEl = gd.closest('.output');\n",
       "if (outputEl) {{\n",
       "    x.observe(outputEl, {childList: true});\n",
       "}}\n",
       "\n",
       "                        })\n",
       "                };\n",
       "                });\n",
       "            </script>\n",
       "        </div>"
      ]
     },
     "metadata": {},
     "output_type": "display_data"
    }
   ],
   "source": [
    "df.count().iplot(kind='bar')"
   ]
  },
  {
   "cell_type": "markdown",
   "metadata": {},
   "source": [
    "## Boxplots"
   ]
  },
  {
   "cell_type": "code",
   "execution_count": 13,
   "metadata": {},
   "outputs": [
    {
     "data": {
      "application/vnd.plotly.v1+json": {
       "config": {
        "linkText": "Export to plot.ly",
        "plotlyServerURL": "https://plot.ly",
        "showLink": true
       },
       "data": [
        {
         "boxpoints": false,
         "line": {
          "width": 1.3
         },
         "marker": {
          "color": "rgba(255, 153, 51, 1.0)"
         },
         "name": "A",
         "orientation": "v",
         "type": "box",
         "y": [
          0.04586201721326738,
          -0.6540043750178025,
          -0.15552861422961764,
          0.4246745931194628,
          -0.7428941263058662,
          1.9759454512955896,
          0.37216312274345376,
          0.270346199650836,
          0.7526879532742253,
          0.6835958715969624,
          -0.2546175189374106,
          -1.4262276612733924,
          -0.8727506868121251,
          -1.6379838534075002,
          -0.3785322805868584,
          -0.8599010083088068,
          0.4629342549127315,
          -0.47817504277382034,
          1.7604777274770929,
          -0.6838113680207202,
          -1.4307352427821491,
          -1.8252753776981603,
          0.0833413830786923,
          0.35628092995480676,
          -1.274976737920389,
          -0.11359150113388154,
          -0.9893370579804546,
          -0.8534703806103016,
          -0.990879781989911,
          -0.11339893230127164,
          -0.3639574025477662,
          -1.9198230956237927,
          -0.15604885841910177,
          -1.242009328543386,
          -1.0874855796153915,
          0.14390334649378728,
          -0.3382339542174146,
          -0.3514758760147406,
          -0.7062967985429734,
          -0.12500964817068996,
          -0.9285989000331202,
          1.5833434550109415,
          -2.4928407726420563,
          0.9246153518224425,
          -0.8612041766022565,
          -1.1870843867017409,
          -0.14298953029197703,
          -1.1632402625589469,
          0.4098274611640754,
          -0.2891110705534637,
          -0.377333312529668,
          -0.7700418964086341,
          1.4419245123587963,
          0.03299347750695614,
          0.30446587287069704,
          1.7167246528354863,
          -1.7488558374419065,
          -0.4082248364598318,
          -0.43705062056267563,
          0.27557456940654934,
          -1.7749290440262324,
          -0.26864031013567036,
          -0.6490697916177971,
          0.31078916234165116,
          -1.3008179237598356,
          0.4139975331828292,
          1.3674410813628795,
          1.67921356806546,
          -1.7257549896922175,
          0.10065480714282876,
          -1.61503423879273,
          0.5862729398825437,
          -1.3634403525084011,
          0.2775805459514663,
          -0.9757974847933348,
          -1.098944519453516,
          1.0101077930359967,
          -0.17781895824552374,
          -0.7734803747585632,
          -0.7535167319015652,
          -0.16708705618339023,
          -0.3297590324897727,
          -0.6069608199941531,
          0.151103955896672,
          1.0641636909694312,
          1.1434256632642008,
          -1.4467009135114968,
          0.19060882578590008,
          -0.41156483114802506,
          3.198680605796546,
          -1.6909576942364866,
          -1.1686824788204284,
          -1.0525002047918235,
          -0.2669890197908835,
          -0.9245356187364816,
          0.7589373225722542,
          -0.40615315896270865,
          0.5371900954827098,
          0.5919142019373578,
          0.36842146133318476
         ]
        },
        {
         "boxpoints": false,
         "line": {
          "width": 1.3
         },
         "marker": {
          "color": "rgba(55, 128, 191, 1.0)"
         },
         "name": "B",
         "orientation": "v",
         "type": "box",
         "y": [
          -0.6097684872700382,
          -0.8493487007227505,
          0.9977510237274378,
          -0.1071962371054894,
          -1.699524977003542,
          0.8082757927760422,
          0.8193580554685013,
          -0.2061772615607506,
          -0.26313042840768197,
          0.5600361067764692,
          -0.4501981737498376,
          -0.9544772042218531,
          -1.319940076686102,
          -1.125617561514794,
          -0.3956045049936414,
          -0.8370623937043047,
          1.1686872383712643,
          -0.23243709044945235,
          -0.5340987999737385,
          -2.0614316426642536,
          0.753559286628637,
          -0.8528918211334426,
          -0.22309759866097068,
          -0.7113387792238788,
          -0.5101411104217729,
          -0.6342668440941034,
          -0.6324370086317639,
          0.2714510243492082,
          -0.5213238007382588,
          -1.4086465885726056,
          -0.5420087867655164,
          0.6677503468224606,
          -0.18855694230016076,
          2.0671336870595733,
          -0.47682455918418043,
          -0.024979430414229276,
          1.3061706720343416,
          2.786030341090841,
          0.5486606319358823,
          1.1606684174771362,
          0.1451160819641703,
          2.136969133851484,
          0.770381179614506,
          -0.7556527371529544,
          0.5601210636156078,
          0.3307869065359323,
          -1.3478670652302134,
          0.08644174068175664,
          1.2905756068011163,
          2.275549593676335,
          -0.47563159079150313,
          0.23889454006422195,
          -1.7043014333897235,
          -1.4533176672403718,
          0.5360611298269806,
          0.25318959135101454,
          0.004821837557940499,
          1.4422811243330096,
          0.7317807073826776,
          0.40437412573002657,
          -0.09522520392275328,
          0.6365245480331461,
          0.23493643856197943,
          0.8931242125821466,
          -0.46845291625732416,
          0.3781014047855431,
          -1.2452813787819295,
          0.7720600839543568,
          -0.1467225346322123,
          -0.6315021974816304,
          -0.7269821770978143,
          -0.4242118835802408,
          1.8098886957875182,
          0.6340870632825684,
          -0.7524498968821255,
          2.334655966396287,
          -0.8492378201748007,
          1.1964317058351615,
          0.18153694390689393,
          0.8732838633312291,
          1.07784296658968,
          0.3459866622514968,
          -0.7214103607850231,
          -1.2049057150110316,
          0.5013151212405151,
          -1.3069831656188589,
          0.11814842323440919,
          -0.01760325733177132,
          -1.031507466879412,
          0.8105398816366775,
          0.2630311106697119,
          1.1610935950229937,
          -0.9110603984749275,
          0.38128147794092065,
          -0.32120478827120125,
          -0.909703102805338,
          0.9665818363963105,
          -0.815837744405378,
          -1.5352152603233933,
          0.20011286751182206
         ]
        },
        {
         "boxpoints": false,
         "line": {
          "width": 1.3
         },
         "marker": {
          "color": "rgba(50, 171, 96, 1.0)"
         },
         "name": "C",
         "orientation": "v",
         "type": "box",
         "y": [
          -0.7923640549556918,
          0.7060011829427726,
          0.053074085338747745,
          -0.04373058171070141,
          1.2902719786567443,
          -2.326763076872465,
          -1.3418517772852283,
          -1.244226566661774,
          -1.2725757819383083,
          0.8116159620087401,
          -1.3347429314666497,
          1.9974754039201925,
          3.083591238437029,
          2.3008413741244005,
          -1.1481753738488727,
          -0.036496503084746126,
          0.756114348876666,
          -1.2440613050199285,
          -1.7717376164523135,
          -0.8878555239734864,
          -0.2115320041638411,
          -1.0971836723653703,
          -0.4169210153464947,
          1.3417489426063411,
          -0.5246637111690206,
          -0.3177934099124036,
          -0.2571240393150729,
          0.9288404503289762,
          0.03528544203319129,
          0.4757650359206804,
          -0.645549547019227,
          -0.4481318637719594,
          0.11346146345051843,
          -0.7116854064900161,
          0.02714297486140097,
          0.18863690436534306,
          -0.18890753331065516,
          -1.424125100200306,
          0.7985810409051322,
          -0.15488734220601214,
          -1.4129076561771807,
          -0.9036584800564172,
          1.0534613485746978,
          -0.17586761916965038,
          -0.834890119351905,
          -0.3804319921817218,
          -0.5983395201743344,
          0.7618834321356988,
          -1.0388705038093977,
          1.604583026296511,
          1.609745753076099,
          0.5084992671664441,
          0.917704048571019,
          0.035705704935170814,
          -1.790109534806381,
          -1.4528256522164633,
          0.2573809571704151,
          -2.7204419428439186,
          -2.085340384186382,
          -1.2145036056315703,
          0.5023647348944503,
          -2.213701898590148,
          -0.47829676342769706,
          -2.5730099967530844,
          0.4571358653519451,
          2.472072002879146,
          0.6194573176805499,
          2.2868673585320174,
          -1.9821511421713127,
          0.4317938216034409,
          0.5578887100422061,
          0.27087700344252225,
          -1.0160152917858014,
          0.6406702546846256,
          1.9987664519338355,
          -0.7415962270901594,
          0.47546693016211306,
          -0.27132943279261856,
          0.10947170442269415,
          1.0291226480146305,
          -1.3490987121450895,
          0.38884298479254503,
          1.5566147071556071,
          0.02268900188241972,
          0.7908201022912129,
          0.5642606542958364,
          0.029868823360865666,
          -0.5067955066289295,
          -0.3606413702074724,
          -0.4564280806954663,
          -1.6899277437796105,
          0.6669022920252979,
          0.38646340136473345,
          0.7362584932574483,
          -1.21379691825534,
          0.9554973406757821,
          -0.8200481457281502,
          0.01586832049106004,
          -1.086412152419535,
          -0.353248937756514
         ]
        },
        {
         "boxpoints": false,
         "line": {
          "width": 1.3
         },
         "marker": {
          "color": "rgba(128, 0, 128, 1.0)"
         },
         "name": "D",
         "orientation": "v",
         "type": "box",
         "y": [
          -0.10295370891827925,
          -0.028289096356194837,
          -1.6022371865243943,
          -0.6677582850059303,
          1.1592371615025454,
          -0.5785904830396258,
          -0.26899174641412266,
          1.254733732425717,
          0.1432799061338119,
          0.8351102638532616,
          1.1421703598713666,
          -0.11315422544466675,
          1.7035099057363996,
          0.20155281805517186,
          0.12034356763459654,
          -0.48174767384418427,
          0.6825131636537485,
          1.2362873160690677,
          0.9762762671532775,
          0.41974336424934805,
          -1.4153766876496559,
          0.4195292145664559,
          -0.9318567154789266,
          1.7548517747759471,
          1.329133611893916,
          -0.921620640483918,
          -0.5321456901115662,
          0.2870265710468365,
          -1.3610985526958308,
          0.4898054645904833,
          -2.0068460372937325,
          1.4755629336770717,
          0.7525438908823469,
          -0.22849772377726246,
          -1.562234324450787,
          -0.12261812750140202,
          0.1559618417759451,
          -1.0157058307934412,
          0.41269665446075054,
          1.083012248685434,
          -0.07776225518611735,
          -0.6854181413064568,
          -0.5279926765284809,
          1.744451380140734,
          -0.19199976218189435,
          1.6568128125316335,
          -0.20558495057233275,
          -0.13691849636945613,
          -1.4389203517443772,
          -0.3011163949928156,
          1.5299513750055738,
          -0.6849923951573995,
          0.01886297449919174,
          -2.1279076038717304,
          -0.39051100833306857,
          1.1945641170681096,
          0.9164940428171159,
          -1.5626986542353312,
          -1.248276621642825,
          1.239147022656453,
          0.4418621713345895,
          1.9792488191895308,
          -0.4473614741484713,
          -1.4278316918110363,
          0.3495593316139144,
          -1.9695915574468457,
          1.6856077507425953,
          -0.7361933174543438,
          1.966813228659939,
          -0.13622705026676987,
          0.9614499616870827,
          -1.0877516956148814,
          -0.08332493735616588,
          0.5495898880959647,
          0.15644478280110782,
          0.7624766312617356,
          -0.6640685309410604,
          0.5835478069488527,
          -0.41731487014395946,
          -0.7737318381820748,
          -0.18837187365190924,
          -0.1559897493782766,
          0.469635617711406,
          -0.43390208956935267,
          1.8405965262607913,
          0.7392704238448753,
          -0.7980953711157764,
          0.9870665794476245,
          -0.2921588384237159,
          -1.0753293546589404,
          -0.8458221376723069,
          1.5781496355780706,
          1.8588249813644777,
          -0.5686794581197042,
          0.513763389326613,
          -1.2882016677308914,
          0.7874154617671391,
          -1.0549207502128815,
          1.006552024811664,
          0.6604225423851702
         ]
        }
       ],
       "layout": {
        "legend": {
         "bgcolor": "#F5F6F9",
         "font": {
          "color": "#4D5663"
         }
        },
        "paper_bgcolor": "#F5F6F9",
        "plot_bgcolor": "#F5F6F9",
        "template": {
         "data": {
          "bar": [
           {
            "error_x": {
             "color": "#2a3f5f"
            },
            "error_y": {
             "color": "#2a3f5f"
            },
            "marker": {
             "line": {
              "color": "#E5ECF6",
              "width": 0.5
             }
            },
            "type": "bar"
           }
          ],
          "barpolar": [
           {
            "marker": {
             "line": {
              "color": "#E5ECF6",
              "width": 0.5
             }
            },
            "type": "barpolar"
           }
          ],
          "carpet": [
           {
            "aaxis": {
             "endlinecolor": "#2a3f5f",
             "gridcolor": "white",
             "linecolor": "white",
             "minorgridcolor": "white",
             "startlinecolor": "#2a3f5f"
            },
            "baxis": {
             "endlinecolor": "#2a3f5f",
             "gridcolor": "white",
             "linecolor": "white",
             "minorgridcolor": "white",
             "startlinecolor": "#2a3f5f"
            },
            "type": "carpet"
           }
          ],
          "choropleth": [
           {
            "colorbar": {
             "outlinewidth": 0,
             "ticks": ""
            },
            "type": "choropleth"
           }
          ],
          "contour": [
           {
            "colorbar": {
             "outlinewidth": 0,
             "ticks": ""
            },
            "colorscale": [
             [
              0,
              "#0d0887"
             ],
             [
              0.1111111111111111,
              "#46039f"
             ],
             [
              0.2222222222222222,
              "#7201a8"
             ],
             [
              0.3333333333333333,
              "#9c179e"
             ],
             [
              0.4444444444444444,
              "#bd3786"
             ],
             [
              0.5555555555555556,
              "#d8576b"
             ],
             [
              0.6666666666666666,
              "#ed7953"
             ],
             [
              0.7777777777777778,
              "#fb9f3a"
             ],
             [
              0.8888888888888888,
              "#fdca26"
             ],
             [
              1,
              "#f0f921"
             ]
            ],
            "type": "contour"
           }
          ],
          "contourcarpet": [
           {
            "colorbar": {
             "outlinewidth": 0,
             "ticks": ""
            },
            "type": "contourcarpet"
           }
          ],
          "heatmap": [
           {
            "colorbar": {
             "outlinewidth": 0,
             "ticks": ""
            },
            "colorscale": [
             [
              0,
              "#0d0887"
             ],
             [
              0.1111111111111111,
              "#46039f"
             ],
             [
              0.2222222222222222,
              "#7201a8"
             ],
             [
              0.3333333333333333,
              "#9c179e"
             ],
             [
              0.4444444444444444,
              "#bd3786"
             ],
             [
              0.5555555555555556,
              "#d8576b"
             ],
             [
              0.6666666666666666,
              "#ed7953"
             ],
             [
              0.7777777777777778,
              "#fb9f3a"
             ],
             [
              0.8888888888888888,
              "#fdca26"
             ],
             [
              1,
              "#f0f921"
             ]
            ],
            "type": "heatmap"
           }
          ],
          "heatmapgl": [
           {
            "colorbar": {
             "outlinewidth": 0,
             "ticks": ""
            },
            "colorscale": [
             [
              0,
              "#0d0887"
             ],
             [
              0.1111111111111111,
              "#46039f"
             ],
             [
              0.2222222222222222,
              "#7201a8"
             ],
             [
              0.3333333333333333,
              "#9c179e"
             ],
             [
              0.4444444444444444,
              "#bd3786"
             ],
             [
              0.5555555555555556,
              "#d8576b"
             ],
             [
              0.6666666666666666,
              "#ed7953"
             ],
             [
              0.7777777777777778,
              "#fb9f3a"
             ],
             [
              0.8888888888888888,
              "#fdca26"
             ],
             [
              1,
              "#f0f921"
             ]
            ],
            "type": "heatmapgl"
           }
          ],
          "histogram": [
           {
            "marker": {
             "colorbar": {
              "outlinewidth": 0,
              "ticks": ""
             }
            },
            "type": "histogram"
           }
          ],
          "histogram2d": [
           {
            "colorbar": {
             "outlinewidth": 0,
             "ticks": ""
            },
            "colorscale": [
             [
              0,
              "#0d0887"
             ],
             [
              0.1111111111111111,
              "#46039f"
             ],
             [
              0.2222222222222222,
              "#7201a8"
             ],
             [
              0.3333333333333333,
              "#9c179e"
             ],
             [
              0.4444444444444444,
              "#bd3786"
             ],
             [
              0.5555555555555556,
              "#d8576b"
             ],
             [
              0.6666666666666666,
              "#ed7953"
             ],
             [
              0.7777777777777778,
              "#fb9f3a"
             ],
             [
              0.8888888888888888,
              "#fdca26"
             ],
             [
              1,
              "#f0f921"
             ]
            ],
            "type": "histogram2d"
           }
          ],
          "histogram2dcontour": [
           {
            "colorbar": {
             "outlinewidth": 0,
             "ticks": ""
            },
            "colorscale": [
             [
              0,
              "#0d0887"
             ],
             [
              0.1111111111111111,
              "#46039f"
             ],
             [
              0.2222222222222222,
              "#7201a8"
             ],
             [
              0.3333333333333333,
              "#9c179e"
             ],
             [
              0.4444444444444444,
              "#bd3786"
             ],
             [
              0.5555555555555556,
              "#d8576b"
             ],
             [
              0.6666666666666666,
              "#ed7953"
             ],
             [
              0.7777777777777778,
              "#fb9f3a"
             ],
             [
              0.8888888888888888,
              "#fdca26"
             ],
             [
              1,
              "#f0f921"
             ]
            ],
            "type": "histogram2dcontour"
           }
          ],
          "mesh3d": [
           {
            "colorbar": {
             "outlinewidth": 0,
             "ticks": ""
            },
            "type": "mesh3d"
           }
          ],
          "parcoords": [
           {
            "line": {
             "colorbar": {
              "outlinewidth": 0,
              "ticks": ""
             }
            },
            "type": "parcoords"
           }
          ],
          "pie": [
           {
            "automargin": true,
            "type": "pie"
           }
          ],
          "scatter": [
           {
            "marker": {
             "colorbar": {
              "outlinewidth": 0,
              "ticks": ""
             }
            },
            "type": "scatter"
           }
          ],
          "scatter3d": [
           {
            "line": {
             "colorbar": {
              "outlinewidth": 0,
              "ticks": ""
             }
            },
            "marker": {
             "colorbar": {
              "outlinewidth": 0,
              "ticks": ""
             }
            },
            "type": "scatter3d"
           }
          ],
          "scattercarpet": [
           {
            "marker": {
             "colorbar": {
              "outlinewidth": 0,
              "ticks": ""
             }
            },
            "type": "scattercarpet"
           }
          ],
          "scattergeo": [
           {
            "marker": {
             "colorbar": {
              "outlinewidth": 0,
              "ticks": ""
             }
            },
            "type": "scattergeo"
           }
          ],
          "scattergl": [
           {
            "marker": {
             "colorbar": {
              "outlinewidth": 0,
              "ticks": ""
             }
            },
            "type": "scattergl"
           }
          ],
          "scattermapbox": [
           {
            "marker": {
             "colorbar": {
              "outlinewidth": 0,
              "ticks": ""
             }
            },
            "type": "scattermapbox"
           }
          ],
          "scatterpolar": [
           {
            "marker": {
             "colorbar": {
              "outlinewidth": 0,
              "ticks": ""
             }
            },
            "type": "scatterpolar"
           }
          ],
          "scatterpolargl": [
           {
            "marker": {
             "colorbar": {
              "outlinewidth": 0,
              "ticks": ""
             }
            },
            "type": "scatterpolargl"
           }
          ],
          "scatterternary": [
           {
            "marker": {
             "colorbar": {
              "outlinewidth": 0,
              "ticks": ""
             }
            },
            "type": "scatterternary"
           }
          ],
          "surface": [
           {
            "colorbar": {
             "outlinewidth": 0,
             "ticks": ""
            },
            "colorscale": [
             [
              0,
              "#0d0887"
             ],
             [
              0.1111111111111111,
              "#46039f"
             ],
             [
              0.2222222222222222,
              "#7201a8"
             ],
             [
              0.3333333333333333,
              "#9c179e"
             ],
             [
              0.4444444444444444,
              "#bd3786"
             ],
             [
              0.5555555555555556,
              "#d8576b"
             ],
             [
              0.6666666666666666,
              "#ed7953"
             ],
             [
              0.7777777777777778,
              "#fb9f3a"
             ],
             [
              0.8888888888888888,
              "#fdca26"
             ],
             [
              1,
              "#f0f921"
             ]
            ],
            "type": "surface"
           }
          ],
          "table": [
           {
            "cells": {
             "fill": {
              "color": "#EBF0F8"
             },
             "line": {
              "color": "white"
             }
            },
            "header": {
             "fill": {
              "color": "#C8D4E3"
             },
             "line": {
              "color": "white"
             }
            },
            "type": "table"
           }
          ]
         },
         "layout": {
          "annotationdefaults": {
           "arrowcolor": "#2a3f5f",
           "arrowhead": 0,
           "arrowwidth": 1
          },
          "coloraxis": {
           "colorbar": {
            "outlinewidth": 0,
            "ticks": ""
           }
          },
          "colorscale": {
           "diverging": [
            [
             0,
             "#8e0152"
            ],
            [
             0.1,
             "#c51b7d"
            ],
            [
             0.2,
             "#de77ae"
            ],
            [
             0.3,
             "#f1b6da"
            ],
            [
             0.4,
             "#fde0ef"
            ],
            [
             0.5,
             "#f7f7f7"
            ],
            [
             0.6,
             "#e6f5d0"
            ],
            [
             0.7,
             "#b8e186"
            ],
            [
             0.8,
             "#7fbc41"
            ],
            [
             0.9,
             "#4d9221"
            ],
            [
             1,
             "#276419"
            ]
           ],
           "sequential": [
            [
             0,
             "#0d0887"
            ],
            [
             0.1111111111111111,
             "#46039f"
            ],
            [
             0.2222222222222222,
             "#7201a8"
            ],
            [
             0.3333333333333333,
             "#9c179e"
            ],
            [
             0.4444444444444444,
             "#bd3786"
            ],
            [
             0.5555555555555556,
             "#d8576b"
            ],
            [
             0.6666666666666666,
             "#ed7953"
            ],
            [
             0.7777777777777778,
             "#fb9f3a"
            ],
            [
             0.8888888888888888,
             "#fdca26"
            ],
            [
             1,
             "#f0f921"
            ]
           ],
           "sequentialminus": [
            [
             0,
             "#0d0887"
            ],
            [
             0.1111111111111111,
             "#46039f"
            ],
            [
             0.2222222222222222,
             "#7201a8"
            ],
            [
             0.3333333333333333,
             "#9c179e"
            ],
            [
             0.4444444444444444,
             "#bd3786"
            ],
            [
             0.5555555555555556,
             "#d8576b"
            ],
            [
             0.6666666666666666,
             "#ed7953"
            ],
            [
             0.7777777777777778,
             "#fb9f3a"
            ],
            [
             0.8888888888888888,
             "#fdca26"
            ],
            [
             1,
             "#f0f921"
            ]
           ]
          },
          "colorway": [
           "#636efa",
           "#EF553B",
           "#00cc96",
           "#ab63fa",
           "#FFA15A",
           "#19d3f3",
           "#FF6692",
           "#B6E880",
           "#FF97FF",
           "#FECB52"
          ],
          "font": {
           "color": "#2a3f5f"
          },
          "geo": {
           "bgcolor": "white",
           "lakecolor": "white",
           "landcolor": "#E5ECF6",
           "showlakes": true,
           "showland": true,
           "subunitcolor": "white"
          },
          "hoverlabel": {
           "align": "left"
          },
          "hovermode": "closest",
          "mapbox": {
           "style": "light"
          },
          "paper_bgcolor": "white",
          "plot_bgcolor": "#E5ECF6",
          "polar": {
           "angularaxis": {
            "gridcolor": "white",
            "linecolor": "white",
            "ticks": ""
           },
           "bgcolor": "#E5ECF6",
           "radialaxis": {
            "gridcolor": "white",
            "linecolor": "white",
            "ticks": ""
           }
          },
          "scene": {
           "xaxis": {
            "backgroundcolor": "#E5ECF6",
            "gridcolor": "white",
            "gridwidth": 2,
            "linecolor": "white",
            "showbackground": true,
            "ticks": "",
            "zerolinecolor": "white"
           },
           "yaxis": {
            "backgroundcolor": "#E5ECF6",
            "gridcolor": "white",
            "gridwidth": 2,
            "linecolor": "white",
            "showbackground": true,
            "ticks": "",
            "zerolinecolor": "white"
           },
           "zaxis": {
            "backgroundcolor": "#E5ECF6",
            "gridcolor": "white",
            "gridwidth": 2,
            "linecolor": "white",
            "showbackground": true,
            "ticks": "",
            "zerolinecolor": "white"
           }
          },
          "shapedefaults": {
           "line": {
            "color": "#2a3f5f"
           }
          },
          "ternary": {
           "aaxis": {
            "gridcolor": "white",
            "linecolor": "white",
            "ticks": ""
           },
           "baxis": {
            "gridcolor": "white",
            "linecolor": "white",
            "ticks": ""
           },
           "bgcolor": "#E5ECF6",
           "caxis": {
            "gridcolor": "white",
            "linecolor": "white",
            "ticks": ""
           }
          },
          "title": {
           "x": 0.05
          },
          "xaxis": {
           "automargin": true,
           "gridcolor": "white",
           "linecolor": "white",
           "ticks": "",
           "title": {
            "standoff": 15
           },
           "zerolinecolor": "white",
           "zerolinewidth": 2
          },
          "yaxis": {
           "automargin": true,
           "gridcolor": "white",
           "linecolor": "white",
           "ticks": "",
           "title": {
            "standoff": 15
           },
           "zerolinecolor": "white",
           "zerolinewidth": 2
          }
         }
        },
        "title": {
         "font": {
          "color": "#4D5663"
         }
        },
        "xaxis": {
         "gridcolor": "#E1E5ED",
         "showgrid": true,
         "tickfont": {
          "color": "#4D5663"
         },
         "title": {
          "font": {
           "color": "#4D5663"
          },
          "text": ""
         },
         "zerolinecolor": "#E1E5ED"
        },
        "yaxis": {
         "gridcolor": "#E1E5ED",
         "showgrid": true,
         "tickfont": {
          "color": "#4D5663"
         },
         "title": {
          "font": {
           "color": "#4D5663"
          },
          "text": ""
         },
         "zerolinecolor": "#E1E5ED"
        }
       }
      },
      "text/html": [
       "<div>\n",
       "        \n",
       "        \n",
       "            <div id=\"2d8da371-f594-4133-ba06-58f9d151bcaf\" class=\"plotly-graph-div\" style=\"height:525px; width:100%;\"></div>\n",
       "            <script type=\"text/javascript\">\n",
       "                require([\"plotly\"], function(Plotly) {\n",
       "                    window.PLOTLYENV=window.PLOTLYENV || {};\n",
       "                    window.PLOTLYENV.BASE_URL='https://plot.ly';\n",
       "                    \n",
       "                if (document.getElementById(\"2d8da371-f594-4133-ba06-58f9d151bcaf\")) {\n",
       "                    Plotly.newPlot(\n",
       "                        '2d8da371-f594-4133-ba06-58f9d151bcaf',\n",
       "                        [{\"boxpoints\": false, \"line\": {\"width\": 1.3}, \"marker\": {\"color\": \"rgba(255, 153, 51, 1.0)\"}, \"name\": \"A\", \"orientation\": \"v\", \"type\": \"box\", \"y\": [0.04586201721326738, -0.6540043750178025, -0.15552861422961764, 0.4246745931194628, -0.7428941263058662, 1.9759454512955896, 0.37216312274345376, 0.270346199650836, 0.7526879532742253, 0.6835958715969624, -0.2546175189374106, -1.4262276612733924, -0.8727506868121251, -1.6379838534075002, -0.3785322805868584, -0.8599010083088068, 0.4629342549127315, -0.47817504277382034, 1.7604777274770929, -0.6838113680207202, -1.4307352427821491, -1.8252753776981603, 0.0833413830786923, 0.35628092995480676, -1.274976737920389, -0.11359150113388154, -0.9893370579804546, -0.8534703806103016, -0.990879781989911, -0.11339893230127164, -0.3639574025477662, -1.9198230956237927, -0.15604885841910177, -1.242009328543386, -1.0874855796153915, 0.14390334649378728, -0.3382339542174146, -0.3514758760147406, -0.7062967985429734, -0.12500964817068996, -0.9285989000331202, 1.5833434550109415, -2.4928407726420563, 0.9246153518224425, -0.8612041766022565, -1.1870843867017409, -0.14298953029197703, -1.1632402625589469, 0.4098274611640754, -0.2891110705534637, -0.377333312529668, -0.7700418964086341, 1.4419245123587963, 0.03299347750695614, 0.30446587287069704, 1.7167246528354863, -1.7488558374419065, -0.4082248364598318, -0.43705062056267563, 0.27557456940654934, -1.7749290440262324, -0.26864031013567036, -0.6490697916177971, 0.31078916234165116, -1.3008179237598356, 0.4139975331828292, 1.3674410813628795, 1.67921356806546, -1.7257549896922175, 0.10065480714282876, -1.61503423879273, 0.5862729398825437, -1.3634403525084011, 0.2775805459514663, -0.9757974847933348, -1.098944519453516, 1.0101077930359967, -0.17781895824552374, -0.7734803747585632, -0.7535167319015652, -0.16708705618339023, -0.3297590324897727, -0.6069608199941531, 0.151103955896672, 1.0641636909694312, 1.1434256632642008, -1.4467009135114968, 0.19060882578590008, -0.41156483114802506, 3.198680605796546, -1.6909576942364866, -1.1686824788204284, -1.0525002047918235, -0.2669890197908835, -0.9245356187364816, 0.7589373225722542, -0.40615315896270865, 0.5371900954827098, 0.5919142019373578, 0.36842146133318476]}, {\"boxpoints\": false, \"line\": {\"width\": 1.3}, \"marker\": {\"color\": \"rgba(55, 128, 191, 1.0)\"}, \"name\": \"B\", \"orientation\": \"v\", \"type\": \"box\", \"y\": [-0.6097684872700382, -0.8493487007227505, 0.9977510237274378, -0.1071962371054894, -1.699524977003542, 0.8082757927760422, 0.8193580554685013, -0.2061772615607506, -0.26313042840768197, 0.5600361067764692, -0.4501981737498376, -0.9544772042218531, -1.319940076686102, -1.125617561514794, -0.3956045049936414, -0.8370623937043047, 1.1686872383712643, -0.23243709044945235, -0.5340987999737385, -2.0614316426642536, 0.753559286628637, -0.8528918211334426, -0.22309759866097068, -0.7113387792238788, -0.5101411104217729, -0.6342668440941034, -0.6324370086317639, 0.2714510243492082, -0.5213238007382588, -1.4086465885726056, -0.5420087867655164, 0.6677503468224606, -0.18855694230016076, 2.0671336870595733, -0.47682455918418043, -0.024979430414229276, 1.3061706720343416, 2.786030341090841, 0.5486606319358823, 1.1606684174771362, 0.1451160819641703, 2.136969133851484, 0.770381179614506, -0.7556527371529544, 0.5601210636156078, 0.3307869065359323, -1.3478670652302134, 0.08644174068175664, 1.2905756068011163, 2.275549593676335, -0.47563159079150313, 0.23889454006422195, -1.7043014333897235, -1.4533176672403718, 0.5360611298269806, 0.25318959135101454, 0.004821837557940499, 1.4422811243330096, 0.7317807073826776, 0.40437412573002657, -0.09522520392275328, 0.6365245480331461, 0.23493643856197943, 0.8931242125821466, -0.46845291625732416, 0.3781014047855431, -1.2452813787819295, 0.7720600839543568, -0.1467225346322123, -0.6315021974816304, -0.7269821770978143, -0.4242118835802408, 1.8098886957875182, 0.6340870632825684, -0.7524498968821255, 2.334655966396287, -0.8492378201748007, 1.1964317058351615, 0.18153694390689393, 0.8732838633312291, 1.07784296658968, 0.3459866622514968, -0.7214103607850231, -1.2049057150110316, 0.5013151212405151, -1.3069831656188589, 0.11814842323440919, -0.01760325733177132, -1.031507466879412, 0.8105398816366775, 0.2630311106697119, 1.1610935950229937, -0.9110603984749275, 0.38128147794092065, -0.32120478827120125, -0.909703102805338, 0.9665818363963105, -0.815837744405378, -1.5352152603233933, 0.20011286751182206]}, {\"boxpoints\": false, \"line\": {\"width\": 1.3}, \"marker\": {\"color\": \"rgba(50, 171, 96, 1.0)\"}, \"name\": \"C\", \"orientation\": \"v\", \"type\": \"box\", \"y\": [-0.7923640549556918, 0.7060011829427726, 0.053074085338747745, -0.04373058171070141, 1.2902719786567443, -2.326763076872465, -1.3418517772852283, -1.244226566661774, -1.2725757819383083, 0.8116159620087401, -1.3347429314666497, 1.9974754039201925, 3.083591238437029, 2.3008413741244005, -1.1481753738488727, -0.036496503084746126, 0.756114348876666, -1.2440613050199285, -1.7717376164523135, -0.8878555239734864, -0.2115320041638411, -1.0971836723653703, -0.4169210153464947, 1.3417489426063411, -0.5246637111690206, -0.3177934099124036, -0.2571240393150729, 0.9288404503289762, 0.03528544203319129, 0.4757650359206804, -0.645549547019227, -0.4481318637719594, 0.11346146345051843, -0.7116854064900161, 0.02714297486140097, 0.18863690436534306, -0.18890753331065516, -1.424125100200306, 0.7985810409051322, -0.15488734220601214, -1.4129076561771807, -0.9036584800564172, 1.0534613485746978, -0.17586761916965038, -0.834890119351905, -0.3804319921817218, -0.5983395201743344, 0.7618834321356988, -1.0388705038093977, 1.604583026296511, 1.609745753076099, 0.5084992671664441, 0.917704048571019, 0.035705704935170814, -1.790109534806381, -1.4528256522164633, 0.2573809571704151, -2.7204419428439186, -2.085340384186382, -1.2145036056315703, 0.5023647348944503, -2.213701898590148, -0.47829676342769706, -2.5730099967530844, 0.4571358653519451, 2.472072002879146, 0.6194573176805499, 2.2868673585320174, -1.9821511421713127, 0.4317938216034409, 0.5578887100422061, 0.27087700344252225, -1.0160152917858014, 0.6406702546846256, 1.9987664519338355, -0.7415962270901594, 0.47546693016211306, -0.27132943279261856, 0.10947170442269415, 1.0291226480146305, -1.3490987121450895, 0.38884298479254503, 1.5566147071556071, 0.02268900188241972, 0.7908201022912129, 0.5642606542958364, 0.029868823360865666, -0.5067955066289295, -0.3606413702074724, -0.4564280806954663, -1.6899277437796105, 0.6669022920252979, 0.38646340136473345, 0.7362584932574483, -1.21379691825534, 0.9554973406757821, -0.8200481457281502, 0.01586832049106004, -1.086412152419535, -0.353248937756514]}, {\"boxpoints\": false, \"line\": {\"width\": 1.3}, \"marker\": {\"color\": \"rgba(128, 0, 128, 1.0)\"}, \"name\": \"D\", \"orientation\": \"v\", \"type\": \"box\", \"y\": [-0.10295370891827925, -0.028289096356194837, -1.6022371865243943, -0.6677582850059303, 1.1592371615025454, -0.5785904830396258, -0.26899174641412266, 1.254733732425717, 0.1432799061338119, 0.8351102638532616, 1.1421703598713666, -0.11315422544466675, 1.7035099057363996, 0.20155281805517186, 0.12034356763459654, -0.48174767384418427, 0.6825131636537485, 1.2362873160690677, 0.9762762671532775, 0.41974336424934805, -1.4153766876496559, 0.4195292145664559, -0.9318567154789266, 1.7548517747759471, 1.329133611893916, -0.921620640483918, -0.5321456901115662, 0.2870265710468365, -1.3610985526958308, 0.4898054645904833, -2.0068460372937325, 1.4755629336770717, 0.7525438908823469, -0.22849772377726246, -1.562234324450787, -0.12261812750140202, 0.1559618417759451, -1.0157058307934412, 0.41269665446075054, 1.083012248685434, -0.07776225518611735, -0.6854181413064568, -0.5279926765284809, 1.744451380140734, -0.19199976218189435, 1.6568128125316335, -0.20558495057233275, -0.13691849636945613, -1.4389203517443772, -0.3011163949928156, 1.5299513750055738, -0.6849923951573995, 0.01886297449919174, -2.1279076038717304, -0.39051100833306857, 1.1945641170681096, 0.9164940428171159, -1.5626986542353312, -1.248276621642825, 1.239147022656453, 0.4418621713345895, 1.9792488191895308, -0.4473614741484713, -1.4278316918110363, 0.3495593316139144, -1.9695915574468457, 1.6856077507425953, -0.7361933174543438, 1.966813228659939, -0.13622705026676987, 0.9614499616870827, -1.0877516956148814, -0.08332493735616588, 0.5495898880959647, 0.15644478280110782, 0.7624766312617356, -0.6640685309410604, 0.5835478069488527, -0.41731487014395946, -0.7737318381820748, -0.18837187365190924, -0.1559897493782766, 0.469635617711406, -0.43390208956935267, 1.8405965262607913, 0.7392704238448753, -0.7980953711157764, 0.9870665794476245, -0.2921588384237159, -1.0753293546589404, -0.8458221376723069, 1.5781496355780706, 1.8588249813644777, -0.5686794581197042, 0.513763389326613, -1.2882016677308914, 0.7874154617671391, -1.0549207502128815, 1.006552024811664, 0.6604225423851702]}],\n",
       "                        {\"legend\": {\"bgcolor\": \"#F5F6F9\", \"font\": {\"color\": \"#4D5663\"}}, \"paper_bgcolor\": \"#F5F6F9\", \"plot_bgcolor\": \"#F5F6F9\", \"template\": {\"data\": {\"bar\": [{\"error_x\": {\"color\": \"#2a3f5f\"}, \"error_y\": {\"color\": \"#2a3f5f\"}, \"marker\": {\"line\": {\"color\": \"#E5ECF6\", \"width\": 0.5}}, \"type\": \"bar\"}], \"barpolar\": [{\"marker\": {\"line\": {\"color\": \"#E5ECF6\", \"width\": 0.5}}, \"type\": \"barpolar\"}], \"carpet\": [{\"aaxis\": {\"endlinecolor\": \"#2a3f5f\", \"gridcolor\": \"white\", \"linecolor\": \"white\", \"minorgridcolor\": \"white\", \"startlinecolor\": \"#2a3f5f\"}, \"baxis\": {\"endlinecolor\": \"#2a3f5f\", \"gridcolor\": \"white\", \"linecolor\": \"white\", \"minorgridcolor\": \"white\", \"startlinecolor\": \"#2a3f5f\"}, \"type\": \"carpet\"}], \"choropleth\": [{\"colorbar\": {\"outlinewidth\": 0, \"ticks\": \"\"}, \"type\": \"choropleth\"}], \"contour\": [{\"colorbar\": {\"outlinewidth\": 0, \"ticks\": \"\"}, \"colorscale\": [[0.0, \"#0d0887\"], [0.1111111111111111, \"#46039f\"], [0.2222222222222222, \"#7201a8\"], [0.3333333333333333, \"#9c179e\"], [0.4444444444444444, \"#bd3786\"], [0.5555555555555556, \"#d8576b\"], [0.6666666666666666, \"#ed7953\"], [0.7777777777777778, \"#fb9f3a\"], [0.8888888888888888, \"#fdca26\"], [1.0, \"#f0f921\"]], \"type\": \"contour\"}], \"contourcarpet\": [{\"colorbar\": {\"outlinewidth\": 0, \"ticks\": \"\"}, \"type\": \"contourcarpet\"}], \"heatmap\": [{\"colorbar\": {\"outlinewidth\": 0, \"ticks\": \"\"}, \"colorscale\": [[0.0, \"#0d0887\"], [0.1111111111111111, \"#46039f\"], [0.2222222222222222, \"#7201a8\"], [0.3333333333333333, \"#9c179e\"], [0.4444444444444444, \"#bd3786\"], [0.5555555555555556, \"#d8576b\"], [0.6666666666666666, \"#ed7953\"], [0.7777777777777778, \"#fb9f3a\"], [0.8888888888888888, \"#fdca26\"], [1.0, \"#f0f921\"]], \"type\": \"heatmap\"}], \"heatmapgl\": [{\"colorbar\": {\"outlinewidth\": 0, \"ticks\": \"\"}, \"colorscale\": [[0.0, \"#0d0887\"], [0.1111111111111111, \"#46039f\"], [0.2222222222222222, \"#7201a8\"], [0.3333333333333333, \"#9c179e\"], [0.4444444444444444, \"#bd3786\"], [0.5555555555555556, \"#d8576b\"], [0.6666666666666666, \"#ed7953\"], [0.7777777777777778, \"#fb9f3a\"], [0.8888888888888888, \"#fdca26\"], [1.0, \"#f0f921\"]], \"type\": \"heatmapgl\"}], \"histogram\": [{\"marker\": {\"colorbar\": {\"outlinewidth\": 0, \"ticks\": \"\"}}, \"type\": \"histogram\"}], \"histogram2d\": [{\"colorbar\": {\"outlinewidth\": 0, \"ticks\": \"\"}, \"colorscale\": [[0.0, \"#0d0887\"], [0.1111111111111111, \"#46039f\"], [0.2222222222222222, \"#7201a8\"], [0.3333333333333333, \"#9c179e\"], [0.4444444444444444, \"#bd3786\"], [0.5555555555555556, \"#d8576b\"], [0.6666666666666666, \"#ed7953\"], [0.7777777777777778, \"#fb9f3a\"], [0.8888888888888888, \"#fdca26\"], [1.0, \"#f0f921\"]], \"type\": \"histogram2d\"}], \"histogram2dcontour\": [{\"colorbar\": {\"outlinewidth\": 0, \"ticks\": \"\"}, \"colorscale\": [[0.0, \"#0d0887\"], [0.1111111111111111, \"#46039f\"], [0.2222222222222222, \"#7201a8\"], [0.3333333333333333, \"#9c179e\"], [0.4444444444444444, \"#bd3786\"], [0.5555555555555556, \"#d8576b\"], [0.6666666666666666, \"#ed7953\"], [0.7777777777777778, \"#fb9f3a\"], [0.8888888888888888, \"#fdca26\"], [1.0, \"#f0f921\"]], \"type\": \"histogram2dcontour\"}], \"mesh3d\": [{\"colorbar\": {\"outlinewidth\": 0, \"ticks\": \"\"}, \"type\": \"mesh3d\"}], \"parcoords\": [{\"line\": {\"colorbar\": {\"outlinewidth\": 0, \"ticks\": \"\"}}, \"type\": \"parcoords\"}], \"pie\": [{\"automargin\": true, \"type\": \"pie\"}], \"scatter\": [{\"marker\": {\"colorbar\": {\"outlinewidth\": 0, \"ticks\": \"\"}}, \"type\": \"scatter\"}], \"scatter3d\": [{\"line\": {\"colorbar\": {\"outlinewidth\": 0, \"ticks\": \"\"}}, \"marker\": {\"colorbar\": {\"outlinewidth\": 0, \"ticks\": \"\"}}, \"type\": \"scatter3d\"}], \"scattercarpet\": [{\"marker\": {\"colorbar\": {\"outlinewidth\": 0, \"ticks\": \"\"}}, \"type\": \"scattercarpet\"}], \"scattergeo\": [{\"marker\": {\"colorbar\": {\"outlinewidth\": 0, \"ticks\": \"\"}}, \"type\": \"scattergeo\"}], \"scattergl\": [{\"marker\": {\"colorbar\": {\"outlinewidth\": 0, \"ticks\": \"\"}}, \"type\": \"scattergl\"}], \"scattermapbox\": [{\"marker\": {\"colorbar\": {\"outlinewidth\": 0, \"ticks\": \"\"}}, \"type\": \"scattermapbox\"}], \"scatterpolar\": [{\"marker\": {\"colorbar\": {\"outlinewidth\": 0, \"ticks\": \"\"}}, \"type\": \"scatterpolar\"}], \"scatterpolargl\": [{\"marker\": {\"colorbar\": {\"outlinewidth\": 0, \"ticks\": \"\"}}, \"type\": \"scatterpolargl\"}], \"scatterternary\": [{\"marker\": {\"colorbar\": {\"outlinewidth\": 0, \"ticks\": \"\"}}, \"type\": \"scatterternary\"}], \"surface\": [{\"colorbar\": {\"outlinewidth\": 0, \"ticks\": \"\"}, \"colorscale\": [[0.0, \"#0d0887\"], [0.1111111111111111, \"#46039f\"], [0.2222222222222222, \"#7201a8\"], [0.3333333333333333, \"#9c179e\"], [0.4444444444444444, \"#bd3786\"], [0.5555555555555556, \"#d8576b\"], [0.6666666666666666, \"#ed7953\"], [0.7777777777777778, \"#fb9f3a\"], [0.8888888888888888, \"#fdca26\"], [1.0, \"#f0f921\"]], \"type\": \"surface\"}], \"table\": [{\"cells\": {\"fill\": {\"color\": \"#EBF0F8\"}, \"line\": {\"color\": \"white\"}}, \"header\": {\"fill\": {\"color\": \"#C8D4E3\"}, \"line\": {\"color\": \"white\"}}, \"type\": \"table\"}]}, \"layout\": {\"annotationdefaults\": {\"arrowcolor\": \"#2a3f5f\", \"arrowhead\": 0, \"arrowwidth\": 1}, \"coloraxis\": {\"colorbar\": {\"outlinewidth\": 0, \"ticks\": \"\"}}, \"colorscale\": {\"diverging\": [[0, \"#8e0152\"], [0.1, \"#c51b7d\"], [0.2, \"#de77ae\"], [0.3, \"#f1b6da\"], [0.4, \"#fde0ef\"], [0.5, \"#f7f7f7\"], [0.6, \"#e6f5d0\"], [0.7, \"#b8e186\"], [0.8, \"#7fbc41\"], [0.9, \"#4d9221\"], [1, \"#276419\"]], \"sequential\": [[0.0, \"#0d0887\"], [0.1111111111111111, \"#46039f\"], [0.2222222222222222, \"#7201a8\"], [0.3333333333333333, \"#9c179e\"], [0.4444444444444444, \"#bd3786\"], [0.5555555555555556, \"#d8576b\"], [0.6666666666666666, \"#ed7953\"], [0.7777777777777778, \"#fb9f3a\"], [0.8888888888888888, \"#fdca26\"], [1.0, \"#f0f921\"]], \"sequentialminus\": [[0.0, \"#0d0887\"], [0.1111111111111111, \"#46039f\"], [0.2222222222222222, \"#7201a8\"], [0.3333333333333333, \"#9c179e\"], [0.4444444444444444, \"#bd3786\"], [0.5555555555555556, \"#d8576b\"], [0.6666666666666666, \"#ed7953\"], [0.7777777777777778, \"#fb9f3a\"], [0.8888888888888888, \"#fdca26\"], [1.0, \"#f0f921\"]]}, \"colorway\": [\"#636efa\", \"#EF553B\", \"#00cc96\", \"#ab63fa\", \"#FFA15A\", \"#19d3f3\", \"#FF6692\", \"#B6E880\", \"#FF97FF\", \"#FECB52\"], \"font\": {\"color\": \"#2a3f5f\"}, \"geo\": {\"bgcolor\": \"white\", \"lakecolor\": \"white\", \"landcolor\": \"#E5ECF6\", \"showlakes\": true, \"showland\": true, \"subunitcolor\": \"white\"}, \"hoverlabel\": {\"align\": \"left\"}, \"hovermode\": \"closest\", \"mapbox\": {\"style\": \"light\"}, \"paper_bgcolor\": \"white\", \"plot_bgcolor\": \"#E5ECF6\", \"polar\": {\"angularaxis\": {\"gridcolor\": \"white\", \"linecolor\": \"white\", \"ticks\": \"\"}, \"bgcolor\": \"#E5ECF6\", \"radialaxis\": {\"gridcolor\": \"white\", \"linecolor\": \"white\", \"ticks\": \"\"}}, \"scene\": {\"xaxis\": {\"backgroundcolor\": \"#E5ECF6\", \"gridcolor\": \"white\", \"gridwidth\": 2, \"linecolor\": \"white\", \"showbackground\": true, \"ticks\": \"\", \"zerolinecolor\": \"white\"}, \"yaxis\": {\"backgroundcolor\": \"#E5ECF6\", \"gridcolor\": \"white\", \"gridwidth\": 2, \"linecolor\": \"white\", \"showbackground\": true, \"ticks\": \"\", \"zerolinecolor\": \"white\"}, \"zaxis\": {\"backgroundcolor\": \"#E5ECF6\", \"gridcolor\": \"white\", \"gridwidth\": 2, \"linecolor\": \"white\", \"showbackground\": true, \"ticks\": \"\", \"zerolinecolor\": \"white\"}}, \"shapedefaults\": {\"line\": {\"color\": \"#2a3f5f\"}}, \"ternary\": {\"aaxis\": {\"gridcolor\": \"white\", \"linecolor\": \"white\", \"ticks\": \"\"}, \"baxis\": {\"gridcolor\": \"white\", \"linecolor\": \"white\", \"ticks\": \"\"}, \"bgcolor\": \"#E5ECF6\", \"caxis\": {\"gridcolor\": \"white\", \"linecolor\": \"white\", \"ticks\": \"\"}}, \"title\": {\"x\": 0.05}, \"xaxis\": {\"automargin\": true, \"gridcolor\": \"white\", \"linecolor\": \"white\", \"ticks\": \"\", \"title\": {\"standoff\": 15}, \"zerolinecolor\": \"white\", \"zerolinewidth\": 2}, \"yaxis\": {\"automargin\": true, \"gridcolor\": \"white\", \"linecolor\": \"white\", \"ticks\": \"\", \"title\": {\"standoff\": 15}, \"zerolinecolor\": \"white\", \"zerolinewidth\": 2}}}, \"title\": {\"font\": {\"color\": \"#4D5663\"}}, \"xaxis\": {\"gridcolor\": \"#E1E5ED\", \"showgrid\": true, \"tickfont\": {\"color\": \"#4D5663\"}, \"title\": {\"font\": {\"color\": \"#4D5663\"}, \"text\": \"\"}, \"zerolinecolor\": \"#E1E5ED\"}, \"yaxis\": {\"gridcolor\": \"#E1E5ED\", \"showgrid\": true, \"tickfont\": {\"color\": \"#4D5663\"}, \"title\": {\"font\": {\"color\": \"#4D5663\"}, \"text\": \"\"}, \"zerolinecolor\": \"#E1E5ED\"}},\n",
       "                        {\"showLink\": true, \"linkText\": \"Export to plot.ly\", \"plotlyServerURL\": \"https://plot.ly\", \"responsive\": true}\n",
       "                    ).then(function(){\n",
       "                            \n",
       "var gd = document.getElementById('2d8da371-f594-4133-ba06-58f9d151bcaf');\n",
       "var x = new MutationObserver(function (mutations, observer) {{\n",
       "        var display = window.getComputedStyle(gd).display;\n",
       "        if (!display || display === 'none') {{\n",
       "            console.log([gd, 'removed!']);\n",
       "            Plotly.purge(gd);\n",
       "            observer.disconnect();\n",
       "        }}\n",
       "}});\n",
       "\n",
       "// Listen for the removal of the full notebook cells\n",
       "var notebookContainer = gd.closest('#notebook-container');\n",
       "if (notebookContainer) {{\n",
       "    x.observe(notebookContainer, {childList: true});\n",
       "}}\n",
       "\n",
       "// Listen for the clearing of the current output cell\n",
       "var outputEl = gd.closest('.output');\n",
       "if (outputEl) {{\n",
       "    x.observe(outputEl, {childList: true});\n",
       "}}\n",
       "\n",
       "                        })\n",
       "                };\n",
       "                });\n",
       "            </script>\n",
       "        </div>"
      ]
     },
     "metadata": {},
     "output_type": "display_data"
    }
   ],
   "source": [
    "df.iplot(kind='box')"
   ]
  },
  {
   "cell_type": "markdown",
   "metadata": {},
   "source": [
    "## 3d Surface"
   ]
  },
  {
   "cell_type": "code",
   "execution_count": 14,
   "metadata": {},
   "outputs": [
    {
     "data": {
      "application/vnd.plotly.v1+json": {
       "config": {
        "linkText": "Export to plot.ly",
        "plotlyServerURL": "https://plot.ly",
        "showLink": true
       },
       "data": [
        {
         "colorscale": [
          [
           0,
           "rgb(165,0,38)"
          ],
          [
           0.1,
           "rgb(215,48,39)"
          ],
          [
           0.2,
           "rgb(244,109,67)"
          ],
          [
           0.3,
           "rgb(253,174,97)"
          ],
          [
           0.4,
           "rgb(254,224,144)"
          ],
          [
           0.5,
           "rgb(255,255,191)"
          ],
          [
           0.6,
           "rgb(224,243,248)"
          ],
          [
           0.7,
           "rgb(171,217,233)"
          ],
          [
           0.8,
           "rgb(116,173,209)"
          ],
          [
           0.9,
           "rgb(69,117,180)"
          ],
          [
           1,
           "rgb(49,54,149)"
          ]
         ],
         "type": "surface",
         "x": [
          0,
          1,
          2,
          3,
          4
         ],
         "y": [
          "x",
          "y",
          "z"
         ],
         "z": [
          [
           1,
           2,
           3,
           4,
           5
          ],
          [
           10,
           20,
           30,
           20,
           10
          ],
          [
           5,
           4,
           3,
           2,
           1
          ]
         ]
        }
       ],
       "layout": {
        "legend": {
         "bgcolor": "#F5F6F9",
         "font": {
          "color": "#4D5663"
         }
        },
        "paper_bgcolor": "#F5F6F9",
        "plot_bgcolor": "#F5F6F9",
        "template": {
         "data": {
          "bar": [
           {
            "error_x": {
             "color": "#2a3f5f"
            },
            "error_y": {
             "color": "#2a3f5f"
            },
            "marker": {
             "line": {
              "color": "#E5ECF6",
              "width": 0.5
             }
            },
            "type": "bar"
           }
          ],
          "barpolar": [
           {
            "marker": {
             "line": {
              "color": "#E5ECF6",
              "width": 0.5
             }
            },
            "type": "barpolar"
           }
          ],
          "carpet": [
           {
            "aaxis": {
             "endlinecolor": "#2a3f5f",
             "gridcolor": "white",
             "linecolor": "white",
             "minorgridcolor": "white",
             "startlinecolor": "#2a3f5f"
            },
            "baxis": {
             "endlinecolor": "#2a3f5f",
             "gridcolor": "white",
             "linecolor": "white",
             "minorgridcolor": "white",
             "startlinecolor": "#2a3f5f"
            },
            "type": "carpet"
           }
          ],
          "choropleth": [
           {
            "colorbar": {
             "outlinewidth": 0,
             "ticks": ""
            },
            "type": "choropleth"
           }
          ],
          "contour": [
           {
            "colorbar": {
             "outlinewidth": 0,
             "ticks": ""
            },
            "colorscale": [
             [
              0,
              "#0d0887"
             ],
             [
              0.1111111111111111,
              "#46039f"
             ],
             [
              0.2222222222222222,
              "#7201a8"
             ],
             [
              0.3333333333333333,
              "#9c179e"
             ],
             [
              0.4444444444444444,
              "#bd3786"
             ],
             [
              0.5555555555555556,
              "#d8576b"
             ],
             [
              0.6666666666666666,
              "#ed7953"
             ],
             [
              0.7777777777777778,
              "#fb9f3a"
             ],
             [
              0.8888888888888888,
              "#fdca26"
             ],
             [
              1,
              "#f0f921"
             ]
            ],
            "type": "contour"
           }
          ],
          "contourcarpet": [
           {
            "colorbar": {
             "outlinewidth": 0,
             "ticks": ""
            },
            "type": "contourcarpet"
           }
          ],
          "heatmap": [
           {
            "colorbar": {
             "outlinewidth": 0,
             "ticks": ""
            },
            "colorscale": [
             [
              0,
              "#0d0887"
             ],
             [
              0.1111111111111111,
              "#46039f"
             ],
             [
              0.2222222222222222,
              "#7201a8"
             ],
             [
              0.3333333333333333,
              "#9c179e"
             ],
             [
              0.4444444444444444,
              "#bd3786"
             ],
             [
              0.5555555555555556,
              "#d8576b"
             ],
             [
              0.6666666666666666,
              "#ed7953"
             ],
             [
              0.7777777777777778,
              "#fb9f3a"
             ],
             [
              0.8888888888888888,
              "#fdca26"
             ],
             [
              1,
              "#f0f921"
             ]
            ],
            "type": "heatmap"
           }
          ],
          "heatmapgl": [
           {
            "colorbar": {
             "outlinewidth": 0,
             "ticks": ""
            },
            "colorscale": [
             [
              0,
              "#0d0887"
             ],
             [
              0.1111111111111111,
              "#46039f"
             ],
             [
              0.2222222222222222,
              "#7201a8"
             ],
             [
              0.3333333333333333,
              "#9c179e"
             ],
             [
              0.4444444444444444,
              "#bd3786"
             ],
             [
              0.5555555555555556,
              "#d8576b"
             ],
             [
              0.6666666666666666,
              "#ed7953"
             ],
             [
              0.7777777777777778,
              "#fb9f3a"
             ],
             [
              0.8888888888888888,
              "#fdca26"
             ],
             [
              1,
              "#f0f921"
             ]
            ],
            "type": "heatmapgl"
           }
          ],
          "histogram": [
           {
            "marker": {
             "colorbar": {
              "outlinewidth": 0,
              "ticks": ""
             }
            },
            "type": "histogram"
           }
          ],
          "histogram2d": [
           {
            "colorbar": {
             "outlinewidth": 0,
             "ticks": ""
            },
            "colorscale": [
             [
              0,
              "#0d0887"
             ],
             [
              0.1111111111111111,
              "#46039f"
             ],
             [
              0.2222222222222222,
              "#7201a8"
             ],
             [
              0.3333333333333333,
              "#9c179e"
             ],
             [
              0.4444444444444444,
              "#bd3786"
             ],
             [
              0.5555555555555556,
              "#d8576b"
             ],
             [
              0.6666666666666666,
              "#ed7953"
             ],
             [
              0.7777777777777778,
              "#fb9f3a"
             ],
             [
              0.8888888888888888,
              "#fdca26"
             ],
             [
              1,
              "#f0f921"
             ]
            ],
            "type": "histogram2d"
           }
          ],
          "histogram2dcontour": [
           {
            "colorbar": {
             "outlinewidth": 0,
             "ticks": ""
            },
            "colorscale": [
             [
              0,
              "#0d0887"
             ],
             [
              0.1111111111111111,
              "#46039f"
             ],
             [
              0.2222222222222222,
              "#7201a8"
             ],
             [
              0.3333333333333333,
              "#9c179e"
             ],
             [
              0.4444444444444444,
              "#bd3786"
             ],
             [
              0.5555555555555556,
              "#d8576b"
             ],
             [
              0.6666666666666666,
              "#ed7953"
             ],
             [
              0.7777777777777778,
              "#fb9f3a"
             ],
             [
              0.8888888888888888,
              "#fdca26"
             ],
             [
              1,
              "#f0f921"
             ]
            ],
            "type": "histogram2dcontour"
           }
          ],
          "mesh3d": [
           {
            "colorbar": {
             "outlinewidth": 0,
             "ticks": ""
            },
            "type": "mesh3d"
           }
          ],
          "parcoords": [
           {
            "line": {
             "colorbar": {
              "outlinewidth": 0,
              "ticks": ""
             }
            },
            "type": "parcoords"
           }
          ],
          "pie": [
           {
            "automargin": true,
            "type": "pie"
           }
          ],
          "scatter": [
           {
            "marker": {
             "colorbar": {
              "outlinewidth": 0,
              "ticks": ""
             }
            },
            "type": "scatter"
           }
          ],
          "scatter3d": [
           {
            "line": {
             "colorbar": {
              "outlinewidth": 0,
              "ticks": ""
             }
            },
            "marker": {
             "colorbar": {
              "outlinewidth": 0,
              "ticks": ""
             }
            },
            "type": "scatter3d"
           }
          ],
          "scattercarpet": [
           {
            "marker": {
             "colorbar": {
              "outlinewidth": 0,
              "ticks": ""
             }
            },
            "type": "scattercarpet"
           }
          ],
          "scattergeo": [
           {
            "marker": {
             "colorbar": {
              "outlinewidth": 0,
              "ticks": ""
             }
            },
            "type": "scattergeo"
           }
          ],
          "scattergl": [
           {
            "marker": {
             "colorbar": {
              "outlinewidth": 0,
              "ticks": ""
             }
            },
            "type": "scattergl"
           }
          ],
          "scattermapbox": [
           {
            "marker": {
             "colorbar": {
              "outlinewidth": 0,
              "ticks": ""
             }
            },
            "type": "scattermapbox"
           }
          ],
          "scatterpolar": [
           {
            "marker": {
             "colorbar": {
              "outlinewidth": 0,
              "ticks": ""
             }
            },
            "type": "scatterpolar"
           }
          ],
          "scatterpolargl": [
           {
            "marker": {
             "colorbar": {
              "outlinewidth": 0,
              "ticks": ""
             }
            },
            "type": "scatterpolargl"
           }
          ],
          "scatterternary": [
           {
            "marker": {
             "colorbar": {
              "outlinewidth": 0,
              "ticks": ""
             }
            },
            "type": "scatterternary"
           }
          ],
          "surface": [
           {
            "colorbar": {
             "outlinewidth": 0,
             "ticks": ""
            },
            "colorscale": [
             [
              0,
              "#0d0887"
             ],
             [
              0.1111111111111111,
              "#46039f"
             ],
             [
              0.2222222222222222,
              "#7201a8"
             ],
             [
              0.3333333333333333,
              "#9c179e"
             ],
             [
              0.4444444444444444,
              "#bd3786"
             ],
             [
              0.5555555555555556,
              "#d8576b"
             ],
             [
              0.6666666666666666,
              "#ed7953"
             ],
             [
              0.7777777777777778,
              "#fb9f3a"
             ],
             [
              0.8888888888888888,
              "#fdca26"
             ],
             [
              1,
              "#f0f921"
             ]
            ],
            "type": "surface"
           }
          ],
          "table": [
           {
            "cells": {
             "fill": {
              "color": "#EBF0F8"
             },
             "line": {
              "color": "white"
             }
            },
            "header": {
             "fill": {
              "color": "#C8D4E3"
             },
             "line": {
              "color": "white"
             }
            },
            "type": "table"
           }
          ]
         },
         "layout": {
          "annotationdefaults": {
           "arrowcolor": "#2a3f5f",
           "arrowhead": 0,
           "arrowwidth": 1
          },
          "coloraxis": {
           "colorbar": {
            "outlinewidth": 0,
            "ticks": ""
           }
          },
          "colorscale": {
           "diverging": [
            [
             0,
             "#8e0152"
            ],
            [
             0.1,
             "#c51b7d"
            ],
            [
             0.2,
             "#de77ae"
            ],
            [
             0.3,
             "#f1b6da"
            ],
            [
             0.4,
             "#fde0ef"
            ],
            [
             0.5,
             "#f7f7f7"
            ],
            [
             0.6,
             "#e6f5d0"
            ],
            [
             0.7,
             "#b8e186"
            ],
            [
             0.8,
             "#7fbc41"
            ],
            [
             0.9,
             "#4d9221"
            ],
            [
             1,
             "#276419"
            ]
           ],
           "sequential": [
            [
             0,
             "#0d0887"
            ],
            [
             0.1111111111111111,
             "#46039f"
            ],
            [
             0.2222222222222222,
             "#7201a8"
            ],
            [
             0.3333333333333333,
             "#9c179e"
            ],
            [
             0.4444444444444444,
             "#bd3786"
            ],
            [
             0.5555555555555556,
             "#d8576b"
            ],
            [
             0.6666666666666666,
             "#ed7953"
            ],
            [
             0.7777777777777778,
             "#fb9f3a"
            ],
            [
             0.8888888888888888,
             "#fdca26"
            ],
            [
             1,
             "#f0f921"
            ]
           ],
           "sequentialminus": [
            [
             0,
             "#0d0887"
            ],
            [
             0.1111111111111111,
             "#46039f"
            ],
            [
             0.2222222222222222,
             "#7201a8"
            ],
            [
             0.3333333333333333,
             "#9c179e"
            ],
            [
             0.4444444444444444,
             "#bd3786"
            ],
            [
             0.5555555555555556,
             "#d8576b"
            ],
            [
             0.6666666666666666,
             "#ed7953"
            ],
            [
             0.7777777777777778,
             "#fb9f3a"
            ],
            [
             0.8888888888888888,
             "#fdca26"
            ],
            [
             1,
             "#f0f921"
            ]
           ]
          },
          "colorway": [
           "#636efa",
           "#EF553B",
           "#00cc96",
           "#ab63fa",
           "#FFA15A",
           "#19d3f3",
           "#FF6692",
           "#B6E880",
           "#FF97FF",
           "#FECB52"
          ],
          "font": {
           "color": "#2a3f5f"
          },
          "geo": {
           "bgcolor": "white",
           "lakecolor": "white",
           "landcolor": "#E5ECF6",
           "showlakes": true,
           "showland": true,
           "subunitcolor": "white"
          },
          "hoverlabel": {
           "align": "left"
          },
          "hovermode": "closest",
          "mapbox": {
           "style": "light"
          },
          "paper_bgcolor": "white",
          "plot_bgcolor": "#E5ECF6",
          "polar": {
           "angularaxis": {
            "gridcolor": "white",
            "linecolor": "white",
            "ticks": ""
           },
           "bgcolor": "#E5ECF6",
           "radialaxis": {
            "gridcolor": "white",
            "linecolor": "white",
            "ticks": ""
           }
          },
          "scene": {
           "xaxis": {
            "backgroundcolor": "#E5ECF6",
            "gridcolor": "white",
            "gridwidth": 2,
            "linecolor": "white",
            "showbackground": true,
            "ticks": "",
            "zerolinecolor": "white"
           },
           "yaxis": {
            "backgroundcolor": "#E5ECF6",
            "gridcolor": "white",
            "gridwidth": 2,
            "linecolor": "white",
            "showbackground": true,
            "ticks": "",
            "zerolinecolor": "white"
           },
           "zaxis": {
            "backgroundcolor": "#E5ECF6",
            "gridcolor": "white",
            "gridwidth": 2,
            "linecolor": "white",
            "showbackground": true,
            "ticks": "",
            "zerolinecolor": "white"
           }
          },
          "shapedefaults": {
           "line": {
            "color": "#2a3f5f"
           }
          },
          "ternary": {
           "aaxis": {
            "gridcolor": "white",
            "linecolor": "white",
            "ticks": ""
           },
           "baxis": {
            "gridcolor": "white",
            "linecolor": "white",
            "ticks": ""
           },
           "bgcolor": "#E5ECF6",
           "caxis": {
            "gridcolor": "white",
            "linecolor": "white",
            "ticks": ""
           }
          },
          "title": {
           "x": 0.05
          },
          "xaxis": {
           "automargin": true,
           "gridcolor": "white",
           "linecolor": "white",
           "ticks": "",
           "title": {
            "standoff": 15
           },
           "zerolinecolor": "white",
           "zerolinewidth": 2
          },
          "yaxis": {
           "automargin": true,
           "gridcolor": "white",
           "linecolor": "white",
           "ticks": "",
           "title": {
            "standoff": 15
           },
           "zerolinecolor": "white",
           "zerolinewidth": 2
          }
         }
        },
        "title": {
         "font": {
          "color": "#4D5663"
         }
        },
        "xaxis": {
         "gridcolor": "#E1E5ED",
         "showgrid": true,
         "tickfont": {
          "color": "#4D5663"
         },
         "title": {
          "font": {
           "color": "#4D5663"
          },
          "text": ""
         },
         "zerolinecolor": "#E1E5ED"
        },
        "yaxis": {
         "gridcolor": "#E1E5ED",
         "showgrid": true,
         "tickfont": {
          "color": "#4D5663"
         },
         "title": {
          "font": {
           "color": "#4D5663"
          },
          "text": ""
         },
         "zerolinecolor": "#E1E5ED"
        }
       }
      },
      "text/html": [
       "<div>\n",
       "        \n",
       "        \n",
       "            <div id=\"dd7e2c78-7402-42c4-b0ab-3a292431e7c4\" class=\"plotly-graph-div\" style=\"height:525px; width:100%;\"></div>\n",
       "            <script type=\"text/javascript\">\n",
       "                require([\"plotly\"], function(Plotly) {\n",
       "                    window.PLOTLYENV=window.PLOTLYENV || {};\n",
       "                    window.PLOTLYENV.BASE_URL='https://plot.ly';\n",
       "                    \n",
       "                if (document.getElementById(\"dd7e2c78-7402-42c4-b0ab-3a292431e7c4\")) {\n",
       "                    Plotly.newPlot(\n",
       "                        'dd7e2c78-7402-42c4-b0ab-3a292431e7c4',\n",
       "                        [{\"colorscale\": [[0.0, \"rgb(165,0,38)\"], [0.1, \"rgb(215,48,39)\"], [0.2, \"rgb(244,109,67)\"], [0.3, \"rgb(253,174,97)\"], [0.4, \"rgb(254,224,144)\"], [0.5, \"rgb(255,255,191)\"], [0.6, \"rgb(224,243,248)\"], [0.7, \"rgb(171,217,233)\"], [0.8, \"rgb(116,173,209)\"], [0.9, \"rgb(69,117,180)\"], [1.0, \"rgb(49,54,149)\"]], \"type\": \"surface\", \"x\": [0, 1, 2, 3, 4], \"y\": [\"x\", \"y\", \"z\"], \"z\": [[1, 2, 3, 4, 5], [10, 20, 30, 20, 10], [5, 4, 3, 2, 1]]}],\n",
       "                        {\"legend\": {\"bgcolor\": \"#F5F6F9\", \"font\": {\"color\": \"#4D5663\"}}, \"paper_bgcolor\": \"#F5F6F9\", \"plot_bgcolor\": \"#F5F6F9\", \"template\": {\"data\": {\"bar\": [{\"error_x\": {\"color\": \"#2a3f5f\"}, \"error_y\": {\"color\": \"#2a3f5f\"}, \"marker\": {\"line\": {\"color\": \"#E5ECF6\", \"width\": 0.5}}, \"type\": \"bar\"}], \"barpolar\": [{\"marker\": {\"line\": {\"color\": \"#E5ECF6\", \"width\": 0.5}}, \"type\": \"barpolar\"}], \"carpet\": [{\"aaxis\": {\"endlinecolor\": \"#2a3f5f\", \"gridcolor\": \"white\", \"linecolor\": \"white\", \"minorgridcolor\": \"white\", \"startlinecolor\": \"#2a3f5f\"}, \"baxis\": {\"endlinecolor\": \"#2a3f5f\", \"gridcolor\": \"white\", \"linecolor\": \"white\", \"minorgridcolor\": \"white\", \"startlinecolor\": \"#2a3f5f\"}, \"type\": \"carpet\"}], \"choropleth\": [{\"colorbar\": {\"outlinewidth\": 0, \"ticks\": \"\"}, \"type\": \"choropleth\"}], \"contour\": [{\"colorbar\": {\"outlinewidth\": 0, \"ticks\": \"\"}, \"colorscale\": [[0.0, \"#0d0887\"], [0.1111111111111111, \"#46039f\"], [0.2222222222222222, \"#7201a8\"], [0.3333333333333333, \"#9c179e\"], [0.4444444444444444, \"#bd3786\"], [0.5555555555555556, \"#d8576b\"], [0.6666666666666666, \"#ed7953\"], [0.7777777777777778, \"#fb9f3a\"], [0.8888888888888888, \"#fdca26\"], [1.0, \"#f0f921\"]], \"type\": \"contour\"}], \"contourcarpet\": [{\"colorbar\": {\"outlinewidth\": 0, \"ticks\": \"\"}, \"type\": \"contourcarpet\"}], \"heatmap\": [{\"colorbar\": {\"outlinewidth\": 0, \"ticks\": \"\"}, \"colorscale\": [[0.0, \"#0d0887\"], [0.1111111111111111, \"#46039f\"], [0.2222222222222222, \"#7201a8\"], [0.3333333333333333, \"#9c179e\"], [0.4444444444444444, \"#bd3786\"], [0.5555555555555556, \"#d8576b\"], [0.6666666666666666, \"#ed7953\"], [0.7777777777777778, \"#fb9f3a\"], [0.8888888888888888, \"#fdca26\"], [1.0, \"#f0f921\"]], \"type\": \"heatmap\"}], \"heatmapgl\": [{\"colorbar\": {\"outlinewidth\": 0, \"ticks\": \"\"}, \"colorscale\": [[0.0, \"#0d0887\"], [0.1111111111111111, \"#46039f\"], [0.2222222222222222, \"#7201a8\"], [0.3333333333333333, \"#9c179e\"], [0.4444444444444444, \"#bd3786\"], [0.5555555555555556, \"#d8576b\"], [0.6666666666666666, \"#ed7953\"], [0.7777777777777778, \"#fb9f3a\"], [0.8888888888888888, \"#fdca26\"], [1.0, \"#f0f921\"]], \"type\": \"heatmapgl\"}], \"histogram\": [{\"marker\": {\"colorbar\": {\"outlinewidth\": 0, \"ticks\": \"\"}}, \"type\": \"histogram\"}], \"histogram2d\": [{\"colorbar\": {\"outlinewidth\": 0, \"ticks\": \"\"}, \"colorscale\": [[0.0, \"#0d0887\"], [0.1111111111111111, \"#46039f\"], [0.2222222222222222, \"#7201a8\"], [0.3333333333333333, \"#9c179e\"], [0.4444444444444444, \"#bd3786\"], [0.5555555555555556, \"#d8576b\"], [0.6666666666666666, \"#ed7953\"], [0.7777777777777778, \"#fb9f3a\"], [0.8888888888888888, \"#fdca26\"], [1.0, \"#f0f921\"]], \"type\": \"histogram2d\"}], \"histogram2dcontour\": [{\"colorbar\": {\"outlinewidth\": 0, \"ticks\": \"\"}, \"colorscale\": [[0.0, \"#0d0887\"], [0.1111111111111111, \"#46039f\"], [0.2222222222222222, \"#7201a8\"], [0.3333333333333333, \"#9c179e\"], [0.4444444444444444, \"#bd3786\"], [0.5555555555555556, \"#d8576b\"], [0.6666666666666666, \"#ed7953\"], [0.7777777777777778, \"#fb9f3a\"], [0.8888888888888888, \"#fdca26\"], [1.0, \"#f0f921\"]], \"type\": \"histogram2dcontour\"}], \"mesh3d\": [{\"colorbar\": {\"outlinewidth\": 0, \"ticks\": \"\"}, \"type\": \"mesh3d\"}], \"parcoords\": [{\"line\": {\"colorbar\": {\"outlinewidth\": 0, \"ticks\": \"\"}}, \"type\": \"parcoords\"}], \"pie\": [{\"automargin\": true, \"type\": \"pie\"}], \"scatter\": [{\"marker\": {\"colorbar\": {\"outlinewidth\": 0, \"ticks\": \"\"}}, \"type\": \"scatter\"}], \"scatter3d\": [{\"line\": {\"colorbar\": {\"outlinewidth\": 0, \"ticks\": \"\"}}, \"marker\": {\"colorbar\": {\"outlinewidth\": 0, \"ticks\": \"\"}}, \"type\": \"scatter3d\"}], \"scattercarpet\": [{\"marker\": {\"colorbar\": {\"outlinewidth\": 0, \"ticks\": \"\"}}, \"type\": \"scattercarpet\"}], \"scattergeo\": [{\"marker\": {\"colorbar\": {\"outlinewidth\": 0, \"ticks\": \"\"}}, \"type\": \"scattergeo\"}], \"scattergl\": [{\"marker\": {\"colorbar\": {\"outlinewidth\": 0, \"ticks\": \"\"}}, \"type\": \"scattergl\"}], \"scattermapbox\": [{\"marker\": {\"colorbar\": {\"outlinewidth\": 0, \"ticks\": \"\"}}, \"type\": \"scattermapbox\"}], \"scatterpolar\": [{\"marker\": {\"colorbar\": {\"outlinewidth\": 0, \"ticks\": \"\"}}, \"type\": \"scatterpolar\"}], \"scatterpolargl\": [{\"marker\": {\"colorbar\": {\"outlinewidth\": 0, \"ticks\": \"\"}}, \"type\": \"scatterpolargl\"}], \"scatterternary\": [{\"marker\": {\"colorbar\": {\"outlinewidth\": 0, \"ticks\": \"\"}}, \"type\": \"scatterternary\"}], \"surface\": [{\"colorbar\": {\"outlinewidth\": 0, \"ticks\": \"\"}, \"colorscale\": [[0.0, \"#0d0887\"], [0.1111111111111111, \"#46039f\"], [0.2222222222222222, \"#7201a8\"], [0.3333333333333333, \"#9c179e\"], [0.4444444444444444, \"#bd3786\"], [0.5555555555555556, \"#d8576b\"], [0.6666666666666666, \"#ed7953\"], [0.7777777777777778, \"#fb9f3a\"], [0.8888888888888888, \"#fdca26\"], [1.0, \"#f0f921\"]], \"type\": \"surface\"}], \"table\": [{\"cells\": {\"fill\": {\"color\": \"#EBF0F8\"}, \"line\": {\"color\": \"white\"}}, \"header\": {\"fill\": {\"color\": \"#C8D4E3\"}, \"line\": {\"color\": \"white\"}}, \"type\": \"table\"}]}, \"layout\": {\"annotationdefaults\": {\"arrowcolor\": \"#2a3f5f\", \"arrowhead\": 0, \"arrowwidth\": 1}, \"coloraxis\": {\"colorbar\": {\"outlinewidth\": 0, \"ticks\": \"\"}}, \"colorscale\": {\"diverging\": [[0, \"#8e0152\"], [0.1, \"#c51b7d\"], [0.2, \"#de77ae\"], [0.3, \"#f1b6da\"], [0.4, \"#fde0ef\"], [0.5, \"#f7f7f7\"], [0.6, \"#e6f5d0\"], [0.7, \"#b8e186\"], [0.8, \"#7fbc41\"], [0.9, \"#4d9221\"], [1, \"#276419\"]], \"sequential\": [[0.0, \"#0d0887\"], [0.1111111111111111, \"#46039f\"], [0.2222222222222222, \"#7201a8\"], [0.3333333333333333, \"#9c179e\"], [0.4444444444444444, \"#bd3786\"], [0.5555555555555556, \"#d8576b\"], [0.6666666666666666, \"#ed7953\"], [0.7777777777777778, \"#fb9f3a\"], [0.8888888888888888, \"#fdca26\"], [1.0, \"#f0f921\"]], \"sequentialminus\": [[0.0, \"#0d0887\"], [0.1111111111111111, \"#46039f\"], [0.2222222222222222, \"#7201a8\"], [0.3333333333333333, \"#9c179e\"], [0.4444444444444444, \"#bd3786\"], [0.5555555555555556, \"#d8576b\"], [0.6666666666666666, \"#ed7953\"], [0.7777777777777778, \"#fb9f3a\"], [0.8888888888888888, \"#fdca26\"], [1.0, \"#f0f921\"]]}, \"colorway\": [\"#636efa\", \"#EF553B\", \"#00cc96\", \"#ab63fa\", \"#FFA15A\", \"#19d3f3\", \"#FF6692\", \"#B6E880\", \"#FF97FF\", \"#FECB52\"], \"font\": {\"color\": \"#2a3f5f\"}, \"geo\": {\"bgcolor\": \"white\", \"lakecolor\": \"white\", \"landcolor\": \"#E5ECF6\", \"showlakes\": true, \"showland\": true, \"subunitcolor\": \"white\"}, \"hoverlabel\": {\"align\": \"left\"}, \"hovermode\": \"closest\", \"mapbox\": {\"style\": \"light\"}, \"paper_bgcolor\": \"white\", \"plot_bgcolor\": \"#E5ECF6\", \"polar\": {\"angularaxis\": {\"gridcolor\": \"white\", \"linecolor\": \"white\", \"ticks\": \"\"}, \"bgcolor\": \"#E5ECF6\", \"radialaxis\": {\"gridcolor\": \"white\", \"linecolor\": \"white\", \"ticks\": \"\"}}, \"scene\": {\"xaxis\": {\"backgroundcolor\": \"#E5ECF6\", \"gridcolor\": \"white\", \"gridwidth\": 2, \"linecolor\": \"white\", \"showbackground\": true, \"ticks\": \"\", \"zerolinecolor\": \"white\"}, \"yaxis\": {\"backgroundcolor\": \"#E5ECF6\", \"gridcolor\": \"white\", \"gridwidth\": 2, \"linecolor\": \"white\", \"showbackground\": true, \"ticks\": \"\", \"zerolinecolor\": \"white\"}, \"zaxis\": {\"backgroundcolor\": \"#E5ECF6\", \"gridcolor\": \"white\", \"gridwidth\": 2, \"linecolor\": \"white\", \"showbackground\": true, \"ticks\": \"\", \"zerolinecolor\": \"white\"}}, \"shapedefaults\": {\"line\": {\"color\": \"#2a3f5f\"}}, \"ternary\": {\"aaxis\": {\"gridcolor\": \"white\", \"linecolor\": \"white\", \"ticks\": \"\"}, \"baxis\": {\"gridcolor\": \"white\", \"linecolor\": \"white\", \"ticks\": \"\"}, \"bgcolor\": \"#E5ECF6\", \"caxis\": {\"gridcolor\": \"white\", \"linecolor\": \"white\", \"ticks\": \"\"}}, \"title\": {\"x\": 0.05}, \"xaxis\": {\"automargin\": true, \"gridcolor\": \"white\", \"linecolor\": \"white\", \"ticks\": \"\", \"title\": {\"standoff\": 15}, \"zerolinecolor\": \"white\", \"zerolinewidth\": 2}, \"yaxis\": {\"automargin\": true, \"gridcolor\": \"white\", \"linecolor\": \"white\", \"ticks\": \"\", \"title\": {\"standoff\": 15}, \"zerolinecolor\": \"white\", \"zerolinewidth\": 2}}}, \"title\": {\"font\": {\"color\": \"#4D5663\"}}, \"xaxis\": {\"gridcolor\": \"#E1E5ED\", \"showgrid\": true, \"tickfont\": {\"color\": \"#4D5663\"}, \"title\": {\"font\": {\"color\": \"#4D5663\"}, \"text\": \"\"}, \"zerolinecolor\": \"#E1E5ED\"}, \"yaxis\": {\"gridcolor\": \"#E1E5ED\", \"showgrid\": true, \"tickfont\": {\"color\": \"#4D5663\"}, \"title\": {\"font\": {\"color\": \"#4D5663\"}, \"text\": \"\"}, \"zerolinecolor\": \"#E1E5ED\"}},\n",
       "                        {\"showLink\": true, \"linkText\": \"Export to plot.ly\", \"plotlyServerURL\": \"https://plot.ly\", \"responsive\": true}\n",
       "                    ).then(function(){\n",
       "                            \n",
       "var gd = document.getElementById('dd7e2c78-7402-42c4-b0ab-3a292431e7c4');\n",
       "var x = new MutationObserver(function (mutations, observer) {{\n",
       "        var display = window.getComputedStyle(gd).display;\n",
       "        if (!display || display === 'none') {{\n",
       "            console.log([gd, 'removed!']);\n",
       "            Plotly.purge(gd);\n",
       "            observer.disconnect();\n",
       "        }}\n",
       "}});\n",
       "\n",
       "// Listen for the removal of the full notebook cells\n",
       "var notebookContainer = gd.closest('#notebook-container');\n",
       "if (notebookContainer) {{\n",
       "    x.observe(notebookContainer, {childList: true});\n",
       "}}\n",
       "\n",
       "// Listen for the clearing of the current output cell\n",
       "var outputEl = gd.closest('.output');\n",
       "if (outputEl) {{\n",
       "    x.observe(outputEl, {childList: true});\n",
       "}}\n",
       "\n",
       "                        })\n",
       "                };\n",
       "                });\n",
       "            </script>\n",
       "        </div>"
      ]
     },
     "metadata": {},
     "output_type": "display_data"
    }
   ],
   "source": [
    "df3 = pd.DataFrame({'x':[1,2,3,4,5],'y':[10,20,30,20,10],'z':[5,4,3,2,1]})\n",
    "df3.iplot(kind='surface',colorscale='rdylbu')"
   ]
  },
  {
   "cell_type": "markdown",
   "metadata": {},
   "source": [
    "## Spread"
   ]
  },
  {
   "cell_type": "code",
   "execution_count": 15,
   "metadata": {},
   "outputs": [
    {
     "data": {
      "application/vnd.plotly.v1+json": {
       "config": {
        "linkText": "Export to plot.ly",
        "plotlyServerURL": "https://plot.ly",
        "showLink": true
       },
       "data": [
        {
         "line": {
          "color": "rgba(255, 153, 51, 1.0)",
          "dash": "solid",
          "shape": "linear",
          "width": 1.3
         },
         "mode": "lines",
         "name": "A",
         "text": "",
         "type": "scatter",
         "x": [
          0,
          1,
          2,
          3,
          4,
          5,
          6,
          7,
          8,
          9,
          10,
          11,
          12,
          13,
          14,
          15,
          16,
          17,
          18,
          19,
          20,
          21,
          22,
          23,
          24,
          25,
          26,
          27,
          28,
          29,
          30,
          31,
          32,
          33,
          34,
          35,
          36,
          37,
          38,
          39,
          40,
          41,
          42,
          43,
          44,
          45,
          46,
          47,
          48,
          49,
          50,
          51,
          52,
          53,
          54,
          55,
          56,
          57,
          58,
          59,
          60,
          61,
          62,
          63,
          64,
          65,
          66,
          67,
          68,
          69,
          70,
          71,
          72,
          73,
          74,
          75,
          76,
          77,
          78,
          79,
          80,
          81,
          82,
          83,
          84,
          85,
          86,
          87,
          88,
          89,
          90,
          91,
          92,
          93,
          94,
          95,
          96,
          97,
          98,
          99
         ],
         "y": [
          0.04586201721326738,
          -0.6540043750178025,
          -0.15552861422961764,
          0.4246745931194628,
          -0.7428941263058662,
          1.9759454512955896,
          0.37216312274345376,
          0.270346199650836,
          0.7526879532742253,
          0.6835958715969624,
          -0.2546175189374106,
          -1.4262276612733924,
          -0.8727506868121251,
          -1.6379838534075002,
          -0.3785322805868584,
          -0.8599010083088068,
          0.4629342549127315,
          -0.47817504277382034,
          1.7604777274770929,
          -0.6838113680207202,
          -1.4307352427821491,
          -1.8252753776981603,
          0.0833413830786923,
          0.35628092995480676,
          -1.274976737920389,
          -0.11359150113388154,
          -0.9893370579804546,
          -0.8534703806103016,
          -0.990879781989911,
          -0.11339893230127164,
          -0.3639574025477662,
          -1.9198230956237927,
          -0.15604885841910177,
          -1.242009328543386,
          -1.0874855796153915,
          0.14390334649378728,
          -0.3382339542174146,
          -0.3514758760147406,
          -0.7062967985429734,
          -0.12500964817068996,
          -0.9285989000331202,
          1.5833434550109415,
          -2.4928407726420563,
          0.9246153518224425,
          -0.8612041766022565,
          -1.1870843867017409,
          -0.14298953029197703,
          -1.1632402625589469,
          0.4098274611640754,
          -0.2891110705534637,
          -0.377333312529668,
          -0.7700418964086341,
          1.4419245123587963,
          0.03299347750695614,
          0.30446587287069704,
          1.7167246528354863,
          -1.7488558374419065,
          -0.4082248364598318,
          -0.43705062056267563,
          0.27557456940654934,
          -1.7749290440262324,
          -0.26864031013567036,
          -0.6490697916177971,
          0.31078916234165116,
          -1.3008179237598356,
          0.4139975331828292,
          1.3674410813628795,
          1.67921356806546,
          -1.7257549896922175,
          0.10065480714282876,
          -1.61503423879273,
          0.5862729398825437,
          -1.3634403525084011,
          0.2775805459514663,
          -0.9757974847933348,
          -1.098944519453516,
          1.0101077930359967,
          -0.17781895824552374,
          -0.7734803747585632,
          -0.7535167319015652,
          -0.16708705618339023,
          -0.3297590324897727,
          -0.6069608199941531,
          0.151103955896672,
          1.0641636909694312,
          1.1434256632642008,
          -1.4467009135114968,
          0.19060882578590008,
          -0.41156483114802506,
          3.198680605796546,
          -1.6909576942364866,
          -1.1686824788204284,
          -1.0525002047918235,
          -0.2669890197908835,
          -0.9245356187364816,
          0.7589373225722542,
          -0.40615315896270865,
          0.5371900954827098,
          0.5919142019373578,
          0.36842146133318476
         ]
        },
        {
         "line": {
          "color": "rgba(55, 128, 191, 1.0)",
          "dash": "solid",
          "shape": "linear",
          "width": 1.3
         },
         "mode": "lines",
         "name": "B",
         "text": "",
         "type": "scatter",
         "x": [
          0,
          1,
          2,
          3,
          4,
          5,
          6,
          7,
          8,
          9,
          10,
          11,
          12,
          13,
          14,
          15,
          16,
          17,
          18,
          19,
          20,
          21,
          22,
          23,
          24,
          25,
          26,
          27,
          28,
          29,
          30,
          31,
          32,
          33,
          34,
          35,
          36,
          37,
          38,
          39,
          40,
          41,
          42,
          43,
          44,
          45,
          46,
          47,
          48,
          49,
          50,
          51,
          52,
          53,
          54,
          55,
          56,
          57,
          58,
          59,
          60,
          61,
          62,
          63,
          64,
          65,
          66,
          67,
          68,
          69,
          70,
          71,
          72,
          73,
          74,
          75,
          76,
          77,
          78,
          79,
          80,
          81,
          82,
          83,
          84,
          85,
          86,
          87,
          88,
          89,
          90,
          91,
          92,
          93,
          94,
          95,
          96,
          97,
          98,
          99
         ],
         "y": [
          -0.6097684872700382,
          -0.8493487007227505,
          0.9977510237274378,
          -0.1071962371054894,
          -1.699524977003542,
          0.8082757927760422,
          0.8193580554685013,
          -0.2061772615607506,
          -0.26313042840768197,
          0.5600361067764692,
          -0.4501981737498376,
          -0.9544772042218531,
          -1.319940076686102,
          -1.125617561514794,
          -0.3956045049936414,
          -0.8370623937043047,
          1.1686872383712643,
          -0.23243709044945235,
          -0.5340987999737385,
          -2.0614316426642536,
          0.753559286628637,
          -0.8528918211334426,
          -0.22309759866097068,
          -0.7113387792238788,
          -0.5101411104217729,
          -0.6342668440941034,
          -0.6324370086317639,
          0.2714510243492082,
          -0.5213238007382588,
          -1.4086465885726056,
          -0.5420087867655164,
          0.6677503468224606,
          -0.18855694230016076,
          2.0671336870595733,
          -0.47682455918418043,
          -0.024979430414229276,
          1.3061706720343416,
          2.786030341090841,
          0.5486606319358823,
          1.1606684174771362,
          0.1451160819641703,
          2.136969133851484,
          0.770381179614506,
          -0.7556527371529544,
          0.5601210636156078,
          0.3307869065359323,
          -1.3478670652302134,
          0.08644174068175664,
          1.2905756068011163,
          2.275549593676335,
          -0.47563159079150313,
          0.23889454006422195,
          -1.7043014333897235,
          -1.4533176672403718,
          0.5360611298269806,
          0.25318959135101454,
          0.004821837557940499,
          1.4422811243330096,
          0.7317807073826776,
          0.40437412573002657,
          -0.09522520392275328,
          0.6365245480331461,
          0.23493643856197943,
          0.8931242125821466,
          -0.46845291625732416,
          0.3781014047855431,
          -1.2452813787819295,
          0.7720600839543568,
          -0.1467225346322123,
          -0.6315021974816304,
          -0.7269821770978143,
          -0.4242118835802408,
          1.8098886957875182,
          0.6340870632825684,
          -0.7524498968821255,
          2.334655966396287,
          -0.8492378201748007,
          1.1964317058351615,
          0.18153694390689393,
          0.8732838633312291,
          1.07784296658968,
          0.3459866622514968,
          -0.7214103607850231,
          -1.2049057150110316,
          0.5013151212405151,
          -1.3069831656188589,
          0.11814842323440919,
          -0.01760325733177132,
          -1.031507466879412,
          0.8105398816366775,
          0.2630311106697119,
          1.1610935950229937,
          -0.9110603984749275,
          0.38128147794092065,
          -0.32120478827120125,
          -0.909703102805338,
          0.9665818363963105,
          -0.815837744405378,
          -1.5352152603233933,
          0.20011286751182206
         ]
        },
        {
         "connectgaps": false,
         "fill": "tozeroy",
         "line": {
          "color": "green",
          "dash": "solid",
          "shape": "linear",
          "width": 0.5
         },
         "mode": "lines",
         "name": "Spread",
         "showlegend": false,
         "type": "scatter",
         "x": [
          0,
          1,
          2,
          3,
          4,
          5,
          6,
          7,
          8,
          9,
          10,
          11,
          12,
          13,
          14,
          15,
          16,
          17,
          18,
          19,
          20,
          21,
          22,
          23,
          24,
          25,
          26,
          27,
          28,
          29,
          30,
          31,
          32,
          33,
          34,
          35,
          36,
          37,
          38,
          39,
          40,
          41,
          42,
          43,
          44,
          45,
          46,
          47,
          48,
          49,
          50,
          51,
          52,
          53,
          54,
          55,
          56,
          57,
          58,
          59,
          60,
          61,
          62,
          63,
          64,
          65,
          66,
          67,
          68,
          69,
          70,
          71,
          72,
          73,
          74,
          75,
          76,
          77,
          78,
          79,
          80,
          81,
          82,
          83,
          84,
          85,
          86,
          87,
          88,
          89,
          90,
          91,
          92,
          93,
          94,
          95,
          96,
          97,
          98,
          99
         ],
         "xaxis": "x2",
         "y": [
          0.6556305044833055,
          0.19534432570494797,
          "",
          0.5318708302249522,
          0.956630850697676,
          1.1676696585195474,
          "",
          0.4765234612115866,
          1.0158183816819073,
          0.12355976482049325,
          0.19558065481242703,
          "",
          0.44718938987397694,
          "",
          0.01707222440678302,
          "",
          "",
          "",
          2.2945765274508316,
          1.3776202746435335,
          "",
          "",
          0.306438981739663,
          1.0676197091786856,
          "",
          0.5206753429602219,
          "",
          "",
          "",
          1.295247656271334,
          0.17805138421775024,
          "",
          0.032508083881059,
          "",
          "",
          0.16888277690801656,
          "",
          "",
          "",
          "",
          "",
          "",
          "",
          1.680268088975397,
          "",
          "",
          1.2048775349382363,
          "",
          "",
          "",
          0.09829827826183513,
          "",
          3.1462259457485198,
          1.486311144747328,
          "",
          1.4635350614844718,
          "",
          "",
          "",
          "",
          "",
          "",
          "",
          "",
          "",
          0.03589612839728612,
          2.612722460144809,
          0.9071534841111033,
          "",
          0.7321570046244592,
          "",
          1.0104848234627846,
          "",
          "",
          "",
          "",
          1.8593456132107975,
          "",
          "",
          "",
          "",
          "",
          0.11444954079087,
          1.3560096709077036,
          0.5628485697289161,
          2.4504088288830594,
          "",
          0.2082120831176714,
          0.6199426357313869,
          2.3881407241598684,
          "",
          "",
          "",
          "",
          "",
          1.6686404253775922,
          "",
          1.353027839888088,
          2.127129462260751,
          0.1683085938213627
         ],
         "yaxis": "y2"
        },
        {
         "connectgaps": false,
         "fill": "tozeroy",
         "line": {
          "color": "red",
          "dash": "solid",
          "shape": "linear",
          "width": 0.5
         },
         "mode": "lines",
         "name": "Spread",
         "showlegend": false,
         "type": "scatter",
         "x": [
          0,
          1,
          2,
          3,
          4,
          5,
          6,
          7,
          8,
          9,
          10,
          11,
          12,
          13,
          14,
          15,
          16,
          17,
          18,
          19,
          20,
          21,
          22,
          23,
          24,
          25,
          26,
          27,
          28,
          29,
          30,
          31,
          32,
          33,
          34,
          35,
          36,
          37,
          38,
          39,
          40,
          41,
          42,
          43,
          44,
          45,
          46,
          47,
          48,
          49,
          50,
          51,
          52,
          53,
          54,
          55,
          56,
          57,
          58,
          59,
          60,
          61,
          62,
          63,
          64,
          65,
          66,
          67,
          68,
          69,
          70,
          71,
          72,
          73,
          74,
          75,
          76,
          77,
          78,
          79,
          80,
          81,
          82,
          83,
          84,
          85,
          86,
          87,
          88,
          89,
          90,
          91,
          92,
          93,
          94,
          95,
          96,
          97,
          98,
          99
         ],
         "xaxis": "x2",
         "y": [
          "",
          "",
          -1.1532796379570556,
          "",
          "",
          "",
          -0.4471949327250475,
          "",
          "",
          "",
          "",
          -0.4717504570515393,
          "",
          -0.5123662918927061,
          "",
          -0.022838614604502094,
          -0.7057529834585328,
          -0.245737952324368,
          "",
          "",
          -2.1842945294107863,
          -0.9723835565647176,
          "",
          "",
          -0.764835627498616,
          "",
          -0.3569000493486907,
          -1.1249214049595098,
          -0.4695559812516522,
          "",
          "",
          -2.5875734424462533,
          "",
          -3.3091430156029595,
          -0.6106610204312111,
          "",
          -1.6444046262517562,
          -3.1375062171055816,
          -1.2549574304788558,
          -1.2856780656478262,
          -1.0737149819972904,
          -0.5536256788405423,
          -3.263221952256562,
          "",
          -1.4213252402178642,
          -1.5178712932376732,
          "",
          -1.2496820032407034,
          -0.8807481456370408,
          -2.5646606642297987,
          "",
          -1.008936436472856,
          "",
          "",
          -0.23159525695628358,
          "",
          -1.753677674999847,
          -1.8505059607928414,
          -1.1688313279453533,
          -0.12879955632347723,
          -1.6797038401034792,
          -0.9051648581688164,
          -0.8840062301797765,
          -0.5823350502404954,
          -0.8323650075025115,
          "",
          "",
          "",
          -1.5790324550600052,
          "",
          -0.8880520616949156,
          "",
          -3.173329048295919,
          -0.35650651733110206,
          -0.22334758791120934,
          -3.4336004858498033,
          "",
          -1.374250664080685,
          -0.9550173186654571,
          -1.6268005952327944,
          -1.2449300227730702,
          -0.6757456947412694,
          "",
          "",
          "",
          "",
          -1.564849336745906,
          "",
          "",
          "",
          -1.9539888049061984,
          -2.329776073843422,
          -0.141439806316896,
          -0.6482704977318041,
          -0.6033308304652804,
          "",
          -1.372734995359019,
          "",
          "",
          ""
         ],
         "yaxis": "y2"
        }
       ],
       "layout": {
        "hovermode": "x",
        "legend": {
         "bgcolor": "#F5F6F9",
         "font": {
          "color": "#4D5663"
         }
        },
        "paper_bgcolor": "#F5F6F9",
        "plot_bgcolor": "#F5F6F9",
        "template": {
         "data": {
          "bar": [
           {
            "error_x": {
             "color": "#2a3f5f"
            },
            "error_y": {
             "color": "#2a3f5f"
            },
            "marker": {
             "line": {
              "color": "#E5ECF6",
              "width": 0.5
             }
            },
            "type": "bar"
           }
          ],
          "barpolar": [
           {
            "marker": {
             "line": {
              "color": "#E5ECF6",
              "width": 0.5
             }
            },
            "type": "barpolar"
           }
          ],
          "carpet": [
           {
            "aaxis": {
             "endlinecolor": "#2a3f5f",
             "gridcolor": "white",
             "linecolor": "white",
             "minorgridcolor": "white",
             "startlinecolor": "#2a3f5f"
            },
            "baxis": {
             "endlinecolor": "#2a3f5f",
             "gridcolor": "white",
             "linecolor": "white",
             "minorgridcolor": "white",
             "startlinecolor": "#2a3f5f"
            },
            "type": "carpet"
           }
          ],
          "choropleth": [
           {
            "colorbar": {
             "outlinewidth": 0,
             "ticks": ""
            },
            "type": "choropleth"
           }
          ],
          "contour": [
           {
            "colorbar": {
             "outlinewidth": 0,
             "ticks": ""
            },
            "colorscale": [
             [
              0,
              "#0d0887"
             ],
             [
              0.1111111111111111,
              "#46039f"
             ],
             [
              0.2222222222222222,
              "#7201a8"
             ],
             [
              0.3333333333333333,
              "#9c179e"
             ],
             [
              0.4444444444444444,
              "#bd3786"
             ],
             [
              0.5555555555555556,
              "#d8576b"
             ],
             [
              0.6666666666666666,
              "#ed7953"
             ],
             [
              0.7777777777777778,
              "#fb9f3a"
             ],
             [
              0.8888888888888888,
              "#fdca26"
             ],
             [
              1,
              "#f0f921"
             ]
            ],
            "type": "contour"
           }
          ],
          "contourcarpet": [
           {
            "colorbar": {
             "outlinewidth": 0,
             "ticks": ""
            },
            "type": "contourcarpet"
           }
          ],
          "heatmap": [
           {
            "colorbar": {
             "outlinewidth": 0,
             "ticks": ""
            },
            "colorscale": [
             [
              0,
              "#0d0887"
             ],
             [
              0.1111111111111111,
              "#46039f"
             ],
             [
              0.2222222222222222,
              "#7201a8"
             ],
             [
              0.3333333333333333,
              "#9c179e"
             ],
             [
              0.4444444444444444,
              "#bd3786"
             ],
             [
              0.5555555555555556,
              "#d8576b"
             ],
             [
              0.6666666666666666,
              "#ed7953"
             ],
             [
              0.7777777777777778,
              "#fb9f3a"
             ],
             [
              0.8888888888888888,
              "#fdca26"
             ],
             [
              1,
              "#f0f921"
             ]
            ],
            "type": "heatmap"
           }
          ],
          "heatmapgl": [
           {
            "colorbar": {
             "outlinewidth": 0,
             "ticks": ""
            },
            "colorscale": [
             [
              0,
              "#0d0887"
             ],
             [
              0.1111111111111111,
              "#46039f"
             ],
             [
              0.2222222222222222,
              "#7201a8"
             ],
             [
              0.3333333333333333,
              "#9c179e"
             ],
             [
              0.4444444444444444,
              "#bd3786"
             ],
             [
              0.5555555555555556,
              "#d8576b"
             ],
             [
              0.6666666666666666,
              "#ed7953"
             ],
             [
              0.7777777777777778,
              "#fb9f3a"
             ],
             [
              0.8888888888888888,
              "#fdca26"
             ],
             [
              1,
              "#f0f921"
             ]
            ],
            "type": "heatmapgl"
           }
          ],
          "histogram": [
           {
            "marker": {
             "colorbar": {
              "outlinewidth": 0,
              "ticks": ""
             }
            },
            "type": "histogram"
           }
          ],
          "histogram2d": [
           {
            "colorbar": {
             "outlinewidth": 0,
             "ticks": ""
            },
            "colorscale": [
             [
              0,
              "#0d0887"
             ],
             [
              0.1111111111111111,
              "#46039f"
             ],
             [
              0.2222222222222222,
              "#7201a8"
             ],
             [
              0.3333333333333333,
              "#9c179e"
             ],
             [
              0.4444444444444444,
              "#bd3786"
             ],
             [
              0.5555555555555556,
              "#d8576b"
             ],
             [
              0.6666666666666666,
              "#ed7953"
             ],
             [
              0.7777777777777778,
              "#fb9f3a"
             ],
             [
              0.8888888888888888,
              "#fdca26"
             ],
             [
              1,
              "#f0f921"
             ]
            ],
            "type": "histogram2d"
           }
          ],
          "histogram2dcontour": [
           {
            "colorbar": {
             "outlinewidth": 0,
             "ticks": ""
            },
            "colorscale": [
             [
              0,
              "#0d0887"
             ],
             [
              0.1111111111111111,
              "#46039f"
             ],
             [
              0.2222222222222222,
              "#7201a8"
             ],
             [
              0.3333333333333333,
              "#9c179e"
             ],
             [
              0.4444444444444444,
              "#bd3786"
             ],
             [
              0.5555555555555556,
              "#d8576b"
             ],
             [
              0.6666666666666666,
              "#ed7953"
             ],
             [
              0.7777777777777778,
              "#fb9f3a"
             ],
             [
              0.8888888888888888,
              "#fdca26"
             ],
             [
              1,
              "#f0f921"
             ]
            ],
            "type": "histogram2dcontour"
           }
          ],
          "mesh3d": [
           {
            "colorbar": {
             "outlinewidth": 0,
             "ticks": ""
            },
            "type": "mesh3d"
           }
          ],
          "parcoords": [
           {
            "line": {
             "colorbar": {
              "outlinewidth": 0,
              "ticks": ""
             }
            },
            "type": "parcoords"
           }
          ],
          "pie": [
           {
            "automargin": true,
            "type": "pie"
           }
          ],
          "scatter": [
           {
            "marker": {
             "colorbar": {
              "outlinewidth": 0,
              "ticks": ""
             }
            },
            "type": "scatter"
           }
          ],
          "scatter3d": [
           {
            "line": {
             "colorbar": {
              "outlinewidth": 0,
              "ticks": ""
             }
            },
            "marker": {
             "colorbar": {
              "outlinewidth": 0,
              "ticks": ""
             }
            },
            "type": "scatter3d"
           }
          ],
          "scattercarpet": [
           {
            "marker": {
             "colorbar": {
              "outlinewidth": 0,
              "ticks": ""
             }
            },
            "type": "scattercarpet"
           }
          ],
          "scattergeo": [
           {
            "marker": {
             "colorbar": {
              "outlinewidth": 0,
              "ticks": ""
             }
            },
            "type": "scattergeo"
           }
          ],
          "scattergl": [
           {
            "marker": {
             "colorbar": {
              "outlinewidth": 0,
              "ticks": ""
             }
            },
            "type": "scattergl"
           }
          ],
          "scattermapbox": [
           {
            "marker": {
             "colorbar": {
              "outlinewidth": 0,
              "ticks": ""
             }
            },
            "type": "scattermapbox"
           }
          ],
          "scatterpolar": [
           {
            "marker": {
             "colorbar": {
              "outlinewidth": 0,
              "ticks": ""
             }
            },
            "type": "scatterpolar"
           }
          ],
          "scatterpolargl": [
           {
            "marker": {
             "colorbar": {
              "outlinewidth": 0,
              "ticks": ""
             }
            },
            "type": "scatterpolargl"
           }
          ],
          "scatterternary": [
           {
            "marker": {
             "colorbar": {
              "outlinewidth": 0,
              "ticks": ""
             }
            },
            "type": "scatterternary"
           }
          ],
          "surface": [
           {
            "colorbar": {
             "outlinewidth": 0,
             "ticks": ""
            },
            "colorscale": [
             [
              0,
              "#0d0887"
             ],
             [
              0.1111111111111111,
              "#46039f"
             ],
             [
              0.2222222222222222,
              "#7201a8"
             ],
             [
              0.3333333333333333,
              "#9c179e"
             ],
             [
              0.4444444444444444,
              "#bd3786"
             ],
             [
              0.5555555555555556,
              "#d8576b"
             ],
             [
              0.6666666666666666,
              "#ed7953"
             ],
             [
              0.7777777777777778,
              "#fb9f3a"
             ],
             [
              0.8888888888888888,
              "#fdca26"
             ],
             [
              1,
              "#f0f921"
             ]
            ],
            "type": "surface"
           }
          ],
          "table": [
           {
            "cells": {
             "fill": {
              "color": "#EBF0F8"
             },
             "line": {
              "color": "white"
             }
            },
            "header": {
             "fill": {
              "color": "#C8D4E3"
             },
             "line": {
              "color": "white"
             }
            },
            "type": "table"
           }
          ]
         },
         "layout": {
          "annotationdefaults": {
           "arrowcolor": "#2a3f5f",
           "arrowhead": 0,
           "arrowwidth": 1
          },
          "coloraxis": {
           "colorbar": {
            "outlinewidth": 0,
            "ticks": ""
           }
          },
          "colorscale": {
           "diverging": [
            [
             0,
             "#8e0152"
            ],
            [
             0.1,
             "#c51b7d"
            ],
            [
             0.2,
             "#de77ae"
            ],
            [
             0.3,
             "#f1b6da"
            ],
            [
             0.4,
             "#fde0ef"
            ],
            [
             0.5,
             "#f7f7f7"
            ],
            [
             0.6,
             "#e6f5d0"
            ],
            [
             0.7,
             "#b8e186"
            ],
            [
             0.8,
             "#7fbc41"
            ],
            [
             0.9,
             "#4d9221"
            ],
            [
             1,
             "#276419"
            ]
           ],
           "sequential": [
            [
             0,
             "#0d0887"
            ],
            [
             0.1111111111111111,
             "#46039f"
            ],
            [
             0.2222222222222222,
             "#7201a8"
            ],
            [
             0.3333333333333333,
             "#9c179e"
            ],
            [
             0.4444444444444444,
             "#bd3786"
            ],
            [
             0.5555555555555556,
             "#d8576b"
            ],
            [
             0.6666666666666666,
             "#ed7953"
            ],
            [
             0.7777777777777778,
             "#fb9f3a"
            ],
            [
             0.8888888888888888,
             "#fdca26"
            ],
            [
             1,
             "#f0f921"
            ]
           ],
           "sequentialminus": [
            [
             0,
             "#0d0887"
            ],
            [
             0.1111111111111111,
             "#46039f"
            ],
            [
             0.2222222222222222,
             "#7201a8"
            ],
            [
             0.3333333333333333,
             "#9c179e"
            ],
            [
             0.4444444444444444,
             "#bd3786"
            ],
            [
             0.5555555555555556,
             "#d8576b"
            ],
            [
             0.6666666666666666,
             "#ed7953"
            ],
            [
             0.7777777777777778,
             "#fb9f3a"
            ],
            [
             0.8888888888888888,
             "#fdca26"
            ],
            [
             1,
             "#f0f921"
            ]
           ]
          },
          "colorway": [
           "#636efa",
           "#EF553B",
           "#00cc96",
           "#ab63fa",
           "#FFA15A",
           "#19d3f3",
           "#FF6692",
           "#B6E880",
           "#FF97FF",
           "#FECB52"
          ],
          "font": {
           "color": "#2a3f5f"
          },
          "geo": {
           "bgcolor": "white",
           "lakecolor": "white",
           "landcolor": "#E5ECF6",
           "showlakes": true,
           "showland": true,
           "subunitcolor": "white"
          },
          "hoverlabel": {
           "align": "left"
          },
          "hovermode": "closest",
          "mapbox": {
           "style": "light"
          },
          "paper_bgcolor": "white",
          "plot_bgcolor": "#E5ECF6",
          "polar": {
           "angularaxis": {
            "gridcolor": "white",
            "linecolor": "white",
            "ticks": ""
           },
           "bgcolor": "#E5ECF6",
           "radialaxis": {
            "gridcolor": "white",
            "linecolor": "white",
            "ticks": ""
           }
          },
          "scene": {
           "xaxis": {
            "backgroundcolor": "#E5ECF6",
            "gridcolor": "white",
            "gridwidth": 2,
            "linecolor": "white",
            "showbackground": true,
            "ticks": "",
            "zerolinecolor": "white"
           },
           "yaxis": {
            "backgroundcolor": "#E5ECF6",
            "gridcolor": "white",
            "gridwidth": 2,
            "linecolor": "white",
            "showbackground": true,
            "ticks": "",
            "zerolinecolor": "white"
           },
           "zaxis": {
            "backgroundcolor": "#E5ECF6",
            "gridcolor": "white",
            "gridwidth": 2,
            "linecolor": "white",
            "showbackground": true,
            "ticks": "",
            "zerolinecolor": "white"
           }
          },
          "shapedefaults": {
           "line": {
            "color": "#2a3f5f"
           }
          },
          "ternary": {
           "aaxis": {
            "gridcolor": "white",
            "linecolor": "white",
            "ticks": ""
           },
           "baxis": {
            "gridcolor": "white",
            "linecolor": "white",
            "ticks": ""
           },
           "bgcolor": "#E5ECF6",
           "caxis": {
            "gridcolor": "white",
            "linecolor": "white",
            "ticks": ""
           }
          },
          "title": {
           "x": 0.05
          },
          "xaxis": {
           "automargin": true,
           "gridcolor": "white",
           "linecolor": "white",
           "ticks": "",
           "title": {
            "standoff": 15
           },
           "zerolinecolor": "white",
           "zerolinewidth": 2
          },
          "yaxis": {
           "automargin": true,
           "gridcolor": "white",
           "linecolor": "white",
           "ticks": "",
           "title": {
            "standoff": 15
           },
           "zerolinecolor": "white",
           "zerolinewidth": 2
          }
         }
        },
        "title": {
         "font": {
          "color": "#4D5663"
         }
        },
        "xaxis": {
         "gridcolor": "#E1E5ED",
         "showgrid": true,
         "tickfont": {
          "color": "#4D5663"
         },
         "title": {
          "font": {
           "color": "#4D5663"
          },
          "text": ""
         },
         "zerolinecolor": "#E1E5ED"
        },
        "xaxis2": {
         "anchor": "y2",
         "gridcolor": "#E1E5ED",
         "showgrid": true,
         "showticklabels": false,
         "tickfont": {
          "color": "#4D5663"
         },
         "title": {
          "font": {
           "color": "#4D5663"
          },
          "text": ""
         },
         "zerolinecolor": "#E1E5ED"
        },
        "yaxis": {
         "domain": [
          0.3,
          1
         ],
         "gridcolor": "#E1E5ED",
         "showgrid": true,
         "tickfont": {
          "color": "#4D5663"
         },
         "title": {
          "font": {
           "color": "#4D5663"
          },
          "text": ""
         },
         "zerolinecolor": "#E1E5ED"
        },
        "yaxis2": {
         "domain": [
          0,
          0.25
         ],
         "gridcolor": "#E1E5ED",
         "showgrid": true,
         "tickfont": {
          "color": "#4D5663"
         },
         "title": {
          "font": {
           "color": "#4D5663"
          },
          "text": "Spread"
         },
         "zerolinecolor": "#E1E5ED"
        }
       }
      },
      "text/html": [
       "<div>\n",
       "        \n",
       "        \n",
       "            <div id=\"6431b96b-e2a4-4536-ba4f-23dfe244ba62\" class=\"plotly-graph-div\" style=\"height:525px; width:100%;\"></div>\n",
       "            <script type=\"text/javascript\">\n",
       "                require([\"plotly\"], function(Plotly) {\n",
       "                    window.PLOTLYENV=window.PLOTLYENV || {};\n",
       "                    window.PLOTLYENV.BASE_URL='https://plot.ly';\n",
       "                    \n",
       "                if (document.getElementById(\"6431b96b-e2a4-4536-ba4f-23dfe244ba62\")) {\n",
       "                    Plotly.newPlot(\n",
       "                        '6431b96b-e2a4-4536-ba4f-23dfe244ba62',\n",
       "                        [{\"line\": {\"color\": \"rgba(255, 153, 51, 1.0)\", \"dash\": \"solid\", \"shape\": \"linear\", \"width\": 1.3}, \"mode\": \"lines\", \"name\": \"A\", \"text\": \"\", \"type\": \"scatter\", \"x\": [0, 1, 2, 3, 4, 5, 6, 7, 8, 9, 10, 11, 12, 13, 14, 15, 16, 17, 18, 19, 20, 21, 22, 23, 24, 25, 26, 27, 28, 29, 30, 31, 32, 33, 34, 35, 36, 37, 38, 39, 40, 41, 42, 43, 44, 45, 46, 47, 48, 49, 50, 51, 52, 53, 54, 55, 56, 57, 58, 59, 60, 61, 62, 63, 64, 65, 66, 67, 68, 69, 70, 71, 72, 73, 74, 75, 76, 77, 78, 79, 80, 81, 82, 83, 84, 85, 86, 87, 88, 89, 90, 91, 92, 93, 94, 95, 96, 97, 98, 99], \"y\": [0.04586201721326738, -0.6540043750178025, -0.15552861422961764, 0.4246745931194628, -0.7428941263058662, 1.9759454512955896, 0.37216312274345376, 0.270346199650836, 0.7526879532742253, 0.6835958715969624, -0.2546175189374106, -1.4262276612733924, -0.8727506868121251, -1.6379838534075002, -0.3785322805868584, -0.8599010083088068, 0.4629342549127315, -0.47817504277382034, 1.7604777274770929, -0.6838113680207202, -1.4307352427821491, -1.8252753776981603, 0.0833413830786923, 0.35628092995480676, -1.274976737920389, -0.11359150113388154, -0.9893370579804546, -0.8534703806103016, -0.990879781989911, -0.11339893230127164, -0.3639574025477662, -1.9198230956237927, -0.15604885841910177, -1.242009328543386, -1.0874855796153915, 0.14390334649378728, -0.3382339542174146, -0.3514758760147406, -0.7062967985429734, -0.12500964817068996, -0.9285989000331202, 1.5833434550109415, -2.4928407726420563, 0.9246153518224425, -0.8612041766022565, -1.1870843867017409, -0.14298953029197703, -1.1632402625589469, 0.4098274611640754, -0.2891110705534637, -0.377333312529668, -0.7700418964086341, 1.4419245123587963, 0.03299347750695614, 0.30446587287069704, 1.7167246528354863, -1.7488558374419065, -0.4082248364598318, -0.43705062056267563, 0.27557456940654934, -1.7749290440262324, -0.26864031013567036, -0.6490697916177971, 0.31078916234165116, -1.3008179237598356, 0.4139975331828292, 1.3674410813628795, 1.67921356806546, -1.7257549896922175, 0.10065480714282876, -1.61503423879273, 0.5862729398825437, -1.3634403525084011, 0.2775805459514663, -0.9757974847933348, -1.098944519453516, 1.0101077930359967, -0.17781895824552374, -0.7734803747585632, -0.7535167319015652, -0.16708705618339023, -0.3297590324897727, -0.6069608199941531, 0.151103955896672, 1.0641636909694312, 1.1434256632642008, -1.4467009135114968, 0.19060882578590008, -0.41156483114802506, 3.198680605796546, -1.6909576942364866, -1.1686824788204284, -1.0525002047918235, -0.2669890197908835, -0.9245356187364816, 0.7589373225722542, -0.40615315896270865, 0.5371900954827098, 0.5919142019373578, 0.36842146133318476]}, {\"line\": {\"color\": \"rgba(55, 128, 191, 1.0)\", \"dash\": \"solid\", \"shape\": \"linear\", \"width\": 1.3}, \"mode\": \"lines\", \"name\": \"B\", \"text\": \"\", \"type\": \"scatter\", \"x\": [0, 1, 2, 3, 4, 5, 6, 7, 8, 9, 10, 11, 12, 13, 14, 15, 16, 17, 18, 19, 20, 21, 22, 23, 24, 25, 26, 27, 28, 29, 30, 31, 32, 33, 34, 35, 36, 37, 38, 39, 40, 41, 42, 43, 44, 45, 46, 47, 48, 49, 50, 51, 52, 53, 54, 55, 56, 57, 58, 59, 60, 61, 62, 63, 64, 65, 66, 67, 68, 69, 70, 71, 72, 73, 74, 75, 76, 77, 78, 79, 80, 81, 82, 83, 84, 85, 86, 87, 88, 89, 90, 91, 92, 93, 94, 95, 96, 97, 98, 99], \"y\": [-0.6097684872700382, -0.8493487007227505, 0.9977510237274378, -0.1071962371054894, -1.699524977003542, 0.8082757927760422, 0.8193580554685013, -0.2061772615607506, -0.26313042840768197, 0.5600361067764692, -0.4501981737498376, -0.9544772042218531, -1.319940076686102, -1.125617561514794, -0.3956045049936414, -0.8370623937043047, 1.1686872383712643, -0.23243709044945235, -0.5340987999737385, -2.0614316426642536, 0.753559286628637, -0.8528918211334426, -0.22309759866097068, -0.7113387792238788, -0.5101411104217729, -0.6342668440941034, -0.6324370086317639, 0.2714510243492082, -0.5213238007382588, -1.4086465885726056, -0.5420087867655164, 0.6677503468224606, -0.18855694230016076, 2.0671336870595733, -0.47682455918418043, -0.024979430414229276, 1.3061706720343416, 2.786030341090841, 0.5486606319358823, 1.1606684174771362, 0.1451160819641703, 2.136969133851484, 0.770381179614506, -0.7556527371529544, 0.5601210636156078, 0.3307869065359323, -1.3478670652302134, 0.08644174068175664, 1.2905756068011163, 2.275549593676335, -0.47563159079150313, 0.23889454006422195, -1.7043014333897235, -1.4533176672403718, 0.5360611298269806, 0.25318959135101454, 0.004821837557940499, 1.4422811243330096, 0.7317807073826776, 0.40437412573002657, -0.09522520392275328, 0.6365245480331461, 0.23493643856197943, 0.8931242125821466, -0.46845291625732416, 0.3781014047855431, -1.2452813787819295, 0.7720600839543568, -0.1467225346322123, -0.6315021974816304, -0.7269821770978143, -0.4242118835802408, 1.8098886957875182, 0.6340870632825684, -0.7524498968821255, 2.334655966396287, -0.8492378201748007, 1.1964317058351615, 0.18153694390689393, 0.8732838633312291, 1.07784296658968, 0.3459866622514968, -0.7214103607850231, -1.2049057150110316, 0.5013151212405151, -1.3069831656188589, 0.11814842323440919, -0.01760325733177132, -1.031507466879412, 0.8105398816366775, 0.2630311106697119, 1.1610935950229937, -0.9110603984749275, 0.38128147794092065, -0.32120478827120125, -0.909703102805338, 0.9665818363963105, -0.815837744405378, -1.5352152603233933, 0.20011286751182206]}, {\"connectgaps\": false, \"fill\": \"tozeroy\", \"line\": {\"color\": \"green\", \"dash\": \"solid\", \"shape\": \"linear\", \"width\": 0.5}, \"mode\": \"lines\", \"name\": \"Spread\", \"showlegend\": false, \"type\": \"scatter\", \"x\": [0, 1, 2, 3, 4, 5, 6, 7, 8, 9, 10, 11, 12, 13, 14, 15, 16, 17, 18, 19, 20, 21, 22, 23, 24, 25, 26, 27, 28, 29, 30, 31, 32, 33, 34, 35, 36, 37, 38, 39, 40, 41, 42, 43, 44, 45, 46, 47, 48, 49, 50, 51, 52, 53, 54, 55, 56, 57, 58, 59, 60, 61, 62, 63, 64, 65, 66, 67, 68, 69, 70, 71, 72, 73, 74, 75, 76, 77, 78, 79, 80, 81, 82, 83, 84, 85, 86, 87, 88, 89, 90, 91, 92, 93, 94, 95, 96, 97, 98, 99], \"xaxis\": \"x2\", \"y\": [0.6556305044833055, 0.19534432570494797, \"\", 0.5318708302249522, 0.956630850697676, 1.1676696585195474, \"\", 0.4765234612115866, 1.0158183816819073, 0.12355976482049325, 0.19558065481242703, \"\", 0.44718938987397694, \"\", 0.01707222440678302, \"\", \"\", \"\", 2.2945765274508316, 1.3776202746435335, \"\", \"\", 0.306438981739663, 1.0676197091786856, \"\", 0.5206753429602219, \"\", \"\", \"\", 1.295247656271334, 0.17805138421775024, \"\", 0.032508083881059, \"\", \"\", 0.16888277690801656, \"\", \"\", \"\", \"\", \"\", \"\", \"\", 1.680268088975397, \"\", \"\", 1.2048775349382363, \"\", \"\", \"\", 0.09829827826183513, \"\", 3.1462259457485198, 1.486311144747328, \"\", 1.4635350614844718, \"\", \"\", \"\", \"\", \"\", \"\", \"\", \"\", \"\", 0.03589612839728612, 2.612722460144809, 0.9071534841111033, \"\", 0.7321570046244592, \"\", 1.0104848234627846, \"\", \"\", \"\", \"\", 1.8593456132107975, \"\", \"\", \"\", \"\", \"\", 0.11444954079087, 1.3560096709077036, 0.5628485697289161, 2.4504088288830594, \"\", 0.2082120831176714, 0.6199426357313869, 2.3881407241598684, \"\", \"\", \"\", \"\", \"\", 1.6686404253775922, \"\", 1.353027839888088, 2.127129462260751, 0.1683085938213627], \"yaxis\": \"y2\"}, {\"connectgaps\": false, \"fill\": \"tozeroy\", \"line\": {\"color\": \"red\", \"dash\": \"solid\", \"shape\": \"linear\", \"width\": 0.5}, \"mode\": \"lines\", \"name\": \"Spread\", \"showlegend\": false, \"type\": \"scatter\", \"x\": [0, 1, 2, 3, 4, 5, 6, 7, 8, 9, 10, 11, 12, 13, 14, 15, 16, 17, 18, 19, 20, 21, 22, 23, 24, 25, 26, 27, 28, 29, 30, 31, 32, 33, 34, 35, 36, 37, 38, 39, 40, 41, 42, 43, 44, 45, 46, 47, 48, 49, 50, 51, 52, 53, 54, 55, 56, 57, 58, 59, 60, 61, 62, 63, 64, 65, 66, 67, 68, 69, 70, 71, 72, 73, 74, 75, 76, 77, 78, 79, 80, 81, 82, 83, 84, 85, 86, 87, 88, 89, 90, 91, 92, 93, 94, 95, 96, 97, 98, 99], \"xaxis\": \"x2\", \"y\": [\"\", \"\", -1.1532796379570556, \"\", \"\", \"\", -0.4471949327250475, \"\", \"\", \"\", \"\", -0.4717504570515393, \"\", -0.5123662918927061, \"\", -0.022838614604502094, -0.7057529834585328, -0.245737952324368, \"\", \"\", -2.1842945294107863, -0.9723835565647176, \"\", \"\", -0.764835627498616, \"\", -0.3569000493486907, -1.1249214049595098, -0.4695559812516522, \"\", \"\", -2.5875734424462533, \"\", -3.3091430156029595, -0.6106610204312111, \"\", -1.6444046262517562, -3.1375062171055816, -1.2549574304788558, -1.2856780656478262, -1.0737149819972904, -0.5536256788405423, -3.263221952256562, \"\", -1.4213252402178642, -1.5178712932376732, \"\", -1.2496820032407034, -0.8807481456370408, -2.5646606642297987, \"\", -1.008936436472856, \"\", \"\", -0.23159525695628358, \"\", -1.753677674999847, -1.8505059607928414, -1.1688313279453533, -0.12879955632347723, -1.6797038401034792, -0.9051648581688164, -0.8840062301797765, -0.5823350502404954, -0.8323650075025115, \"\", \"\", \"\", -1.5790324550600052, \"\", -0.8880520616949156, \"\", -3.173329048295919, -0.35650651733110206, -0.22334758791120934, -3.4336004858498033, \"\", -1.374250664080685, -0.9550173186654571, -1.6268005952327944, -1.2449300227730702, -0.6757456947412694, \"\", \"\", \"\", \"\", -1.564849336745906, \"\", \"\", \"\", -1.9539888049061984, -2.329776073843422, -0.141439806316896, -0.6482704977318041, -0.6033308304652804, \"\", -1.372734995359019, \"\", \"\", \"\"], \"yaxis\": \"y2\"}],\n",
       "                        {\"hovermode\": \"x\", \"legend\": {\"bgcolor\": \"#F5F6F9\", \"font\": {\"color\": \"#4D5663\"}}, \"paper_bgcolor\": \"#F5F6F9\", \"plot_bgcolor\": \"#F5F6F9\", \"template\": {\"data\": {\"bar\": [{\"error_x\": {\"color\": \"#2a3f5f\"}, \"error_y\": {\"color\": \"#2a3f5f\"}, \"marker\": {\"line\": {\"color\": \"#E5ECF6\", \"width\": 0.5}}, \"type\": \"bar\"}], \"barpolar\": [{\"marker\": {\"line\": {\"color\": \"#E5ECF6\", \"width\": 0.5}}, \"type\": \"barpolar\"}], \"carpet\": [{\"aaxis\": {\"endlinecolor\": \"#2a3f5f\", \"gridcolor\": \"white\", \"linecolor\": \"white\", \"minorgridcolor\": \"white\", \"startlinecolor\": \"#2a3f5f\"}, \"baxis\": {\"endlinecolor\": \"#2a3f5f\", \"gridcolor\": \"white\", \"linecolor\": \"white\", \"minorgridcolor\": \"white\", \"startlinecolor\": \"#2a3f5f\"}, \"type\": \"carpet\"}], \"choropleth\": [{\"colorbar\": {\"outlinewidth\": 0, \"ticks\": \"\"}, \"type\": \"choropleth\"}], \"contour\": [{\"colorbar\": {\"outlinewidth\": 0, \"ticks\": \"\"}, \"colorscale\": [[0.0, \"#0d0887\"], [0.1111111111111111, \"#46039f\"], [0.2222222222222222, \"#7201a8\"], [0.3333333333333333, \"#9c179e\"], [0.4444444444444444, \"#bd3786\"], [0.5555555555555556, \"#d8576b\"], [0.6666666666666666, \"#ed7953\"], [0.7777777777777778, \"#fb9f3a\"], [0.8888888888888888, \"#fdca26\"], [1.0, \"#f0f921\"]], \"type\": \"contour\"}], \"contourcarpet\": [{\"colorbar\": {\"outlinewidth\": 0, \"ticks\": \"\"}, \"type\": \"contourcarpet\"}], \"heatmap\": [{\"colorbar\": {\"outlinewidth\": 0, \"ticks\": \"\"}, \"colorscale\": [[0.0, \"#0d0887\"], [0.1111111111111111, \"#46039f\"], [0.2222222222222222, \"#7201a8\"], [0.3333333333333333, \"#9c179e\"], [0.4444444444444444, \"#bd3786\"], [0.5555555555555556, \"#d8576b\"], [0.6666666666666666, \"#ed7953\"], [0.7777777777777778, \"#fb9f3a\"], [0.8888888888888888, \"#fdca26\"], [1.0, \"#f0f921\"]], \"type\": \"heatmap\"}], \"heatmapgl\": [{\"colorbar\": {\"outlinewidth\": 0, \"ticks\": \"\"}, \"colorscale\": [[0.0, \"#0d0887\"], [0.1111111111111111, \"#46039f\"], [0.2222222222222222, \"#7201a8\"], [0.3333333333333333, \"#9c179e\"], [0.4444444444444444, \"#bd3786\"], [0.5555555555555556, \"#d8576b\"], [0.6666666666666666, \"#ed7953\"], [0.7777777777777778, \"#fb9f3a\"], [0.8888888888888888, \"#fdca26\"], [1.0, \"#f0f921\"]], \"type\": \"heatmapgl\"}], \"histogram\": [{\"marker\": {\"colorbar\": {\"outlinewidth\": 0, \"ticks\": \"\"}}, \"type\": \"histogram\"}], \"histogram2d\": [{\"colorbar\": {\"outlinewidth\": 0, \"ticks\": \"\"}, \"colorscale\": [[0.0, \"#0d0887\"], [0.1111111111111111, \"#46039f\"], [0.2222222222222222, \"#7201a8\"], [0.3333333333333333, \"#9c179e\"], [0.4444444444444444, \"#bd3786\"], [0.5555555555555556, \"#d8576b\"], [0.6666666666666666, \"#ed7953\"], [0.7777777777777778, \"#fb9f3a\"], [0.8888888888888888, \"#fdca26\"], [1.0, \"#f0f921\"]], \"type\": \"histogram2d\"}], \"histogram2dcontour\": [{\"colorbar\": {\"outlinewidth\": 0, \"ticks\": \"\"}, \"colorscale\": [[0.0, \"#0d0887\"], [0.1111111111111111, \"#46039f\"], [0.2222222222222222, \"#7201a8\"], [0.3333333333333333, \"#9c179e\"], [0.4444444444444444, \"#bd3786\"], [0.5555555555555556, \"#d8576b\"], [0.6666666666666666, \"#ed7953\"], [0.7777777777777778, \"#fb9f3a\"], [0.8888888888888888, \"#fdca26\"], [1.0, \"#f0f921\"]], \"type\": \"histogram2dcontour\"}], \"mesh3d\": [{\"colorbar\": {\"outlinewidth\": 0, \"ticks\": \"\"}, \"type\": \"mesh3d\"}], \"parcoords\": [{\"line\": {\"colorbar\": {\"outlinewidth\": 0, \"ticks\": \"\"}}, \"type\": \"parcoords\"}], \"pie\": [{\"automargin\": true, \"type\": \"pie\"}], \"scatter\": [{\"marker\": {\"colorbar\": {\"outlinewidth\": 0, \"ticks\": \"\"}}, \"type\": \"scatter\"}], \"scatter3d\": [{\"line\": {\"colorbar\": {\"outlinewidth\": 0, \"ticks\": \"\"}}, \"marker\": {\"colorbar\": {\"outlinewidth\": 0, \"ticks\": \"\"}}, \"type\": \"scatter3d\"}], \"scattercarpet\": [{\"marker\": {\"colorbar\": {\"outlinewidth\": 0, \"ticks\": \"\"}}, \"type\": \"scattercarpet\"}], \"scattergeo\": [{\"marker\": {\"colorbar\": {\"outlinewidth\": 0, \"ticks\": \"\"}}, \"type\": \"scattergeo\"}], \"scattergl\": [{\"marker\": {\"colorbar\": {\"outlinewidth\": 0, \"ticks\": \"\"}}, \"type\": \"scattergl\"}], \"scattermapbox\": [{\"marker\": {\"colorbar\": {\"outlinewidth\": 0, \"ticks\": \"\"}}, \"type\": \"scattermapbox\"}], \"scatterpolar\": [{\"marker\": {\"colorbar\": {\"outlinewidth\": 0, \"ticks\": \"\"}}, \"type\": \"scatterpolar\"}], \"scatterpolargl\": [{\"marker\": {\"colorbar\": {\"outlinewidth\": 0, \"ticks\": \"\"}}, \"type\": \"scatterpolargl\"}], \"scatterternary\": [{\"marker\": {\"colorbar\": {\"outlinewidth\": 0, \"ticks\": \"\"}}, \"type\": \"scatterternary\"}], \"surface\": [{\"colorbar\": {\"outlinewidth\": 0, \"ticks\": \"\"}, \"colorscale\": [[0.0, \"#0d0887\"], [0.1111111111111111, \"#46039f\"], [0.2222222222222222, \"#7201a8\"], [0.3333333333333333, \"#9c179e\"], [0.4444444444444444, \"#bd3786\"], [0.5555555555555556, \"#d8576b\"], [0.6666666666666666, \"#ed7953\"], [0.7777777777777778, \"#fb9f3a\"], [0.8888888888888888, \"#fdca26\"], [1.0, \"#f0f921\"]], \"type\": \"surface\"}], \"table\": [{\"cells\": {\"fill\": {\"color\": \"#EBF0F8\"}, \"line\": {\"color\": \"white\"}}, \"header\": {\"fill\": {\"color\": \"#C8D4E3\"}, \"line\": {\"color\": \"white\"}}, \"type\": \"table\"}]}, \"layout\": {\"annotationdefaults\": {\"arrowcolor\": \"#2a3f5f\", \"arrowhead\": 0, \"arrowwidth\": 1}, \"coloraxis\": {\"colorbar\": {\"outlinewidth\": 0, \"ticks\": \"\"}}, \"colorscale\": {\"diverging\": [[0, \"#8e0152\"], [0.1, \"#c51b7d\"], [0.2, \"#de77ae\"], [0.3, \"#f1b6da\"], [0.4, \"#fde0ef\"], [0.5, \"#f7f7f7\"], [0.6, \"#e6f5d0\"], [0.7, \"#b8e186\"], [0.8, \"#7fbc41\"], [0.9, \"#4d9221\"], [1, \"#276419\"]], \"sequential\": [[0.0, \"#0d0887\"], [0.1111111111111111, \"#46039f\"], [0.2222222222222222, \"#7201a8\"], [0.3333333333333333, \"#9c179e\"], [0.4444444444444444, \"#bd3786\"], [0.5555555555555556, \"#d8576b\"], [0.6666666666666666, \"#ed7953\"], [0.7777777777777778, \"#fb9f3a\"], [0.8888888888888888, \"#fdca26\"], [1.0, \"#f0f921\"]], \"sequentialminus\": [[0.0, \"#0d0887\"], [0.1111111111111111, \"#46039f\"], [0.2222222222222222, \"#7201a8\"], [0.3333333333333333, \"#9c179e\"], [0.4444444444444444, \"#bd3786\"], [0.5555555555555556, \"#d8576b\"], [0.6666666666666666, \"#ed7953\"], [0.7777777777777778, \"#fb9f3a\"], [0.8888888888888888, \"#fdca26\"], [1.0, \"#f0f921\"]]}, \"colorway\": [\"#636efa\", \"#EF553B\", \"#00cc96\", \"#ab63fa\", \"#FFA15A\", \"#19d3f3\", \"#FF6692\", \"#B6E880\", \"#FF97FF\", \"#FECB52\"], \"font\": {\"color\": \"#2a3f5f\"}, \"geo\": {\"bgcolor\": \"white\", \"lakecolor\": \"white\", \"landcolor\": \"#E5ECF6\", \"showlakes\": true, \"showland\": true, \"subunitcolor\": \"white\"}, \"hoverlabel\": {\"align\": \"left\"}, \"hovermode\": \"closest\", \"mapbox\": {\"style\": \"light\"}, \"paper_bgcolor\": \"white\", \"plot_bgcolor\": \"#E5ECF6\", \"polar\": {\"angularaxis\": {\"gridcolor\": \"white\", \"linecolor\": \"white\", \"ticks\": \"\"}, \"bgcolor\": \"#E5ECF6\", \"radialaxis\": {\"gridcolor\": \"white\", \"linecolor\": \"white\", \"ticks\": \"\"}}, \"scene\": {\"xaxis\": {\"backgroundcolor\": \"#E5ECF6\", \"gridcolor\": \"white\", \"gridwidth\": 2, \"linecolor\": \"white\", \"showbackground\": true, \"ticks\": \"\", \"zerolinecolor\": \"white\"}, \"yaxis\": {\"backgroundcolor\": \"#E5ECF6\", \"gridcolor\": \"white\", \"gridwidth\": 2, \"linecolor\": \"white\", \"showbackground\": true, \"ticks\": \"\", \"zerolinecolor\": \"white\"}, \"zaxis\": {\"backgroundcolor\": \"#E5ECF6\", \"gridcolor\": \"white\", \"gridwidth\": 2, \"linecolor\": \"white\", \"showbackground\": true, \"ticks\": \"\", \"zerolinecolor\": \"white\"}}, \"shapedefaults\": {\"line\": {\"color\": \"#2a3f5f\"}}, \"ternary\": {\"aaxis\": {\"gridcolor\": \"white\", \"linecolor\": \"white\", \"ticks\": \"\"}, \"baxis\": {\"gridcolor\": \"white\", \"linecolor\": \"white\", \"ticks\": \"\"}, \"bgcolor\": \"#E5ECF6\", \"caxis\": {\"gridcolor\": \"white\", \"linecolor\": \"white\", \"ticks\": \"\"}}, \"title\": {\"x\": 0.05}, \"xaxis\": {\"automargin\": true, \"gridcolor\": \"white\", \"linecolor\": \"white\", \"ticks\": \"\", \"title\": {\"standoff\": 15}, \"zerolinecolor\": \"white\", \"zerolinewidth\": 2}, \"yaxis\": {\"automargin\": true, \"gridcolor\": \"white\", \"linecolor\": \"white\", \"ticks\": \"\", \"title\": {\"standoff\": 15}, \"zerolinecolor\": \"white\", \"zerolinewidth\": 2}}}, \"title\": {\"font\": {\"color\": \"#4D5663\"}}, \"xaxis\": {\"gridcolor\": \"#E1E5ED\", \"showgrid\": true, \"tickfont\": {\"color\": \"#4D5663\"}, \"title\": {\"font\": {\"color\": \"#4D5663\"}, \"text\": \"\"}, \"zerolinecolor\": \"#E1E5ED\"}, \"xaxis2\": {\"anchor\": \"y2\", \"gridcolor\": \"#E1E5ED\", \"showgrid\": true, \"showticklabels\": false, \"tickfont\": {\"color\": \"#4D5663\"}, \"title\": {\"font\": {\"color\": \"#4D5663\"}, \"text\": \"\"}, \"zerolinecolor\": \"#E1E5ED\"}, \"yaxis\": {\"domain\": [0.3, 1], \"gridcolor\": \"#E1E5ED\", \"showgrid\": true, \"tickfont\": {\"color\": \"#4D5663\"}, \"title\": {\"font\": {\"color\": \"#4D5663\"}, \"text\": \"\"}, \"zerolinecolor\": \"#E1E5ED\"}, \"yaxis2\": {\"domain\": [0, 0.25], \"gridcolor\": \"#E1E5ED\", \"showgrid\": true, \"tickfont\": {\"color\": \"#4D5663\"}, \"title\": {\"font\": {\"color\": \"#4D5663\"}, \"text\": \"Spread\"}, \"zerolinecolor\": \"#E1E5ED\"}},\n",
       "                        {\"showLink\": true, \"linkText\": \"Export to plot.ly\", \"plotlyServerURL\": \"https://plot.ly\", \"responsive\": true}\n",
       "                    ).then(function(){\n",
       "                            \n",
       "var gd = document.getElementById('6431b96b-e2a4-4536-ba4f-23dfe244ba62');\n",
       "var x = new MutationObserver(function (mutations, observer) {{\n",
       "        var display = window.getComputedStyle(gd).display;\n",
       "        if (!display || display === 'none') {{\n",
       "            console.log([gd, 'removed!']);\n",
       "            Plotly.purge(gd);\n",
       "            observer.disconnect();\n",
       "        }}\n",
       "}});\n",
       "\n",
       "// Listen for the removal of the full notebook cells\n",
       "var notebookContainer = gd.closest('#notebook-container');\n",
       "if (notebookContainer) {{\n",
       "    x.observe(notebookContainer, {childList: true});\n",
       "}}\n",
       "\n",
       "// Listen for the clearing of the current output cell\n",
       "var outputEl = gd.closest('.output');\n",
       "if (outputEl) {{\n",
       "    x.observe(outputEl, {childList: true});\n",
       "}}\n",
       "\n",
       "                        })\n",
       "                };\n",
       "                });\n",
       "            </script>\n",
       "        </div>"
      ]
     },
     "metadata": {},
     "output_type": "display_data"
    }
   ],
   "source": [
    "df[['A','B']].iplot(kind='spread')"
   ]
  },
  {
   "cell_type": "markdown",
   "metadata": {},
   "source": [
    "## histogram"
   ]
  },
  {
   "cell_type": "code",
   "execution_count": 16,
   "metadata": {},
   "outputs": [
    {
     "data": {
      "application/vnd.plotly.v1+json": {
       "config": {
        "linkText": "Export to plot.ly",
        "plotlyServerURL": "https://plot.ly",
        "showLink": true
       },
       "data": [
        {
         "histfunc": "count",
         "histnorm": "",
         "marker": {
          "color": "rgba(255, 153, 51, 1.0)",
          "line": {
           "color": "#4D5663",
           "width": 1.3
          }
         },
         "name": "A",
         "nbinsx": 25,
         "opacity": 0.8,
         "orientation": "v",
         "type": "histogram",
         "x": [
          0.04586201721326738,
          -0.6540043750178025,
          -0.15552861422961764,
          0.4246745931194628,
          -0.7428941263058662,
          1.9759454512955896,
          0.37216312274345376,
          0.270346199650836,
          0.7526879532742253,
          0.6835958715969624,
          -0.2546175189374106,
          -1.4262276612733924,
          -0.8727506868121251,
          -1.6379838534075002,
          -0.3785322805868584,
          -0.8599010083088068,
          0.4629342549127315,
          -0.47817504277382034,
          1.7604777274770929,
          -0.6838113680207202,
          -1.4307352427821491,
          -1.8252753776981603,
          0.0833413830786923,
          0.35628092995480676,
          -1.274976737920389,
          -0.11359150113388154,
          -0.9893370579804546,
          -0.8534703806103016,
          -0.990879781989911,
          -0.11339893230127164,
          -0.3639574025477662,
          -1.9198230956237927,
          -0.15604885841910177,
          -1.242009328543386,
          -1.0874855796153915,
          0.14390334649378728,
          -0.3382339542174146,
          -0.3514758760147406,
          -0.7062967985429734,
          -0.12500964817068996,
          -0.9285989000331202,
          1.5833434550109415,
          -2.4928407726420563,
          0.9246153518224425,
          -0.8612041766022565,
          -1.1870843867017409,
          -0.14298953029197703,
          -1.1632402625589469,
          0.4098274611640754,
          -0.2891110705534637,
          -0.377333312529668,
          -0.7700418964086341,
          1.4419245123587963,
          0.03299347750695614,
          0.30446587287069704,
          1.7167246528354863,
          -1.7488558374419065,
          -0.4082248364598318,
          -0.43705062056267563,
          0.27557456940654934,
          -1.7749290440262324,
          -0.26864031013567036,
          -0.6490697916177971,
          0.31078916234165116,
          -1.3008179237598356,
          0.4139975331828292,
          1.3674410813628795,
          1.67921356806546,
          -1.7257549896922175,
          0.10065480714282876,
          -1.61503423879273,
          0.5862729398825437,
          -1.3634403525084011,
          0.2775805459514663,
          -0.9757974847933348,
          -1.098944519453516,
          1.0101077930359967,
          -0.17781895824552374,
          -0.7734803747585632,
          -0.7535167319015652,
          -0.16708705618339023,
          -0.3297590324897727,
          -0.6069608199941531,
          0.151103955896672,
          1.0641636909694312,
          1.1434256632642008,
          -1.4467009135114968,
          0.19060882578590008,
          -0.41156483114802506,
          3.198680605796546,
          -1.6909576942364866,
          -1.1686824788204284,
          -1.0525002047918235,
          -0.2669890197908835,
          -0.9245356187364816,
          0.7589373225722542,
          -0.40615315896270865,
          0.5371900954827098,
          0.5919142019373578,
          0.36842146133318476
         ]
        }
       ],
       "layout": {
        "barmode": "overlay",
        "legend": {
         "bgcolor": "#F5F6F9",
         "font": {
          "color": "#4D5663"
         }
        },
        "paper_bgcolor": "#F5F6F9",
        "plot_bgcolor": "#F5F6F9",
        "template": {
         "data": {
          "bar": [
           {
            "error_x": {
             "color": "#2a3f5f"
            },
            "error_y": {
             "color": "#2a3f5f"
            },
            "marker": {
             "line": {
              "color": "#E5ECF6",
              "width": 0.5
             }
            },
            "type": "bar"
           }
          ],
          "barpolar": [
           {
            "marker": {
             "line": {
              "color": "#E5ECF6",
              "width": 0.5
             }
            },
            "type": "barpolar"
           }
          ],
          "carpet": [
           {
            "aaxis": {
             "endlinecolor": "#2a3f5f",
             "gridcolor": "white",
             "linecolor": "white",
             "minorgridcolor": "white",
             "startlinecolor": "#2a3f5f"
            },
            "baxis": {
             "endlinecolor": "#2a3f5f",
             "gridcolor": "white",
             "linecolor": "white",
             "minorgridcolor": "white",
             "startlinecolor": "#2a3f5f"
            },
            "type": "carpet"
           }
          ],
          "choropleth": [
           {
            "colorbar": {
             "outlinewidth": 0,
             "ticks": ""
            },
            "type": "choropleth"
           }
          ],
          "contour": [
           {
            "colorbar": {
             "outlinewidth": 0,
             "ticks": ""
            },
            "colorscale": [
             [
              0,
              "#0d0887"
             ],
             [
              0.1111111111111111,
              "#46039f"
             ],
             [
              0.2222222222222222,
              "#7201a8"
             ],
             [
              0.3333333333333333,
              "#9c179e"
             ],
             [
              0.4444444444444444,
              "#bd3786"
             ],
             [
              0.5555555555555556,
              "#d8576b"
             ],
             [
              0.6666666666666666,
              "#ed7953"
             ],
             [
              0.7777777777777778,
              "#fb9f3a"
             ],
             [
              0.8888888888888888,
              "#fdca26"
             ],
             [
              1,
              "#f0f921"
             ]
            ],
            "type": "contour"
           }
          ],
          "contourcarpet": [
           {
            "colorbar": {
             "outlinewidth": 0,
             "ticks": ""
            },
            "type": "contourcarpet"
           }
          ],
          "heatmap": [
           {
            "colorbar": {
             "outlinewidth": 0,
             "ticks": ""
            },
            "colorscale": [
             [
              0,
              "#0d0887"
             ],
             [
              0.1111111111111111,
              "#46039f"
             ],
             [
              0.2222222222222222,
              "#7201a8"
             ],
             [
              0.3333333333333333,
              "#9c179e"
             ],
             [
              0.4444444444444444,
              "#bd3786"
             ],
             [
              0.5555555555555556,
              "#d8576b"
             ],
             [
              0.6666666666666666,
              "#ed7953"
             ],
             [
              0.7777777777777778,
              "#fb9f3a"
             ],
             [
              0.8888888888888888,
              "#fdca26"
             ],
             [
              1,
              "#f0f921"
             ]
            ],
            "type": "heatmap"
           }
          ],
          "heatmapgl": [
           {
            "colorbar": {
             "outlinewidth": 0,
             "ticks": ""
            },
            "colorscale": [
             [
              0,
              "#0d0887"
             ],
             [
              0.1111111111111111,
              "#46039f"
             ],
             [
              0.2222222222222222,
              "#7201a8"
             ],
             [
              0.3333333333333333,
              "#9c179e"
             ],
             [
              0.4444444444444444,
              "#bd3786"
             ],
             [
              0.5555555555555556,
              "#d8576b"
             ],
             [
              0.6666666666666666,
              "#ed7953"
             ],
             [
              0.7777777777777778,
              "#fb9f3a"
             ],
             [
              0.8888888888888888,
              "#fdca26"
             ],
             [
              1,
              "#f0f921"
             ]
            ],
            "type": "heatmapgl"
           }
          ],
          "histogram": [
           {
            "marker": {
             "colorbar": {
              "outlinewidth": 0,
              "ticks": ""
             }
            },
            "type": "histogram"
           }
          ],
          "histogram2d": [
           {
            "colorbar": {
             "outlinewidth": 0,
             "ticks": ""
            },
            "colorscale": [
             [
              0,
              "#0d0887"
             ],
             [
              0.1111111111111111,
              "#46039f"
             ],
             [
              0.2222222222222222,
              "#7201a8"
             ],
             [
              0.3333333333333333,
              "#9c179e"
             ],
             [
              0.4444444444444444,
              "#bd3786"
             ],
             [
              0.5555555555555556,
              "#d8576b"
             ],
             [
              0.6666666666666666,
              "#ed7953"
             ],
             [
              0.7777777777777778,
              "#fb9f3a"
             ],
             [
              0.8888888888888888,
              "#fdca26"
             ],
             [
              1,
              "#f0f921"
             ]
            ],
            "type": "histogram2d"
           }
          ],
          "histogram2dcontour": [
           {
            "colorbar": {
             "outlinewidth": 0,
             "ticks": ""
            },
            "colorscale": [
             [
              0,
              "#0d0887"
             ],
             [
              0.1111111111111111,
              "#46039f"
             ],
             [
              0.2222222222222222,
              "#7201a8"
             ],
             [
              0.3333333333333333,
              "#9c179e"
             ],
             [
              0.4444444444444444,
              "#bd3786"
             ],
             [
              0.5555555555555556,
              "#d8576b"
             ],
             [
              0.6666666666666666,
              "#ed7953"
             ],
             [
              0.7777777777777778,
              "#fb9f3a"
             ],
             [
              0.8888888888888888,
              "#fdca26"
             ],
             [
              1,
              "#f0f921"
             ]
            ],
            "type": "histogram2dcontour"
           }
          ],
          "mesh3d": [
           {
            "colorbar": {
             "outlinewidth": 0,
             "ticks": ""
            },
            "type": "mesh3d"
           }
          ],
          "parcoords": [
           {
            "line": {
             "colorbar": {
              "outlinewidth": 0,
              "ticks": ""
             }
            },
            "type": "parcoords"
           }
          ],
          "pie": [
           {
            "automargin": true,
            "type": "pie"
           }
          ],
          "scatter": [
           {
            "marker": {
             "colorbar": {
              "outlinewidth": 0,
              "ticks": ""
             }
            },
            "type": "scatter"
           }
          ],
          "scatter3d": [
           {
            "line": {
             "colorbar": {
              "outlinewidth": 0,
              "ticks": ""
             }
            },
            "marker": {
             "colorbar": {
              "outlinewidth": 0,
              "ticks": ""
             }
            },
            "type": "scatter3d"
           }
          ],
          "scattercarpet": [
           {
            "marker": {
             "colorbar": {
              "outlinewidth": 0,
              "ticks": ""
             }
            },
            "type": "scattercarpet"
           }
          ],
          "scattergeo": [
           {
            "marker": {
             "colorbar": {
              "outlinewidth": 0,
              "ticks": ""
             }
            },
            "type": "scattergeo"
           }
          ],
          "scattergl": [
           {
            "marker": {
             "colorbar": {
              "outlinewidth": 0,
              "ticks": ""
             }
            },
            "type": "scattergl"
           }
          ],
          "scattermapbox": [
           {
            "marker": {
             "colorbar": {
              "outlinewidth": 0,
              "ticks": ""
             }
            },
            "type": "scattermapbox"
           }
          ],
          "scatterpolar": [
           {
            "marker": {
             "colorbar": {
              "outlinewidth": 0,
              "ticks": ""
             }
            },
            "type": "scatterpolar"
           }
          ],
          "scatterpolargl": [
           {
            "marker": {
             "colorbar": {
              "outlinewidth": 0,
              "ticks": ""
             }
            },
            "type": "scatterpolargl"
           }
          ],
          "scatterternary": [
           {
            "marker": {
             "colorbar": {
              "outlinewidth": 0,
              "ticks": ""
             }
            },
            "type": "scatterternary"
           }
          ],
          "surface": [
           {
            "colorbar": {
             "outlinewidth": 0,
             "ticks": ""
            },
            "colorscale": [
             [
              0,
              "#0d0887"
             ],
             [
              0.1111111111111111,
              "#46039f"
             ],
             [
              0.2222222222222222,
              "#7201a8"
             ],
             [
              0.3333333333333333,
              "#9c179e"
             ],
             [
              0.4444444444444444,
              "#bd3786"
             ],
             [
              0.5555555555555556,
              "#d8576b"
             ],
             [
              0.6666666666666666,
              "#ed7953"
             ],
             [
              0.7777777777777778,
              "#fb9f3a"
             ],
             [
              0.8888888888888888,
              "#fdca26"
             ],
             [
              1,
              "#f0f921"
             ]
            ],
            "type": "surface"
           }
          ],
          "table": [
           {
            "cells": {
             "fill": {
              "color": "#EBF0F8"
             },
             "line": {
              "color": "white"
             }
            },
            "header": {
             "fill": {
              "color": "#C8D4E3"
             },
             "line": {
              "color": "white"
             }
            },
            "type": "table"
           }
          ]
         },
         "layout": {
          "annotationdefaults": {
           "arrowcolor": "#2a3f5f",
           "arrowhead": 0,
           "arrowwidth": 1
          },
          "coloraxis": {
           "colorbar": {
            "outlinewidth": 0,
            "ticks": ""
           }
          },
          "colorscale": {
           "diverging": [
            [
             0,
             "#8e0152"
            ],
            [
             0.1,
             "#c51b7d"
            ],
            [
             0.2,
             "#de77ae"
            ],
            [
             0.3,
             "#f1b6da"
            ],
            [
             0.4,
             "#fde0ef"
            ],
            [
             0.5,
             "#f7f7f7"
            ],
            [
             0.6,
             "#e6f5d0"
            ],
            [
             0.7,
             "#b8e186"
            ],
            [
             0.8,
             "#7fbc41"
            ],
            [
             0.9,
             "#4d9221"
            ],
            [
             1,
             "#276419"
            ]
           ],
           "sequential": [
            [
             0,
             "#0d0887"
            ],
            [
             0.1111111111111111,
             "#46039f"
            ],
            [
             0.2222222222222222,
             "#7201a8"
            ],
            [
             0.3333333333333333,
             "#9c179e"
            ],
            [
             0.4444444444444444,
             "#bd3786"
            ],
            [
             0.5555555555555556,
             "#d8576b"
            ],
            [
             0.6666666666666666,
             "#ed7953"
            ],
            [
             0.7777777777777778,
             "#fb9f3a"
            ],
            [
             0.8888888888888888,
             "#fdca26"
            ],
            [
             1,
             "#f0f921"
            ]
           ],
           "sequentialminus": [
            [
             0,
             "#0d0887"
            ],
            [
             0.1111111111111111,
             "#46039f"
            ],
            [
             0.2222222222222222,
             "#7201a8"
            ],
            [
             0.3333333333333333,
             "#9c179e"
            ],
            [
             0.4444444444444444,
             "#bd3786"
            ],
            [
             0.5555555555555556,
             "#d8576b"
            ],
            [
             0.6666666666666666,
             "#ed7953"
            ],
            [
             0.7777777777777778,
             "#fb9f3a"
            ],
            [
             0.8888888888888888,
             "#fdca26"
            ],
            [
             1,
             "#f0f921"
            ]
           ]
          },
          "colorway": [
           "#636efa",
           "#EF553B",
           "#00cc96",
           "#ab63fa",
           "#FFA15A",
           "#19d3f3",
           "#FF6692",
           "#B6E880",
           "#FF97FF",
           "#FECB52"
          ],
          "font": {
           "color": "#2a3f5f"
          },
          "geo": {
           "bgcolor": "white",
           "lakecolor": "white",
           "landcolor": "#E5ECF6",
           "showlakes": true,
           "showland": true,
           "subunitcolor": "white"
          },
          "hoverlabel": {
           "align": "left"
          },
          "hovermode": "closest",
          "mapbox": {
           "style": "light"
          },
          "paper_bgcolor": "white",
          "plot_bgcolor": "#E5ECF6",
          "polar": {
           "angularaxis": {
            "gridcolor": "white",
            "linecolor": "white",
            "ticks": ""
           },
           "bgcolor": "#E5ECF6",
           "radialaxis": {
            "gridcolor": "white",
            "linecolor": "white",
            "ticks": ""
           }
          },
          "scene": {
           "xaxis": {
            "backgroundcolor": "#E5ECF6",
            "gridcolor": "white",
            "gridwidth": 2,
            "linecolor": "white",
            "showbackground": true,
            "ticks": "",
            "zerolinecolor": "white"
           },
           "yaxis": {
            "backgroundcolor": "#E5ECF6",
            "gridcolor": "white",
            "gridwidth": 2,
            "linecolor": "white",
            "showbackground": true,
            "ticks": "",
            "zerolinecolor": "white"
           },
           "zaxis": {
            "backgroundcolor": "#E5ECF6",
            "gridcolor": "white",
            "gridwidth": 2,
            "linecolor": "white",
            "showbackground": true,
            "ticks": "",
            "zerolinecolor": "white"
           }
          },
          "shapedefaults": {
           "line": {
            "color": "#2a3f5f"
           }
          },
          "ternary": {
           "aaxis": {
            "gridcolor": "white",
            "linecolor": "white",
            "ticks": ""
           },
           "baxis": {
            "gridcolor": "white",
            "linecolor": "white",
            "ticks": ""
           },
           "bgcolor": "#E5ECF6",
           "caxis": {
            "gridcolor": "white",
            "linecolor": "white",
            "ticks": ""
           }
          },
          "title": {
           "x": 0.05
          },
          "xaxis": {
           "automargin": true,
           "gridcolor": "white",
           "linecolor": "white",
           "ticks": "",
           "title": {
            "standoff": 15
           },
           "zerolinecolor": "white",
           "zerolinewidth": 2
          },
          "yaxis": {
           "automargin": true,
           "gridcolor": "white",
           "linecolor": "white",
           "ticks": "",
           "title": {
            "standoff": 15
           },
           "zerolinecolor": "white",
           "zerolinewidth": 2
          }
         }
        },
        "title": {
         "font": {
          "color": "#4D5663"
         }
        },
        "xaxis": {
         "gridcolor": "#E1E5ED",
         "showgrid": true,
         "tickfont": {
          "color": "#4D5663"
         },
         "title": {
          "font": {
           "color": "#4D5663"
          },
          "text": ""
         },
         "zerolinecolor": "#E1E5ED"
        },
        "yaxis": {
         "gridcolor": "#E1E5ED",
         "showgrid": true,
         "tickfont": {
          "color": "#4D5663"
         },
         "title": {
          "font": {
           "color": "#4D5663"
          },
          "text": ""
         },
         "zerolinecolor": "#E1E5ED"
        }
       }
      },
      "text/html": [
       "<div>\n",
       "        \n",
       "        \n",
       "            <div id=\"4ad520b4-f481-4e21-a143-fa3d6c1a3d01\" class=\"plotly-graph-div\" style=\"height:525px; width:100%;\"></div>\n",
       "            <script type=\"text/javascript\">\n",
       "                require([\"plotly\"], function(Plotly) {\n",
       "                    window.PLOTLYENV=window.PLOTLYENV || {};\n",
       "                    window.PLOTLYENV.BASE_URL='https://plot.ly';\n",
       "                    \n",
       "                if (document.getElementById(\"4ad520b4-f481-4e21-a143-fa3d6c1a3d01\")) {\n",
       "                    Plotly.newPlot(\n",
       "                        '4ad520b4-f481-4e21-a143-fa3d6c1a3d01',\n",
       "                        [{\"histfunc\": \"count\", \"histnorm\": \"\", \"marker\": {\"color\": \"rgba(255, 153, 51, 1.0)\", \"line\": {\"color\": \"#4D5663\", \"width\": 1.3}}, \"name\": \"A\", \"nbinsx\": 25, \"opacity\": 0.8, \"orientation\": \"v\", \"type\": \"histogram\", \"x\": [0.04586201721326738, -0.6540043750178025, -0.15552861422961764, 0.4246745931194628, -0.7428941263058662, 1.9759454512955896, 0.37216312274345376, 0.270346199650836, 0.7526879532742253, 0.6835958715969624, -0.2546175189374106, -1.4262276612733924, -0.8727506868121251, -1.6379838534075002, -0.3785322805868584, -0.8599010083088068, 0.4629342549127315, -0.47817504277382034, 1.7604777274770929, -0.6838113680207202, -1.4307352427821491, -1.8252753776981603, 0.0833413830786923, 0.35628092995480676, -1.274976737920389, -0.11359150113388154, -0.9893370579804546, -0.8534703806103016, -0.990879781989911, -0.11339893230127164, -0.3639574025477662, -1.9198230956237927, -0.15604885841910177, -1.242009328543386, -1.0874855796153915, 0.14390334649378728, -0.3382339542174146, -0.3514758760147406, -0.7062967985429734, -0.12500964817068996, -0.9285989000331202, 1.5833434550109415, -2.4928407726420563, 0.9246153518224425, -0.8612041766022565, -1.1870843867017409, -0.14298953029197703, -1.1632402625589469, 0.4098274611640754, -0.2891110705534637, -0.377333312529668, -0.7700418964086341, 1.4419245123587963, 0.03299347750695614, 0.30446587287069704, 1.7167246528354863, -1.7488558374419065, -0.4082248364598318, -0.43705062056267563, 0.27557456940654934, -1.7749290440262324, -0.26864031013567036, -0.6490697916177971, 0.31078916234165116, -1.3008179237598356, 0.4139975331828292, 1.3674410813628795, 1.67921356806546, -1.7257549896922175, 0.10065480714282876, -1.61503423879273, 0.5862729398825437, -1.3634403525084011, 0.2775805459514663, -0.9757974847933348, -1.098944519453516, 1.0101077930359967, -0.17781895824552374, -0.7734803747585632, -0.7535167319015652, -0.16708705618339023, -0.3297590324897727, -0.6069608199941531, 0.151103955896672, 1.0641636909694312, 1.1434256632642008, -1.4467009135114968, 0.19060882578590008, -0.41156483114802506, 3.198680605796546, -1.6909576942364866, -1.1686824788204284, -1.0525002047918235, -0.2669890197908835, -0.9245356187364816, 0.7589373225722542, -0.40615315896270865, 0.5371900954827098, 0.5919142019373578, 0.36842146133318476]}],\n",
       "                        {\"barmode\": \"overlay\", \"legend\": {\"bgcolor\": \"#F5F6F9\", \"font\": {\"color\": \"#4D5663\"}}, \"paper_bgcolor\": \"#F5F6F9\", \"plot_bgcolor\": \"#F5F6F9\", \"template\": {\"data\": {\"bar\": [{\"error_x\": {\"color\": \"#2a3f5f\"}, \"error_y\": {\"color\": \"#2a3f5f\"}, \"marker\": {\"line\": {\"color\": \"#E5ECF6\", \"width\": 0.5}}, \"type\": \"bar\"}], \"barpolar\": [{\"marker\": {\"line\": {\"color\": \"#E5ECF6\", \"width\": 0.5}}, \"type\": \"barpolar\"}], \"carpet\": [{\"aaxis\": {\"endlinecolor\": \"#2a3f5f\", \"gridcolor\": \"white\", \"linecolor\": \"white\", \"minorgridcolor\": \"white\", \"startlinecolor\": \"#2a3f5f\"}, \"baxis\": {\"endlinecolor\": \"#2a3f5f\", \"gridcolor\": \"white\", \"linecolor\": \"white\", \"minorgridcolor\": \"white\", \"startlinecolor\": \"#2a3f5f\"}, \"type\": \"carpet\"}], \"choropleth\": [{\"colorbar\": {\"outlinewidth\": 0, \"ticks\": \"\"}, \"type\": \"choropleth\"}], \"contour\": [{\"colorbar\": {\"outlinewidth\": 0, \"ticks\": \"\"}, \"colorscale\": [[0.0, \"#0d0887\"], [0.1111111111111111, \"#46039f\"], [0.2222222222222222, \"#7201a8\"], [0.3333333333333333, \"#9c179e\"], [0.4444444444444444, \"#bd3786\"], [0.5555555555555556, \"#d8576b\"], [0.6666666666666666, \"#ed7953\"], [0.7777777777777778, \"#fb9f3a\"], [0.8888888888888888, \"#fdca26\"], [1.0, \"#f0f921\"]], \"type\": \"contour\"}], \"contourcarpet\": [{\"colorbar\": {\"outlinewidth\": 0, \"ticks\": \"\"}, \"type\": \"contourcarpet\"}], \"heatmap\": [{\"colorbar\": {\"outlinewidth\": 0, \"ticks\": \"\"}, \"colorscale\": [[0.0, \"#0d0887\"], [0.1111111111111111, \"#46039f\"], [0.2222222222222222, \"#7201a8\"], [0.3333333333333333, \"#9c179e\"], [0.4444444444444444, \"#bd3786\"], [0.5555555555555556, \"#d8576b\"], [0.6666666666666666, \"#ed7953\"], [0.7777777777777778, \"#fb9f3a\"], [0.8888888888888888, \"#fdca26\"], [1.0, \"#f0f921\"]], \"type\": \"heatmap\"}], \"heatmapgl\": [{\"colorbar\": {\"outlinewidth\": 0, \"ticks\": \"\"}, \"colorscale\": [[0.0, \"#0d0887\"], [0.1111111111111111, \"#46039f\"], [0.2222222222222222, \"#7201a8\"], [0.3333333333333333, \"#9c179e\"], [0.4444444444444444, \"#bd3786\"], [0.5555555555555556, \"#d8576b\"], [0.6666666666666666, \"#ed7953\"], [0.7777777777777778, \"#fb9f3a\"], [0.8888888888888888, \"#fdca26\"], [1.0, \"#f0f921\"]], \"type\": \"heatmapgl\"}], \"histogram\": [{\"marker\": {\"colorbar\": {\"outlinewidth\": 0, \"ticks\": \"\"}}, \"type\": \"histogram\"}], \"histogram2d\": [{\"colorbar\": {\"outlinewidth\": 0, \"ticks\": \"\"}, \"colorscale\": [[0.0, \"#0d0887\"], [0.1111111111111111, \"#46039f\"], [0.2222222222222222, \"#7201a8\"], [0.3333333333333333, \"#9c179e\"], [0.4444444444444444, \"#bd3786\"], [0.5555555555555556, \"#d8576b\"], [0.6666666666666666, \"#ed7953\"], [0.7777777777777778, \"#fb9f3a\"], [0.8888888888888888, \"#fdca26\"], [1.0, \"#f0f921\"]], \"type\": \"histogram2d\"}], \"histogram2dcontour\": [{\"colorbar\": {\"outlinewidth\": 0, \"ticks\": \"\"}, \"colorscale\": [[0.0, \"#0d0887\"], [0.1111111111111111, \"#46039f\"], [0.2222222222222222, \"#7201a8\"], [0.3333333333333333, \"#9c179e\"], [0.4444444444444444, \"#bd3786\"], [0.5555555555555556, \"#d8576b\"], [0.6666666666666666, \"#ed7953\"], [0.7777777777777778, \"#fb9f3a\"], [0.8888888888888888, \"#fdca26\"], [1.0, \"#f0f921\"]], \"type\": \"histogram2dcontour\"}], \"mesh3d\": [{\"colorbar\": {\"outlinewidth\": 0, \"ticks\": \"\"}, \"type\": \"mesh3d\"}], \"parcoords\": [{\"line\": {\"colorbar\": {\"outlinewidth\": 0, \"ticks\": \"\"}}, \"type\": \"parcoords\"}], \"pie\": [{\"automargin\": true, \"type\": \"pie\"}], \"scatter\": [{\"marker\": {\"colorbar\": {\"outlinewidth\": 0, \"ticks\": \"\"}}, \"type\": \"scatter\"}], \"scatter3d\": [{\"line\": {\"colorbar\": {\"outlinewidth\": 0, \"ticks\": \"\"}}, \"marker\": {\"colorbar\": {\"outlinewidth\": 0, \"ticks\": \"\"}}, \"type\": \"scatter3d\"}], \"scattercarpet\": [{\"marker\": {\"colorbar\": {\"outlinewidth\": 0, \"ticks\": \"\"}}, \"type\": \"scattercarpet\"}], \"scattergeo\": [{\"marker\": {\"colorbar\": {\"outlinewidth\": 0, \"ticks\": \"\"}}, \"type\": \"scattergeo\"}], \"scattergl\": [{\"marker\": {\"colorbar\": {\"outlinewidth\": 0, \"ticks\": \"\"}}, \"type\": \"scattergl\"}], \"scattermapbox\": [{\"marker\": {\"colorbar\": {\"outlinewidth\": 0, \"ticks\": \"\"}}, \"type\": \"scattermapbox\"}], \"scatterpolar\": [{\"marker\": {\"colorbar\": {\"outlinewidth\": 0, \"ticks\": \"\"}}, \"type\": \"scatterpolar\"}], \"scatterpolargl\": [{\"marker\": {\"colorbar\": {\"outlinewidth\": 0, \"ticks\": \"\"}}, \"type\": \"scatterpolargl\"}], \"scatterternary\": [{\"marker\": {\"colorbar\": {\"outlinewidth\": 0, \"ticks\": \"\"}}, \"type\": \"scatterternary\"}], \"surface\": [{\"colorbar\": {\"outlinewidth\": 0, \"ticks\": \"\"}, \"colorscale\": [[0.0, \"#0d0887\"], [0.1111111111111111, \"#46039f\"], [0.2222222222222222, \"#7201a8\"], [0.3333333333333333, \"#9c179e\"], [0.4444444444444444, \"#bd3786\"], [0.5555555555555556, \"#d8576b\"], [0.6666666666666666, \"#ed7953\"], [0.7777777777777778, \"#fb9f3a\"], [0.8888888888888888, \"#fdca26\"], [1.0, \"#f0f921\"]], \"type\": \"surface\"}], \"table\": [{\"cells\": {\"fill\": {\"color\": \"#EBF0F8\"}, \"line\": {\"color\": \"white\"}}, \"header\": {\"fill\": {\"color\": \"#C8D4E3\"}, \"line\": {\"color\": \"white\"}}, \"type\": \"table\"}]}, \"layout\": {\"annotationdefaults\": {\"arrowcolor\": \"#2a3f5f\", \"arrowhead\": 0, \"arrowwidth\": 1}, \"coloraxis\": {\"colorbar\": {\"outlinewidth\": 0, \"ticks\": \"\"}}, \"colorscale\": {\"diverging\": [[0, \"#8e0152\"], [0.1, \"#c51b7d\"], [0.2, \"#de77ae\"], [0.3, \"#f1b6da\"], [0.4, \"#fde0ef\"], [0.5, \"#f7f7f7\"], [0.6, \"#e6f5d0\"], [0.7, \"#b8e186\"], [0.8, \"#7fbc41\"], [0.9, \"#4d9221\"], [1, \"#276419\"]], \"sequential\": [[0.0, \"#0d0887\"], [0.1111111111111111, \"#46039f\"], [0.2222222222222222, \"#7201a8\"], [0.3333333333333333, \"#9c179e\"], [0.4444444444444444, \"#bd3786\"], [0.5555555555555556, \"#d8576b\"], [0.6666666666666666, \"#ed7953\"], [0.7777777777777778, \"#fb9f3a\"], [0.8888888888888888, \"#fdca26\"], [1.0, \"#f0f921\"]], \"sequentialminus\": [[0.0, \"#0d0887\"], [0.1111111111111111, \"#46039f\"], [0.2222222222222222, \"#7201a8\"], [0.3333333333333333, \"#9c179e\"], [0.4444444444444444, \"#bd3786\"], [0.5555555555555556, \"#d8576b\"], [0.6666666666666666, \"#ed7953\"], [0.7777777777777778, \"#fb9f3a\"], [0.8888888888888888, \"#fdca26\"], [1.0, \"#f0f921\"]]}, \"colorway\": [\"#636efa\", \"#EF553B\", \"#00cc96\", \"#ab63fa\", \"#FFA15A\", \"#19d3f3\", \"#FF6692\", \"#B6E880\", \"#FF97FF\", \"#FECB52\"], \"font\": {\"color\": \"#2a3f5f\"}, \"geo\": {\"bgcolor\": \"white\", \"lakecolor\": \"white\", \"landcolor\": \"#E5ECF6\", \"showlakes\": true, \"showland\": true, \"subunitcolor\": \"white\"}, \"hoverlabel\": {\"align\": \"left\"}, \"hovermode\": \"closest\", \"mapbox\": {\"style\": \"light\"}, \"paper_bgcolor\": \"white\", \"plot_bgcolor\": \"#E5ECF6\", \"polar\": {\"angularaxis\": {\"gridcolor\": \"white\", \"linecolor\": \"white\", \"ticks\": \"\"}, \"bgcolor\": \"#E5ECF6\", \"radialaxis\": {\"gridcolor\": \"white\", \"linecolor\": \"white\", \"ticks\": \"\"}}, \"scene\": {\"xaxis\": {\"backgroundcolor\": \"#E5ECF6\", \"gridcolor\": \"white\", \"gridwidth\": 2, \"linecolor\": \"white\", \"showbackground\": true, \"ticks\": \"\", \"zerolinecolor\": \"white\"}, \"yaxis\": {\"backgroundcolor\": \"#E5ECF6\", \"gridcolor\": \"white\", \"gridwidth\": 2, \"linecolor\": \"white\", \"showbackground\": true, \"ticks\": \"\", \"zerolinecolor\": \"white\"}, \"zaxis\": {\"backgroundcolor\": \"#E5ECF6\", \"gridcolor\": \"white\", \"gridwidth\": 2, \"linecolor\": \"white\", \"showbackground\": true, \"ticks\": \"\", \"zerolinecolor\": \"white\"}}, \"shapedefaults\": {\"line\": {\"color\": \"#2a3f5f\"}}, \"ternary\": {\"aaxis\": {\"gridcolor\": \"white\", \"linecolor\": \"white\", \"ticks\": \"\"}, \"baxis\": {\"gridcolor\": \"white\", \"linecolor\": \"white\", \"ticks\": \"\"}, \"bgcolor\": \"#E5ECF6\", \"caxis\": {\"gridcolor\": \"white\", \"linecolor\": \"white\", \"ticks\": \"\"}}, \"title\": {\"x\": 0.05}, \"xaxis\": {\"automargin\": true, \"gridcolor\": \"white\", \"linecolor\": \"white\", \"ticks\": \"\", \"title\": {\"standoff\": 15}, \"zerolinecolor\": \"white\", \"zerolinewidth\": 2}, \"yaxis\": {\"automargin\": true, \"gridcolor\": \"white\", \"linecolor\": \"white\", \"ticks\": \"\", \"title\": {\"standoff\": 15}, \"zerolinecolor\": \"white\", \"zerolinewidth\": 2}}}, \"title\": {\"font\": {\"color\": \"#4D5663\"}}, \"xaxis\": {\"gridcolor\": \"#E1E5ED\", \"showgrid\": true, \"tickfont\": {\"color\": \"#4D5663\"}, \"title\": {\"font\": {\"color\": \"#4D5663\"}, \"text\": \"\"}, \"zerolinecolor\": \"#E1E5ED\"}, \"yaxis\": {\"gridcolor\": \"#E1E5ED\", \"showgrid\": true, \"tickfont\": {\"color\": \"#4D5663\"}, \"title\": {\"font\": {\"color\": \"#4D5663\"}, \"text\": \"\"}, \"zerolinecolor\": \"#E1E5ED\"}},\n",
       "                        {\"showLink\": true, \"linkText\": \"Export to plot.ly\", \"plotlyServerURL\": \"https://plot.ly\", \"responsive\": true}\n",
       "                    ).then(function(){\n",
       "                            \n",
       "var gd = document.getElementById('4ad520b4-f481-4e21-a143-fa3d6c1a3d01');\n",
       "var x = new MutationObserver(function (mutations, observer) {{\n",
       "        var display = window.getComputedStyle(gd).display;\n",
       "        if (!display || display === 'none') {{\n",
       "            console.log([gd, 'removed!']);\n",
       "            Plotly.purge(gd);\n",
       "            observer.disconnect();\n",
       "        }}\n",
       "}});\n",
       "\n",
       "// Listen for the removal of the full notebook cells\n",
       "var notebookContainer = gd.closest('#notebook-container');\n",
       "if (notebookContainer) {{\n",
       "    x.observe(notebookContainer, {childList: true});\n",
       "}}\n",
       "\n",
       "// Listen for the clearing of the current output cell\n",
       "var outputEl = gd.closest('.output');\n",
       "if (outputEl) {{\n",
       "    x.observe(outputEl, {childList: true});\n",
       "}}\n",
       "\n",
       "                        })\n",
       "                };\n",
       "                });\n",
       "            </script>\n",
       "        </div>"
      ]
     },
     "metadata": {},
     "output_type": "display_data"
    }
   ],
   "source": [
    "df['A'].iplot(kind='hist',bins=25)"
   ]
  },
  {
   "cell_type": "code",
   "execution_count": 17,
   "metadata": {},
   "outputs": [
    {
     "data": {
      "application/vnd.plotly.v1+json": {
       "config": {
        "linkText": "Export to plot.ly",
        "plotlyServerURL": "https://plot.ly",
        "showLink": true
       },
       "data": [
        {
         "marker": {
          "color": [
           "rgb(255, 153, 51)",
           "rgb(55, 128, 191)",
           "rgb(50, 171, 96)",
           "rgb(128, 0, 128)",
           "rgb(219, 64, 82)",
           "rgb(0, 128, 128)",
           "rgb(255, 255, 51)",
           "rgb(128, 128, 0)",
           "rgb(251, 128, 114)",
           "rgb(128, 177, 211)"
          ],
          "line": {
           "width": 1.3
          },
          "size": [
           45,
           71,
           59,
           58,
           81,
           18,
           35,
           37,
           36,
           72,
           35,
           93,
           112,
           98,
           39,
           58,
           71,
           37,
           28,
           43,
           55,
           39,
           51,
           81,
           49,
           53,
           54,
           74,
           59,
           67,
           47,
           51,
           60,
           46,
           59,
           62,
           55,
           34,
           72,
           56,
           34,
           43,
           77,
           55,
           44,
           52,
           48,
           71,
           40,
           86,
           86,
           67,
           74,
           59,
           28,
           33,
           63,
           12,
           22,
           37,
           67,
           20,
           50,
           14,
           66,
           101,
           69,
           98,
           24,
           66,
           68,
           63,
           41,
           69,
           93,
           46,
           67,
           54,
           60,
           76,
           35,
           65,
           85,
           59,
           72,
           68,
           59,
           50,
           52,
           51,
           29,
           70,
           65,
           71,
           37,
           75,
           44,
           59,
           40,
           52
          ],
          "symbol": "circle"
         },
         "mode": "markers",
         "text": "",
         "type": "scatter",
         "x": [
          0.04586201721326738,
          -0.6540043750178025,
          -0.15552861422961764,
          0.4246745931194628,
          -0.7428941263058662,
          1.9759454512955896,
          0.37216312274345376,
          0.270346199650836,
          0.7526879532742253,
          0.6835958715969624,
          -0.2546175189374106,
          -1.4262276612733924,
          -0.8727506868121251,
          -1.6379838534075002,
          -0.3785322805868584,
          -0.8599010083088068,
          0.4629342549127315,
          -0.47817504277382034,
          1.7604777274770929,
          -0.6838113680207202,
          -1.4307352427821491,
          -1.8252753776981603,
          0.0833413830786923,
          0.35628092995480676,
          -1.274976737920389,
          -0.11359150113388154,
          -0.9893370579804546,
          -0.8534703806103016,
          -0.990879781989911,
          -0.11339893230127164,
          -0.3639574025477662,
          -1.9198230956237927,
          -0.15604885841910177,
          -1.242009328543386,
          -1.0874855796153915,
          0.14390334649378728,
          -0.3382339542174146,
          -0.3514758760147406,
          -0.7062967985429734,
          -0.12500964817068996,
          -0.9285989000331202,
          1.5833434550109415,
          -2.4928407726420563,
          0.9246153518224425,
          -0.8612041766022565,
          -1.1870843867017409,
          -0.14298953029197703,
          -1.1632402625589469,
          0.4098274611640754,
          -0.2891110705534637,
          -0.377333312529668,
          -0.7700418964086341,
          1.4419245123587963,
          0.03299347750695614,
          0.30446587287069704,
          1.7167246528354863,
          -1.7488558374419065,
          -0.4082248364598318,
          -0.43705062056267563,
          0.27557456940654934,
          -1.7749290440262324,
          -0.26864031013567036,
          -0.6490697916177971,
          0.31078916234165116,
          -1.3008179237598356,
          0.4139975331828292,
          1.3674410813628795,
          1.67921356806546,
          -1.7257549896922175,
          0.10065480714282876,
          -1.61503423879273,
          0.5862729398825437,
          -1.3634403525084011,
          0.2775805459514663,
          -0.9757974847933348,
          -1.098944519453516,
          1.0101077930359967,
          -0.17781895824552374,
          -0.7734803747585632,
          -0.7535167319015652,
          -0.16708705618339023,
          -0.3297590324897727,
          -0.6069608199941531,
          0.151103955896672,
          1.0641636909694312,
          1.1434256632642008,
          -1.4467009135114968,
          0.19060882578590008,
          -0.41156483114802506,
          3.198680605796546,
          -1.6909576942364866,
          -1.1686824788204284,
          -1.0525002047918235,
          -0.2669890197908835,
          -0.9245356187364816,
          0.7589373225722542,
          -0.40615315896270865,
          0.5371900954827098,
          0.5919142019373578,
          0.36842146133318476
         ],
         "y": [
          -0.6097684872700382,
          -0.8493487007227505,
          0.9977510237274378,
          -0.1071962371054894,
          -1.699524977003542,
          0.8082757927760422,
          0.8193580554685013,
          -0.2061772615607506,
          -0.26313042840768197,
          0.5600361067764692,
          -0.4501981737498376,
          -0.9544772042218531,
          -1.319940076686102,
          -1.125617561514794,
          -0.3956045049936414,
          -0.8370623937043047,
          1.1686872383712643,
          -0.23243709044945235,
          -0.5340987999737385,
          -2.0614316426642536,
          0.753559286628637,
          -0.8528918211334426,
          -0.22309759866097068,
          -0.7113387792238788,
          -0.5101411104217729,
          -0.6342668440941034,
          -0.6324370086317639,
          0.2714510243492082,
          -0.5213238007382588,
          -1.4086465885726056,
          -0.5420087867655164,
          0.6677503468224606,
          -0.18855694230016076,
          2.0671336870595733,
          -0.47682455918418043,
          -0.024979430414229276,
          1.3061706720343416,
          2.786030341090841,
          0.5486606319358823,
          1.1606684174771362,
          0.1451160819641703,
          2.136969133851484,
          0.770381179614506,
          -0.7556527371529544,
          0.5601210636156078,
          0.3307869065359323,
          -1.3478670652302134,
          0.08644174068175664,
          1.2905756068011163,
          2.275549593676335,
          -0.47563159079150313,
          0.23889454006422195,
          -1.7043014333897235,
          -1.4533176672403718,
          0.5360611298269806,
          0.25318959135101454,
          0.004821837557940499,
          1.4422811243330096,
          0.7317807073826776,
          0.40437412573002657,
          -0.09522520392275328,
          0.6365245480331461,
          0.23493643856197943,
          0.8931242125821466,
          -0.46845291625732416,
          0.3781014047855431,
          -1.2452813787819295,
          0.7720600839543568,
          -0.1467225346322123,
          -0.6315021974816304,
          -0.7269821770978143,
          -0.4242118835802408,
          1.8098886957875182,
          0.6340870632825684,
          -0.7524498968821255,
          2.334655966396287,
          -0.8492378201748007,
          1.1964317058351615,
          0.18153694390689393,
          0.8732838633312291,
          1.07784296658968,
          0.3459866622514968,
          -0.7214103607850231,
          -1.2049057150110316,
          0.5013151212405151,
          -1.3069831656188589,
          0.11814842323440919,
          -0.01760325733177132,
          -1.031507466879412,
          0.8105398816366775,
          0.2630311106697119,
          1.1610935950229937,
          -0.9110603984749275,
          0.38128147794092065,
          -0.32120478827120125,
          -0.909703102805338,
          0.9665818363963105,
          -0.815837744405378,
          -1.5352152603233933,
          0.20011286751182206
         ]
        }
       ],
       "layout": {
        "legend": {
         "bgcolor": "#F5F6F9",
         "font": {
          "color": "#4D5663"
         }
        },
        "paper_bgcolor": "#F5F6F9",
        "plot_bgcolor": "#F5F6F9",
        "template": {
         "data": {
          "bar": [
           {
            "error_x": {
             "color": "#2a3f5f"
            },
            "error_y": {
             "color": "#2a3f5f"
            },
            "marker": {
             "line": {
              "color": "#E5ECF6",
              "width": 0.5
             }
            },
            "type": "bar"
           }
          ],
          "barpolar": [
           {
            "marker": {
             "line": {
              "color": "#E5ECF6",
              "width": 0.5
             }
            },
            "type": "barpolar"
           }
          ],
          "carpet": [
           {
            "aaxis": {
             "endlinecolor": "#2a3f5f",
             "gridcolor": "white",
             "linecolor": "white",
             "minorgridcolor": "white",
             "startlinecolor": "#2a3f5f"
            },
            "baxis": {
             "endlinecolor": "#2a3f5f",
             "gridcolor": "white",
             "linecolor": "white",
             "minorgridcolor": "white",
             "startlinecolor": "#2a3f5f"
            },
            "type": "carpet"
           }
          ],
          "choropleth": [
           {
            "colorbar": {
             "outlinewidth": 0,
             "ticks": ""
            },
            "type": "choropleth"
           }
          ],
          "contour": [
           {
            "colorbar": {
             "outlinewidth": 0,
             "ticks": ""
            },
            "colorscale": [
             [
              0,
              "#0d0887"
             ],
             [
              0.1111111111111111,
              "#46039f"
             ],
             [
              0.2222222222222222,
              "#7201a8"
             ],
             [
              0.3333333333333333,
              "#9c179e"
             ],
             [
              0.4444444444444444,
              "#bd3786"
             ],
             [
              0.5555555555555556,
              "#d8576b"
             ],
             [
              0.6666666666666666,
              "#ed7953"
             ],
             [
              0.7777777777777778,
              "#fb9f3a"
             ],
             [
              0.8888888888888888,
              "#fdca26"
             ],
             [
              1,
              "#f0f921"
             ]
            ],
            "type": "contour"
           }
          ],
          "contourcarpet": [
           {
            "colorbar": {
             "outlinewidth": 0,
             "ticks": ""
            },
            "type": "contourcarpet"
           }
          ],
          "heatmap": [
           {
            "colorbar": {
             "outlinewidth": 0,
             "ticks": ""
            },
            "colorscale": [
             [
              0,
              "#0d0887"
             ],
             [
              0.1111111111111111,
              "#46039f"
             ],
             [
              0.2222222222222222,
              "#7201a8"
             ],
             [
              0.3333333333333333,
              "#9c179e"
             ],
             [
              0.4444444444444444,
              "#bd3786"
             ],
             [
              0.5555555555555556,
              "#d8576b"
             ],
             [
              0.6666666666666666,
              "#ed7953"
             ],
             [
              0.7777777777777778,
              "#fb9f3a"
             ],
             [
              0.8888888888888888,
              "#fdca26"
             ],
             [
              1,
              "#f0f921"
             ]
            ],
            "type": "heatmap"
           }
          ],
          "heatmapgl": [
           {
            "colorbar": {
             "outlinewidth": 0,
             "ticks": ""
            },
            "colorscale": [
             [
              0,
              "#0d0887"
             ],
             [
              0.1111111111111111,
              "#46039f"
             ],
             [
              0.2222222222222222,
              "#7201a8"
             ],
             [
              0.3333333333333333,
              "#9c179e"
             ],
             [
              0.4444444444444444,
              "#bd3786"
             ],
             [
              0.5555555555555556,
              "#d8576b"
             ],
             [
              0.6666666666666666,
              "#ed7953"
             ],
             [
              0.7777777777777778,
              "#fb9f3a"
             ],
             [
              0.8888888888888888,
              "#fdca26"
             ],
             [
              1,
              "#f0f921"
             ]
            ],
            "type": "heatmapgl"
           }
          ],
          "histogram": [
           {
            "marker": {
             "colorbar": {
              "outlinewidth": 0,
              "ticks": ""
             }
            },
            "type": "histogram"
           }
          ],
          "histogram2d": [
           {
            "colorbar": {
             "outlinewidth": 0,
             "ticks": ""
            },
            "colorscale": [
             [
              0,
              "#0d0887"
             ],
             [
              0.1111111111111111,
              "#46039f"
             ],
             [
              0.2222222222222222,
              "#7201a8"
             ],
             [
              0.3333333333333333,
              "#9c179e"
             ],
             [
              0.4444444444444444,
              "#bd3786"
             ],
             [
              0.5555555555555556,
              "#d8576b"
             ],
             [
              0.6666666666666666,
              "#ed7953"
             ],
             [
              0.7777777777777778,
              "#fb9f3a"
             ],
             [
              0.8888888888888888,
              "#fdca26"
             ],
             [
              1,
              "#f0f921"
             ]
            ],
            "type": "histogram2d"
           }
          ],
          "histogram2dcontour": [
           {
            "colorbar": {
             "outlinewidth": 0,
             "ticks": ""
            },
            "colorscale": [
             [
              0,
              "#0d0887"
             ],
             [
              0.1111111111111111,
              "#46039f"
             ],
             [
              0.2222222222222222,
              "#7201a8"
             ],
             [
              0.3333333333333333,
              "#9c179e"
             ],
             [
              0.4444444444444444,
              "#bd3786"
             ],
             [
              0.5555555555555556,
              "#d8576b"
             ],
             [
              0.6666666666666666,
              "#ed7953"
             ],
             [
              0.7777777777777778,
              "#fb9f3a"
             ],
             [
              0.8888888888888888,
              "#fdca26"
             ],
             [
              1,
              "#f0f921"
             ]
            ],
            "type": "histogram2dcontour"
           }
          ],
          "mesh3d": [
           {
            "colorbar": {
             "outlinewidth": 0,
             "ticks": ""
            },
            "type": "mesh3d"
           }
          ],
          "parcoords": [
           {
            "line": {
             "colorbar": {
              "outlinewidth": 0,
              "ticks": ""
             }
            },
            "type": "parcoords"
           }
          ],
          "pie": [
           {
            "automargin": true,
            "type": "pie"
           }
          ],
          "scatter": [
           {
            "marker": {
             "colorbar": {
              "outlinewidth": 0,
              "ticks": ""
             }
            },
            "type": "scatter"
           }
          ],
          "scatter3d": [
           {
            "line": {
             "colorbar": {
              "outlinewidth": 0,
              "ticks": ""
             }
            },
            "marker": {
             "colorbar": {
              "outlinewidth": 0,
              "ticks": ""
             }
            },
            "type": "scatter3d"
           }
          ],
          "scattercarpet": [
           {
            "marker": {
             "colorbar": {
              "outlinewidth": 0,
              "ticks": ""
             }
            },
            "type": "scattercarpet"
           }
          ],
          "scattergeo": [
           {
            "marker": {
             "colorbar": {
              "outlinewidth": 0,
              "ticks": ""
             }
            },
            "type": "scattergeo"
           }
          ],
          "scattergl": [
           {
            "marker": {
             "colorbar": {
              "outlinewidth": 0,
              "ticks": ""
             }
            },
            "type": "scattergl"
           }
          ],
          "scattermapbox": [
           {
            "marker": {
             "colorbar": {
              "outlinewidth": 0,
              "ticks": ""
             }
            },
            "type": "scattermapbox"
           }
          ],
          "scatterpolar": [
           {
            "marker": {
             "colorbar": {
              "outlinewidth": 0,
              "ticks": ""
             }
            },
            "type": "scatterpolar"
           }
          ],
          "scatterpolargl": [
           {
            "marker": {
             "colorbar": {
              "outlinewidth": 0,
              "ticks": ""
             }
            },
            "type": "scatterpolargl"
           }
          ],
          "scatterternary": [
           {
            "marker": {
             "colorbar": {
              "outlinewidth": 0,
              "ticks": ""
             }
            },
            "type": "scatterternary"
           }
          ],
          "surface": [
           {
            "colorbar": {
             "outlinewidth": 0,
             "ticks": ""
            },
            "colorscale": [
             [
              0,
              "#0d0887"
             ],
             [
              0.1111111111111111,
              "#46039f"
             ],
             [
              0.2222222222222222,
              "#7201a8"
             ],
             [
              0.3333333333333333,
              "#9c179e"
             ],
             [
              0.4444444444444444,
              "#bd3786"
             ],
             [
              0.5555555555555556,
              "#d8576b"
             ],
             [
              0.6666666666666666,
              "#ed7953"
             ],
             [
              0.7777777777777778,
              "#fb9f3a"
             ],
             [
              0.8888888888888888,
              "#fdca26"
             ],
             [
              1,
              "#f0f921"
             ]
            ],
            "type": "surface"
           }
          ],
          "table": [
           {
            "cells": {
             "fill": {
              "color": "#EBF0F8"
             },
             "line": {
              "color": "white"
             }
            },
            "header": {
             "fill": {
              "color": "#C8D4E3"
             },
             "line": {
              "color": "white"
             }
            },
            "type": "table"
           }
          ]
         },
         "layout": {
          "annotationdefaults": {
           "arrowcolor": "#2a3f5f",
           "arrowhead": 0,
           "arrowwidth": 1
          },
          "coloraxis": {
           "colorbar": {
            "outlinewidth": 0,
            "ticks": ""
           }
          },
          "colorscale": {
           "diverging": [
            [
             0,
             "#8e0152"
            ],
            [
             0.1,
             "#c51b7d"
            ],
            [
             0.2,
             "#de77ae"
            ],
            [
             0.3,
             "#f1b6da"
            ],
            [
             0.4,
             "#fde0ef"
            ],
            [
             0.5,
             "#f7f7f7"
            ],
            [
             0.6,
             "#e6f5d0"
            ],
            [
             0.7,
             "#b8e186"
            ],
            [
             0.8,
             "#7fbc41"
            ],
            [
             0.9,
             "#4d9221"
            ],
            [
             1,
             "#276419"
            ]
           ],
           "sequential": [
            [
             0,
             "#0d0887"
            ],
            [
             0.1111111111111111,
             "#46039f"
            ],
            [
             0.2222222222222222,
             "#7201a8"
            ],
            [
             0.3333333333333333,
             "#9c179e"
            ],
            [
             0.4444444444444444,
             "#bd3786"
            ],
            [
             0.5555555555555556,
             "#d8576b"
            ],
            [
             0.6666666666666666,
             "#ed7953"
            ],
            [
             0.7777777777777778,
             "#fb9f3a"
            ],
            [
             0.8888888888888888,
             "#fdca26"
            ],
            [
             1,
             "#f0f921"
            ]
           ],
           "sequentialminus": [
            [
             0,
             "#0d0887"
            ],
            [
             0.1111111111111111,
             "#46039f"
            ],
            [
             0.2222222222222222,
             "#7201a8"
            ],
            [
             0.3333333333333333,
             "#9c179e"
            ],
            [
             0.4444444444444444,
             "#bd3786"
            ],
            [
             0.5555555555555556,
             "#d8576b"
            ],
            [
             0.6666666666666666,
             "#ed7953"
            ],
            [
             0.7777777777777778,
             "#fb9f3a"
            ],
            [
             0.8888888888888888,
             "#fdca26"
            ],
            [
             1,
             "#f0f921"
            ]
           ]
          },
          "colorway": [
           "#636efa",
           "#EF553B",
           "#00cc96",
           "#ab63fa",
           "#FFA15A",
           "#19d3f3",
           "#FF6692",
           "#B6E880",
           "#FF97FF",
           "#FECB52"
          ],
          "font": {
           "color": "#2a3f5f"
          },
          "geo": {
           "bgcolor": "white",
           "lakecolor": "white",
           "landcolor": "#E5ECF6",
           "showlakes": true,
           "showland": true,
           "subunitcolor": "white"
          },
          "hoverlabel": {
           "align": "left"
          },
          "hovermode": "closest",
          "mapbox": {
           "style": "light"
          },
          "paper_bgcolor": "white",
          "plot_bgcolor": "#E5ECF6",
          "polar": {
           "angularaxis": {
            "gridcolor": "white",
            "linecolor": "white",
            "ticks": ""
           },
           "bgcolor": "#E5ECF6",
           "radialaxis": {
            "gridcolor": "white",
            "linecolor": "white",
            "ticks": ""
           }
          },
          "scene": {
           "xaxis": {
            "backgroundcolor": "#E5ECF6",
            "gridcolor": "white",
            "gridwidth": 2,
            "linecolor": "white",
            "showbackground": true,
            "ticks": "",
            "zerolinecolor": "white"
           },
           "yaxis": {
            "backgroundcolor": "#E5ECF6",
            "gridcolor": "white",
            "gridwidth": 2,
            "linecolor": "white",
            "showbackground": true,
            "ticks": "",
            "zerolinecolor": "white"
           },
           "zaxis": {
            "backgroundcolor": "#E5ECF6",
            "gridcolor": "white",
            "gridwidth": 2,
            "linecolor": "white",
            "showbackground": true,
            "ticks": "",
            "zerolinecolor": "white"
           }
          },
          "shapedefaults": {
           "line": {
            "color": "#2a3f5f"
           }
          },
          "ternary": {
           "aaxis": {
            "gridcolor": "white",
            "linecolor": "white",
            "ticks": ""
           },
           "baxis": {
            "gridcolor": "white",
            "linecolor": "white",
            "ticks": ""
           },
           "bgcolor": "#E5ECF6",
           "caxis": {
            "gridcolor": "white",
            "linecolor": "white",
            "ticks": ""
           }
          },
          "title": {
           "x": 0.05
          },
          "xaxis": {
           "automargin": true,
           "gridcolor": "white",
           "linecolor": "white",
           "ticks": "",
           "title": {
            "standoff": 15
           },
           "zerolinecolor": "white",
           "zerolinewidth": 2
          },
          "yaxis": {
           "automargin": true,
           "gridcolor": "white",
           "linecolor": "white",
           "ticks": "",
           "title": {
            "standoff": 15
           },
           "zerolinecolor": "white",
           "zerolinewidth": 2
          }
         }
        },
        "title": {
         "font": {
          "color": "#4D5663"
         }
        },
        "xaxis": {
         "gridcolor": "#E1E5ED",
         "showgrid": true,
         "tickfont": {
          "color": "#4D5663"
         },
         "title": {
          "font": {
           "color": "#4D5663"
          },
          "text": ""
         },
         "zerolinecolor": "#E1E5ED"
        },
        "yaxis": {
         "gridcolor": "#E1E5ED",
         "showgrid": true,
         "tickfont": {
          "color": "#4D5663"
         },
         "title": {
          "font": {
           "color": "#4D5663"
          },
          "text": ""
         },
         "zerolinecolor": "#E1E5ED"
        }
       }
      },
      "text/html": [
       "<div>\n",
       "        \n",
       "        \n",
       "            <div id=\"d7249957-e657-4dba-aa14-b350c50096e3\" class=\"plotly-graph-div\" style=\"height:525px; width:100%;\"></div>\n",
       "            <script type=\"text/javascript\">\n",
       "                require([\"plotly\"], function(Plotly) {\n",
       "                    window.PLOTLYENV=window.PLOTLYENV || {};\n",
       "                    window.PLOTLYENV.BASE_URL='https://plot.ly';\n",
       "                    \n",
       "                if (document.getElementById(\"d7249957-e657-4dba-aa14-b350c50096e3\")) {\n",
       "                    Plotly.newPlot(\n",
       "                        'd7249957-e657-4dba-aa14-b350c50096e3',\n",
       "                        [{\"marker\": {\"color\": [\"rgb(255, 153, 51)\", \"rgb(55, 128, 191)\", \"rgb(50, 171, 96)\", \"rgb(128, 0, 128)\", \"rgb(219, 64, 82)\", \"rgb(0, 128, 128)\", \"rgb(255, 255, 51)\", \"rgb(128, 128, 0)\", \"rgb(251, 128, 114)\", \"rgb(128, 177, 211)\"], \"line\": {\"width\": 1.3}, \"size\": [45, 71, 59, 58, 81, 18, 35, 37, 36, 72, 35, 93, 112, 98, 39, 58, 71, 37, 28, 43, 55, 39, 51, 81, 49, 53, 54, 74, 59, 67, 47, 51, 60, 46, 59, 62, 55, 34, 72, 56, 34, 43, 77, 55, 44, 52, 48, 71, 40, 86, 86, 67, 74, 59, 28, 33, 63, 12, 22, 37, 67, 20, 50, 14, 66, 101, 69, 98, 24, 66, 68, 63, 41, 69, 93, 46, 67, 54, 60, 76, 35, 65, 85, 59, 72, 68, 59, 50, 52, 51, 29, 70, 65, 71, 37, 75, 44, 59, 40, 52], \"symbol\": \"circle\"}, \"mode\": \"markers\", \"text\": \"\", \"type\": \"scatter\", \"x\": [0.04586201721326738, -0.6540043750178025, -0.15552861422961764, 0.4246745931194628, -0.7428941263058662, 1.9759454512955896, 0.37216312274345376, 0.270346199650836, 0.7526879532742253, 0.6835958715969624, -0.2546175189374106, -1.4262276612733924, -0.8727506868121251, -1.6379838534075002, -0.3785322805868584, -0.8599010083088068, 0.4629342549127315, -0.47817504277382034, 1.7604777274770929, -0.6838113680207202, -1.4307352427821491, -1.8252753776981603, 0.0833413830786923, 0.35628092995480676, -1.274976737920389, -0.11359150113388154, -0.9893370579804546, -0.8534703806103016, -0.990879781989911, -0.11339893230127164, -0.3639574025477662, -1.9198230956237927, -0.15604885841910177, -1.242009328543386, -1.0874855796153915, 0.14390334649378728, -0.3382339542174146, -0.3514758760147406, -0.7062967985429734, -0.12500964817068996, -0.9285989000331202, 1.5833434550109415, -2.4928407726420563, 0.9246153518224425, -0.8612041766022565, -1.1870843867017409, -0.14298953029197703, -1.1632402625589469, 0.4098274611640754, -0.2891110705534637, -0.377333312529668, -0.7700418964086341, 1.4419245123587963, 0.03299347750695614, 0.30446587287069704, 1.7167246528354863, -1.7488558374419065, -0.4082248364598318, -0.43705062056267563, 0.27557456940654934, -1.7749290440262324, -0.26864031013567036, -0.6490697916177971, 0.31078916234165116, -1.3008179237598356, 0.4139975331828292, 1.3674410813628795, 1.67921356806546, -1.7257549896922175, 0.10065480714282876, -1.61503423879273, 0.5862729398825437, -1.3634403525084011, 0.2775805459514663, -0.9757974847933348, -1.098944519453516, 1.0101077930359967, -0.17781895824552374, -0.7734803747585632, -0.7535167319015652, -0.16708705618339023, -0.3297590324897727, -0.6069608199941531, 0.151103955896672, 1.0641636909694312, 1.1434256632642008, -1.4467009135114968, 0.19060882578590008, -0.41156483114802506, 3.198680605796546, -1.6909576942364866, -1.1686824788204284, -1.0525002047918235, -0.2669890197908835, -0.9245356187364816, 0.7589373225722542, -0.40615315896270865, 0.5371900954827098, 0.5919142019373578, 0.36842146133318476], \"y\": [-0.6097684872700382, -0.8493487007227505, 0.9977510237274378, -0.1071962371054894, -1.699524977003542, 0.8082757927760422, 0.8193580554685013, -0.2061772615607506, -0.26313042840768197, 0.5600361067764692, -0.4501981737498376, -0.9544772042218531, -1.319940076686102, -1.125617561514794, -0.3956045049936414, -0.8370623937043047, 1.1686872383712643, -0.23243709044945235, -0.5340987999737385, -2.0614316426642536, 0.753559286628637, -0.8528918211334426, -0.22309759866097068, -0.7113387792238788, -0.5101411104217729, -0.6342668440941034, -0.6324370086317639, 0.2714510243492082, -0.5213238007382588, -1.4086465885726056, -0.5420087867655164, 0.6677503468224606, -0.18855694230016076, 2.0671336870595733, -0.47682455918418043, -0.024979430414229276, 1.3061706720343416, 2.786030341090841, 0.5486606319358823, 1.1606684174771362, 0.1451160819641703, 2.136969133851484, 0.770381179614506, -0.7556527371529544, 0.5601210636156078, 0.3307869065359323, -1.3478670652302134, 0.08644174068175664, 1.2905756068011163, 2.275549593676335, -0.47563159079150313, 0.23889454006422195, -1.7043014333897235, -1.4533176672403718, 0.5360611298269806, 0.25318959135101454, 0.004821837557940499, 1.4422811243330096, 0.7317807073826776, 0.40437412573002657, -0.09522520392275328, 0.6365245480331461, 0.23493643856197943, 0.8931242125821466, -0.46845291625732416, 0.3781014047855431, -1.2452813787819295, 0.7720600839543568, -0.1467225346322123, -0.6315021974816304, -0.7269821770978143, -0.4242118835802408, 1.8098886957875182, 0.6340870632825684, -0.7524498968821255, 2.334655966396287, -0.8492378201748007, 1.1964317058351615, 0.18153694390689393, 0.8732838633312291, 1.07784296658968, 0.3459866622514968, -0.7214103607850231, -1.2049057150110316, 0.5013151212405151, -1.3069831656188589, 0.11814842323440919, -0.01760325733177132, -1.031507466879412, 0.8105398816366775, 0.2630311106697119, 1.1610935950229937, -0.9110603984749275, 0.38128147794092065, -0.32120478827120125, -0.909703102805338, 0.9665818363963105, -0.815837744405378, -1.5352152603233933, 0.20011286751182206]}],\n",
       "                        {\"legend\": {\"bgcolor\": \"#F5F6F9\", \"font\": {\"color\": \"#4D5663\"}}, \"paper_bgcolor\": \"#F5F6F9\", \"plot_bgcolor\": \"#F5F6F9\", \"template\": {\"data\": {\"bar\": [{\"error_x\": {\"color\": \"#2a3f5f\"}, \"error_y\": {\"color\": \"#2a3f5f\"}, \"marker\": {\"line\": {\"color\": \"#E5ECF6\", \"width\": 0.5}}, \"type\": \"bar\"}], \"barpolar\": [{\"marker\": {\"line\": {\"color\": \"#E5ECF6\", \"width\": 0.5}}, \"type\": \"barpolar\"}], \"carpet\": [{\"aaxis\": {\"endlinecolor\": \"#2a3f5f\", \"gridcolor\": \"white\", \"linecolor\": \"white\", \"minorgridcolor\": \"white\", \"startlinecolor\": \"#2a3f5f\"}, \"baxis\": {\"endlinecolor\": \"#2a3f5f\", \"gridcolor\": \"white\", \"linecolor\": \"white\", \"minorgridcolor\": \"white\", \"startlinecolor\": \"#2a3f5f\"}, \"type\": \"carpet\"}], \"choropleth\": [{\"colorbar\": {\"outlinewidth\": 0, \"ticks\": \"\"}, \"type\": \"choropleth\"}], \"contour\": [{\"colorbar\": {\"outlinewidth\": 0, \"ticks\": \"\"}, \"colorscale\": [[0.0, \"#0d0887\"], [0.1111111111111111, \"#46039f\"], [0.2222222222222222, \"#7201a8\"], [0.3333333333333333, \"#9c179e\"], [0.4444444444444444, \"#bd3786\"], [0.5555555555555556, \"#d8576b\"], [0.6666666666666666, \"#ed7953\"], [0.7777777777777778, \"#fb9f3a\"], [0.8888888888888888, \"#fdca26\"], [1.0, \"#f0f921\"]], \"type\": \"contour\"}], \"contourcarpet\": [{\"colorbar\": {\"outlinewidth\": 0, \"ticks\": \"\"}, \"type\": \"contourcarpet\"}], \"heatmap\": [{\"colorbar\": {\"outlinewidth\": 0, \"ticks\": \"\"}, \"colorscale\": [[0.0, \"#0d0887\"], [0.1111111111111111, \"#46039f\"], [0.2222222222222222, \"#7201a8\"], [0.3333333333333333, \"#9c179e\"], [0.4444444444444444, \"#bd3786\"], [0.5555555555555556, \"#d8576b\"], [0.6666666666666666, \"#ed7953\"], [0.7777777777777778, \"#fb9f3a\"], [0.8888888888888888, \"#fdca26\"], [1.0, \"#f0f921\"]], \"type\": \"heatmap\"}], \"heatmapgl\": [{\"colorbar\": {\"outlinewidth\": 0, \"ticks\": \"\"}, \"colorscale\": [[0.0, \"#0d0887\"], [0.1111111111111111, \"#46039f\"], [0.2222222222222222, \"#7201a8\"], [0.3333333333333333, \"#9c179e\"], [0.4444444444444444, \"#bd3786\"], [0.5555555555555556, \"#d8576b\"], [0.6666666666666666, \"#ed7953\"], [0.7777777777777778, \"#fb9f3a\"], [0.8888888888888888, \"#fdca26\"], [1.0, \"#f0f921\"]], \"type\": \"heatmapgl\"}], \"histogram\": [{\"marker\": {\"colorbar\": {\"outlinewidth\": 0, \"ticks\": \"\"}}, \"type\": \"histogram\"}], \"histogram2d\": [{\"colorbar\": {\"outlinewidth\": 0, \"ticks\": \"\"}, \"colorscale\": [[0.0, \"#0d0887\"], [0.1111111111111111, \"#46039f\"], [0.2222222222222222, \"#7201a8\"], [0.3333333333333333, \"#9c179e\"], [0.4444444444444444, \"#bd3786\"], [0.5555555555555556, \"#d8576b\"], [0.6666666666666666, \"#ed7953\"], [0.7777777777777778, \"#fb9f3a\"], [0.8888888888888888, \"#fdca26\"], [1.0, \"#f0f921\"]], \"type\": \"histogram2d\"}], \"histogram2dcontour\": [{\"colorbar\": {\"outlinewidth\": 0, \"ticks\": \"\"}, \"colorscale\": [[0.0, \"#0d0887\"], [0.1111111111111111, \"#46039f\"], [0.2222222222222222, \"#7201a8\"], [0.3333333333333333, \"#9c179e\"], [0.4444444444444444, \"#bd3786\"], [0.5555555555555556, \"#d8576b\"], [0.6666666666666666, \"#ed7953\"], [0.7777777777777778, \"#fb9f3a\"], [0.8888888888888888, \"#fdca26\"], [1.0, \"#f0f921\"]], \"type\": \"histogram2dcontour\"}], \"mesh3d\": [{\"colorbar\": {\"outlinewidth\": 0, \"ticks\": \"\"}, \"type\": \"mesh3d\"}], \"parcoords\": [{\"line\": {\"colorbar\": {\"outlinewidth\": 0, \"ticks\": \"\"}}, \"type\": \"parcoords\"}], \"pie\": [{\"automargin\": true, \"type\": \"pie\"}], \"scatter\": [{\"marker\": {\"colorbar\": {\"outlinewidth\": 0, \"ticks\": \"\"}}, \"type\": \"scatter\"}], \"scatter3d\": [{\"line\": {\"colorbar\": {\"outlinewidth\": 0, \"ticks\": \"\"}}, \"marker\": {\"colorbar\": {\"outlinewidth\": 0, \"ticks\": \"\"}}, \"type\": \"scatter3d\"}], \"scattercarpet\": [{\"marker\": {\"colorbar\": {\"outlinewidth\": 0, \"ticks\": \"\"}}, \"type\": \"scattercarpet\"}], \"scattergeo\": [{\"marker\": {\"colorbar\": {\"outlinewidth\": 0, \"ticks\": \"\"}}, \"type\": \"scattergeo\"}], \"scattergl\": [{\"marker\": {\"colorbar\": {\"outlinewidth\": 0, \"ticks\": \"\"}}, \"type\": \"scattergl\"}], \"scattermapbox\": [{\"marker\": {\"colorbar\": {\"outlinewidth\": 0, \"ticks\": \"\"}}, \"type\": \"scattermapbox\"}], \"scatterpolar\": [{\"marker\": {\"colorbar\": {\"outlinewidth\": 0, \"ticks\": \"\"}}, \"type\": \"scatterpolar\"}], \"scatterpolargl\": [{\"marker\": {\"colorbar\": {\"outlinewidth\": 0, \"ticks\": \"\"}}, \"type\": \"scatterpolargl\"}], \"scatterternary\": [{\"marker\": {\"colorbar\": {\"outlinewidth\": 0, \"ticks\": \"\"}}, \"type\": \"scatterternary\"}], \"surface\": [{\"colorbar\": {\"outlinewidth\": 0, \"ticks\": \"\"}, \"colorscale\": [[0.0, \"#0d0887\"], [0.1111111111111111, \"#46039f\"], [0.2222222222222222, \"#7201a8\"], [0.3333333333333333, \"#9c179e\"], [0.4444444444444444, \"#bd3786\"], [0.5555555555555556, \"#d8576b\"], [0.6666666666666666, \"#ed7953\"], [0.7777777777777778, \"#fb9f3a\"], [0.8888888888888888, \"#fdca26\"], [1.0, \"#f0f921\"]], \"type\": \"surface\"}], \"table\": [{\"cells\": {\"fill\": {\"color\": \"#EBF0F8\"}, \"line\": {\"color\": \"white\"}}, \"header\": {\"fill\": {\"color\": \"#C8D4E3\"}, \"line\": {\"color\": \"white\"}}, \"type\": \"table\"}]}, \"layout\": {\"annotationdefaults\": {\"arrowcolor\": \"#2a3f5f\", \"arrowhead\": 0, \"arrowwidth\": 1}, \"coloraxis\": {\"colorbar\": {\"outlinewidth\": 0, \"ticks\": \"\"}}, \"colorscale\": {\"diverging\": [[0, \"#8e0152\"], [0.1, \"#c51b7d\"], [0.2, \"#de77ae\"], [0.3, \"#f1b6da\"], [0.4, \"#fde0ef\"], [0.5, \"#f7f7f7\"], [0.6, \"#e6f5d0\"], [0.7, \"#b8e186\"], [0.8, \"#7fbc41\"], [0.9, \"#4d9221\"], [1, \"#276419\"]], \"sequential\": [[0.0, \"#0d0887\"], [0.1111111111111111, \"#46039f\"], [0.2222222222222222, \"#7201a8\"], [0.3333333333333333, \"#9c179e\"], [0.4444444444444444, \"#bd3786\"], [0.5555555555555556, \"#d8576b\"], [0.6666666666666666, \"#ed7953\"], [0.7777777777777778, \"#fb9f3a\"], [0.8888888888888888, \"#fdca26\"], [1.0, \"#f0f921\"]], \"sequentialminus\": [[0.0, \"#0d0887\"], [0.1111111111111111, \"#46039f\"], [0.2222222222222222, \"#7201a8\"], [0.3333333333333333, \"#9c179e\"], [0.4444444444444444, \"#bd3786\"], [0.5555555555555556, \"#d8576b\"], [0.6666666666666666, \"#ed7953\"], [0.7777777777777778, \"#fb9f3a\"], [0.8888888888888888, \"#fdca26\"], [1.0, \"#f0f921\"]]}, \"colorway\": [\"#636efa\", \"#EF553B\", \"#00cc96\", \"#ab63fa\", \"#FFA15A\", \"#19d3f3\", \"#FF6692\", \"#B6E880\", \"#FF97FF\", \"#FECB52\"], \"font\": {\"color\": \"#2a3f5f\"}, \"geo\": {\"bgcolor\": \"white\", \"lakecolor\": \"white\", \"landcolor\": \"#E5ECF6\", \"showlakes\": true, \"showland\": true, \"subunitcolor\": \"white\"}, \"hoverlabel\": {\"align\": \"left\"}, \"hovermode\": \"closest\", \"mapbox\": {\"style\": \"light\"}, \"paper_bgcolor\": \"white\", \"plot_bgcolor\": \"#E5ECF6\", \"polar\": {\"angularaxis\": {\"gridcolor\": \"white\", \"linecolor\": \"white\", \"ticks\": \"\"}, \"bgcolor\": \"#E5ECF6\", \"radialaxis\": {\"gridcolor\": \"white\", \"linecolor\": \"white\", \"ticks\": \"\"}}, \"scene\": {\"xaxis\": {\"backgroundcolor\": \"#E5ECF6\", \"gridcolor\": \"white\", \"gridwidth\": 2, \"linecolor\": \"white\", \"showbackground\": true, \"ticks\": \"\", \"zerolinecolor\": \"white\"}, \"yaxis\": {\"backgroundcolor\": \"#E5ECF6\", \"gridcolor\": \"white\", \"gridwidth\": 2, \"linecolor\": \"white\", \"showbackground\": true, \"ticks\": \"\", \"zerolinecolor\": \"white\"}, \"zaxis\": {\"backgroundcolor\": \"#E5ECF6\", \"gridcolor\": \"white\", \"gridwidth\": 2, \"linecolor\": \"white\", \"showbackground\": true, \"ticks\": \"\", \"zerolinecolor\": \"white\"}}, \"shapedefaults\": {\"line\": {\"color\": \"#2a3f5f\"}}, \"ternary\": {\"aaxis\": {\"gridcolor\": \"white\", \"linecolor\": \"white\", \"ticks\": \"\"}, \"baxis\": {\"gridcolor\": \"white\", \"linecolor\": \"white\", \"ticks\": \"\"}, \"bgcolor\": \"#E5ECF6\", \"caxis\": {\"gridcolor\": \"white\", \"linecolor\": \"white\", \"ticks\": \"\"}}, \"title\": {\"x\": 0.05}, \"xaxis\": {\"automargin\": true, \"gridcolor\": \"white\", \"linecolor\": \"white\", \"ticks\": \"\", \"title\": {\"standoff\": 15}, \"zerolinecolor\": \"white\", \"zerolinewidth\": 2}, \"yaxis\": {\"automargin\": true, \"gridcolor\": \"white\", \"linecolor\": \"white\", \"ticks\": \"\", \"title\": {\"standoff\": 15}, \"zerolinecolor\": \"white\", \"zerolinewidth\": 2}}}, \"title\": {\"font\": {\"color\": \"#4D5663\"}}, \"xaxis\": {\"gridcolor\": \"#E1E5ED\", \"showgrid\": true, \"tickfont\": {\"color\": \"#4D5663\"}, \"title\": {\"font\": {\"color\": \"#4D5663\"}, \"text\": \"\"}, \"zerolinecolor\": \"#E1E5ED\"}, \"yaxis\": {\"gridcolor\": \"#E1E5ED\", \"showgrid\": true, \"tickfont\": {\"color\": \"#4D5663\"}, \"title\": {\"font\": {\"color\": \"#4D5663\"}, \"text\": \"\"}, \"zerolinecolor\": \"#E1E5ED\"}},\n",
       "                        {\"showLink\": true, \"linkText\": \"Export to plot.ly\", \"plotlyServerURL\": \"https://plot.ly\", \"responsive\": true}\n",
       "                    ).then(function(){\n",
       "                            \n",
       "var gd = document.getElementById('d7249957-e657-4dba-aa14-b350c50096e3');\n",
       "var x = new MutationObserver(function (mutations, observer) {{\n",
       "        var display = window.getComputedStyle(gd).display;\n",
       "        if (!display || display === 'none') {{\n",
       "            console.log([gd, 'removed!']);\n",
       "            Plotly.purge(gd);\n",
       "            observer.disconnect();\n",
       "        }}\n",
       "}});\n",
       "\n",
       "// Listen for the removal of the full notebook cells\n",
       "var notebookContainer = gd.closest('#notebook-container');\n",
       "if (notebookContainer) {{\n",
       "    x.observe(notebookContainer, {childList: true});\n",
       "}}\n",
       "\n",
       "// Listen for the clearing of the current output cell\n",
       "var outputEl = gd.closest('.output');\n",
       "if (outputEl) {{\n",
       "    x.observe(outputEl, {childList: true});\n",
       "}}\n",
       "\n",
       "                        })\n",
       "                };\n",
       "                });\n",
       "            </script>\n",
       "        </div>"
      ]
     },
     "metadata": {},
     "output_type": "display_data"
    }
   ],
   "source": [
    "df.iplot(kind='bubble',x='A',y='B',size='C')"
   ]
  },
  {
   "cell_type": "markdown",
   "metadata": {},
   "source": [
    "## scatter_matrix()\n",
    "\n",
    "Similar to sns.pairplot()"
   ]
  },
  {
   "cell_type": "code",
   "execution_count": 18,
   "metadata": {},
   "outputs": [
    {
     "data": {
      "application/vnd.plotly.v1+json": {
       "config": {
        "linkText": "Export to plot.ly",
        "plotlyServerURL": "https://plot.ly",
        "showLink": true
       },
       "data": [
        {
         "histfunc": "count",
         "histnorm": "",
         "marker": {
          "color": "rgba(255, 153, 51, 1.0)",
          "line": {
           "color": "#4D5663",
           "width": 1.3
          }
         },
         "name": "A",
         "nbinsx": 10,
         "opacity": 0.8,
         "orientation": "v",
         "type": "histogram",
         "x": [
          0.04586201721326738,
          -0.6540043750178025,
          -0.15552861422961764,
          0.4246745931194628,
          -0.7428941263058662,
          1.9759454512955896,
          0.37216312274345376,
          0.270346199650836,
          0.7526879532742253,
          0.6835958715969624,
          -0.2546175189374106,
          -1.4262276612733924,
          -0.8727506868121251,
          -1.6379838534075002,
          -0.3785322805868584,
          -0.8599010083088068,
          0.4629342549127315,
          -0.47817504277382034,
          1.7604777274770929,
          -0.6838113680207202,
          -1.4307352427821491,
          -1.8252753776981603,
          0.0833413830786923,
          0.35628092995480676,
          -1.274976737920389,
          -0.11359150113388154,
          -0.9893370579804546,
          -0.8534703806103016,
          -0.990879781989911,
          -0.11339893230127164,
          -0.3639574025477662,
          -1.9198230956237927,
          -0.15604885841910177,
          -1.242009328543386,
          -1.0874855796153915,
          0.14390334649378728,
          -0.3382339542174146,
          -0.3514758760147406,
          -0.7062967985429734,
          -0.12500964817068996,
          -0.9285989000331202,
          1.5833434550109415,
          -2.4928407726420563,
          0.9246153518224425,
          -0.8612041766022565,
          -1.1870843867017409,
          -0.14298953029197703,
          -1.1632402625589469,
          0.4098274611640754,
          -0.2891110705534637,
          -0.377333312529668,
          -0.7700418964086341,
          1.4419245123587963,
          0.03299347750695614,
          0.30446587287069704,
          1.7167246528354863,
          -1.7488558374419065,
          -0.4082248364598318,
          -0.43705062056267563,
          0.27557456940654934,
          -1.7749290440262324,
          -0.26864031013567036,
          -0.6490697916177971,
          0.31078916234165116,
          -1.3008179237598356,
          0.4139975331828292,
          1.3674410813628795,
          1.67921356806546,
          -1.7257549896922175,
          0.10065480714282876,
          -1.61503423879273,
          0.5862729398825437,
          -1.3634403525084011,
          0.2775805459514663,
          -0.9757974847933348,
          -1.098944519453516,
          1.0101077930359967,
          -0.17781895824552374,
          -0.7734803747585632,
          -0.7535167319015652,
          -0.16708705618339023,
          -0.3297590324897727,
          -0.6069608199941531,
          0.151103955896672,
          1.0641636909694312,
          1.1434256632642008,
          -1.4467009135114968,
          0.19060882578590008,
          -0.41156483114802506,
          3.198680605796546,
          -1.6909576942364866,
          -1.1686824788204284,
          -1.0525002047918235,
          -0.2669890197908835,
          -0.9245356187364816,
          0.7589373225722542,
          -0.40615315896270865,
          0.5371900954827098,
          0.5919142019373578,
          0.36842146133318476
         ],
         "xaxis": "x",
         "yaxis": "y"
        },
        {
         "line": {
          "color": "rgba(128, 128, 128, 1.0)",
          "dash": "solid",
          "shape": "linear",
          "width": 1.3
         },
         "marker": {
          "size": 2,
          "symbol": "circle"
         },
         "mode": "markers",
         "name": "A",
         "text": "",
         "type": "scatter",
         "x": [
          -0.6097684872700382,
          -0.8493487007227505,
          0.9977510237274378,
          -0.1071962371054894,
          -1.699524977003542,
          0.8082757927760422,
          0.8193580554685013,
          -0.2061772615607506,
          -0.26313042840768197,
          0.5600361067764692,
          -0.4501981737498376,
          -0.9544772042218531,
          -1.319940076686102,
          -1.125617561514794,
          -0.3956045049936414,
          -0.8370623937043047,
          1.1686872383712643,
          -0.23243709044945235,
          -0.5340987999737385,
          -2.0614316426642536,
          0.753559286628637,
          -0.8528918211334426,
          -0.22309759866097068,
          -0.7113387792238788,
          -0.5101411104217729,
          -0.6342668440941034,
          -0.6324370086317639,
          0.2714510243492082,
          -0.5213238007382588,
          -1.4086465885726056,
          -0.5420087867655164,
          0.6677503468224606,
          -0.18855694230016076,
          2.0671336870595733,
          -0.47682455918418043,
          -0.024979430414229276,
          1.3061706720343416,
          2.786030341090841,
          0.5486606319358823,
          1.1606684174771362,
          0.1451160819641703,
          2.136969133851484,
          0.770381179614506,
          -0.7556527371529544,
          0.5601210636156078,
          0.3307869065359323,
          -1.3478670652302134,
          0.08644174068175664,
          1.2905756068011163,
          2.275549593676335,
          -0.47563159079150313,
          0.23889454006422195,
          -1.7043014333897235,
          -1.4533176672403718,
          0.5360611298269806,
          0.25318959135101454,
          0.004821837557940499,
          1.4422811243330096,
          0.7317807073826776,
          0.40437412573002657,
          -0.09522520392275328,
          0.6365245480331461,
          0.23493643856197943,
          0.8931242125821466,
          -0.46845291625732416,
          0.3781014047855431,
          -1.2452813787819295,
          0.7720600839543568,
          -0.1467225346322123,
          -0.6315021974816304,
          -0.7269821770978143,
          -0.4242118835802408,
          1.8098886957875182,
          0.6340870632825684,
          -0.7524498968821255,
          2.334655966396287,
          -0.8492378201748007,
          1.1964317058351615,
          0.18153694390689393,
          0.8732838633312291,
          1.07784296658968,
          0.3459866622514968,
          -0.7214103607850231,
          -1.2049057150110316,
          0.5013151212405151,
          -1.3069831656188589,
          0.11814842323440919,
          -0.01760325733177132,
          -1.031507466879412,
          0.8105398816366775,
          0.2630311106697119,
          1.1610935950229937,
          -0.9110603984749275,
          0.38128147794092065,
          -0.32120478827120125,
          -0.909703102805338,
          0.9665818363963105,
          -0.815837744405378,
          -1.5352152603233933,
          0.20011286751182206
         ],
         "xaxis": "x2",
         "y": [
          0.04586201721326738,
          -0.6540043750178025,
          -0.15552861422961764,
          0.4246745931194628,
          -0.7428941263058662,
          1.9759454512955896,
          0.37216312274345376,
          0.270346199650836,
          0.7526879532742253,
          0.6835958715969624,
          -0.2546175189374106,
          -1.4262276612733924,
          -0.8727506868121251,
          -1.6379838534075002,
          -0.3785322805868584,
          -0.8599010083088068,
          0.4629342549127315,
          -0.47817504277382034,
          1.7604777274770929,
          -0.6838113680207202,
          -1.4307352427821491,
          -1.8252753776981603,
          0.0833413830786923,
          0.35628092995480676,
          -1.274976737920389,
          -0.11359150113388154,
          -0.9893370579804546,
          -0.8534703806103016,
          -0.990879781989911,
          -0.11339893230127164,
          -0.3639574025477662,
          -1.9198230956237927,
          -0.15604885841910177,
          -1.242009328543386,
          -1.0874855796153915,
          0.14390334649378728,
          -0.3382339542174146,
          -0.3514758760147406,
          -0.7062967985429734,
          -0.12500964817068996,
          -0.9285989000331202,
          1.5833434550109415,
          -2.4928407726420563,
          0.9246153518224425,
          -0.8612041766022565,
          -1.1870843867017409,
          -0.14298953029197703,
          -1.1632402625589469,
          0.4098274611640754,
          -0.2891110705534637,
          -0.377333312529668,
          -0.7700418964086341,
          1.4419245123587963,
          0.03299347750695614,
          0.30446587287069704,
          1.7167246528354863,
          -1.7488558374419065,
          -0.4082248364598318,
          -0.43705062056267563,
          0.27557456940654934,
          -1.7749290440262324,
          -0.26864031013567036,
          -0.6490697916177971,
          0.31078916234165116,
          -1.3008179237598356,
          0.4139975331828292,
          1.3674410813628795,
          1.67921356806546,
          -1.7257549896922175,
          0.10065480714282876,
          -1.61503423879273,
          0.5862729398825437,
          -1.3634403525084011,
          0.2775805459514663,
          -0.9757974847933348,
          -1.098944519453516,
          1.0101077930359967,
          -0.17781895824552374,
          -0.7734803747585632,
          -0.7535167319015652,
          -0.16708705618339023,
          -0.3297590324897727,
          -0.6069608199941531,
          0.151103955896672,
          1.0641636909694312,
          1.1434256632642008,
          -1.4467009135114968,
          0.19060882578590008,
          -0.41156483114802506,
          3.198680605796546,
          -1.6909576942364866,
          -1.1686824788204284,
          -1.0525002047918235,
          -0.2669890197908835,
          -0.9245356187364816,
          0.7589373225722542,
          -0.40615315896270865,
          0.5371900954827098,
          0.5919142019373578,
          0.36842146133318476
         ],
         "yaxis": "y2"
        },
        {
         "line": {
          "color": "rgba(128, 128, 128, 1.0)",
          "dash": "solid",
          "shape": "linear",
          "width": 1.3
         },
         "marker": {
          "size": 2,
          "symbol": "circle"
         },
         "mode": "markers",
         "name": "A",
         "text": "",
         "type": "scatter",
         "x": [
          -0.7923640549556918,
          0.7060011829427726,
          0.053074085338747745,
          -0.04373058171070141,
          1.2902719786567443,
          -2.326763076872465,
          -1.3418517772852283,
          -1.244226566661774,
          -1.2725757819383083,
          0.8116159620087401,
          -1.3347429314666497,
          1.9974754039201925,
          3.083591238437029,
          2.3008413741244005,
          -1.1481753738488727,
          -0.036496503084746126,
          0.756114348876666,
          -1.2440613050199285,
          -1.7717376164523135,
          -0.8878555239734864,
          -0.2115320041638411,
          -1.0971836723653703,
          -0.4169210153464947,
          1.3417489426063411,
          -0.5246637111690206,
          -0.3177934099124036,
          -0.2571240393150729,
          0.9288404503289762,
          0.03528544203319129,
          0.4757650359206804,
          -0.645549547019227,
          -0.4481318637719594,
          0.11346146345051843,
          -0.7116854064900161,
          0.02714297486140097,
          0.18863690436534306,
          -0.18890753331065516,
          -1.424125100200306,
          0.7985810409051322,
          -0.15488734220601214,
          -1.4129076561771807,
          -0.9036584800564172,
          1.0534613485746978,
          -0.17586761916965038,
          -0.834890119351905,
          -0.3804319921817218,
          -0.5983395201743344,
          0.7618834321356988,
          -1.0388705038093977,
          1.604583026296511,
          1.609745753076099,
          0.5084992671664441,
          0.917704048571019,
          0.035705704935170814,
          -1.790109534806381,
          -1.4528256522164633,
          0.2573809571704151,
          -2.7204419428439186,
          -2.085340384186382,
          -1.2145036056315703,
          0.5023647348944503,
          -2.213701898590148,
          -0.47829676342769706,
          -2.5730099967530844,
          0.4571358653519451,
          2.472072002879146,
          0.6194573176805499,
          2.2868673585320174,
          -1.9821511421713127,
          0.4317938216034409,
          0.5578887100422061,
          0.27087700344252225,
          -1.0160152917858014,
          0.6406702546846256,
          1.9987664519338355,
          -0.7415962270901594,
          0.47546693016211306,
          -0.27132943279261856,
          0.10947170442269415,
          1.0291226480146305,
          -1.3490987121450895,
          0.38884298479254503,
          1.5566147071556071,
          0.02268900188241972,
          0.7908201022912129,
          0.5642606542958364,
          0.029868823360865666,
          -0.5067955066289295,
          -0.3606413702074724,
          -0.4564280806954663,
          -1.6899277437796105,
          0.6669022920252979,
          0.38646340136473345,
          0.7362584932574483,
          -1.21379691825534,
          0.9554973406757821,
          -0.8200481457281502,
          0.01586832049106004,
          -1.086412152419535,
          -0.353248937756514
         ],
         "xaxis": "x3",
         "y": [
          0.04586201721326738,
          -0.6540043750178025,
          -0.15552861422961764,
          0.4246745931194628,
          -0.7428941263058662,
          1.9759454512955896,
          0.37216312274345376,
          0.270346199650836,
          0.7526879532742253,
          0.6835958715969624,
          -0.2546175189374106,
          -1.4262276612733924,
          -0.8727506868121251,
          -1.6379838534075002,
          -0.3785322805868584,
          -0.8599010083088068,
          0.4629342549127315,
          -0.47817504277382034,
          1.7604777274770929,
          -0.6838113680207202,
          -1.4307352427821491,
          -1.8252753776981603,
          0.0833413830786923,
          0.35628092995480676,
          -1.274976737920389,
          -0.11359150113388154,
          -0.9893370579804546,
          -0.8534703806103016,
          -0.990879781989911,
          -0.11339893230127164,
          -0.3639574025477662,
          -1.9198230956237927,
          -0.15604885841910177,
          -1.242009328543386,
          -1.0874855796153915,
          0.14390334649378728,
          -0.3382339542174146,
          -0.3514758760147406,
          -0.7062967985429734,
          -0.12500964817068996,
          -0.9285989000331202,
          1.5833434550109415,
          -2.4928407726420563,
          0.9246153518224425,
          -0.8612041766022565,
          -1.1870843867017409,
          -0.14298953029197703,
          -1.1632402625589469,
          0.4098274611640754,
          -0.2891110705534637,
          -0.377333312529668,
          -0.7700418964086341,
          1.4419245123587963,
          0.03299347750695614,
          0.30446587287069704,
          1.7167246528354863,
          -1.7488558374419065,
          -0.4082248364598318,
          -0.43705062056267563,
          0.27557456940654934,
          -1.7749290440262324,
          -0.26864031013567036,
          -0.6490697916177971,
          0.31078916234165116,
          -1.3008179237598356,
          0.4139975331828292,
          1.3674410813628795,
          1.67921356806546,
          -1.7257549896922175,
          0.10065480714282876,
          -1.61503423879273,
          0.5862729398825437,
          -1.3634403525084011,
          0.2775805459514663,
          -0.9757974847933348,
          -1.098944519453516,
          1.0101077930359967,
          -0.17781895824552374,
          -0.7734803747585632,
          -0.7535167319015652,
          -0.16708705618339023,
          -0.3297590324897727,
          -0.6069608199941531,
          0.151103955896672,
          1.0641636909694312,
          1.1434256632642008,
          -1.4467009135114968,
          0.19060882578590008,
          -0.41156483114802506,
          3.198680605796546,
          -1.6909576942364866,
          -1.1686824788204284,
          -1.0525002047918235,
          -0.2669890197908835,
          -0.9245356187364816,
          0.7589373225722542,
          -0.40615315896270865,
          0.5371900954827098,
          0.5919142019373578,
          0.36842146133318476
         ],
         "yaxis": "y3"
        },
        {
         "line": {
          "color": "rgba(128, 128, 128, 1.0)",
          "dash": "solid",
          "shape": "linear",
          "width": 1.3
         },
         "marker": {
          "size": 2,
          "symbol": "circle"
         },
         "mode": "markers",
         "name": "A",
         "text": "",
         "type": "scatter",
         "x": [
          -0.10295370891827925,
          -0.028289096356194837,
          -1.6022371865243943,
          -0.6677582850059303,
          1.1592371615025454,
          -0.5785904830396258,
          -0.26899174641412266,
          1.254733732425717,
          0.1432799061338119,
          0.8351102638532616,
          1.1421703598713666,
          -0.11315422544466675,
          1.7035099057363996,
          0.20155281805517186,
          0.12034356763459654,
          -0.48174767384418427,
          0.6825131636537485,
          1.2362873160690677,
          0.9762762671532775,
          0.41974336424934805,
          -1.4153766876496559,
          0.4195292145664559,
          -0.9318567154789266,
          1.7548517747759471,
          1.329133611893916,
          -0.921620640483918,
          -0.5321456901115662,
          0.2870265710468365,
          -1.3610985526958308,
          0.4898054645904833,
          -2.0068460372937325,
          1.4755629336770717,
          0.7525438908823469,
          -0.22849772377726246,
          -1.562234324450787,
          -0.12261812750140202,
          0.1559618417759451,
          -1.0157058307934412,
          0.41269665446075054,
          1.083012248685434,
          -0.07776225518611735,
          -0.6854181413064568,
          -0.5279926765284809,
          1.744451380140734,
          -0.19199976218189435,
          1.6568128125316335,
          -0.20558495057233275,
          -0.13691849636945613,
          -1.4389203517443772,
          -0.3011163949928156,
          1.5299513750055738,
          -0.6849923951573995,
          0.01886297449919174,
          -2.1279076038717304,
          -0.39051100833306857,
          1.1945641170681096,
          0.9164940428171159,
          -1.5626986542353312,
          -1.248276621642825,
          1.239147022656453,
          0.4418621713345895,
          1.9792488191895308,
          -0.4473614741484713,
          -1.4278316918110363,
          0.3495593316139144,
          -1.9695915574468457,
          1.6856077507425953,
          -0.7361933174543438,
          1.966813228659939,
          -0.13622705026676987,
          0.9614499616870827,
          -1.0877516956148814,
          -0.08332493735616588,
          0.5495898880959647,
          0.15644478280110782,
          0.7624766312617356,
          -0.6640685309410604,
          0.5835478069488527,
          -0.41731487014395946,
          -0.7737318381820748,
          -0.18837187365190924,
          -0.1559897493782766,
          0.469635617711406,
          -0.43390208956935267,
          1.8405965262607913,
          0.7392704238448753,
          -0.7980953711157764,
          0.9870665794476245,
          -0.2921588384237159,
          -1.0753293546589404,
          -0.8458221376723069,
          1.5781496355780706,
          1.8588249813644777,
          -0.5686794581197042,
          0.513763389326613,
          -1.2882016677308914,
          0.7874154617671391,
          -1.0549207502128815,
          1.006552024811664,
          0.6604225423851702
         ],
         "xaxis": "x4",
         "y": [
          0.04586201721326738,
          -0.6540043750178025,
          -0.15552861422961764,
          0.4246745931194628,
          -0.7428941263058662,
          1.9759454512955896,
          0.37216312274345376,
          0.270346199650836,
          0.7526879532742253,
          0.6835958715969624,
          -0.2546175189374106,
          -1.4262276612733924,
          -0.8727506868121251,
          -1.6379838534075002,
          -0.3785322805868584,
          -0.8599010083088068,
          0.4629342549127315,
          -0.47817504277382034,
          1.7604777274770929,
          -0.6838113680207202,
          -1.4307352427821491,
          -1.8252753776981603,
          0.0833413830786923,
          0.35628092995480676,
          -1.274976737920389,
          -0.11359150113388154,
          -0.9893370579804546,
          -0.8534703806103016,
          -0.990879781989911,
          -0.11339893230127164,
          -0.3639574025477662,
          -1.9198230956237927,
          -0.15604885841910177,
          -1.242009328543386,
          -1.0874855796153915,
          0.14390334649378728,
          -0.3382339542174146,
          -0.3514758760147406,
          -0.7062967985429734,
          -0.12500964817068996,
          -0.9285989000331202,
          1.5833434550109415,
          -2.4928407726420563,
          0.9246153518224425,
          -0.8612041766022565,
          -1.1870843867017409,
          -0.14298953029197703,
          -1.1632402625589469,
          0.4098274611640754,
          -0.2891110705534637,
          -0.377333312529668,
          -0.7700418964086341,
          1.4419245123587963,
          0.03299347750695614,
          0.30446587287069704,
          1.7167246528354863,
          -1.7488558374419065,
          -0.4082248364598318,
          -0.43705062056267563,
          0.27557456940654934,
          -1.7749290440262324,
          -0.26864031013567036,
          -0.6490697916177971,
          0.31078916234165116,
          -1.3008179237598356,
          0.4139975331828292,
          1.3674410813628795,
          1.67921356806546,
          -1.7257549896922175,
          0.10065480714282876,
          -1.61503423879273,
          0.5862729398825437,
          -1.3634403525084011,
          0.2775805459514663,
          -0.9757974847933348,
          -1.098944519453516,
          1.0101077930359967,
          -0.17781895824552374,
          -0.7734803747585632,
          -0.7535167319015652,
          -0.16708705618339023,
          -0.3297590324897727,
          -0.6069608199941531,
          0.151103955896672,
          1.0641636909694312,
          1.1434256632642008,
          -1.4467009135114968,
          0.19060882578590008,
          -0.41156483114802506,
          3.198680605796546,
          -1.6909576942364866,
          -1.1686824788204284,
          -1.0525002047918235,
          -0.2669890197908835,
          -0.9245356187364816,
          0.7589373225722542,
          -0.40615315896270865,
          0.5371900954827098,
          0.5919142019373578,
          0.36842146133318476
         ],
         "yaxis": "y4"
        },
        {
         "line": {
          "color": "rgba(128, 128, 128, 1.0)",
          "dash": "solid",
          "shape": "linear",
          "width": 1.3
         },
         "marker": {
          "size": 2,
          "symbol": "circle"
         },
         "mode": "markers",
         "name": "B",
         "text": "",
         "type": "scatter",
         "x": [
          0.04586201721326738,
          -0.6540043750178025,
          -0.15552861422961764,
          0.4246745931194628,
          -0.7428941263058662,
          1.9759454512955896,
          0.37216312274345376,
          0.270346199650836,
          0.7526879532742253,
          0.6835958715969624,
          -0.2546175189374106,
          -1.4262276612733924,
          -0.8727506868121251,
          -1.6379838534075002,
          -0.3785322805868584,
          -0.8599010083088068,
          0.4629342549127315,
          -0.47817504277382034,
          1.7604777274770929,
          -0.6838113680207202,
          -1.4307352427821491,
          -1.8252753776981603,
          0.0833413830786923,
          0.35628092995480676,
          -1.274976737920389,
          -0.11359150113388154,
          -0.9893370579804546,
          -0.8534703806103016,
          -0.990879781989911,
          -0.11339893230127164,
          -0.3639574025477662,
          -1.9198230956237927,
          -0.15604885841910177,
          -1.242009328543386,
          -1.0874855796153915,
          0.14390334649378728,
          -0.3382339542174146,
          -0.3514758760147406,
          -0.7062967985429734,
          -0.12500964817068996,
          -0.9285989000331202,
          1.5833434550109415,
          -2.4928407726420563,
          0.9246153518224425,
          -0.8612041766022565,
          -1.1870843867017409,
          -0.14298953029197703,
          -1.1632402625589469,
          0.4098274611640754,
          -0.2891110705534637,
          -0.377333312529668,
          -0.7700418964086341,
          1.4419245123587963,
          0.03299347750695614,
          0.30446587287069704,
          1.7167246528354863,
          -1.7488558374419065,
          -0.4082248364598318,
          -0.43705062056267563,
          0.27557456940654934,
          -1.7749290440262324,
          -0.26864031013567036,
          -0.6490697916177971,
          0.31078916234165116,
          -1.3008179237598356,
          0.4139975331828292,
          1.3674410813628795,
          1.67921356806546,
          -1.7257549896922175,
          0.10065480714282876,
          -1.61503423879273,
          0.5862729398825437,
          -1.3634403525084011,
          0.2775805459514663,
          -0.9757974847933348,
          -1.098944519453516,
          1.0101077930359967,
          -0.17781895824552374,
          -0.7734803747585632,
          -0.7535167319015652,
          -0.16708705618339023,
          -0.3297590324897727,
          -0.6069608199941531,
          0.151103955896672,
          1.0641636909694312,
          1.1434256632642008,
          -1.4467009135114968,
          0.19060882578590008,
          -0.41156483114802506,
          3.198680605796546,
          -1.6909576942364866,
          -1.1686824788204284,
          -1.0525002047918235,
          -0.2669890197908835,
          -0.9245356187364816,
          0.7589373225722542,
          -0.40615315896270865,
          0.5371900954827098,
          0.5919142019373578,
          0.36842146133318476
         ],
         "xaxis": "x5",
         "y": [
          -0.6097684872700382,
          -0.8493487007227505,
          0.9977510237274378,
          -0.1071962371054894,
          -1.699524977003542,
          0.8082757927760422,
          0.8193580554685013,
          -0.2061772615607506,
          -0.26313042840768197,
          0.5600361067764692,
          -0.4501981737498376,
          -0.9544772042218531,
          -1.319940076686102,
          -1.125617561514794,
          -0.3956045049936414,
          -0.8370623937043047,
          1.1686872383712643,
          -0.23243709044945235,
          -0.5340987999737385,
          -2.0614316426642536,
          0.753559286628637,
          -0.8528918211334426,
          -0.22309759866097068,
          -0.7113387792238788,
          -0.5101411104217729,
          -0.6342668440941034,
          -0.6324370086317639,
          0.2714510243492082,
          -0.5213238007382588,
          -1.4086465885726056,
          -0.5420087867655164,
          0.6677503468224606,
          -0.18855694230016076,
          2.0671336870595733,
          -0.47682455918418043,
          -0.024979430414229276,
          1.3061706720343416,
          2.786030341090841,
          0.5486606319358823,
          1.1606684174771362,
          0.1451160819641703,
          2.136969133851484,
          0.770381179614506,
          -0.7556527371529544,
          0.5601210636156078,
          0.3307869065359323,
          -1.3478670652302134,
          0.08644174068175664,
          1.2905756068011163,
          2.275549593676335,
          -0.47563159079150313,
          0.23889454006422195,
          -1.7043014333897235,
          -1.4533176672403718,
          0.5360611298269806,
          0.25318959135101454,
          0.004821837557940499,
          1.4422811243330096,
          0.7317807073826776,
          0.40437412573002657,
          -0.09522520392275328,
          0.6365245480331461,
          0.23493643856197943,
          0.8931242125821466,
          -0.46845291625732416,
          0.3781014047855431,
          -1.2452813787819295,
          0.7720600839543568,
          -0.1467225346322123,
          -0.6315021974816304,
          -0.7269821770978143,
          -0.4242118835802408,
          1.8098886957875182,
          0.6340870632825684,
          -0.7524498968821255,
          2.334655966396287,
          -0.8492378201748007,
          1.1964317058351615,
          0.18153694390689393,
          0.8732838633312291,
          1.07784296658968,
          0.3459866622514968,
          -0.7214103607850231,
          -1.2049057150110316,
          0.5013151212405151,
          -1.3069831656188589,
          0.11814842323440919,
          -0.01760325733177132,
          -1.031507466879412,
          0.8105398816366775,
          0.2630311106697119,
          1.1610935950229937,
          -0.9110603984749275,
          0.38128147794092065,
          -0.32120478827120125,
          -0.909703102805338,
          0.9665818363963105,
          -0.815837744405378,
          -1.5352152603233933,
          0.20011286751182206
         ],
         "yaxis": "y5"
        },
        {
         "histfunc": "count",
         "histnorm": "",
         "marker": {
          "color": "rgba(55, 128, 191, 1.0)",
          "line": {
           "color": "#4D5663",
           "width": 1.3
          }
         },
         "name": "B",
         "nbinsx": 10,
         "opacity": 0.8,
         "orientation": "v",
         "type": "histogram",
         "x": [
          -0.6097684872700382,
          -0.8493487007227505,
          0.9977510237274378,
          -0.1071962371054894,
          -1.699524977003542,
          0.8082757927760422,
          0.8193580554685013,
          -0.2061772615607506,
          -0.26313042840768197,
          0.5600361067764692,
          -0.4501981737498376,
          -0.9544772042218531,
          -1.319940076686102,
          -1.125617561514794,
          -0.3956045049936414,
          -0.8370623937043047,
          1.1686872383712643,
          -0.23243709044945235,
          -0.5340987999737385,
          -2.0614316426642536,
          0.753559286628637,
          -0.8528918211334426,
          -0.22309759866097068,
          -0.7113387792238788,
          -0.5101411104217729,
          -0.6342668440941034,
          -0.6324370086317639,
          0.2714510243492082,
          -0.5213238007382588,
          -1.4086465885726056,
          -0.5420087867655164,
          0.6677503468224606,
          -0.18855694230016076,
          2.0671336870595733,
          -0.47682455918418043,
          -0.024979430414229276,
          1.3061706720343416,
          2.786030341090841,
          0.5486606319358823,
          1.1606684174771362,
          0.1451160819641703,
          2.136969133851484,
          0.770381179614506,
          -0.7556527371529544,
          0.5601210636156078,
          0.3307869065359323,
          -1.3478670652302134,
          0.08644174068175664,
          1.2905756068011163,
          2.275549593676335,
          -0.47563159079150313,
          0.23889454006422195,
          -1.7043014333897235,
          -1.4533176672403718,
          0.5360611298269806,
          0.25318959135101454,
          0.004821837557940499,
          1.4422811243330096,
          0.7317807073826776,
          0.40437412573002657,
          -0.09522520392275328,
          0.6365245480331461,
          0.23493643856197943,
          0.8931242125821466,
          -0.46845291625732416,
          0.3781014047855431,
          -1.2452813787819295,
          0.7720600839543568,
          -0.1467225346322123,
          -0.6315021974816304,
          -0.7269821770978143,
          -0.4242118835802408,
          1.8098886957875182,
          0.6340870632825684,
          -0.7524498968821255,
          2.334655966396287,
          -0.8492378201748007,
          1.1964317058351615,
          0.18153694390689393,
          0.8732838633312291,
          1.07784296658968,
          0.3459866622514968,
          -0.7214103607850231,
          -1.2049057150110316,
          0.5013151212405151,
          -1.3069831656188589,
          0.11814842323440919,
          -0.01760325733177132,
          -1.031507466879412,
          0.8105398816366775,
          0.2630311106697119,
          1.1610935950229937,
          -0.9110603984749275,
          0.38128147794092065,
          -0.32120478827120125,
          -0.909703102805338,
          0.9665818363963105,
          -0.815837744405378,
          -1.5352152603233933,
          0.20011286751182206
         ],
         "xaxis": "x6",
         "yaxis": "y6"
        },
        {
         "line": {
          "color": "rgba(128, 128, 128, 1.0)",
          "dash": "solid",
          "shape": "linear",
          "width": 1.3
         },
         "marker": {
          "size": 2,
          "symbol": "circle"
         },
         "mode": "markers",
         "name": "B",
         "text": "",
         "type": "scatter",
         "x": [
          -0.7923640549556918,
          0.7060011829427726,
          0.053074085338747745,
          -0.04373058171070141,
          1.2902719786567443,
          -2.326763076872465,
          -1.3418517772852283,
          -1.244226566661774,
          -1.2725757819383083,
          0.8116159620087401,
          -1.3347429314666497,
          1.9974754039201925,
          3.083591238437029,
          2.3008413741244005,
          -1.1481753738488727,
          -0.036496503084746126,
          0.756114348876666,
          -1.2440613050199285,
          -1.7717376164523135,
          -0.8878555239734864,
          -0.2115320041638411,
          -1.0971836723653703,
          -0.4169210153464947,
          1.3417489426063411,
          -0.5246637111690206,
          -0.3177934099124036,
          -0.2571240393150729,
          0.9288404503289762,
          0.03528544203319129,
          0.4757650359206804,
          -0.645549547019227,
          -0.4481318637719594,
          0.11346146345051843,
          -0.7116854064900161,
          0.02714297486140097,
          0.18863690436534306,
          -0.18890753331065516,
          -1.424125100200306,
          0.7985810409051322,
          -0.15488734220601214,
          -1.4129076561771807,
          -0.9036584800564172,
          1.0534613485746978,
          -0.17586761916965038,
          -0.834890119351905,
          -0.3804319921817218,
          -0.5983395201743344,
          0.7618834321356988,
          -1.0388705038093977,
          1.604583026296511,
          1.609745753076099,
          0.5084992671664441,
          0.917704048571019,
          0.035705704935170814,
          -1.790109534806381,
          -1.4528256522164633,
          0.2573809571704151,
          -2.7204419428439186,
          -2.085340384186382,
          -1.2145036056315703,
          0.5023647348944503,
          -2.213701898590148,
          -0.47829676342769706,
          -2.5730099967530844,
          0.4571358653519451,
          2.472072002879146,
          0.6194573176805499,
          2.2868673585320174,
          -1.9821511421713127,
          0.4317938216034409,
          0.5578887100422061,
          0.27087700344252225,
          -1.0160152917858014,
          0.6406702546846256,
          1.9987664519338355,
          -0.7415962270901594,
          0.47546693016211306,
          -0.27132943279261856,
          0.10947170442269415,
          1.0291226480146305,
          -1.3490987121450895,
          0.38884298479254503,
          1.5566147071556071,
          0.02268900188241972,
          0.7908201022912129,
          0.5642606542958364,
          0.029868823360865666,
          -0.5067955066289295,
          -0.3606413702074724,
          -0.4564280806954663,
          -1.6899277437796105,
          0.6669022920252979,
          0.38646340136473345,
          0.7362584932574483,
          -1.21379691825534,
          0.9554973406757821,
          -0.8200481457281502,
          0.01586832049106004,
          -1.086412152419535,
          -0.353248937756514
         ],
         "xaxis": "x7",
         "y": [
          -0.6097684872700382,
          -0.8493487007227505,
          0.9977510237274378,
          -0.1071962371054894,
          -1.699524977003542,
          0.8082757927760422,
          0.8193580554685013,
          -0.2061772615607506,
          -0.26313042840768197,
          0.5600361067764692,
          -0.4501981737498376,
          -0.9544772042218531,
          -1.319940076686102,
          -1.125617561514794,
          -0.3956045049936414,
          -0.8370623937043047,
          1.1686872383712643,
          -0.23243709044945235,
          -0.5340987999737385,
          -2.0614316426642536,
          0.753559286628637,
          -0.8528918211334426,
          -0.22309759866097068,
          -0.7113387792238788,
          -0.5101411104217729,
          -0.6342668440941034,
          -0.6324370086317639,
          0.2714510243492082,
          -0.5213238007382588,
          -1.4086465885726056,
          -0.5420087867655164,
          0.6677503468224606,
          -0.18855694230016076,
          2.0671336870595733,
          -0.47682455918418043,
          -0.024979430414229276,
          1.3061706720343416,
          2.786030341090841,
          0.5486606319358823,
          1.1606684174771362,
          0.1451160819641703,
          2.136969133851484,
          0.770381179614506,
          -0.7556527371529544,
          0.5601210636156078,
          0.3307869065359323,
          -1.3478670652302134,
          0.08644174068175664,
          1.2905756068011163,
          2.275549593676335,
          -0.47563159079150313,
          0.23889454006422195,
          -1.7043014333897235,
          -1.4533176672403718,
          0.5360611298269806,
          0.25318959135101454,
          0.004821837557940499,
          1.4422811243330096,
          0.7317807073826776,
          0.40437412573002657,
          -0.09522520392275328,
          0.6365245480331461,
          0.23493643856197943,
          0.8931242125821466,
          -0.46845291625732416,
          0.3781014047855431,
          -1.2452813787819295,
          0.7720600839543568,
          -0.1467225346322123,
          -0.6315021974816304,
          -0.7269821770978143,
          -0.4242118835802408,
          1.8098886957875182,
          0.6340870632825684,
          -0.7524498968821255,
          2.334655966396287,
          -0.8492378201748007,
          1.1964317058351615,
          0.18153694390689393,
          0.8732838633312291,
          1.07784296658968,
          0.3459866622514968,
          -0.7214103607850231,
          -1.2049057150110316,
          0.5013151212405151,
          -1.3069831656188589,
          0.11814842323440919,
          -0.01760325733177132,
          -1.031507466879412,
          0.8105398816366775,
          0.2630311106697119,
          1.1610935950229937,
          -0.9110603984749275,
          0.38128147794092065,
          -0.32120478827120125,
          -0.909703102805338,
          0.9665818363963105,
          -0.815837744405378,
          -1.5352152603233933,
          0.20011286751182206
         ],
         "yaxis": "y7"
        },
        {
         "line": {
          "color": "rgba(128, 128, 128, 1.0)",
          "dash": "solid",
          "shape": "linear",
          "width": 1.3
         },
         "marker": {
          "size": 2,
          "symbol": "circle"
         },
         "mode": "markers",
         "name": "B",
         "text": "",
         "type": "scatter",
         "x": [
          -0.10295370891827925,
          -0.028289096356194837,
          -1.6022371865243943,
          -0.6677582850059303,
          1.1592371615025454,
          -0.5785904830396258,
          -0.26899174641412266,
          1.254733732425717,
          0.1432799061338119,
          0.8351102638532616,
          1.1421703598713666,
          -0.11315422544466675,
          1.7035099057363996,
          0.20155281805517186,
          0.12034356763459654,
          -0.48174767384418427,
          0.6825131636537485,
          1.2362873160690677,
          0.9762762671532775,
          0.41974336424934805,
          -1.4153766876496559,
          0.4195292145664559,
          -0.9318567154789266,
          1.7548517747759471,
          1.329133611893916,
          -0.921620640483918,
          -0.5321456901115662,
          0.2870265710468365,
          -1.3610985526958308,
          0.4898054645904833,
          -2.0068460372937325,
          1.4755629336770717,
          0.7525438908823469,
          -0.22849772377726246,
          -1.562234324450787,
          -0.12261812750140202,
          0.1559618417759451,
          -1.0157058307934412,
          0.41269665446075054,
          1.083012248685434,
          -0.07776225518611735,
          -0.6854181413064568,
          -0.5279926765284809,
          1.744451380140734,
          -0.19199976218189435,
          1.6568128125316335,
          -0.20558495057233275,
          -0.13691849636945613,
          -1.4389203517443772,
          -0.3011163949928156,
          1.5299513750055738,
          -0.6849923951573995,
          0.01886297449919174,
          -2.1279076038717304,
          -0.39051100833306857,
          1.1945641170681096,
          0.9164940428171159,
          -1.5626986542353312,
          -1.248276621642825,
          1.239147022656453,
          0.4418621713345895,
          1.9792488191895308,
          -0.4473614741484713,
          -1.4278316918110363,
          0.3495593316139144,
          -1.9695915574468457,
          1.6856077507425953,
          -0.7361933174543438,
          1.966813228659939,
          -0.13622705026676987,
          0.9614499616870827,
          -1.0877516956148814,
          -0.08332493735616588,
          0.5495898880959647,
          0.15644478280110782,
          0.7624766312617356,
          -0.6640685309410604,
          0.5835478069488527,
          -0.41731487014395946,
          -0.7737318381820748,
          -0.18837187365190924,
          -0.1559897493782766,
          0.469635617711406,
          -0.43390208956935267,
          1.8405965262607913,
          0.7392704238448753,
          -0.7980953711157764,
          0.9870665794476245,
          -0.2921588384237159,
          -1.0753293546589404,
          -0.8458221376723069,
          1.5781496355780706,
          1.8588249813644777,
          -0.5686794581197042,
          0.513763389326613,
          -1.2882016677308914,
          0.7874154617671391,
          -1.0549207502128815,
          1.006552024811664,
          0.6604225423851702
         ],
         "xaxis": "x8",
         "y": [
          -0.6097684872700382,
          -0.8493487007227505,
          0.9977510237274378,
          -0.1071962371054894,
          -1.699524977003542,
          0.8082757927760422,
          0.8193580554685013,
          -0.2061772615607506,
          -0.26313042840768197,
          0.5600361067764692,
          -0.4501981737498376,
          -0.9544772042218531,
          -1.319940076686102,
          -1.125617561514794,
          -0.3956045049936414,
          -0.8370623937043047,
          1.1686872383712643,
          -0.23243709044945235,
          -0.5340987999737385,
          -2.0614316426642536,
          0.753559286628637,
          -0.8528918211334426,
          -0.22309759866097068,
          -0.7113387792238788,
          -0.5101411104217729,
          -0.6342668440941034,
          -0.6324370086317639,
          0.2714510243492082,
          -0.5213238007382588,
          -1.4086465885726056,
          -0.5420087867655164,
          0.6677503468224606,
          -0.18855694230016076,
          2.0671336870595733,
          -0.47682455918418043,
          -0.024979430414229276,
          1.3061706720343416,
          2.786030341090841,
          0.5486606319358823,
          1.1606684174771362,
          0.1451160819641703,
          2.136969133851484,
          0.770381179614506,
          -0.7556527371529544,
          0.5601210636156078,
          0.3307869065359323,
          -1.3478670652302134,
          0.08644174068175664,
          1.2905756068011163,
          2.275549593676335,
          -0.47563159079150313,
          0.23889454006422195,
          -1.7043014333897235,
          -1.4533176672403718,
          0.5360611298269806,
          0.25318959135101454,
          0.004821837557940499,
          1.4422811243330096,
          0.7317807073826776,
          0.40437412573002657,
          -0.09522520392275328,
          0.6365245480331461,
          0.23493643856197943,
          0.8931242125821466,
          -0.46845291625732416,
          0.3781014047855431,
          -1.2452813787819295,
          0.7720600839543568,
          -0.1467225346322123,
          -0.6315021974816304,
          -0.7269821770978143,
          -0.4242118835802408,
          1.8098886957875182,
          0.6340870632825684,
          -0.7524498968821255,
          2.334655966396287,
          -0.8492378201748007,
          1.1964317058351615,
          0.18153694390689393,
          0.8732838633312291,
          1.07784296658968,
          0.3459866622514968,
          -0.7214103607850231,
          -1.2049057150110316,
          0.5013151212405151,
          -1.3069831656188589,
          0.11814842323440919,
          -0.01760325733177132,
          -1.031507466879412,
          0.8105398816366775,
          0.2630311106697119,
          1.1610935950229937,
          -0.9110603984749275,
          0.38128147794092065,
          -0.32120478827120125,
          -0.909703102805338,
          0.9665818363963105,
          -0.815837744405378,
          -1.5352152603233933,
          0.20011286751182206
         ],
         "yaxis": "y8"
        },
        {
         "line": {
          "color": "rgba(128, 128, 128, 1.0)",
          "dash": "solid",
          "shape": "linear",
          "width": 1.3
         },
         "marker": {
          "size": 2,
          "symbol": "circle"
         },
         "mode": "markers",
         "name": "C",
         "text": "",
         "type": "scatter",
         "x": [
          0.04586201721326738,
          -0.6540043750178025,
          -0.15552861422961764,
          0.4246745931194628,
          -0.7428941263058662,
          1.9759454512955896,
          0.37216312274345376,
          0.270346199650836,
          0.7526879532742253,
          0.6835958715969624,
          -0.2546175189374106,
          -1.4262276612733924,
          -0.8727506868121251,
          -1.6379838534075002,
          -0.3785322805868584,
          -0.8599010083088068,
          0.4629342549127315,
          -0.47817504277382034,
          1.7604777274770929,
          -0.6838113680207202,
          -1.4307352427821491,
          -1.8252753776981603,
          0.0833413830786923,
          0.35628092995480676,
          -1.274976737920389,
          -0.11359150113388154,
          -0.9893370579804546,
          -0.8534703806103016,
          -0.990879781989911,
          -0.11339893230127164,
          -0.3639574025477662,
          -1.9198230956237927,
          -0.15604885841910177,
          -1.242009328543386,
          -1.0874855796153915,
          0.14390334649378728,
          -0.3382339542174146,
          -0.3514758760147406,
          -0.7062967985429734,
          -0.12500964817068996,
          -0.9285989000331202,
          1.5833434550109415,
          -2.4928407726420563,
          0.9246153518224425,
          -0.8612041766022565,
          -1.1870843867017409,
          -0.14298953029197703,
          -1.1632402625589469,
          0.4098274611640754,
          -0.2891110705534637,
          -0.377333312529668,
          -0.7700418964086341,
          1.4419245123587963,
          0.03299347750695614,
          0.30446587287069704,
          1.7167246528354863,
          -1.7488558374419065,
          -0.4082248364598318,
          -0.43705062056267563,
          0.27557456940654934,
          -1.7749290440262324,
          -0.26864031013567036,
          -0.6490697916177971,
          0.31078916234165116,
          -1.3008179237598356,
          0.4139975331828292,
          1.3674410813628795,
          1.67921356806546,
          -1.7257549896922175,
          0.10065480714282876,
          -1.61503423879273,
          0.5862729398825437,
          -1.3634403525084011,
          0.2775805459514663,
          -0.9757974847933348,
          -1.098944519453516,
          1.0101077930359967,
          -0.17781895824552374,
          -0.7734803747585632,
          -0.7535167319015652,
          -0.16708705618339023,
          -0.3297590324897727,
          -0.6069608199941531,
          0.151103955896672,
          1.0641636909694312,
          1.1434256632642008,
          -1.4467009135114968,
          0.19060882578590008,
          -0.41156483114802506,
          3.198680605796546,
          -1.6909576942364866,
          -1.1686824788204284,
          -1.0525002047918235,
          -0.2669890197908835,
          -0.9245356187364816,
          0.7589373225722542,
          -0.40615315896270865,
          0.5371900954827098,
          0.5919142019373578,
          0.36842146133318476
         ],
         "xaxis": "x9",
         "y": [
          -0.7923640549556918,
          0.7060011829427726,
          0.053074085338747745,
          -0.04373058171070141,
          1.2902719786567443,
          -2.326763076872465,
          -1.3418517772852283,
          -1.244226566661774,
          -1.2725757819383083,
          0.8116159620087401,
          -1.3347429314666497,
          1.9974754039201925,
          3.083591238437029,
          2.3008413741244005,
          -1.1481753738488727,
          -0.036496503084746126,
          0.756114348876666,
          -1.2440613050199285,
          -1.7717376164523135,
          -0.8878555239734864,
          -0.2115320041638411,
          -1.0971836723653703,
          -0.4169210153464947,
          1.3417489426063411,
          -0.5246637111690206,
          -0.3177934099124036,
          -0.2571240393150729,
          0.9288404503289762,
          0.03528544203319129,
          0.4757650359206804,
          -0.645549547019227,
          -0.4481318637719594,
          0.11346146345051843,
          -0.7116854064900161,
          0.02714297486140097,
          0.18863690436534306,
          -0.18890753331065516,
          -1.424125100200306,
          0.7985810409051322,
          -0.15488734220601214,
          -1.4129076561771807,
          -0.9036584800564172,
          1.0534613485746978,
          -0.17586761916965038,
          -0.834890119351905,
          -0.3804319921817218,
          -0.5983395201743344,
          0.7618834321356988,
          -1.0388705038093977,
          1.604583026296511,
          1.609745753076099,
          0.5084992671664441,
          0.917704048571019,
          0.035705704935170814,
          -1.790109534806381,
          -1.4528256522164633,
          0.2573809571704151,
          -2.7204419428439186,
          -2.085340384186382,
          -1.2145036056315703,
          0.5023647348944503,
          -2.213701898590148,
          -0.47829676342769706,
          -2.5730099967530844,
          0.4571358653519451,
          2.472072002879146,
          0.6194573176805499,
          2.2868673585320174,
          -1.9821511421713127,
          0.4317938216034409,
          0.5578887100422061,
          0.27087700344252225,
          -1.0160152917858014,
          0.6406702546846256,
          1.9987664519338355,
          -0.7415962270901594,
          0.47546693016211306,
          -0.27132943279261856,
          0.10947170442269415,
          1.0291226480146305,
          -1.3490987121450895,
          0.38884298479254503,
          1.5566147071556071,
          0.02268900188241972,
          0.7908201022912129,
          0.5642606542958364,
          0.029868823360865666,
          -0.5067955066289295,
          -0.3606413702074724,
          -0.4564280806954663,
          -1.6899277437796105,
          0.6669022920252979,
          0.38646340136473345,
          0.7362584932574483,
          -1.21379691825534,
          0.9554973406757821,
          -0.8200481457281502,
          0.01586832049106004,
          -1.086412152419535,
          -0.353248937756514
         ],
         "yaxis": "y9"
        },
        {
         "line": {
          "color": "rgba(128, 128, 128, 1.0)",
          "dash": "solid",
          "shape": "linear",
          "width": 1.3
         },
         "marker": {
          "size": 2,
          "symbol": "circle"
         },
         "mode": "markers",
         "name": "C",
         "text": "",
         "type": "scatter",
         "x": [
          -0.6097684872700382,
          -0.8493487007227505,
          0.9977510237274378,
          -0.1071962371054894,
          -1.699524977003542,
          0.8082757927760422,
          0.8193580554685013,
          -0.2061772615607506,
          -0.26313042840768197,
          0.5600361067764692,
          -0.4501981737498376,
          -0.9544772042218531,
          -1.319940076686102,
          -1.125617561514794,
          -0.3956045049936414,
          -0.8370623937043047,
          1.1686872383712643,
          -0.23243709044945235,
          -0.5340987999737385,
          -2.0614316426642536,
          0.753559286628637,
          -0.8528918211334426,
          -0.22309759866097068,
          -0.7113387792238788,
          -0.5101411104217729,
          -0.6342668440941034,
          -0.6324370086317639,
          0.2714510243492082,
          -0.5213238007382588,
          -1.4086465885726056,
          -0.5420087867655164,
          0.6677503468224606,
          -0.18855694230016076,
          2.0671336870595733,
          -0.47682455918418043,
          -0.024979430414229276,
          1.3061706720343416,
          2.786030341090841,
          0.5486606319358823,
          1.1606684174771362,
          0.1451160819641703,
          2.136969133851484,
          0.770381179614506,
          -0.7556527371529544,
          0.5601210636156078,
          0.3307869065359323,
          -1.3478670652302134,
          0.08644174068175664,
          1.2905756068011163,
          2.275549593676335,
          -0.47563159079150313,
          0.23889454006422195,
          -1.7043014333897235,
          -1.4533176672403718,
          0.5360611298269806,
          0.25318959135101454,
          0.004821837557940499,
          1.4422811243330096,
          0.7317807073826776,
          0.40437412573002657,
          -0.09522520392275328,
          0.6365245480331461,
          0.23493643856197943,
          0.8931242125821466,
          -0.46845291625732416,
          0.3781014047855431,
          -1.2452813787819295,
          0.7720600839543568,
          -0.1467225346322123,
          -0.6315021974816304,
          -0.7269821770978143,
          -0.4242118835802408,
          1.8098886957875182,
          0.6340870632825684,
          -0.7524498968821255,
          2.334655966396287,
          -0.8492378201748007,
          1.1964317058351615,
          0.18153694390689393,
          0.8732838633312291,
          1.07784296658968,
          0.3459866622514968,
          -0.7214103607850231,
          -1.2049057150110316,
          0.5013151212405151,
          -1.3069831656188589,
          0.11814842323440919,
          -0.01760325733177132,
          -1.031507466879412,
          0.8105398816366775,
          0.2630311106697119,
          1.1610935950229937,
          -0.9110603984749275,
          0.38128147794092065,
          -0.32120478827120125,
          -0.909703102805338,
          0.9665818363963105,
          -0.815837744405378,
          -1.5352152603233933,
          0.20011286751182206
         ],
         "xaxis": "x10",
         "y": [
          -0.7923640549556918,
          0.7060011829427726,
          0.053074085338747745,
          -0.04373058171070141,
          1.2902719786567443,
          -2.326763076872465,
          -1.3418517772852283,
          -1.244226566661774,
          -1.2725757819383083,
          0.8116159620087401,
          -1.3347429314666497,
          1.9974754039201925,
          3.083591238437029,
          2.3008413741244005,
          -1.1481753738488727,
          -0.036496503084746126,
          0.756114348876666,
          -1.2440613050199285,
          -1.7717376164523135,
          -0.8878555239734864,
          -0.2115320041638411,
          -1.0971836723653703,
          -0.4169210153464947,
          1.3417489426063411,
          -0.5246637111690206,
          -0.3177934099124036,
          -0.2571240393150729,
          0.9288404503289762,
          0.03528544203319129,
          0.4757650359206804,
          -0.645549547019227,
          -0.4481318637719594,
          0.11346146345051843,
          -0.7116854064900161,
          0.02714297486140097,
          0.18863690436534306,
          -0.18890753331065516,
          -1.424125100200306,
          0.7985810409051322,
          -0.15488734220601214,
          -1.4129076561771807,
          -0.9036584800564172,
          1.0534613485746978,
          -0.17586761916965038,
          -0.834890119351905,
          -0.3804319921817218,
          -0.5983395201743344,
          0.7618834321356988,
          -1.0388705038093977,
          1.604583026296511,
          1.609745753076099,
          0.5084992671664441,
          0.917704048571019,
          0.035705704935170814,
          -1.790109534806381,
          -1.4528256522164633,
          0.2573809571704151,
          -2.7204419428439186,
          -2.085340384186382,
          -1.2145036056315703,
          0.5023647348944503,
          -2.213701898590148,
          -0.47829676342769706,
          -2.5730099967530844,
          0.4571358653519451,
          2.472072002879146,
          0.6194573176805499,
          2.2868673585320174,
          -1.9821511421713127,
          0.4317938216034409,
          0.5578887100422061,
          0.27087700344252225,
          -1.0160152917858014,
          0.6406702546846256,
          1.9987664519338355,
          -0.7415962270901594,
          0.47546693016211306,
          -0.27132943279261856,
          0.10947170442269415,
          1.0291226480146305,
          -1.3490987121450895,
          0.38884298479254503,
          1.5566147071556071,
          0.02268900188241972,
          0.7908201022912129,
          0.5642606542958364,
          0.029868823360865666,
          -0.5067955066289295,
          -0.3606413702074724,
          -0.4564280806954663,
          -1.6899277437796105,
          0.6669022920252979,
          0.38646340136473345,
          0.7362584932574483,
          -1.21379691825534,
          0.9554973406757821,
          -0.8200481457281502,
          0.01586832049106004,
          -1.086412152419535,
          -0.353248937756514
         ],
         "yaxis": "y10"
        },
        {
         "histfunc": "count",
         "histnorm": "",
         "marker": {
          "color": "rgba(50, 171, 96, 1.0)",
          "line": {
           "color": "#4D5663",
           "width": 1.3
          }
         },
         "name": "C",
         "nbinsx": 10,
         "opacity": 0.8,
         "orientation": "v",
         "type": "histogram",
         "x": [
          -0.7923640549556918,
          0.7060011829427726,
          0.053074085338747745,
          -0.04373058171070141,
          1.2902719786567443,
          -2.326763076872465,
          -1.3418517772852283,
          -1.244226566661774,
          -1.2725757819383083,
          0.8116159620087401,
          -1.3347429314666497,
          1.9974754039201925,
          3.083591238437029,
          2.3008413741244005,
          -1.1481753738488727,
          -0.036496503084746126,
          0.756114348876666,
          -1.2440613050199285,
          -1.7717376164523135,
          -0.8878555239734864,
          -0.2115320041638411,
          -1.0971836723653703,
          -0.4169210153464947,
          1.3417489426063411,
          -0.5246637111690206,
          -0.3177934099124036,
          -0.2571240393150729,
          0.9288404503289762,
          0.03528544203319129,
          0.4757650359206804,
          -0.645549547019227,
          -0.4481318637719594,
          0.11346146345051843,
          -0.7116854064900161,
          0.02714297486140097,
          0.18863690436534306,
          -0.18890753331065516,
          -1.424125100200306,
          0.7985810409051322,
          -0.15488734220601214,
          -1.4129076561771807,
          -0.9036584800564172,
          1.0534613485746978,
          -0.17586761916965038,
          -0.834890119351905,
          -0.3804319921817218,
          -0.5983395201743344,
          0.7618834321356988,
          -1.0388705038093977,
          1.604583026296511,
          1.609745753076099,
          0.5084992671664441,
          0.917704048571019,
          0.035705704935170814,
          -1.790109534806381,
          -1.4528256522164633,
          0.2573809571704151,
          -2.7204419428439186,
          -2.085340384186382,
          -1.2145036056315703,
          0.5023647348944503,
          -2.213701898590148,
          -0.47829676342769706,
          -2.5730099967530844,
          0.4571358653519451,
          2.472072002879146,
          0.6194573176805499,
          2.2868673585320174,
          -1.9821511421713127,
          0.4317938216034409,
          0.5578887100422061,
          0.27087700344252225,
          -1.0160152917858014,
          0.6406702546846256,
          1.9987664519338355,
          -0.7415962270901594,
          0.47546693016211306,
          -0.27132943279261856,
          0.10947170442269415,
          1.0291226480146305,
          -1.3490987121450895,
          0.38884298479254503,
          1.5566147071556071,
          0.02268900188241972,
          0.7908201022912129,
          0.5642606542958364,
          0.029868823360865666,
          -0.5067955066289295,
          -0.3606413702074724,
          -0.4564280806954663,
          -1.6899277437796105,
          0.6669022920252979,
          0.38646340136473345,
          0.7362584932574483,
          -1.21379691825534,
          0.9554973406757821,
          -0.8200481457281502,
          0.01586832049106004,
          -1.086412152419535,
          -0.353248937756514
         ],
         "xaxis": "x11",
         "yaxis": "y11"
        },
        {
         "line": {
          "color": "rgba(128, 128, 128, 1.0)",
          "dash": "solid",
          "shape": "linear",
          "width": 1.3
         },
         "marker": {
          "size": 2,
          "symbol": "circle"
         },
         "mode": "markers",
         "name": "C",
         "text": "",
         "type": "scatter",
         "x": [
          -0.10295370891827925,
          -0.028289096356194837,
          -1.6022371865243943,
          -0.6677582850059303,
          1.1592371615025454,
          -0.5785904830396258,
          -0.26899174641412266,
          1.254733732425717,
          0.1432799061338119,
          0.8351102638532616,
          1.1421703598713666,
          -0.11315422544466675,
          1.7035099057363996,
          0.20155281805517186,
          0.12034356763459654,
          -0.48174767384418427,
          0.6825131636537485,
          1.2362873160690677,
          0.9762762671532775,
          0.41974336424934805,
          -1.4153766876496559,
          0.4195292145664559,
          -0.9318567154789266,
          1.7548517747759471,
          1.329133611893916,
          -0.921620640483918,
          -0.5321456901115662,
          0.2870265710468365,
          -1.3610985526958308,
          0.4898054645904833,
          -2.0068460372937325,
          1.4755629336770717,
          0.7525438908823469,
          -0.22849772377726246,
          -1.562234324450787,
          -0.12261812750140202,
          0.1559618417759451,
          -1.0157058307934412,
          0.41269665446075054,
          1.083012248685434,
          -0.07776225518611735,
          -0.6854181413064568,
          -0.5279926765284809,
          1.744451380140734,
          -0.19199976218189435,
          1.6568128125316335,
          -0.20558495057233275,
          -0.13691849636945613,
          -1.4389203517443772,
          -0.3011163949928156,
          1.5299513750055738,
          -0.6849923951573995,
          0.01886297449919174,
          -2.1279076038717304,
          -0.39051100833306857,
          1.1945641170681096,
          0.9164940428171159,
          -1.5626986542353312,
          -1.248276621642825,
          1.239147022656453,
          0.4418621713345895,
          1.9792488191895308,
          -0.4473614741484713,
          -1.4278316918110363,
          0.3495593316139144,
          -1.9695915574468457,
          1.6856077507425953,
          -0.7361933174543438,
          1.966813228659939,
          -0.13622705026676987,
          0.9614499616870827,
          -1.0877516956148814,
          -0.08332493735616588,
          0.5495898880959647,
          0.15644478280110782,
          0.7624766312617356,
          -0.6640685309410604,
          0.5835478069488527,
          -0.41731487014395946,
          -0.7737318381820748,
          -0.18837187365190924,
          -0.1559897493782766,
          0.469635617711406,
          -0.43390208956935267,
          1.8405965262607913,
          0.7392704238448753,
          -0.7980953711157764,
          0.9870665794476245,
          -0.2921588384237159,
          -1.0753293546589404,
          -0.8458221376723069,
          1.5781496355780706,
          1.8588249813644777,
          -0.5686794581197042,
          0.513763389326613,
          -1.2882016677308914,
          0.7874154617671391,
          -1.0549207502128815,
          1.006552024811664,
          0.6604225423851702
         ],
         "xaxis": "x12",
         "y": [
          -0.7923640549556918,
          0.7060011829427726,
          0.053074085338747745,
          -0.04373058171070141,
          1.2902719786567443,
          -2.326763076872465,
          -1.3418517772852283,
          -1.244226566661774,
          -1.2725757819383083,
          0.8116159620087401,
          -1.3347429314666497,
          1.9974754039201925,
          3.083591238437029,
          2.3008413741244005,
          -1.1481753738488727,
          -0.036496503084746126,
          0.756114348876666,
          -1.2440613050199285,
          -1.7717376164523135,
          -0.8878555239734864,
          -0.2115320041638411,
          -1.0971836723653703,
          -0.4169210153464947,
          1.3417489426063411,
          -0.5246637111690206,
          -0.3177934099124036,
          -0.2571240393150729,
          0.9288404503289762,
          0.03528544203319129,
          0.4757650359206804,
          -0.645549547019227,
          -0.4481318637719594,
          0.11346146345051843,
          -0.7116854064900161,
          0.02714297486140097,
          0.18863690436534306,
          -0.18890753331065516,
          -1.424125100200306,
          0.7985810409051322,
          -0.15488734220601214,
          -1.4129076561771807,
          -0.9036584800564172,
          1.0534613485746978,
          -0.17586761916965038,
          -0.834890119351905,
          -0.3804319921817218,
          -0.5983395201743344,
          0.7618834321356988,
          -1.0388705038093977,
          1.604583026296511,
          1.609745753076099,
          0.5084992671664441,
          0.917704048571019,
          0.035705704935170814,
          -1.790109534806381,
          -1.4528256522164633,
          0.2573809571704151,
          -2.7204419428439186,
          -2.085340384186382,
          -1.2145036056315703,
          0.5023647348944503,
          -2.213701898590148,
          -0.47829676342769706,
          -2.5730099967530844,
          0.4571358653519451,
          2.472072002879146,
          0.6194573176805499,
          2.2868673585320174,
          -1.9821511421713127,
          0.4317938216034409,
          0.5578887100422061,
          0.27087700344252225,
          -1.0160152917858014,
          0.6406702546846256,
          1.9987664519338355,
          -0.7415962270901594,
          0.47546693016211306,
          -0.27132943279261856,
          0.10947170442269415,
          1.0291226480146305,
          -1.3490987121450895,
          0.38884298479254503,
          1.5566147071556071,
          0.02268900188241972,
          0.7908201022912129,
          0.5642606542958364,
          0.029868823360865666,
          -0.5067955066289295,
          -0.3606413702074724,
          -0.4564280806954663,
          -1.6899277437796105,
          0.6669022920252979,
          0.38646340136473345,
          0.7362584932574483,
          -1.21379691825534,
          0.9554973406757821,
          -0.8200481457281502,
          0.01586832049106004,
          -1.086412152419535,
          -0.353248937756514
         ],
         "yaxis": "y12"
        },
        {
         "line": {
          "color": "rgba(128, 128, 128, 1.0)",
          "dash": "solid",
          "shape": "linear",
          "width": 1.3
         },
         "marker": {
          "size": 2,
          "symbol": "circle"
         },
         "mode": "markers",
         "name": "D",
         "text": "",
         "type": "scatter",
         "x": [
          0.04586201721326738,
          -0.6540043750178025,
          -0.15552861422961764,
          0.4246745931194628,
          -0.7428941263058662,
          1.9759454512955896,
          0.37216312274345376,
          0.270346199650836,
          0.7526879532742253,
          0.6835958715969624,
          -0.2546175189374106,
          -1.4262276612733924,
          -0.8727506868121251,
          -1.6379838534075002,
          -0.3785322805868584,
          -0.8599010083088068,
          0.4629342549127315,
          -0.47817504277382034,
          1.7604777274770929,
          -0.6838113680207202,
          -1.4307352427821491,
          -1.8252753776981603,
          0.0833413830786923,
          0.35628092995480676,
          -1.274976737920389,
          -0.11359150113388154,
          -0.9893370579804546,
          -0.8534703806103016,
          -0.990879781989911,
          -0.11339893230127164,
          -0.3639574025477662,
          -1.9198230956237927,
          -0.15604885841910177,
          -1.242009328543386,
          -1.0874855796153915,
          0.14390334649378728,
          -0.3382339542174146,
          -0.3514758760147406,
          -0.7062967985429734,
          -0.12500964817068996,
          -0.9285989000331202,
          1.5833434550109415,
          -2.4928407726420563,
          0.9246153518224425,
          -0.8612041766022565,
          -1.1870843867017409,
          -0.14298953029197703,
          -1.1632402625589469,
          0.4098274611640754,
          -0.2891110705534637,
          -0.377333312529668,
          -0.7700418964086341,
          1.4419245123587963,
          0.03299347750695614,
          0.30446587287069704,
          1.7167246528354863,
          -1.7488558374419065,
          -0.4082248364598318,
          -0.43705062056267563,
          0.27557456940654934,
          -1.7749290440262324,
          -0.26864031013567036,
          -0.6490697916177971,
          0.31078916234165116,
          -1.3008179237598356,
          0.4139975331828292,
          1.3674410813628795,
          1.67921356806546,
          -1.7257549896922175,
          0.10065480714282876,
          -1.61503423879273,
          0.5862729398825437,
          -1.3634403525084011,
          0.2775805459514663,
          -0.9757974847933348,
          -1.098944519453516,
          1.0101077930359967,
          -0.17781895824552374,
          -0.7734803747585632,
          -0.7535167319015652,
          -0.16708705618339023,
          -0.3297590324897727,
          -0.6069608199941531,
          0.151103955896672,
          1.0641636909694312,
          1.1434256632642008,
          -1.4467009135114968,
          0.19060882578590008,
          -0.41156483114802506,
          3.198680605796546,
          -1.6909576942364866,
          -1.1686824788204284,
          -1.0525002047918235,
          -0.2669890197908835,
          -0.9245356187364816,
          0.7589373225722542,
          -0.40615315896270865,
          0.5371900954827098,
          0.5919142019373578,
          0.36842146133318476
         ],
         "xaxis": "x13",
         "y": [
          -0.10295370891827925,
          -0.028289096356194837,
          -1.6022371865243943,
          -0.6677582850059303,
          1.1592371615025454,
          -0.5785904830396258,
          -0.26899174641412266,
          1.254733732425717,
          0.1432799061338119,
          0.8351102638532616,
          1.1421703598713666,
          -0.11315422544466675,
          1.7035099057363996,
          0.20155281805517186,
          0.12034356763459654,
          -0.48174767384418427,
          0.6825131636537485,
          1.2362873160690677,
          0.9762762671532775,
          0.41974336424934805,
          -1.4153766876496559,
          0.4195292145664559,
          -0.9318567154789266,
          1.7548517747759471,
          1.329133611893916,
          -0.921620640483918,
          -0.5321456901115662,
          0.2870265710468365,
          -1.3610985526958308,
          0.4898054645904833,
          -2.0068460372937325,
          1.4755629336770717,
          0.7525438908823469,
          -0.22849772377726246,
          -1.562234324450787,
          -0.12261812750140202,
          0.1559618417759451,
          -1.0157058307934412,
          0.41269665446075054,
          1.083012248685434,
          -0.07776225518611735,
          -0.6854181413064568,
          -0.5279926765284809,
          1.744451380140734,
          -0.19199976218189435,
          1.6568128125316335,
          -0.20558495057233275,
          -0.13691849636945613,
          -1.4389203517443772,
          -0.3011163949928156,
          1.5299513750055738,
          -0.6849923951573995,
          0.01886297449919174,
          -2.1279076038717304,
          -0.39051100833306857,
          1.1945641170681096,
          0.9164940428171159,
          -1.5626986542353312,
          -1.248276621642825,
          1.239147022656453,
          0.4418621713345895,
          1.9792488191895308,
          -0.4473614741484713,
          -1.4278316918110363,
          0.3495593316139144,
          -1.9695915574468457,
          1.6856077507425953,
          -0.7361933174543438,
          1.966813228659939,
          -0.13622705026676987,
          0.9614499616870827,
          -1.0877516956148814,
          -0.08332493735616588,
          0.5495898880959647,
          0.15644478280110782,
          0.7624766312617356,
          -0.6640685309410604,
          0.5835478069488527,
          -0.41731487014395946,
          -0.7737318381820748,
          -0.18837187365190924,
          -0.1559897493782766,
          0.469635617711406,
          -0.43390208956935267,
          1.8405965262607913,
          0.7392704238448753,
          -0.7980953711157764,
          0.9870665794476245,
          -0.2921588384237159,
          -1.0753293546589404,
          -0.8458221376723069,
          1.5781496355780706,
          1.8588249813644777,
          -0.5686794581197042,
          0.513763389326613,
          -1.2882016677308914,
          0.7874154617671391,
          -1.0549207502128815,
          1.006552024811664,
          0.6604225423851702
         ],
         "yaxis": "y13"
        },
        {
         "line": {
          "color": "rgba(128, 128, 128, 1.0)",
          "dash": "solid",
          "shape": "linear",
          "width": 1.3
         },
         "marker": {
          "size": 2,
          "symbol": "circle"
         },
         "mode": "markers",
         "name": "D",
         "text": "",
         "type": "scatter",
         "x": [
          -0.6097684872700382,
          -0.8493487007227505,
          0.9977510237274378,
          -0.1071962371054894,
          -1.699524977003542,
          0.8082757927760422,
          0.8193580554685013,
          -0.2061772615607506,
          -0.26313042840768197,
          0.5600361067764692,
          -0.4501981737498376,
          -0.9544772042218531,
          -1.319940076686102,
          -1.125617561514794,
          -0.3956045049936414,
          -0.8370623937043047,
          1.1686872383712643,
          -0.23243709044945235,
          -0.5340987999737385,
          -2.0614316426642536,
          0.753559286628637,
          -0.8528918211334426,
          -0.22309759866097068,
          -0.7113387792238788,
          -0.5101411104217729,
          -0.6342668440941034,
          -0.6324370086317639,
          0.2714510243492082,
          -0.5213238007382588,
          -1.4086465885726056,
          -0.5420087867655164,
          0.6677503468224606,
          -0.18855694230016076,
          2.0671336870595733,
          -0.47682455918418043,
          -0.024979430414229276,
          1.3061706720343416,
          2.786030341090841,
          0.5486606319358823,
          1.1606684174771362,
          0.1451160819641703,
          2.136969133851484,
          0.770381179614506,
          -0.7556527371529544,
          0.5601210636156078,
          0.3307869065359323,
          -1.3478670652302134,
          0.08644174068175664,
          1.2905756068011163,
          2.275549593676335,
          -0.47563159079150313,
          0.23889454006422195,
          -1.7043014333897235,
          -1.4533176672403718,
          0.5360611298269806,
          0.25318959135101454,
          0.004821837557940499,
          1.4422811243330096,
          0.7317807073826776,
          0.40437412573002657,
          -0.09522520392275328,
          0.6365245480331461,
          0.23493643856197943,
          0.8931242125821466,
          -0.46845291625732416,
          0.3781014047855431,
          -1.2452813787819295,
          0.7720600839543568,
          -0.1467225346322123,
          -0.6315021974816304,
          -0.7269821770978143,
          -0.4242118835802408,
          1.8098886957875182,
          0.6340870632825684,
          -0.7524498968821255,
          2.334655966396287,
          -0.8492378201748007,
          1.1964317058351615,
          0.18153694390689393,
          0.8732838633312291,
          1.07784296658968,
          0.3459866622514968,
          -0.7214103607850231,
          -1.2049057150110316,
          0.5013151212405151,
          -1.3069831656188589,
          0.11814842323440919,
          -0.01760325733177132,
          -1.031507466879412,
          0.8105398816366775,
          0.2630311106697119,
          1.1610935950229937,
          -0.9110603984749275,
          0.38128147794092065,
          -0.32120478827120125,
          -0.909703102805338,
          0.9665818363963105,
          -0.815837744405378,
          -1.5352152603233933,
          0.20011286751182206
         ],
         "xaxis": "x14",
         "y": [
          -0.10295370891827925,
          -0.028289096356194837,
          -1.6022371865243943,
          -0.6677582850059303,
          1.1592371615025454,
          -0.5785904830396258,
          -0.26899174641412266,
          1.254733732425717,
          0.1432799061338119,
          0.8351102638532616,
          1.1421703598713666,
          -0.11315422544466675,
          1.7035099057363996,
          0.20155281805517186,
          0.12034356763459654,
          -0.48174767384418427,
          0.6825131636537485,
          1.2362873160690677,
          0.9762762671532775,
          0.41974336424934805,
          -1.4153766876496559,
          0.4195292145664559,
          -0.9318567154789266,
          1.7548517747759471,
          1.329133611893916,
          -0.921620640483918,
          -0.5321456901115662,
          0.2870265710468365,
          -1.3610985526958308,
          0.4898054645904833,
          -2.0068460372937325,
          1.4755629336770717,
          0.7525438908823469,
          -0.22849772377726246,
          -1.562234324450787,
          -0.12261812750140202,
          0.1559618417759451,
          -1.0157058307934412,
          0.41269665446075054,
          1.083012248685434,
          -0.07776225518611735,
          -0.6854181413064568,
          -0.5279926765284809,
          1.744451380140734,
          -0.19199976218189435,
          1.6568128125316335,
          -0.20558495057233275,
          -0.13691849636945613,
          -1.4389203517443772,
          -0.3011163949928156,
          1.5299513750055738,
          -0.6849923951573995,
          0.01886297449919174,
          -2.1279076038717304,
          -0.39051100833306857,
          1.1945641170681096,
          0.9164940428171159,
          -1.5626986542353312,
          -1.248276621642825,
          1.239147022656453,
          0.4418621713345895,
          1.9792488191895308,
          -0.4473614741484713,
          -1.4278316918110363,
          0.3495593316139144,
          -1.9695915574468457,
          1.6856077507425953,
          -0.7361933174543438,
          1.966813228659939,
          -0.13622705026676987,
          0.9614499616870827,
          -1.0877516956148814,
          -0.08332493735616588,
          0.5495898880959647,
          0.15644478280110782,
          0.7624766312617356,
          -0.6640685309410604,
          0.5835478069488527,
          -0.41731487014395946,
          -0.7737318381820748,
          -0.18837187365190924,
          -0.1559897493782766,
          0.469635617711406,
          -0.43390208956935267,
          1.8405965262607913,
          0.7392704238448753,
          -0.7980953711157764,
          0.9870665794476245,
          -0.2921588384237159,
          -1.0753293546589404,
          -0.8458221376723069,
          1.5781496355780706,
          1.8588249813644777,
          -0.5686794581197042,
          0.513763389326613,
          -1.2882016677308914,
          0.7874154617671391,
          -1.0549207502128815,
          1.006552024811664,
          0.6604225423851702
         ],
         "yaxis": "y14"
        },
        {
         "line": {
          "color": "rgba(128, 128, 128, 1.0)",
          "dash": "solid",
          "shape": "linear",
          "width": 1.3
         },
         "marker": {
          "size": 2,
          "symbol": "circle"
         },
         "mode": "markers",
         "name": "D",
         "text": "",
         "type": "scatter",
         "x": [
          -0.7923640549556918,
          0.7060011829427726,
          0.053074085338747745,
          -0.04373058171070141,
          1.2902719786567443,
          -2.326763076872465,
          -1.3418517772852283,
          -1.244226566661774,
          -1.2725757819383083,
          0.8116159620087401,
          -1.3347429314666497,
          1.9974754039201925,
          3.083591238437029,
          2.3008413741244005,
          -1.1481753738488727,
          -0.036496503084746126,
          0.756114348876666,
          -1.2440613050199285,
          -1.7717376164523135,
          -0.8878555239734864,
          -0.2115320041638411,
          -1.0971836723653703,
          -0.4169210153464947,
          1.3417489426063411,
          -0.5246637111690206,
          -0.3177934099124036,
          -0.2571240393150729,
          0.9288404503289762,
          0.03528544203319129,
          0.4757650359206804,
          -0.645549547019227,
          -0.4481318637719594,
          0.11346146345051843,
          -0.7116854064900161,
          0.02714297486140097,
          0.18863690436534306,
          -0.18890753331065516,
          -1.424125100200306,
          0.7985810409051322,
          -0.15488734220601214,
          -1.4129076561771807,
          -0.9036584800564172,
          1.0534613485746978,
          -0.17586761916965038,
          -0.834890119351905,
          -0.3804319921817218,
          -0.5983395201743344,
          0.7618834321356988,
          -1.0388705038093977,
          1.604583026296511,
          1.609745753076099,
          0.5084992671664441,
          0.917704048571019,
          0.035705704935170814,
          -1.790109534806381,
          -1.4528256522164633,
          0.2573809571704151,
          -2.7204419428439186,
          -2.085340384186382,
          -1.2145036056315703,
          0.5023647348944503,
          -2.213701898590148,
          -0.47829676342769706,
          -2.5730099967530844,
          0.4571358653519451,
          2.472072002879146,
          0.6194573176805499,
          2.2868673585320174,
          -1.9821511421713127,
          0.4317938216034409,
          0.5578887100422061,
          0.27087700344252225,
          -1.0160152917858014,
          0.6406702546846256,
          1.9987664519338355,
          -0.7415962270901594,
          0.47546693016211306,
          -0.27132943279261856,
          0.10947170442269415,
          1.0291226480146305,
          -1.3490987121450895,
          0.38884298479254503,
          1.5566147071556071,
          0.02268900188241972,
          0.7908201022912129,
          0.5642606542958364,
          0.029868823360865666,
          -0.5067955066289295,
          -0.3606413702074724,
          -0.4564280806954663,
          -1.6899277437796105,
          0.6669022920252979,
          0.38646340136473345,
          0.7362584932574483,
          -1.21379691825534,
          0.9554973406757821,
          -0.8200481457281502,
          0.01586832049106004,
          -1.086412152419535,
          -0.353248937756514
         ],
         "xaxis": "x15",
         "y": [
          -0.10295370891827925,
          -0.028289096356194837,
          -1.6022371865243943,
          -0.6677582850059303,
          1.1592371615025454,
          -0.5785904830396258,
          -0.26899174641412266,
          1.254733732425717,
          0.1432799061338119,
          0.8351102638532616,
          1.1421703598713666,
          -0.11315422544466675,
          1.7035099057363996,
          0.20155281805517186,
          0.12034356763459654,
          -0.48174767384418427,
          0.6825131636537485,
          1.2362873160690677,
          0.9762762671532775,
          0.41974336424934805,
          -1.4153766876496559,
          0.4195292145664559,
          -0.9318567154789266,
          1.7548517747759471,
          1.329133611893916,
          -0.921620640483918,
          -0.5321456901115662,
          0.2870265710468365,
          -1.3610985526958308,
          0.4898054645904833,
          -2.0068460372937325,
          1.4755629336770717,
          0.7525438908823469,
          -0.22849772377726246,
          -1.562234324450787,
          -0.12261812750140202,
          0.1559618417759451,
          -1.0157058307934412,
          0.41269665446075054,
          1.083012248685434,
          -0.07776225518611735,
          -0.6854181413064568,
          -0.5279926765284809,
          1.744451380140734,
          -0.19199976218189435,
          1.6568128125316335,
          -0.20558495057233275,
          -0.13691849636945613,
          -1.4389203517443772,
          -0.3011163949928156,
          1.5299513750055738,
          -0.6849923951573995,
          0.01886297449919174,
          -2.1279076038717304,
          -0.39051100833306857,
          1.1945641170681096,
          0.9164940428171159,
          -1.5626986542353312,
          -1.248276621642825,
          1.239147022656453,
          0.4418621713345895,
          1.9792488191895308,
          -0.4473614741484713,
          -1.4278316918110363,
          0.3495593316139144,
          -1.9695915574468457,
          1.6856077507425953,
          -0.7361933174543438,
          1.966813228659939,
          -0.13622705026676987,
          0.9614499616870827,
          -1.0877516956148814,
          -0.08332493735616588,
          0.5495898880959647,
          0.15644478280110782,
          0.7624766312617356,
          -0.6640685309410604,
          0.5835478069488527,
          -0.41731487014395946,
          -0.7737318381820748,
          -0.18837187365190924,
          -0.1559897493782766,
          0.469635617711406,
          -0.43390208956935267,
          1.8405965262607913,
          0.7392704238448753,
          -0.7980953711157764,
          0.9870665794476245,
          -0.2921588384237159,
          -1.0753293546589404,
          -0.8458221376723069,
          1.5781496355780706,
          1.8588249813644777,
          -0.5686794581197042,
          0.513763389326613,
          -1.2882016677308914,
          0.7874154617671391,
          -1.0549207502128815,
          1.006552024811664,
          0.6604225423851702
         ],
         "yaxis": "y15"
        },
        {
         "histfunc": "count",
         "histnorm": "",
         "marker": {
          "color": "rgba(128, 0, 128, 1.0)",
          "line": {
           "color": "#4D5663",
           "width": 1.3
          }
         },
         "name": "D",
         "nbinsx": 10,
         "opacity": 0.8,
         "orientation": "v",
         "type": "histogram",
         "x": [
          -0.10295370891827925,
          -0.028289096356194837,
          -1.6022371865243943,
          -0.6677582850059303,
          1.1592371615025454,
          -0.5785904830396258,
          -0.26899174641412266,
          1.254733732425717,
          0.1432799061338119,
          0.8351102638532616,
          1.1421703598713666,
          -0.11315422544466675,
          1.7035099057363996,
          0.20155281805517186,
          0.12034356763459654,
          -0.48174767384418427,
          0.6825131636537485,
          1.2362873160690677,
          0.9762762671532775,
          0.41974336424934805,
          -1.4153766876496559,
          0.4195292145664559,
          -0.9318567154789266,
          1.7548517747759471,
          1.329133611893916,
          -0.921620640483918,
          -0.5321456901115662,
          0.2870265710468365,
          -1.3610985526958308,
          0.4898054645904833,
          -2.0068460372937325,
          1.4755629336770717,
          0.7525438908823469,
          -0.22849772377726246,
          -1.562234324450787,
          -0.12261812750140202,
          0.1559618417759451,
          -1.0157058307934412,
          0.41269665446075054,
          1.083012248685434,
          -0.07776225518611735,
          -0.6854181413064568,
          -0.5279926765284809,
          1.744451380140734,
          -0.19199976218189435,
          1.6568128125316335,
          -0.20558495057233275,
          -0.13691849636945613,
          -1.4389203517443772,
          -0.3011163949928156,
          1.5299513750055738,
          -0.6849923951573995,
          0.01886297449919174,
          -2.1279076038717304,
          -0.39051100833306857,
          1.1945641170681096,
          0.9164940428171159,
          -1.5626986542353312,
          -1.248276621642825,
          1.239147022656453,
          0.4418621713345895,
          1.9792488191895308,
          -0.4473614741484713,
          -1.4278316918110363,
          0.3495593316139144,
          -1.9695915574468457,
          1.6856077507425953,
          -0.7361933174543438,
          1.966813228659939,
          -0.13622705026676987,
          0.9614499616870827,
          -1.0877516956148814,
          -0.08332493735616588,
          0.5495898880959647,
          0.15644478280110782,
          0.7624766312617356,
          -0.6640685309410604,
          0.5835478069488527,
          -0.41731487014395946,
          -0.7737318381820748,
          -0.18837187365190924,
          -0.1559897493782766,
          0.469635617711406,
          -0.43390208956935267,
          1.8405965262607913,
          0.7392704238448753,
          -0.7980953711157764,
          0.9870665794476245,
          -0.2921588384237159,
          -1.0753293546589404,
          -0.8458221376723069,
          1.5781496355780706,
          1.8588249813644777,
          -0.5686794581197042,
          0.513763389326613,
          -1.2882016677308914,
          0.7874154617671391,
          -1.0549207502128815,
          1.006552024811664,
          0.6604225423851702
         ],
         "xaxis": "x16",
         "yaxis": "y16"
        }
       ],
       "layout": {
        "bargap": 0.02,
        "legend": {
         "bgcolor": "#F5F6F9",
         "font": {
          "color": "#4D5663"
         }
        },
        "paper_bgcolor": "#F5F6F9",
        "plot_bgcolor": "#F5F6F9",
        "showlegend": false,
        "template": {
         "data": {
          "bar": [
           {
            "error_x": {
             "color": "#2a3f5f"
            },
            "error_y": {
             "color": "#2a3f5f"
            },
            "marker": {
             "line": {
              "color": "#E5ECF6",
              "width": 0.5
             }
            },
            "type": "bar"
           }
          ],
          "barpolar": [
           {
            "marker": {
             "line": {
              "color": "#E5ECF6",
              "width": 0.5
             }
            },
            "type": "barpolar"
           }
          ],
          "carpet": [
           {
            "aaxis": {
             "endlinecolor": "#2a3f5f",
             "gridcolor": "white",
             "linecolor": "white",
             "minorgridcolor": "white",
             "startlinecolor": "#2a3f5f"
            },
            "baxis": {
             "endlinecolor": "#2a3f5f",
             "gridcolor": "white",
             "linecolor": "white",
             "minorgridcolor": "white",
             "startlinecolor": "#2a3f5f"
            },
            "type": "carpet"
           }
          ],
          "choropleth": [
           {
            "colorbar": {
             "outlinewidth": 0,
             "ticks": ""
            },
            "type": "choropleth"
           }
          ],
          "contour": [
           {
            "colorbar": {
             "outlinewidth": 0,
             "ticks": ""
            },
            "colorscale": [
             [
              0,
              "#0d0887"
             ],
             [
              0.1111111111111111,
              "#46039f"
             ],
             [
              0.2222222222222222,
              "#7201a8"
             ],
             [
              0.3333333333333333,
              "#9c179e"
             ],
             [
              0.4444444444444444,
              "#bd3786"
             ],
             [
              0.5555555555555556,
              "#d8576b"
             ],
             [
              0.6666666666666666,
              "#ed7953"
             ],
             [
              0.7777777777777778,
              "#fb9f3a"
             ],
             [
              0.8888888888888888,
              "#fdca26"
             ],
             [
              1,
              "#f0f921"
             ]
            ],
            "type": "contour"
           }
          ],
          "contourcarpet": [
           {
            "colorbar": {
             "outlinewidth": 0,
             "ticks": ""
            },
            "type": "contourcarpet"
           }
          ],
          "heatmap": [
           {
            "colorbar": {
             "outlinewidth": 0,
             "ticks": ""
            },
            "colorscale": [
             [
              0,
              "#0d0887"
             ],
             [
              0.1111111111111111,
              "#46039f"
             ],
             [
              0.2222222222222222,
              "#7201a8"
             ],
             [
              0.3333333333333333,
              "#9c179e"
             ],
             [
              0.4444444444444444,
              "#bd3786"
             ],
             [
              0.5555555555555556,
              "#d8576b"
             ],
             [
              0.6666666666666666,
              "#ed7953"
             ],
             [
              0.7777777777777778,
              "#fb9f3a"
             ],
             [
              0.8888888888888888,
              "#fdca26"
             ],
             [
              1,
              "#f0f921"
             ]
            ],
            "type": "heatmap"
           }
          ],
          "heatmapgl": [
           {
            "colorbar": {
             "outlinewidth": 0,
             "ticks": ""
            },
            "colorscale": [
             [
              0,
              "#0d0887"
             ],
             [
              0.1111111111111111,
              "#46039f"
             ],
             [
              0.2222222222222222,
              "#7201a8"
             ],
             [
              0.3333333333333333,
              "#9c179e"
             ],
             [
              0.4444444444444444,
              "#bd3786"
             ],
             [
              0.5555555555555556,
              "#d8576b"
             ],
             [
              0.6666666666666666,
              "#ed7953"
             ],
             [
              0.7777777777777778,
              "#fb9f3a"
             ],
             [
              0.8888888888888888,
              "#fdca26"
             ],
             [
              1,
              "#f0f921"
             ]
            ],
            "type": "heatmapgl"
           }
          ],
          "histogram": [
           {
            "marker": {
             "colorbar": {
              "outlinewidth": 0,
              "ticks": ""
             }
            },
            "type": "histogram"
           }
          ],
          "histogram2d": [
           {
            "colorbar": {
             "outlinewidth": 0,
             "ticks": ""
            },
            "colorscale": [
             [
              0,
              "#0d0887"
             ],
             [
              0.1111111111111111,
              "#46039f"
             ],
             [
              0.2222222222222222,
              "#7201a8"
             ],
             [
              0.3333333333333333,
              "#9c179e"
             ],
             [
              0.4444444444444444,
              "#bd3786"
             ],
             [
              0.5555555555555556,
              "#d8576b"
             ],
             [
              0.6666666666666666,
              "#ed7953"
             ],
             [
              0.7777777777777778,
              "#fb9f3a"
             ],
             [
              0.8888888888888888,
              "#fdca26"
             ],
             [
              1,
              "#f0f921"
             ]
            ],
            "type": "histogram2d"
           }
          ],
          "histogram2dcontour": [
           {
            "colorbar": {
             "outlinewidth": 0,
             "ticks": ""
            },
            "colorscale": [
             [
              0,
              "#0d0887"
             ],
             [
              0.1111111111111111,
              "#46039f"
             ],
             [
              0.2222222222222222,
              "#7201a8"
             ],
             [
              0.3333333333333333,
              "#9c179e"
             ],
             [
              0.4444444444444444,
              "#bd3786"
             ],
             [
              0.5555555555555556,
              "#d8576b"
             ],
             [
              0.6666666666666666,
              "#ed7953"
             ],
             [
              0.7777777777777778,
              "#fb9f3a"
             ],
             [
              0.8888888888888888,
              "#fdca26"
             ],
             [
              1,
              "#f0f921"
             ]
            ],
            "type": "histogram2dcontour"
           }
          ],
          "mesh3d": [
           {
            "colorbar": {
             "outlinewidth": 0,
             "ticks": ""
            },
            "type": "mesh3d"
           }
          ],
          "parcoords": [
           {
            "line": {
             "colorbar": {
              "outlinewidth": 0,
              "ticks": ""
             }
            },
            "type": "parcoords"
           }
          ],
          "pie": [
           {
            "automargin": true,
            "type": "pie"
           }
          ],
          "scatter": [
           {
            "marker": {
             "colorbar": {
              "outlinewidth": 0,
              "ticks": ""
             }
            },
            "type": "scatter"
           }
          ],
          "scatter3d": [
           {
            "line": {
             "colorbar": {
              "outlinewidth": 0,
              "ticks": ""
             }
            },
            "marker": {
             "colorbar": {
              "outlinewidth": 0,
              "ticks": ""
             }
            },
            "type": "scatter3d"
           }
          ],
          "scattercarpet": [
           {
            "marker": {
             "colorbar": {
              "outlinewidth": 0,
              "ticks": ""
             }
            },
            "type": "scattercarpet"
           }
          ],
          "scattergeo": [
           {
            "marker": {
             "colorbar": {
              "outlinewidth": 0,
              "ticks": ""
             }
            },
            "type": "scattergeo"
           }
          ],
          "scattergl": [
           {
            "marker": {
             "colorbar": {
              "outlinewidth": 0,
              "ticks": ""
             }
            },
            "type": "scattergl"
           }
          ],
          "scattermapbox": [
           {
            "marker": {
             "colorbar": {
              "outlinewidth": 0,
              "ticks": ""
             }
            },
            "type": "scattermapbox"
           }
          ],
          "scatterpolar": [
           {
            "marker": {
             "colorbar": {
              "outlinewidth": 0,
              "ticks": ""
             }
            },
            "type": "scatterpolar"
           }
          ],
          "scatterpolargl": [
           {
            "marker": {
             "colorbar": {
              "outlinewidth": 0,
              "ticks": ""
             }
            },
            "type": "scatterpolargl"
           }
          ],
          "scatterternary": [
           {
            "marker": {
             "colorbar": {
              "outlinewidth": 0,
              "ticks": ""
             }
            },
            "type": "scatterternary"
           }
          ],
          "surface": [
           {
            "colorbar": {
             "outlinewidth": 0,
             "ticks": ""
            },
            "colorscale": [
             [
              0,
              "#0d0887"
             ],
             [
              0.1111111111111111,
              "#46039f"
             ],
             [
              0.2222222222222222,
              "#7201a8"
             ],
             [
              0.3333333333333333,
              "#9c179e"
             ],
             [
              0.4444444444444444,
              "#bd3786"
             ],
             [
              0.5555555555555556,
              "#d8576b"
             ],
             [
              0.6666666666666666,
              "#ed7953"
             ],
             [
              0.7777777777777778,
              "#fb9f3a"
             ],
             [
              0.8888888888888888,
              "#fdca26"
             ],
             [
              1,
              "#f0f921"
             ]
            ],
            "type": "surface"
           }
          ],
          "table": [
           {
            "cells": {
             "fill": {
              "color": "#EBF0F8"
             },
             "line": {
              "color": "white"
             }
            },
            "header": {
             "fill": {
              "color": "#C8D4E3"
             },
             "line": {
              "color": "white"
             }
            },
            "type": "table"
           }
          ]
         },
         "layout": {
          "annotationdefaults": {
           "arrowcolor": "#2a3f5f",
           "arrowhead": 0,
           "arrowwidth": 1
          },
          "coloraxis": {
           "colorbar": {
            "outlinewidth": 0,
            "ticks": ""
           }
          },
          "colorscale": {
           "diverging": [
            [
             0,
             "#8e0152"
            ],
            [
             0.1,
             "#c51b7d"
            ],
            [
             0.2,
             "#de77ae"
            ],
            [
             0.3,
             "#f1b6da"
            ],
            [
             0.4,
             "#fde0ef"
            ],
            [
             0.5,
             "#f7f7f7"
            ],
            [
             0.6,
             "#e6f5d0"
            ],
            [
             0.7,
             "#b8e186"
            ],
            [
             0.8,
             "#7fbc41"
            ],
            [
             0.9,
             "#4d9221"
            ],
            [
             1,
             "#276419"
            ]
           ],
           "sequential": [
            [
             0,
             "#0d0887"
            ],
            [
             0.1111111111111111,
             "#46039f"
            ],
            [
             0.2222222222222222,
             "#7201a8"
            ],
            [
             0.3333333333333333,
             "#9c179e"
            ],
            [
             0.4444444444444444,
             "#bd3786"
            ],
            [
             0.5555555555555556,
             "#d8576b"
            ],
            [
             0.6666666666666666,
             "#ed7953"
            ],
            [
             0.7777777777777778,
             "#fb9f3a"
            ],
            [
             0.8888888888888888,
             "#fdca26"
            ],
            [
             1,
             "#f0f921"
            ]
           ],
           "sequentialminus": [
            [
             0,
             "#0d0887"
            ],
            [
             0.1111111111111111,
             "#46039f"
            ],
            [
             0.2222222222222222,
             "#7201a8"
            ],
            [
             0.3333333333333333,
             "#9c179e"
            ],
            [
             0.4444444444444444,
             "#bd3786"
            ],
            [
             0.5555555555555556,
             "#d8576b"
            ],
            [
             0.6666666666666666,
             "#ed7953"
            ],
            [
             0.7777777777777778,
             "#fb9f3a"
            ],
            [
             0.8888888888888888,
             "#fdca26"
            ],
            [
             1,
             "#f0f921"
            ]
           ]
          },
          "colorway": [
           "#636efa",
           "#EF553B",
           "#00cc96",
           "#ab63fa",
           "#FFA15A",
           "#19d3f3",
           "#FF6692",
           "#B6E880",
           "#FF97FF",
           "#FECB52"
          ],
          "font": {
           "color": "#2a3f5f"
          },
          "geo": {
           "bgcolor": "white",
           "lakecolor": "white",
           "landcolor": "#E5ECF6",
           "showlakes": true,
           "showland": true,
           "subunitcolor": "white"
          },
          "hoverlabel": {
           "align": "left"
          },
          "hovermode": "closest",
          "mapbox": {
           "style": "light"
          },
          "paper_bgcolor": "white",
          "plot_bgcolor": "#E5ECF6",
          "polar": {
           "angularaxis": {
            "gridcolor": "white",
            "linecolor": "white",
            "ticks": ""
           },
           "bgcolor": "#E5ECF6",
           "radialaxis": {
            "gridcolor": "white",
            "linecolor": "white",
            "ticks": ""
           }
          },
          "scene": {
           "xaxis": {
            "backgroundcolor": "#E5ECF6",
            "gridcolor": "white",
            "gridwidth": 2,
            "linecolor": "white",
            "showbackground": true,
            "ticks": "",
            "zerolinecolor": "white"
           },
           "yaxis": {
            "backgroundcolor": "#E5ECF6",
            "gridcolor": "white",
            "gridwidth": 2,
            "linecolor": "white",
            "showbackground": true,
            "ticks": "",
            "zerolinecolor": "white"
           },
           "zaxis": {
            "backgroundcolor": "#E5ECF6",
            "gridcolor": "white",
            "gridwidth": 2,
            "linecolor": "white",
            "showbackground": true,
            "ticks": "",
            "zerolinecolor": "white"
           }
          },
          "shapedefaults": {
           "line": {
            "color": "#2a3f5f"
           }
          },
          "ternary": {
           "aaxis": {
            "gridcolor": "white",
            "linecolor": "white",
            "ticks": ""
           },
           "baxis": {
            "gridcolor": "white",
            "linecolor": "white",
            "ticks": ""
           },
           "bgcolor": "#E5ECF6",
           "caxis": {
            "gridcolor": "white",
            "linecolor": "white",
            "ticks": ""
           }
          },
          "title": {
           "x": 0.05
          },
          "xaxis": {
           "automargin": true,
           "gridcolor": "white",
           "linecolor": "white",
           "ticks": "",
           "title": {
            "standoff": 15
           },
           "zerolinecolor": "white",
           "zerolinewidth": 2
          },
          "yaxis": {
           "automargin": true,
           "gridcolor": "white",
           "linecolor": "white",
           "ticks": "",
           "title": {
            "standoff": 15
           },
           "zerolinecolor": "white",
           "zerolinewidth": 2
          }
         }
        },
        "title": {
         "font": {
          "color": "#4D5663"
         }
        },
        "xaxis": {
         "anchor": "y",
         "domain": [
          0,
          0.2125
         ],
         "gridcolor": "#E1E5ED",
         "showgrid": false,
         "tickfont": {
          "color": "#4D5663"
         },
         "title": {
          "font": {
           "color": "#4D5663"
          },
          "text": ""
         },
         "zerolinecolor": "#E1E5ED"
        },
        "xaxis10": {
         "anchor": "y10",
         "domain": [
          0.2625,
          0.475
         ],
         "gridcolor": "#E1E5ED",
         "showgrid": false,
         "tickfont": {
          "color": "#4D5663"
         },
         "title": {
          "font": {
           "color": "#4D5663"
          },
          "text": ""
         },
         "zerolinecolor": "#E1E5ED"
        },
        "xaxis11": {
         "anchor": "y11",
         "domain": [
          0.525,
          0.7375
         ],
         "gridcolor": "#E1E5ED",
         "showgrid": false,
         "tickfont": {
          "color": "#4D5663"
         },
         "title": {
          "font": {
           "color": "#4D5663"
          },
          "text": ""
         },
         "zerolinecolor": "#E1E5ED"
        },
        "xaxis12": {
         "anchor": "y12",
         "domain": [
          0.7875,
          1
         ],
         "gridcolor": "#E1E5ED",
         "showgrid": false,
         "tickfont": {
          "color": "#4D5663"
         },
         "title": {
          "font": {
           "color": "#4D5663"
          },
          "text": ""
         },
         "zerolinecolor": "#E1E5ED"
        },
        "xaxis13": {
         "anchor": "y13",
         "domain": [
          0,
          0.2125
         ],
         "gridcolor": "#E1E5ED",
         "showgrid": false,
         "tickfont": {
          "color": "#4D5663"
         },
         "title": {
          "font": {
           "color": "#4D5663"
          },
          "text": ""
         },
         "zerolinecolor": "#E1E5ED"
        },
        "xaxis14": {
         "anchor": "y14",
         "domain": [
          0.2625,
          0.475
         ],
         "gridcolor": "#E1E5ED",
         "showgrid": false,
         "tickfont": {
          "color": "#4D5663"
         },
         "title": {
          "font": {
           "color": "#4D5663"
          },
          "text": ""
         },
         "zerolinecolor": "#E1E5ED"
        },
        "xaxis15": {
         "anchor": "y15",
         "domain": [
          0.525,
          0.7375
         ],
         "gridcolor": "#E1E5ED",
         "showgrid": false,
         "tickfont": {
          "color": "#4D5663"
         },
         "title": {
          "font": {
           "color": "#4D5663"
          },
          "text": ""
         },
         "zerolinecolor": "#E1E5ED"
        },
        "xaxis16": {
         "anchor": "y16",
         "domain": [
          0.7875,
          1
         ],
         "gridcolor": "#E1E5ED",
         "showgrid": false,
         "tickfont": {
          "color": "#4D5663"
         },
         "title": {
          "font": {
           "color": "#4D5663"
          },
          "text": ""
         },
         "zerolinecolor": "#E1E5ED"
        },
        "xaxis2": {
         "anchor": "y2",
         "domain": [
          0.2625,
          0.475
         ],
         "gridcolor": "#E1E5ED",
         "showgrid": false,
         "tickfont": {
          "color": "#4D5663"
         },
         "title": {
          "font": {
           "color": "#4D5663"
          },
          "text": ""
         },
         "zerolinecolor": "#E1E5ED"
        },
        "xaxis3": {
         "anchor": "y3",
         "domain": [
          0.525,
          0.7375
         ],
         "gridcolor": "#E1E5ED",
         "showgrid": false,
         "tickfont": {
          "color": "#4D5663"
         },
         "title": {
          "font": {
           "color": "#4D5663"
          },
          "text": ""
         },
         "zerolinecolor": "#E1E5ED"
        },
        "xaxis4": {
         "anchor": "y4",
         "domain": [
          0.7875,
          1
         ],
         "gridcolor": "#E1E5ED",
         "showgrid": false,
         "tickfont": {
          "color": "#4D5663"
         },
         "title": {
          "font": {
           "color": "#4D5663"
          },
          "text": ""
         },
         "zerolinecolor": "#E1E5ED"
        },
        "xaxis5": {
         "anchor": "y5",
         "domain": [
          0,
          0.2125
         ],
         "gridcolor": "#E1E5ED",
         "showgrid": false,
         "tickfont": {
          "color": "#4D5663"
         },
         "title": {
          "font": {
           "color": "#4D5663"
          },
          "text": ""
         },
         "zerolinecolor": "#E1E5ED"
        },
        "xaxis6": {
         "anchor": "y6",
         "domain": [
          0.2625,
          0.475
         ],
         "gridcolor": "#E1E5ED",
         "showgrid": false,
         "tickfont": {
          "color": "#4D5663"
         },
         "title": {
          "font": {
           "color": "#4D5663"
          },
          "text": ""
         },
         "zerolinecolor": "#E1E5ED"
        },
        "xaxis7": {
         "anchor": "y7",
         "domain": [
          0.525,
          0.7375
         ],
         "gridcolor": "#E1E5ED",
         "showgrid": false,
         "tickfont": {
          "color": "#4D5663"
         },
         "title": {
          "font": {
           "color": "#4D5663"
          },
          "text": ""
         },
         "zerolinecolor": "#E1E5ED"
        },
        "xaxis8": {
         "anchor": "y8",
         "domain": [
          0.7875,
          1
         ],
         "gridcolor": "#E1E5ED",
         "showgrid": false,
         "tickfont": {
          "color": "#4D5663"
         },
         "title": {
          "font": {
           "color": "#4D5663"
          },
          "text": ""
         },
         "zerolinecolor": "#E1E5ED"
        },
        "xaxis9": {
         "anchor": "y9",
         "domain": [
          0,
          0.2125
         ],
         "gridcolor": "#E1E5ED",
         "showgrid": false,
         "tickfont": {
          "color": "#4D5663"
         },
         "title": {
          "font": {
           "color": "#4D5663"
          },
          "text": ""
         },
         "zerolinecolor": "#E1E5ED"
        },
        "yaxis": {
         "anchor": "x",
         "domain": [
          0.8025,
          1
         ],
         "gridcolor": "#E1E5ED",
         "showgrid": false,
         "tickfont": {
          "color": "#4D5663"
         },
         "title": {
          "font": {
           "color": "#4D5663"
          },
          "text": ""
         },
         "zerolinecolor": "#E1E5ED"
        },
        "yaxis10": {
         "anchor": "x10",
         "domain": [
          0.2675,
          0.465
         ],
         "gridcolor": "#E1E5ED",
         "showgrid": false,
         "tickfont": {
          "color": "#4D5663"
         },
         "title": {
          "font": {
           "color": "#4D5663"
          },
          "text": ""
         },
         "zerolinecolor": "#E1E5ED"
        },
        "yaxis11": {
         "anchor": "x11",
         "domain": [
          0.2675,
          0.465
         ],
         "gridcolor": "#E1E5ED",
         "showgrid": false,
         "tickfont": {
          "color": "#4D5663"
         },
         "title": {
          "font": {
           "color": "#4D5663"
          },
          "text": ""
         },
         "zerolinecolor": "#E1E5ED"
        },
        "yaxis12": {
         "anchor": "x12",
         "domain": [
          0.2675,
          0.465
         ],
         "gridcolor": "#E1E5ED",
         "showgrid": false,
         "tickfont": {
          "color": "#4D5663"
         },
         "title": {
          "font": {
           "color": "#4D5663"
          },
          "text": ""
         },
         "zerolinecolor": "#E1E5ED"
        },
        "yaxis13": {
         "anchor": "x13",
         "domain": [
          0,
          0.1975
         ],
         "gridcolor": "#E1E5ED",
         "showgrid": false,
         "tickfont": {
          "color": "#4D5663"
         },
         "title": {
          "font": {
           "color": "#4D5663"
          },
          "text": ""
         },
         "zerolinecolor": "#E1E5ED"
        },
        "yaxis14": {
         "anchor": "x14",
         "domain": [
          0,
          0.1975
         ],
         "gridcolor": "#E1E5ED",
         "showgrid": false,
         "tickfont": {
          "color": "#4D5663"
         },
         "title": {
          "font": {
           "color": "#4D5663"
          },
          "text": ""
         },
         "zerolinecolor": "#E1E5ED"
        },
        "yaxis15": {
         "anchor": "x15",
         "domain": [
          0,
          0.1975
         ],
         "gridcolor": "#E1E5ED",
         "showgrid": false,
         "tickfont": {
          "color": "#4D5663"
         },
         "title": {
          "font": {
           "color": "#4D5663"
          },
          "text": ""
         },
         "zerolinecolor": "#E1E5ED"
        },
        "yaxis16": {
         "anchor": "x16",
         "domain": [
          0,
          0.1975
         ],
         "gridcolor": "#E1E5ED",
         "showgrid": false,
         "tickfont": {
          "color": "#4D5663"
         },
         "title": {
          "font": {
           "color": "#4D5663"
          },
          "text": ""
         },
         "zerolinecolor": "#E1E5ED"
        },
        "yaxis2": {
         "anchor": "x2",
         "domain": [
          0.8025,
          1
         ],
         "gridcolor": "#E1E5ED",
         "showgrid": false,
         "tickfont": {
          "color": "#4D5663"
         },
         "title": {
          "font": {
           "color": "#4D5663"
          },
          "text": ""
         },
         "zerolinecolor": "#E1E5ED"
        },
        "yaxis3": {
         "anchor": "x3",
         "domain": [
          0.8025,
          1
         ],
         "gridcolor": "#E1E5ED",
         "showgrid": false,
         "tickfont": {
          "color": "#4D5663"
         },
         "title": {
          "font": {
           "color": "#4D5663"
          },
          "text": ""
         },
         "zerolinecolor": "#E1E5ED"
        },
        "yaxis4": {
         "anchor": "x4",
         "domain": [
          0.8025,
          1
         ],
         "gridcolor": "#E1E5ED",
         "showgrid": false,
         "tickfont": {
          "color": "#4D5663"
         },
         "title": {
          "font": {
           "color": "#4D5663"
          },
          "text": ""
         },
         "zerolinecolor": "#E1E5ED"
        },
        "yaxis5": {
         "anchor": "x5",
         "domain": [
          0.535,
          0.7325
         ],
         "gridcolor": "#E1E5ED",
         "showgrid": false,
         "tickfont": {
          "color": "#4D5663"
         },
         "title": {
          "font": {
           "color": "#4D5663"
          },
          "text": ""
         },
         "zerolinecolor": "#E1E5ED"
        },
        "yaxis6": {
         "anchor": "x6",
         "domain": [
          0.535,
          0.7325
         ],
         "gridcolor": "#E1E5ED",
         "showgrid": false,
         "tickfont": {
          "color": "#4D5663"
         },
         "title": {
          "font": {
           "color": "#4D5663"
          },
          "text": ""
         },
         "zerolinecolor": "#E1E5ED"
        },
        "yaxis7": {
         "anchor": "x7",
         "domain": [
          0.535,
          0.7325
         ],
         "gridcolor": "#E1E5ED",
         "showgrid": false,
         "tickfont": {
          "color": "#4D5663"
         },
         "title": {
          "font": {
           "color": "#4D5663"
          },
          "text": ""
         },
         "zerolinecolor": "#E1E5ED"
        },
        "yaxis8": {
         "anchor": "x8",
         "domain": [
          0.535,
          0.7325
         ],
         "gridcolor": "#E1E5ED",
         "showgrid": false,
         "tickfont": {
          "color": "#4D5663"
         },
         "title": {
          "font": {
           "color": "#4D5663"
          },
          "text": ""
         },
         "zerolinecolor": "#E1E5ED"
        },
        "yaxis9": {
         "anchor": "x9",
         "domain": [
          0.2675,
          0.465
         ],
         "gridcolor": "#E1E5ED",
         "showgrid": false,
         "tickfont": {
          "color": "#4D5663"
         },
         "title": {
          "font": {
           "color": "#4D5663"
          },
          "text": ""
         },
         "zerolinecolor": "#E1E5ED"
        }
       }
      },
      "text/html": [
       "<div>\n",
       "        \n",
       "        \n",
       "            <div id=\"a9ae8ead-0943-4acf-87e9-f215e93f3f6b\" class=\"plotly-graph-div\" style=\"height:525px; width:100%;\"></div>\n",
       "            <script type=\"text/javascript\">\n",
       "                require([\"plotly\"], function(Plotly) {\n",
       "                    window.PLOTLYENV=window.PLOTLYENV || {};\n",
       "                    window.PLOTLYENV.BASE_URL='https://plot.ly';\n",
       "                    \n",
       "                if (document.getElementById(\"a9ae8ead-0943-4acf-87e9-f215e93f3f6b\")) {\n",
       "                    Plotly.newPlot(\n",
       "                        'a9ae8ead-0943-4acf-87e9-f215e93f3f6b',\n",
       "                        [{\"histfunc\": \"count\", \"histnorm\": \"\", \"marker\": {\"color\": \"rgba(255, 153, 51, 1.0)\", \"line\": {\"color\": \"#4D5663\", \"width\": 1.3}}, \"name\": \"A\", \"nbinsx\": 10, \"opacity\": 0.8, \"orientation\": \"v\", \"type\": \"histogram\", \"x\": [0.04586201721326738, -0.6540043750178025, -0.15552861422961764, 0.4246745931194628, -0.7428941263058662, 1.9759454512955896, 0.37216312274345376, 0.270346199650836, 0.7526879532742253, 0.6835958715969624, -0.2546175189374106, -1.4262276612733924, -0.8727506868121251, -1.6379838534075002, -0.3785322805868584, -0.8599010083088068, 0.4629342549127315, -0.47817504277382034, 1.7604777274770929, -0.6838113680207202, -1.4307352427821491, -1.8252753776981603, 0.0833413830786923, 0.35628092995480676, -1.274976737920389, -0.11359150113388154, -0.9893370579804546, -0.8534703806103016, -0.990879781989911, -0.11339893230127164, -0.3639574025477662, -1.9198230956237927, -0.15604885841910177, -1.242009328543386, -1.0874855796153915, 0.14390334649378728, -0.3382339542174146, -0.3514758760147406, -0.7062967985429734, -0.12500964817068996, -0.9285989000331202, 1.5833434550109415, -2.4928407726420563, 0.9246153518224425, -0.8612041766022565, -1.1870843867017409, -0.14298953029197703, -1.1632402625589469, 0.4098274611640754, -0.2891110705534637, -0.377333312529668, -0.7700418964086341, 1.4419245123587963, 0.03299347750695614, 0.30446587287069704, 1.7167246528354863, -1.7488558374419065, -0.4082248364598318, -0.43705062056267563, 0.27557456940654934, -1.7749290440262324, -0.26864031013567036, -0.6490697916177971, 0.31078916234165116, -1.3008179237598356, 0.4139975331828292, 1.3674410813628795, 1.67921356806546, -1.7257549896922175, 0.10065480714282876, -1.61503423879273, 0.5862729398825437, -1.3634403525084011, 0.2775805459514663, -0.9757974847933348, -1.098944519453516, 1.0101077930359967, -0.17781895824552374, -0.7734803747585632, -0.7535167319015652, -0.16708705618339023, -0.3297590324897727, -0.6069608199941531, 0.151103955896672, 1.0641636909694312, 1.1434256632642008, -1.4467009135114968, 0.19060882578590008, -0.41156483114802506, 3.198680605796546, -1.6909576942364866, -1.1686824788204284, -1.0525002047918235, -0.2669890197908835, -0.9245356187364816, 0.7589373225722542, -0.40615315896270865, 0.5371900954827098, 0.5919142019373578, 0.36842146133318476], \"xaxis\": \"x\", \"yaxis\": \"y\"}, {\"line\": {\"color\": \"rgba(128, 128, 128, 1.0)\", \"dash\": \"solid\", \"shape\": \"linear\", \"width\": 1.3}, \"marker\": {\"size\": 2, \"symbol\": \"circle\"}, \"mode\": \"markers\", \"name\": \"A\", \"text\": \"\", \"type\": \"scatter\", \"x\": [-0.6097684872700382, -0.8493487007227505, 0.9977510237274378, -0.1071962371054894, -1.699524977003542, 0.8082757927760422, 0.8193580554685013, -0.2061772615607506, -0.26313042840768197, 0.5600361067764692, -0.4501981737498376, -0.9544772042218531, -1.319940076686102, -1.125617561514794, -0.3956045049936414, -0.8370623937043047, 1.1686872383712643, -0.23243709044945235, -0.5340987999737385, -2.0614316426642536, 0.753559286628637, -0.8528918211334426, -0.22309759866097068, -0.7113387792238788, -0.5101411104217729, -0.6342668440941034, -0.6324370086317639, 0.2714510243492082, -0.5213238007382588, -1.4086465885726056, -0.5420087867655164, 0.6677503468224606, -0.18855694230016076, 2.0671336870595733, -0.47682455918418043, -0.024979430414229276, 1.3061706720343416, 2.786030341090841, 0.5486606319358823, 1.1606684174771362, 0.1451160819641703, 2.136969133851484, 0.770381179614506, -0.7556527371529544, 0.5601210636156078, 0.3307869065359323, -1.3478670652302134, 0.08644174068175664, 1.2905756068011163, 2.275549593676335, -0.47563159079150313, 0.23889454006422195, -1.7043014333897235, -1.4533176672403718, 0.5360611298269806, 0.25318959135101454, 0.004821837557940499, 1.4422811243330096, 0.7317807073826776, 0.40437412573002657, -0.09522520392275328, 0.6365245480331461, 0.23493643856197943, 0.8931242125821466, -0.46845291625732416, 0.3781014047855431, -1.2452813787819295, 0.7720600839543568, -0.1467225346322123, -0.6315021974816304, -0.7269821770978143, -0.4242118835802408, 1.8098886957875182, 0.6340870632825684, -0.7524498968821255, 2.334655966396287, -0.8492378201748007, 1.1964317058351615, 0.18153694390689393, 0.8732838633312291, 1.07784296658968, 0.3459866622514968, -0.7214103607850231, -1.2049057150110316, 0.5013151212405151, -1.3069831656188589, 0.11814842323440919, -0.01760325733177132, -1.031507466879412, 0.8105398816366775, 0.2630311106697119, 1.1610935950229937, -0.9110603984749275, 0.38128147794092065, -0.32120478827120125, -0.909703102805338, 0.9665818363963105, -0.815837744405378, -1.5352152603233933, 0.20011286751182206], \"xaxis\": \"x2\", \"y\": [0.04586201721326738, -0.6540043750178025, -0.15552861422961764, 0.4246745931194628, -0.7428941263058662, 1.9759454512955896, 0.37216312274345376, 0.270346199650836, 0.7526879532742253, 0.6835958715969624, -0.2546175189374106, -1.4262276612733924, -0.8727506868121251, -1.6379838534075002, -0.3785322805868584, -0.8599010083088068, 0.4629342549127315, -0.47817504277382034, 1.7604777274770929, -0.6838113680207202, -1.4307352427821491, -1.8252753776981603, 0.0833413830786923, 0.35628092995480676, -1.274976737920389, -0.11359150113388154, -0.9893370579804546, -0.8534703806103016, -0.990879781989911, -0.11339893230127164, -0.3639574025477662, -1.9198230956237927, -0.15604885841910177, -1.242009328543386, -1.0874855796153915, 0.14390334649378728, -0.3382339542174146, -0.3514758760147406, -0.7062967985429734, -0.12500964817068996, -0.9285989000331202, 1.5833434550109415, -2.4928407726420563, 0.9246153518224425, -0.8612041766022565, -1.1870843867017409, -0.14298953029197703, -1.1632402625589469, 0.4098274611640754, -0.2891110705534637, -0.377333312529668, -0.7700418964086341, 1.4419245123587963, 0.03299347750695614, 0.30446587287069704, 1.7167246528354863, -1.7488558374419065, -0.4082248364598318, -0.43705062056267563, 0.27557456940654934, -1.7749290440262324, -0.26864031013567036, -0.6490697916177971, 0.31078916234165116, -1.3008179237598356, 0.4139975331828292, 1.3674410813628795, 1.67921356806546, -1.7257549896922175, 0.10065480714282876, -1.61503423879273, 0.5862729398825437, -1.3634403525084011, 0.2775805459514663, -0.9757974847933348, -1.098944519453516, 1.0101077930359967, -0.17781895824552374, -0.7734803747585632, -0.7535167319015652, -0.16708705618339023, -0.3297590324897727, -0.6069608199941531, 0.151103955896672, 1.0641636909694312, 1.1434256632642008, -1.4467009135114968, 0.19060882578590008, -0.41156483114802506, 3.198680605796546, -1.6909576942364866, -1.1686824788204284, -1.0525002047918235, -0.2669890197908835, -0.9245356187364816, 0.7589373225722542, -0.40615315896270865, 0.5371900954827098, 0.5919142019373578, 0.36842146133318476], \"yaxis\": \"y2\"}, {\"line\": {\"color\": \"rgba(128, 128, 128, 1.0)\", \"dash\": \"solid\", \"shape\": \"linear\", \"width\": 1.3}, \"marker\": {\"size\": 2, \"symbol\": \"circle\"}, \"mode\": \"markers\", \"name\": \"A\", \"text\": \"\", \"type\": \"scatter\", \"x\": [-0.7923640549556918, 0.7060011829427726, 0.053074085338747745, -0.04373058171070141, 1.2902719786567443, -2.326763076872465, -1.3418517772852283, -1.244226566661774, -1.2725757819383083, 0.8116159620087401, -1.3347429314666497, 1.9974754039201925, 3.083591238437029, 2.3008413741244005, -1.1481753738488727, -0.036496503084746126, 0.756114348876666, -1.2440613050199285, -1.7717376164523135, -0.8878555239734864, -0.2115320041638411, -1.0971836723653703, -0.4169210153464947, 1.3417489426063411, -0.5246637111690206, -0.3177934099124036, -0.2571240393150729, 0.9288404503289762, 0.03528544203319129, 0.4757650359206804, -0.645549547019227, -0.4481318637719594, 0.11346146345051843, -0.7116854064900161, 0.02714297486140097, 0.18863690436534306, -0.18890753331065516, -1.424125100200306, 0.7985810409051322, -0.15488734220601214, -1.4129076561771807, -0.9036584800564172, 1.0534613485746978, -0.17586761916965038, -0.834890119351905, -0.3804319921817218, -0.5983395201743344, 0.7618834321356988, -1.0388705038093977, 1.604583026296511, 1.609745753076099, 0.5084992671664441, 0.917704048571019, 0.035705704935170814, -1.790109534806381, -1.4528256522164633, 0.2573809571704151, -2.7204419428439186, -2.085340384186382, -1.2145036056315703, 0.5023647348944503, -2.213701898590148, -0.47829676342769706, -2.5730099967530844, 0.4571358653519451, 2.472072002879146, 0.6194573176805499, 2.2868673585320174, -1.9821511421713127, 0.4317938216034409, 0.5578887100422061, 0.27087700344252225, -1.0160152917858014, 0.6406702546846256, 1.9987664519338355, -0.7415962270901594, 0.47546693016211306, -0.27132943279261856, 0.10947170442269415, 1.0291226480146305, -1.3490987121450895, 0.38884298479254503, 1.5566147071556071, 0.02268900188241972, 0.7908201022912129, 0.5642606542958364, 0.029868823360865666, -0.5067955066289295, -0.3606413702074724, -0.4564280806954663, -1.6899277437796105, 0.6669022920252979, 0.38646340136473345, 0.7362584932574483, -1.21379691825534, 0.9554973406757821, -0.8200481457281502, 0.01586832049106004, -1.086412152419535, -0.353248937756514], \"xaxis\": \"x3\", \"y\": [0.04586201721326738, -0.6540043750178025, -0.15552861422961764, 0.4246745931194628, -0.7428941263058662, 1.9759454512955896, 0.37216312274345376, 0.270346199650836, 0.7526879532742253, 0.6835958715969624, -0.2546175189374106, -1.4262276612733924, -0.8727506868121251, -1.6379838534075002, -0.3785322805868584, -0.8599010083088068, 0.4629342549127315, -0.47817504277382034, 1.7604777274770929, -0.6838113680207202, -1.4307352427821491, -1.8252753776981603, 0.0833413830786923, 0.35628092995480676, -1.274976737920389, -0.11359150113388154, -0.9893370579804546, -0.8534703806103016, -0.990879781989911, -0.11339893230127164, -0.3639574025477662, -1.9198230956237927, -0.15604885841910177, -1.242009328543386, -1.0874855796153915, 0.14390334649378728, -0.3382339542174146, -0.3514758760147406, -0.7062967985429734, -0.12500964817068996, -0.9285989000331202, 1.5833434550109415, -2.4928407726420563, 0.9246153518224425, -0.8612041766022565, -1.1870843867017409, -0.14298953029197703, -1.1632402625589469, 0.4098274611640754, -0.2891110705534637, -0.377333312529668, -0.7700418964086341, 1.4419245123587963, 0.03299347750695614, 0.30446587287069704, 1.7167246528354863, -1.7488558374419065, -0.4082248364598318, -0.43705062056267563, 0.27557456940654934, -1.7749290440262324, -0.26864031013567036, -0.6490697916177971, 0.31078916234165116, -1.3008179237598356, 0.4139975331828292, 1.3674410813628795, 1.67921356806546, -1.7257549896922175, 0.10065480714282876, -1.61503423879273, 0.5862729398825437, -1.3634403525084011, 0.2775805459514663, -0.9757974847933348, -1.098944519453516, 1.0101077930359967, -0.17781895824552374, -0.7734803747585632, -0.7535167319015652, -0.16708705618339023, -0.3297590324897727, -0.6069608199941531, 0.151103955896672, 1.0641636909694312, 1.1434256632642008, -1.4467009135114968, 0.19060882578590008, -0.41156483114802506, 3.198680605796546, -1.6909576942364866, -1.1686824788204284, -1.0525002047918235, -0.2669890197908835, -0.9245356187364816, 0.7589373225722542, -0.40615315896270865, 0.5371900954827098, 0.5919142019373578, 0.36842146133318476], \"yaxis\": \"y3\"}, {\"line\": {\"color\": \"rgba(128, 128, 128, 1.0)\", \"dash\": \"solid\", \"shape\": \"linear\", \"width\": 1.3}, \"marker\": {\"size\": 2, \"symbol\": \"circle\"}, \"mode\": \"markers\", \"name\": \"A\", \"text\": \"\", \"type\": \"scatter\", \"x\": [-0.10295370891827925, -0.028289096356194837, -1.6022371865243943, -0.6677582850059303, 1.1592371615025454, -0.5785904830396258, -0.26899174641412266, 1.254733732425717, 0.1432799061338119, 0.8351102638532616, 1.1421703598713666, -0.11315422544466675, 1.7035099057363996, 0.20155281805517186, 0.12034356763459654, -0.48174767384418427, 0.6825131636537485, 1.2362873160690677, 0.9762762671532775, 0.41974336424934805, -1.4153766876496559, 0.4195292145664559, -0.9318567154789266, 1.7548517747759471, 1.329133611893916, -0.921620640483918, -0.5321456901115662, 0.2870265710468365, -1.3610985526958308, 0.4898054645904833, -2.0068460372937325, 1.4755629336770717, 0.7525438908823469, -0.22849772377726246, -1.562234324450787, -0.12261812750140202, 0.1559618417759451, -1.0157058307934412, 0.41269665446075054, 1.083012248685434, -0.07776225518611735, -0.6854181413064568, -0.5279926765284809, 1.744451380140734, -0.19199976218189435, 1.6568128125316335, -0.20558495057233275, -0.13691849636945613, -1.4389203517443772, -0.3011163949928156, 1.5299513750055738, -0.6849923951573995, 0.01886297449919174, -2.1279076038717304, -0.39051100833306857, 1.1945641170681096, 0.9164940428171159, -1.5626986542353312, -1.248276621642825, 1.239147022656453, 0.4418621713345895, 1.9792488191895308, -0.4473614741484713, -1.4278316918110363, 0.3495593316139144, -1.9695915574468457, 1.6856077507425953, -0.7361933174543438, 1.966813228659939, -0.13622705026676987, 0.9614499616870827, -1.0877516956148814, -0.08332493735616588, 0.5495898880959647, 0.15644478280110782, 0.7624766312617356, -0.6640685309410604, 0.5835478069488527, -0.41731487014395946, -0.7737318381820748, -0.18837187365190924, -0.1559897493782766, 0.469635617711406, -0.43390208956935267, 1.8405965262607913, 0.7392704238448753, -0.7980953711157764, 0.9870665794476245, -0.2921588384237159, -1.0753293546589404, -0.8458221376723069, 1.5781496355780706, 1.8588249813644777, -0.5686794581197042, 0.513763389326613, -1.2882016677308914, 0.7874154617671391, -1.0549207502128815, 1.006552024811664, 0.6604225423851702], \"xaxis\": \"x4\", \"y\": [0.04586201721326738, -0.6540043750178025, -0.15552861422961764, 0.4246745931194628, -0.7428941263058662, 1.9759454512955896, 0.37216312274345376, 0.270346199650836, 0.7526879532742253, 0.6835958715969624, -0.2546175189374106, -1.4262276612733924, -0.8727506868121251, -1.6379838534075002, -0.3785322805868584, -0.8599010083088068, 0.4629342549127315, -0.47817504277382034, 1.7604777274770929, -0.6838113680207202, -1.4307352427821491, -1.8252753776981603, 0.0833413830786923, 0.35628092995480676, -1.274976737920389, -0.11359150113388154, -0.9893370579804546, -0.8534703806103016, -0.990879781989911, -0.11339893230127164, -0.3639574025477662, -1.9198230956237927, -0.15604885841910177, -1.242009328543386, -1.0874855796153915, 0.14390334649378728, -0.3382339542174146, -0.3514758760147406, -0.7062967985429734, -0.12500964817068996, -0.9285989000331202, 1.5833434550109415, -2.4928407726420563, 0.9246153518224425, -0.8612041766022565, -1.1870843867017409, -0.14298953029197703, -1.1632402625589469, 0.4098274611640754, -0.2891110705534637, -0.377333312529668, -0.7700418964086341, 1.4419245123587963, 0.03299347750695614, 0.30446587287069704, 1.7167246528354863, -1.7488558374419065, -0.4082248364598318, -0.43705062056267563, 0.27557456940654934, -1.7749290440262324, -0.26864031013567036, -0.6490697916177971, 0.31078916234165116, -1.3008179237598356, 0.4139975331828292, 1.3674410813628795, 1.67921356806546, -1.7257549896922175, 0.10065480714282876, -1.61503423879273, 0.5862729398825437, -1.3634403525084011, 0.2775805459514663, -0.9757974847933348, -1.098944519453516, 1.0101077930359967, -0.17781895824552374, -0.7734803747585632, -0.7535167319015652, -0.16708705618339023, -0.3297590324897727, -0.6069608199941531, 0.151103955896672, 1.0641636909694312, 1.1434256632642008, -1.4467009135114968, 0.19060882578590008, -0.41156483114802506, 3.198680605796546, -1.6909576942364866, -1.1686824788204284, -1.0525002047918235, -0.2669890197908835, -0.9245356187364816, 0.7589373225722542, -0.40615315896270865, 0.5371900954827098, 0.5919142019373578, 0.36842146133318476], \"yaxis\": \"y4\"}, {\"line\": {\"color\": \"rgba(128, 128, 128, 1.0)\", \"dash\": \"solid\", \"shape\": \"linear\", \"width\": 1.3}, \"marker\": {\"size\": 2, \"symbol\": \"circle\"}, \"mode\": \"markers\", \"name\": \"B\", \"text\": \"\", \"type\": \"scatter\", \"x\": [0.04586201721326738, -0.6540043750178025, -0.15552861422961764, 0.4246745931194628, -0.7428941263058662, 1.9759454512955896, 0.37216312274345376, 0.270346199650836, 0.7526879532742253, 0.6835958715969624, -0.2546175189374106, -1.4262276612733924, -0.8727506868121251, -1.6379838534075002, -0.3785322805868584, -0.8599010083088068, 0.4629342549127315, -0.47817504277382034, 1.7604777274770929, -0.6838113680207202, -1.4307352427821491, -1.8252753776981603, 0.0833413830786923, 0.35628092995480676, -1.274976737920389, -0.11359150113388154, -0.9893370579804546, -0.8534703806103016, -0.990879781989911, -0.11339893230127164, -0.3639574025477662, -1.9198230956237927, -0.15604885841910177, -1.242009328543386, -1.0874855796153915, 0.14390334649378728, -0.3382339542174146, -0.3514758760147406, -0.7062967985429734, -0.12500964817068996, -0.9285989000331202, 1.5833434550109415, -2.4928407726420563, 0.9246153518224425, -0.8612041766022565, -1.1870843867017409, -0.14298953029197703, -1.1632402625589469, 0.4098274611640754, -0.2891110705534637, -0.377333312529668, -0.7700418964086341, 1.4419245123587963, 0.03299347750695614, 0.30446587287069704, 1.7167246528354863, -1.7488558374419065, -0.4082248364598318, -0.43705062056267563, 0.27557456940654934, -1.7749290440262324, -0.26864031013567036, -0.6490697916177971, 0.31078916234165116, -1.3008179237598356, 0.4139975331828292, 1.3674410813628795, 1.67921356806546, -1.7257549896922175, 0.10065480714282876, -1.61503423879273, 0.5862729398825437, -1.3634403525084011, 0.2775805459514663, -0.9757974847933348, -1.098944519453516, 1.0101077930359967, -0.17781895824552374, -0.7734803747585632, -0.7535167319015652, -0.16708705618339023, -0.3297590324897727, -0.6069608199941531, 0.151103955896672, 1.0641636909694312, 1.1434256632642008, -1.4467009135114968, 0.19060882578590008, -0.41156483114802506, 3.198680605796546, -1.6909576942364866, -1.1686824788204284, -1.0525002047918235, -0.2669890197908835, -0.9245356187364816, 0.7589373225722542, -0.40615315896270865, 0.5371900954827098, 0.5919142019373578, 0.36842146133318476], \"xaxis\": \"x5\", \"y\": [-0.6097684872700382, -0.8493487007227505, 0.9977510237274378, -0.1071962371054894, -1.699524977003542, 0.8082757927760422, 0.8193580554685013, -0.2061772615607506, -0.26313042840768197, 0.5600361067764692, -0.4501981737498376, -0.9544772042218531, -1.319940076686102, -1.125617561514794, -0.3956045049936414, -0.8370623937043047, 1.1686872383712643, -0.23243709044945235, -0.5340987999737385, -2.0614316426642536, 0.753559286628637, -0.8528918211334426, -0.22309759866097068, -0.7113387792238788, -0.5101411104217729, -0.6342668440941034, -0.6324370086317639, 0.2714510243492082, -0.5213238007382588, -1.4086465885726056, -0.5420087867655164, 0.6677503468224606, -0.18855694230016076, 2.0671336870595733, -0.47682455918418043, -0.024979430414229276, 1.3061706720343416, 2.786030341090841, 0.5486606319358823, 1.1606684174771362, 0.1451160819641703, 2.136969133851484, 0.770381179614506, -0.7556527371529544, 0.5601210636156078, 0.3307869065359323, -1.3478670652302134, 0.08644174068175664, 1.2905756068011163, 2.275549593676335, -0.47563159079150313, 0.23889454006422195, -1.7043014333897235, -1.4533176672403718, 0.5360611298269806, 0.25318959135101454, 0.004821837557940499, 1.4422811243330096, 0.7317807073826776, 0.40437412573002657, -0.09522520392275328, 0.6365245480331461, 0.23493643856197943, 0.8931242125821466, -0.46845291625732416, 0.3781014047855431, -1.2452813787819295, 0.7720600839543568, -0.1467225346322123, -0.6315021974816304, -0.7269821770978143, -0.4242118835802408, 1.8098886957875182, 0.6340870632825684, -0.7524498968821255, 2.334655966396287, -0.8492378201748007, 1.1964317058351615, 0.18153694390689393, 0.8732838633312291, 1.07784296658968, 0.3459866622514968, -0.7214103607850231, -1.2049057150110316, 0.5013151212405151, -1.3069831656188589, 0.11814842323440919, -0.01760325733177132, -1.031507466879412, 0.8105398816366775, 0.2630311106697119, 1.1610935950229937, -0.9110603984749275, 0.38128147794092065, -0.32120478827120125, -0.909703102805338, 0.9665818363963105, -0.815837744405378, -1.5352152603233933, 0.20011286751182206], \"yaxis\": \"y5\"}, {\"histfunc\": \"count\", \"histnorm\": \"\", \"marker\": {\"color\": \"rgba(55, 128, 191, 1.0)\", \"line\": {\"color\": \"#4D5663\", \"width\": 1.3}}, \"name\": \"B\", \"nbinsx\": 10, \"opacity\": 0.8, \"orientation\": \"v\", \"type\": \"histogram\", \"x\": [-0.6097684872700382, -0.8493487007227505, 0.9977510237274378, -0.1071962371054894, -1.699524977003542, 0.8082757927760422, 0.8193580554685013, -0.2061772615607506, -0.26313042840768197, 0.5600361067764692, -0.4501981737498376, -0.9544772042218531, -1.319940076686102, -1.125617561514794, -0.3956045049936414, -0.8370623937043047, 1.1686872383712643, -0.23243709044945235, -0.5340987999737385, -2.0614316426642536, 0.753559286628637, -0.8528918211334426, -0.22309759866097068, -0.7113387792238788, -0.5101411104217729, -0.6342668440941034, -0.6324370086317639, 0.2714510243492082, -0.5213238007382588, -1.4086465885726056, -0.5420087867655164, 0.6677503468224606, -0.18855694230016076, 2.0671336870595733, -0.47682455918418043, -0.024979430414229276, 1.3061706720343416, 2.786030341090841, 0.5486606319358823, 1.1606684174771362, 0.1451160819641703, 2.136969133851484, 0.770381179614506, -0.7556527371529544, 0.5601210636156078, 0.3307869065359323, -1.3478670652302134, 0.08644174068175664, 1.2905756068011163, 2.275549593676335, -0.47563159079150313, 0.23889454006422195, -1.7043014333897235, -1.4533176672403718, 0.5360611298269806, 0.25318959135101454, 0.004821837557940499, 1.4422811243330096, 0.7317807073826776, 0.40437412573002657, -0.09522520392275328, 0.6365245480331461, 0.23493643856197943, 0.8931242125821466, -0.46845291625732416, 0.3781014047855431, -1.2452813787819295, 0.7720600839543568, -0.1467225346322123, -0.6315021974816304, -0.7269821770978143, -0.4242118835802408, 1.8098886957875182, 0.6340870632825684, -0.7524498968821255, 2.334655966396287, -0.8492378201748007, 1.1964317058351615, 0.18153694390689393, 0.8732838633312291, 1.07784296658968, 0.3459866622514968, -0.7214103607850231, -1.2049057150110316, 0.5013151212405151, -1.3069831656188589, 0.11814842323440919, -0.01760325733177132, -1.031507466879412, 0.8105398816366775, 0.2630311106697119, 1.1610935950229937, -0.9110603984749275, 0.38128147794092065, -0.32120478827120125, -0.909703102805338, 0.9665818363963105, -0.815837744405378, -1.5352152603233933, 0.20011286751182206], \"xaxis\": \"x6\", \"yaxis\": \"y6\"}, {\"line\": {\"color\": \"rgba(128, 128, 128, 1.0)\", \"dash\": \"solid\", \"shape\": \"linear\", \"width\": 1.3}, \"marker\": {\"size\": 2, \"symbol\": \"circle\"}, \"mode\": \"markers\", \"name\": \"B\", \"text\": \"\", \"type\": \"scatter\", \"x\": [-0.7923640549556918, 0.7060011829427726, 0.053074085338747745, -0.04373058171070141, 1.2902719786567443, -2.326763076872465, -1.3418517772852283, -1.244226566661774, -1.2725757819383083, 0.8116159620087401, -1.3347429314666497, 1.9974754039201925, 3.083591238437029, 2.3008413741244005, -1.1481753738488727, -0.036496503084746126, 0.756114348876666, -1.2440613050199285, -1.7717376164523135, -0.8878555239734864, -0.2115320041638411, -1.0971836723653703, -0.4169210153464947, 1.3417489426063411, -0.5246637111690206, -0.3177934099124036, -0.2571240393150729, 0.9288404503289762, 0.03528544203319129, 0.4757650359206804, -0.645549547019227, -0.4481318637719594, 0.11346146345051843, -0.7116854064900161, 0.02714297486140097, 0.18863690436534306, -0.18890753331065516, -1.424125100200306, 0.7985810409051322, -0.15488734220601214, -1.4129076561771807, -0.9036584800564172, 1.0534613485746978, -0.17586761916965038, -0.834890119351905, -0.3804319921817218, -0.5983395201743344, 0.7618834321356988, -1.0388705038093977, 1.604583026296511, 1.609745753076099, 0.5084992671664441, 0.917704048571019, 0.035705704935170814, -1.790109534806381, -1.4528256522164633, 0.2573809571704151, -2.7204419428439186, -2.085340384186382, -1.2145036056315703, 0.5023647348944503, -2.213701898590148, -0.47829676342769706, -2.5730099967530844, 0.4571358653519451, 2.472072002879146, 0.6194573176805499, 2.2868673585320174, -1.9821511421713127, 0.4317938216034409, 0.5578887100422061, 0.27087700344252225, -1.0160152917858014, 0.6406702546846256, 1.9987664519338355, -0.7415962270901594, 0.47546693016211306, -0.27132943279261856, 0.10947170442269415, 1.0291226480146305, -1.3490987121450895, 0.38884298479254503, 1.5566147071556071, 0.02268900188241972, 0.7908201022912129, 0.5642606542958364, 0.029868823360865666, -0.5067955066289295, -0.3606413702074724, -0.4564280806954663, -1.6899277437796105, 0.6669022920252979, 0.38646340136473345, 0.7362584932574483, -1.21379691825534, 0.9554973406757821, -0.8200481457281502, 0.01586832049106004, -1.086412152419535, -0.353248937756514], \"xaxis\": \"x7\", \"y\": [-0.6097684872700382, -0.8493487007227505, 0.9977510237274378, -0.1071962371054894, -1.699524977003542, 0.8082757927760422, 0.8193580554685013, -0.2061772615607506, -0.26313042840768197, 0.5600361067764692, -0.4501981737498376, -0.9544772042218531, -1.319940076686102, -1.125617561514794, -0.3956045049936414, -0.8370623937043047, 1.1686872383712643, -0.23243709044945235, -0.5340987999737385, -2.0614316426642536, 0.753559286628637, -0.8528918211334426, -0.22309759866097068, -0.7113387792238788, -0.5101411104217729, -0.6342668440941034, -0.6324370086317639, 0.2714510243492082, -0.5213238007382588, -1.4086465885726056, -0.5420087867655164, 0.6677503468224606, -0.18855694230016076, 2.0671336870595733, -0.47682455918418043, -0.024979430414229276, 1.3061706720343416, 2.786030341090841, 0.5486606319358823, 1.1606684174771362, 0.1451160819641703, 2.136969133851484, 0.770381179614506, -0.7556527371529544, 0.5601210636156078, 0.3307869065359323, -1.3478670652302134, 0.08644174068175664, 1.2905756068011163, 2.275549593676335, -0.47563159079150313, 0.23889454006422195, -1.7043014333897235, -1.4533176672403718, 0.5360611298269806, 0.25318959135101454, 0.004821837557940499, 1.4422811243330096, 0.7317807073826776, 0.40437412573002657, -0.09522520392275328, 0.6365245480331461, 0.23493643856197943, 0.8931242125821466, -0.46845291625732416, 0.3781014047855431, -1.2452813787819295, 0.7720600839543568, -0.1467225346322123, -0.6315021974816304, -0.7269821770978143, -0.4242118835802408, 1.8098886957875182, 0.6340870632825684, -0.7524498968821255, 2.334655966396287, -0.8492378201748007, 1.1964317058351615, 0.18153694390689393, 0.8732838633312291, 1.07784296658968, 0.3459866622514968, -0.7214103607850231, -1.2049057150110316, 0.5013151212405151, -1.3069831656188589, 0.11814842323440919, -0.01760325733177132, -1.031507466879412, 0.8105398816366775, 0.2630311106697119, 1.1610935950229937, -0.9110603984749275, 0.38128147794092065, -0.32120478827120125, -0.909703102805338, 0.9665818363963105, -0.815837744405378, -1.5352152603233933, 0.20011286751182206], \"yaxis\": \"y7\"}, {\"line\": {\"color\": \"rgba(128, 128, 128, 1.0)\", \"dash\": \"solid\", \"shape\": \"linear\", \"width\": 1.3}, \"marker\": {\"size\": 2, \"symbol\": \"circle\"}, \"mode\": \"markers\", \"name\": \"B\", \"text\": \"\", \"type\": \"scatter\", \"x\": [-0.10295370891827925, -0.028289096356194837, -1.6022371865243943, -0.6677582850059303, 1.1592371615025454, -0.5785904830396258, -0.26899174641412266, 1.254733732425717, 0.1432799061338119, 0.8351102638532616, 1.1421703598713666, -0.11315422544466675, 1.7035099057363996, 0.20155281805517186, 0.12034356763459654, -0.48174767384418427, 0.6825131636537485, 1.2362873160690677, 0.9762762671532775, 0.41974336424934805, -1.4153766876496559, 0.4195292145664559, -0.9318567154789266, 1.7548517747759471, 1.329133611893916, -0.921620640483918, -0.5321456901115662, 0.2870265710468365, -1.3610985526958308, 0.4898054645904833, -2.0068460372937325, 1.4755629336770717, 0.7525438908823469, -0.22849772377726246, -1.562234324450787, -0.12261812750140202, 0.1559618417759451, -1.0157058307934412, 0.41269665446075054, 1.083012248685434, -0.07776225518611735, -0.6854181413064568, -0.5279926765284809, 1.744451380140734, -0.19199976218189435, 1.6568128125316335, -0.20558495057233275, -0.13691849636945613, -1.4389203517443772, -0.3011163949928156, 1.5299513750055738, -0.6849923951573995, 0.01886297449919174, -2.1279076038717304, -0.39051100833306857, 1.1945641170681096, 0.9164940428171159, -1.5626986542353312, -1.248276621642825, 1.239147022656453, 0.4418621713345895, 1.9792488191895308, -0.4473614741484713, -1.4278316918110363, 0.3495593316139144, -1.9695915574468457, 1.6856077507425953, -0.7361933174543438, 1.966813228659939, -0.13622705026676987, 0.9614499616870827, -1.0877516956148814, -0.08332493735616588, 0.5495898880959647, 0.15644478280110782, 0.7624766312617356, -0.6640685309410604, 0.5835478069488527, -0.41731487014395946, -0.7737318381820748, -0.18837187365190924, -0.1559897493782766, 0.469635617711406, -0.43390208956935267, 1.8405965262607913, 0.7392704238448753, -0.7980953711157764, 0.9870665794476245, -0.2921588384237159, -1.0753293546589404, -0.8458221376723069, 1.5781496355780706, 1.8588249813644777, -0.5686794581197042, 0.513763389326613, -1.2882016677308914, 0.7874154617671391, -1.0549207502128815, 1.006552024811664, 0.6604225423851702], \"xaxis\": \"x8\", \"y\": [-0.6097684872700382, -0.8493487007227505, 0.9977510237274378, -0.1071962371054894, -1.699524977003542, 0.8082757927760422, 0.8193580554685013, -0.2061772615607506, -0.26313042840768197, 0.5600361067764692, -0.4501981737498376, -0.9544772042218531, -1.319940076686102, -1.125617561514794, -0.3956045049936414, -0.8370623937043047, 1.1686872383712643, -0.23243709044945235, -0.5340987999737385, -2.0614316426642536, 0.753559286628637, -0.8528918211334426, -0.22309759866097068, -0.7113387792238788, -0.5101411104217729, -0.6342668440941034, -0.6324370086317639, 0.2714510243492082, -0.5213238007382588, -1.4086465885726056, -0.5420087867655164, 0.6677503468224606, -0.18855694230016076, 2.0671336870595733, -0.47682455918418043, -0.024979430414229276, 1.3061706720343416, 2.786030341090841, 0.5486606319358823, 1.1606684174771362, 0.1451160819641703, 2.136969133851484, 0.770381179614506, -0.7556527371529544, 0.5601210636156078, 0.3307869065359323, -1.3478670652302134, 0.08644174068175664, 1.2905756068011163, 2.275549593676335, -0.47563159079150313, 0.23889454006422195, -1.7043014333897235, -1.4533176672403718, 0.5360611298269806, 0.25318959135101454, 0.004821837557940499, 1.4422811243330096, 0.7317807073826776, 0.40437412573002657, -0.09522520392275328, 0.6365245480331461, 0.23493643856197943, 0.8931242125821466, -0.46845291625732416, 0.3781014047855431, -1.2452813787819295, 0.7720600839543568, -0.1467225346322123, -0.6315021974816304, -0.7269821770978143, -0.4242118835802408, 1.8098886957875182, 0.6340870632825684, -0.7524498968821255, 2.334655966396287, -0.8492378201748007, 1.1964317058351615, 0.18153694390689393, 0.8732838633312291, 1.07784296658968, 0.3459866622514968, -0.7214103607850231, -1.2049057150110316, 0.5013151212405151, -1.3069831656188589, 0.11814842323440919, -0.01760325733177132, -1.031507466879412, 0.8105398816366775, 0.2630311106697119, 1.1610935950229937, -0.9110603984749275, 0.38128147794092065, -0.32120478827120125, -0.909703102805338, 0.9665818363963105, -0.815837744405378, -1.5352152603233933, 0.20011286751182206], \"yaxis\": \"y8\"}, {\"line\": {\"color\": \"rgba(128, 128, 128, 1.0)\", \"dash\": \"solid\", \"shape\": \"linear\", \"width\": 1.3}, \"marker\": {\"size\": 2, \"symbol\": \"circle\"}, \"mode\": \"markers\", \"name\": \"C\", \"text\": \"\", \"type\": \"scatter\", \"x\": [0.04586201721326738, -0.6540043750178025, -0.15552861422961764, 0.4246745931194628, -0.7428941263058662, 1.9759454512955896, 0.37216312274345376, 0.270346199650836, 0.7526879532742253, 0.6835958715969624, -0.2546175189374106, -1.4262276612733924, -0.8727506868121251, -1.6379838534075002, -0.3785322805868584, -0.8599010083088068, 0.4629342549127315, -0.47817504277382034, 1.7604777274770929, -0.6838113680207202, -1.4307352427821491, -1.8252753776981603, 0.0833413830786923, 0.35628092995480676, -1.274976737920389, -0.11359150113388154, -0.9893370579804546, -0.8534703806103016, -0.990879781989911, -0.11339893230127164, -0.3639574025477662, -1.9198230956237927, -0.15604885841910177, -1.242009328543386, -1.0874855796153915, 0.14390334649378728, -0.3382339542174146, -0.3514758760147406, -0.7062967985429734, -0.12500964817068996, -0.9285989000331202, 1.5833434550109415, -2.4928407726420563, 0.9246153518224425, -0.8612041766022565, -1.1870843867017409, -0.14298953029197703, -1.1632402625589469, 0.4098274611640754, -0.2891110705534637, -0.377333312529668, -0.7700418964086341, 1.4419245123587963, 0.03299347750695614, 0.30446587287069704, 1.7167246528354863, -1.7488558374419065, -0.4082248364598318, -0.43705062056267563, 0.27557456940654934, -1.7749290440262324, -0.26864031013567036, -0.6490697916177971, 0.31078916234165116, -1.3008179237598356, 0.4139975331828292, 1.3674410813628795, 1.67921356806546, -1.7257549896922175, 0.10065480714282876, -1.61503423879273, 0.5862729398825437, -1.3634403525084011, 0.2775805459514663, -0.9757974847933348, -1.098944519453516, 1.0101077930359967, -0.17781895824552374, -0.7734803747585632, -0.7535167319015652, -0.16708705618339023, -0.3297590324897727, -0.6069608199941531, 0.151103955896672, 1.0641636909694312, 1.1434256632642008, -1.4467009135114968, 0.19060882578590008, -0.41156483114802506, 3.198680605796546, -1.6909576942364866, -1.1686824788204284, -1.0525002047918235, -0.2669890197908835, -0.9245356187364816, 0.7589373225722542, -0.40615315896270865, 0.5371900954827098, 0.5919142019373578, 0.36842146133318476], \"xaxis\": \"x9\", \"y\": [-0.7923640549556918, 0.7060011829427726, 0.053074085338747745, -0.04373058171070141, 1.2902719786567443, -2.326763076872465, -1.3418517772852283, -1.244226566661774, -1.2725757819383083, 0.8116159620087401, -1.3347429314666497, 1.9974754039201925, 3.083591238437029, 2.3008413741244005, -1.1481753738488727, -0.036496503084746126, 0.756114348876666, -1.2440613050199285, -1.7717376164523135, -0.8878555239734864, -0.2115320041638411, -1.0971836723653703, -0.4169210153464947, 1.3417489426063411, -0.5246637111690206, -0.3177934099124036, -0.2571240393150729, 0.9288404503289762, 0.03528544203319129, 0.4757650359206804, -0.645549547019227, -0.4481318637719594, 0.11346146345051843, -0.7116854064900161, 0.02714297486140097, 0.18863690436534306, -0.18890753331065516, -1.424125100200306, 0.7985810409051322, -0.15488734220601214, -1.4129076561771807, -0.9036584800564172, 1.0534613485746978, -0.17586761916965038, -0.834890119351905, -0.3804319921817218, -0.5983395201743344, 0.7618834321356988, -1.0388705038093977, 1.604583026296511, 1.609745753076099, 0.5084992671664441, 0.917704048571019, 0.035705704935170814, -1.790109534806381, -1.4528256522164633, 0.2573809571704151, -2.7204419428439186, -2.085340384186382, -1.2145036056315703, 0.5023647348944503, -2.213701898590148, -0.47829676342769706, -2.5730099967530844, 0.4571358653519451, 2.472072002879146, 0.6194573176805499, 2.2868673585320174, -1.9821511421713127, 0.4317938216034409, 0.5578887100422061, 0.27087700344252225, -1.0160152917858014, 0.6406702546846256, 1.9987664519338355, -0.7415962270901594, 0.47546693016211306, -0.27132943279261856, 0.10947170442269415, 1.0291226480146305, -1.3490987121450895, 0.38884298479254503, 1.5566147071556071, 0.02268900188241972, 0.7908201022912129, 0.5642606542958364, 0.029868823360865666, -0.5067955066289295, -0.3606413702074724, -0.4564280806954663, -1.6899277437796105, 0.6669022920252979, 0.38646340136473345, 0.7362584932574483, -1.21379691825534, 0.9554973406757821, -0.8200481457281502, 0.01586832049106004, -1.086412152419535, -0.353248937756514], \"yaxis\": \"y9\"}, {\"line\": {\"color\": \"rgba(128, 128, 128, 1.0)\", \"dash\": \"solid\", \"shape\": \"linear\", \"width\": 1.3}, \"marker\": {\"size\": 2, \"symbol\": \"circle\"}, \"mode\": \"markers\", \"name\": \"C\", \"text\": \"\", \"type\": \"scatter\", \"x\": [-0.6097684872700382, -0.8493487007227505, 0.9977510237274378, -0.1071962371054894, -1.699524977003542, 0.8082757927760422, 0.8193580554685013, -0.2061772615607506, -0.26313042840768197, 0.5600361067764692, -0.4501981737498376, -0.9544772042218531, -1.319940076686102, -1.125617561514794, -0.3956045049936414, -0.8370623937043047, 1.1686872383712643, -0.23243709044945235, -0.5340987999737385, -2.0614316426642536, 0.753559286628637, -0.8528918211334426, -0.22309759866097068, -0.7113387792238788, -0.5101411104217729, -0.6342668440941034, -0.6324370086317639, 0.2714510243492082, -0.5213238007382588, -1.4086465885726056, -0.5420087867655164, 0.6677503468224606, -0.18855694230016076, 2.0671336870595733, -0.47682455918418043, -0.024979430414229276, 1.3061706720343416, 2.786030341090841, 0.5486606319358823, 1.1606684174771362, 0.1451160819641703, 2.136969133851484, 0.770381179614506, -0.7556527371529544, 0.5601210636156078, 0.3307869065359323, -1.3478670652302134, 0.08644174068175664, 1.2905756068011163, 2.275549593676335, -0.47563159079150313, 0.23889454006422195, -1.7043014333897235, -1.4533176672403718, 0.5360611298269806, 0.25318959135101454, 0.004821837557940499, 1.4422811243330096, 0.7317807073826776, 0.40437412573002657, -0.09522520392275328, 0.6365245480331461, 0.23493643856197943, 0.8931242125821466, -0.46845291625732416, 0.3781014047855431, -1.2452813787819295, 0.7720600839543568, -0.1467225346322123, -0.6315021974816304, -0.7269821770978143, -0.4242118835802408, 1.8098886957875182, 0.6340870632825684, -0.7524498968821255, 2.334655966396287, -0.8492378201748007, 1.1964317058351615, 0.18153694390689393, 0.8732838633312291, 1.07784296658968, 0.3459866622514968, -0.7214103607850231, -1.2049057150110316, 0.5013151212405151, -1.3069831656188589, 0.11814842323440919, -0.01760325733177132, -1.031507466879412, 0.8105398816366775, 0.2630311106697119, 1.1610935950229937, -0.9110603984749275, 0.38128147794092065, -0.32120478827120125, -0.909703102805338, 0.9665818363963105, -0.815837744405378, -1.5352152603233933, 0.20011286751182206], \"xaxis\": \"x10\", \"y\": [-0.7923640549556918, 0.7060011829427726, 0.053074085338747745, -0.04373058171070141, 1.2902719786567443, -2.326763076872465, -1.3418517772852283, -1.244226566661774, -1.2725757819383083, 0.8116159620087401, -1.3347429314666497, 1.9974754039201925, 3.083591238437029, 2.3008413741244005, -1.1481753738488727, -0.036496503084746126, 0.756114348876666, -1.2440613050199285, -1.7717376164523135, -0.8878555239734864, -0.2115320041638411, -1.0971836723653703, -0.4169210153464947, 1.3417489426063411, -0.5246637111690206, -0.3177934099124036, -0.2571240393150729, 0.9288404503289762, 0.03528544203319129, 0.4757650359206804, -0.645549547019227, -0.4481318637719594, 0.11346146345051843, -0.7116854064900161, 0.02714297486140097, 0.18863690436534306, -0.18890753331065516, -1.424125100200306, 0.7985810409051322, -0.15488734220601214, -1.4129076561771807, -0.9036584800564172, 1.0534613485746978, -0.17586761916965038, -0.834890119351905, -0.3804319921817218, -0.5983395201743344, 0.7618834321356988, -1.0388705038093977, 1.604583026296511, 1.609745753076099, 0.5084992671664441, 0.917704048571019, 0.035705704935170814, -1.790109534806381, -1.4528256522164633, 0.2573809571704151, -2.7204419428439186, -2.085340384186382, -1.2145036056315703, 0.5023647348944503, -2.213701898590148, -0.47829676342769706, -2.5730099967530844, 0.4571358653519451, 2.472072002879146, 0.6194573176805499, 2.2868673585320174, -1.9821511421713127, 0.4317938216034409, 0.5578887100422061, 0.27087700344252225, -1.0160152917858014, 0.6406702546846256, 1.9987664519338355, -0.7415962270901594, 0.47546693016211306, -0.27132943279261856, 0.10947170442269415, 1.0291226480146305, -1.3490987121450895, 0.38884298479254503, 1.5566147071556071, 0.02268900188241972, 0.7908201022912129, 0.5642606542958364, 0.029868823360865666, -0.5067955066289295, -0.3606413702074724, -0.4564280806954663, -1.6899277437796105, 0.6669022920252979, 0.38646340136473345, 0.7362584932574483, -1.21379691825534, 0.9554973406757821, -0.8200481457281502, 0.01586832049106004, -1.086412152419535, -0.353248937756514], \"yaxis\": \"y10\"}, {\"histfunc\": \"count\", \"histnorm\": \"\", \"marker\": {\"color\": \"rgba(50, 171, 96, 1.0)\", \"line\": {\"color\": \"#4D5663\", \"width\": 1.3}}, \"name\": \"C\", \"nbinsx\": 10, \"opacity\": 0.8, \"orientation\": \"v\", \"type\": \"histogram\", \"x\": [-0.7923640549556918, 0.7060011829427726, 0.053074085338747745, -0.04373058171070141, 1.2902719786567443, -2.326763076872465, -1.3418517772852283, -1.244226566661774, -1.2725757819383083, 0.8116159620087401, -1.3347429314666497, 1.9974754039201925, 3.083591238437029, 2.3008413741244005, -1.1481753738488727, -0.036496503084746126, 0.756114348876666, -1.2440613050199285, -1.7717376164523135, -0.8878555239734864, -0.2115320041638411, -1.0971836723653703, -0.4169210153464947, 1.3417489426063411, -0.5246637111690206, -0.3177934099124036, -0.2571240393150729, 0.9288404503289762, 0.03528544203319129, 0.4757650359206804, -0.645549547019227, -0.4481318637719594, 0.11346146345051843, -0.7116854064900161, 0.02714297486140097, 0.18863690436534306, -0.18890753331065516, -1.424125100200306, 0.7985810409051322, -0.15488734220601214, -1.4129076561771807, -0.9036584800564172, 1.0534613485746978, -0.17586761916965038, -0.834890119351905, -0.3804319921817218, -0.5983395201743344, 0.7618834321356988, -1.0388705038093977, 1.604583026296511, 1.609745753076099, 0.5084992671664441, 0.917704048571019, 0.035705704935170814, -1.790109534806381, -1.4528256522164633, 0.2573809571704151, -2.7204419428439186, -2.085340384186382, -1.2145036056315703, 0.5023647348944503, -2.213701898590148, -0.47829676342769706, -2.5730099967530844, 0.4571358653519451, 2.472072002879146, 0.6194573176805499, 2.2868673585320174, -1.9821511421713127, 0.4317938216034409, 0.5578887100422061, 0.27087700344252225, -1.0160152917858014, 0.6406702546846256, 1.9987664519338355, -0.7415962270901594, 0.47546693016211306, -0.27132943279261856, 0.10947170442269415, 1.0291226480146305, -1.3490987121450895, 0.38884298479254503, 1.5566147071556071, 0.02268900188241972, 0.7908201022912129, 0.5642606542958364, 0.029868823360865666, -0.5067955066289295, -0.3606413702074724, -0.4564280806954663, -1.6899277437796105, 0.6669022920252979, 0.38646340136473345, 0.7362584932574483, -1.21379691825534, 0.9554973406757821, -0.8200481457281502, 0.01586832049106004, -1.086412152419535, -0.353248937756514], \"xaxis\": \"x11\", \"yaxis\": \"y11\"}, {\"line\": {\"color\": \"rgba(128, 128, 128, 1.0)\", \"dash\": \"solid\", \"shape\": \"linear\", \"width\": 1.3}, \"marker\": {\"size\": 2, \"symbol\": \"circle\"}, \"mode\": \"markers\", \"name\": \"C\", \"text\": \"\", \"type\": \"scatter\", \"x\": [-0.10295370891827925, -0.028289096356194837, -1.6022371865243943, -0.6677582850059303, 1.1592371615025454, -0.5785904830396258, -0.26899174641412266, 1.254733732425717, 0.1432799061338119, 0.8351102638532616, 1.1421703598713666, -0.11315422544466675, 1.7035099057363996, 0.20155281805517186, 0.12034356763459654, -0.48174767384418427, 0.6825131636537485, 1.2362873160690677, 0.9762762671532775, 0.41974336424934805, -1.4153766876496559, 0.4195292145664559, -0.9318567154789266, 1.7548517747759471, 1.329133611893916, -0.921620640483918, -0.5321456901115662, 0.2870265710468365, -1.3610985526958308, 0.4898054645904833, -2.0068460372937325, 1.4755629336770717, 0.7525438908823469, -0.22849772377726246, -1.562234324450787, -0.12261812750140202, 0.1559618417759451, -1.0157058307934412, 0.41269665446075054, 1.083012248685434, -0.07776225518611735, -0.6854181413064568, -0.5279926765284809, 1.744451380140734, -0.19199976218189435, 1.6568128125316335, -0.20558495057233275, -0.13691849636945613, -1.4389203517443772, -0.3011163949928156, 1.5299513750055738, -0.6849923951573995, 0.01886297449919174, -2.1279076038717304, -0.39051100833306857, 1.1945641170681096, 0.9164940428171159, -1.5626986542353312, -1.248276621642825, 1.239147022656453, 0.4418621713345895, 1.9792488191895308, -0.4473614741484713, -1.4278316918110363, 0.3495593316139144, -1.9695915574468457, 1.6856077507425953, -0.7361933174543438, 1.966813228659939, -0.13622705026676987, 0.9614499616870827, -1.0877516956148814, -0.08332493735616588, 0.5495898880959647, 0.15644478280110782, 0.7624766312617356, -0.6640685309410604, 0.5835478069488527, -0.41731487014395946, -0.7737318381820748, -0.18837187365190924, -0.1559897493782766, 0.469635617711406, -0.43390208956935267, 1.8405965262607913, 0.7392704238448753, -0.7980953711157764, 0.9870665794476245, -0.2921588384237159, -1.0753293546589404, -0.8458221376723069, 1.5781496355780706, 1.8588249813644777, -0.5686794581197042, 0.513763389326613, -1.2882016677308914, 0.7874154617671391, -1.0549207502128815, 1.006552024811664, 0.6604225423851702], \"xaxis\": \"x12\", \"y\": [-0.7923640549556918, 0.7060011829427726, 0.053074085338747745, -0.04373058171070141, 1.2902719786567443, -2.326763076872465, -1.3418517772852283, -1.244226566661774, -1.2725757819383083, 0.8116159620087401, -1.3347429314666497, 1.9974754039201925, 3.083591238437029, 2.3008413741244005, -1.1481753738488727, -0.036496503084746126, 0.756114348876666, -1.2440613050199285, -1.7717376164523135, -0.8878555239734864, -0.2115320041638411, -1.0971836723653703, -0.4169210153464947, 1.3417489426063411, -0.5246637111690206, -0.3177934099124036, -0.2571240393150729, 0.9288404503289762, 0.03528544203319129, 0.4757650359206804, -0.645549547019227, -0.4481318637719594, 0.11346146345051843, -0.7116854064900161, 0.02714297486140097, 0.18863690436534306, -0.18890753331065516, -1.424125100200306, 0.7985810409051322, -0.15488734220601214, -1.4129076561771807, -0.9036584800564172, 1.0534613485746978, -0.17586761916965038, -0.834890119351905, -0.3804319921817218, -0.5983395201743344, 0.7618834321356988, -1.0388705038093977, 1.604583026296511, 1.609745753076099, 0.5084992671664441, 0.917704048571019, 0.035705704935170814, -1.790109534806381, -1.4528256522164633, 0.2573809571704151, -2.7204419428439186, -2.085340384186382, -1.2145036056315703, 0.5023647348944503, -2.213701898590148, -0.47829676342769706, -2.5730099967530844, 0.4571358653519451, 2.472072002879146, 0.6194573176805499, 2.2868673585320174, -1.9821511421713127, 0.4317938216034409, 0.5578887100422061, 0.27087700344252225, -1.0160152917858014, 0.6406702546846256, 1.9987664519338355, -0.7415962270901594, 0.47546693016211306, -0.27132943279261856, 0.10947170442269415, 1.0291226480146305, -1.3490987121450895, 0.38884298479254503, 1.5566147071556071, 0.02268900188241972, 0.7908201022912129, 0.5642606542958364, 0.029868823360865666, -0.5067955066289295, -0.3606413702074724, -0.4564280806954663, -1.6899277437796105, 0.6669022920252979, 0.38646340136473345, 0.7362584932574483, -1.21379691825534, 0.9554973406757821, -0.8200481457281502, 0.01586832049106004, -1.086412152419535, -0.353248937756514], \"yaxis\": \"y12\"}, {\"line\": {\"color\": \"rgba(128, 128, 128, 1.0)\", \"dash\": \"solid\", \"shape\": \"linear\", \"width\": 1.3}, \"marker\": {\"size\": 2, \"symbol\": \"circle\"}, \"mode\": \"markers\", \"name\": \"D\", \"text\": \"\", \"type\": \"scatter\", \"x\": [0.04586201721326738, -0.6540043750178025, -0.15552861422961764, 0.4246745931194628, -0.7428941263058662, 1.9759454512955896, 0.37216312274345376, 0.270346199650836, 0.7526879532742253, 0.6835958715969624, -0.2546175189374106, -1.4262276612733924, -0.8727506868121251, -1.6379838534075002, -0.3785322805868584, -0.8599010083088068, 0.4629342549127315, -0.47817504277382034, 1.7604777274770929, -0.6838113680207202, -1.4307352427821491, -1.8252753776981603, 0.0833413830786923, 0.35628092995480676, -1.274976737920389, -0.11359150113388154, -0.9893370579804546, -0.8534703806103016, -0.990879781989911, -0.11339893230127164, -0.3639574025477662, -1.9198230956237927, -0.15604885841910177, -1.242009328543386, -1.0874855796153915, 0.14390334649378728, -0.3382339542174146, -0.3514758760147406, -0.7062967985429734, -0.12500964817068996, -0.9285989000331202, 1.5833434550109415, -2.4928407726420563, 0.9246153518224425, -0.8612041766022565, -1.1870843867017409, -0.14298953029197703, -1.1632402625589469, 0.4098274611640754, -0.2891110705534637, -0.377333312529668, -0.7700418964086341, 1.4419245123587963, 0.03299347750695614, 0.30446587287069704, 1.7167246528354863, -1.7488558374419065, -0.4082248364598318, -0.43705062056267563, 0.27557456940654934, -1.7749290440262324, -0.26864031013567036, -0.6490697916177971, 0.31078916234165116, -1.3008179237598356, 0.4139975331828292, 1.3674410813628795, 1.67921356806546, -1.7257549896922175, 0.10065480714282876, -1.61503423879273, 0.5862729398825437, -1.3634403525084011, 0.2775805459514663, -0.9757974847933348, -1.098944519453516, 1.0101077930359967, -0.17781895824552374, -0.7734803747585632, -0.7535167319015652, -0.16708705618339023, -0.3297590324897727, -0.6069608199941531, 0.151103955896672, 1.0641636909694312, 1.1434256632642008, -1.4467009135114968, 0.19060882578590008, -0.41156483114802506, 3.198680605796546, -1.6909576942364866, -1.1686824788204284, -1.0525002047918235, -0.2669890197908835, -0.9245356187364816, 0.7589373225722542, -0.40615315896270865, 0.5371900954827098, 0.5919142019373578, 0.36842146133318476], \"xaxis\": \"x13\", \"y\": [-0.10295370891827925, -0.028289096356194837, -1.6022371865243943, -0.6677582850059303, 1.1592371615025454, -0.5785904830396258, -0.26899174641412266, 1.254733732425717, 0.1432799061338119, 0.8351102638532616, 1.1421703598713666, -0.11315422544466675, 1.7035099057363996, 0.20155281805517186, 0.12034356763459654, -0.48174767384418427, 0.6825131636537485, 1.2362873160690677, 0.9762762671532775, 0.41974336424934805, -1.4153766876496559, 0.4195292145664559, -0.9318567154789266, 1.7548517747759471, 1.329133611893916, -0.921620640483918, -0.5321456901115662, 0.2870265710468365, -1.3610985526958308, 0.4898054645904833, -2.0068460372937325, 1.4755629336770717, 0.7525438908823469, -0.22849772377726246, -1.562234324450787, -0.12261812750140202, 0.1559618417759451, -1.0157058307934412, 0.41269665446075054, 1.083012248685434, -0.07776225518611735, -0.6854181413064568, -0.5279926765284809, 1.744451380140734, -0.19199976218189435, 1.6568128125316335, -0.20558495057233275, -0.13691849636945613, -1.4389203517443772, -0.3011163949928156, 1.5299513750055738, -0.6849923951573995, 0.01886297449919174, -2.1279076038717304, -0.39051100833306857, 1.1945641170681096, 0.9164940428171159, -1.5626986542353312, -1.248276621642825, 1.239147022656453, 0.4418621713345895, 1.9792488191895308, -0.4473614741484713, -1.4278316918110363, 0.3495593316139144, -1.9695915574468457, 1.6856077507425953, -0.7361933174543438, 1.966813228659939, -0.13622705026676987, 0.9614499616870827, -1.0877516956148814, -0.08332493735616588, 0.5495898880959647, 0.15644478280110782, 0.7624766312617356, -0.6640685309410604, 0.5835478069488527, -0.41731487014395946, -0.7737318381820748, -0.18837187365190924, -0.1559897493782766, 0.469635617711406, -0.43390208956935267, 1.8405965262607913, 0.7392704238448753, -0.7980953711157764, 0.9870665794476245, -0.2921588384237159, -1.0753293546589404, -0.8458221376723069, 1.5781496355780706, 1.8588249813644777, -0.5686794581197042, 0.513763389326613, -1.2882016677308914, 0.7874154617671391, -1.0549207502128815, 1.006552024811664, 0.6604225423851702], \"yaxis\": \"y13\"}, {\"line\": {\"color\": \"rgba(128, 128, 128, 1.0)\", \"dash\": \"solid\", \"shape\": \"linear\", \"width\": 1.3}, \"marker\": {\"size\": 2, \"symbol\": \"circle\"}, \"mode\": \"markers\", \"name\": \"D\", \"text\": \"\", \"type\": \"scatter\", \"x\": [-0.6097684872700382, -0.8493487007227505, 0.9977510237274378, -0.1071962371054894, -1.699524977003542, 0.8082757927760422, 0.8193580554685013, -0.2061772615607506, -0.26313042840768197, 0.5600361067764692, -0.4501981737498376, -0.9544772042218531, -1.319940076686102, -1.125617561514794, -0.3956045049936414, -0.8370623937043047, 1.1686872383712643, -0.23243709044945235, -0.5340987999737385, -2.0614316426642536, 0.753559286628637, -0.8528918211334426, -0.22309759866097068, -0.7113387792238788, -0.5101411104217729, -0.6342668440941034, -0.6324370086317639, 0.2714510243492082, -0.5213238007382588, -1.4086465885726056, -0.5420087867655164, 0.6677503468224606, -0.18855694230016076, 2.0671336870595733, -0.47682455918418043, -0.024979430414229276, 1.3061706720343416, 2.786030341090841, 0.5486606319358823, 1.1606684174771362, 0.1451160819641703, 2.136969133851484, 0.770381179614506, -0.7556527371529544, 0.5601210636156078, 0.3307869065359323, -1.3478670652302134, 0.08644174068175664, 1.2905756068011163, 2.275549593676335, -0.47563159079150313, 0.23889454006422195, -1.7043014333897235, -1.4533176672403718, 0.5360611298269806, 0.25318959135101454, 0.004821837557940499, 1.4422811243330096, 0.7317807073826776, 0.40437412573002657, -0.09522520392275328, 0.6365245480331461, 0.23493643856197943, 0.8931242125821466, -0.46845291625732416, 0.3781014047855431, -1.2452813787819295, 0.7720600839543568, -0.1467225346322123, -0.6315021974816304, -0.7269821770978143, -0.4242118835802408, 1.8098886957875182, 0.6340870632825684, -0.7524498968821255, 2.334655966396287, -0.8492378201748007, 1.1964317058351615, 0.18153694390689393, 0.8732838633312291, 1.07784296658968, 0.3459866622514968, -0.7214103607850231, -1.2049057150110316, 0.5013151212405151, -1.3069831656188589, 0.11814842323440919, -0.01760325733177132, -1.031507466879412, 0.8105398816366775, 0.2630311106697119, 1.1610935950229937, -0.9110603984749275, 0.38128147794092065, -0.32120478827120125, -0.909703102805338, 0.9665818363963105, -0.815837744405378, -1.5352152603233933, 0.20011286751182206], \"xaxis\": \"x14\", \"y\": [-0.10295370891827925, -0.028289096356194837, -1.6022371865243943, -0.6677582850059303, 1.1592371615025454, -0.5785904830396258, -0.26899174641412266, 1.254733732425717, 0.1432799061338119, 0.8351102638532616, 1.1421703598713666, -0.11315422544466675, 1.7035099057363996, 0.20155281805517186, 0.12034356763459654, -0.48174767384418427, 0.6825131636537485, 1.2362873160690677, 0.9762762671532775, 0.41974336424934805, -1.4153766876496559, 0.4195292145664559, -0.9318567154789266, 1.7548517747759471, 1.329133611893916, -0.921620640483918, -0.5321456901115662, 0.2870265710468365, -1.3610985526958308, 0.4898054645904833, -2.0068460372937325, 1.4755629336770717, 0.7525438908823469, -0.22849772377726246, -1.562234324450787, -0.12261812750140202, 0.1559618417759451, -1.0157058307934412, 0.41269665446075054, 1.083012248685434, -0.07776225518611735, -0.6854181413064568, -0.5279926765284809, 1.744451380140734, -0.19199976218189435, 1.6568128125316335, -0.20558495057233275, -0.13691849636945613, -1.4389203517443772, -0.3011163949928156, 1.5299513750055738, -0.6849923951573995, 0.01886297449919174, -2.1279076038717304, -0.39051100833306857, 1.1945641170681096, 0.9164940428171159, -1.5626986542353312, -1.248276621642825, 1.239147022656453, 0.4418621713345895, 1.9792488191895308, -0.4473614741484713, -1.4278316918110363, 0.3495593316139144, -1.9695915574468457, 1.6856077507425953, -0.7361933174543438, 1.966813228659939, -0.13622705026676987, 0.9614499616870827, -1.0877516956148814, -0.08332493735616588, 0.5495898880959647, 0.15644478280110782, 0.7624766312617356, -0.6640685309410604, 0.5835478069488527, -0.41731487014395946, -0.7737318381820748, -0.18837187365190924, -0.1559897493782766, 0.469635617711406, -0.43390208956935267, 1.8405965262607913, 0.7392704238448753, -0.7980953711157764, 0.9870665794476245, -0.2921588384237159, -1.0753293546589404, -0.8458221376723069, 1.5781496355780706, 1.8588249813644777, -0.5686794581197042, 0.513763389326613, -1.2882016677308914, 0.7874154617671391, -1.0549207502128815, 1.006552024811664, 0.6604225423851702], \"yaxis\": \"y14\"}, {\"line\": {\"color\": \"rgba(128, 128, 128, 1.0)\", \"dash\": \"solid\", \"shape\": \"linear\", \"width\": 1.3}, \"marker\": {\"size\": 2, \"symbol\": \"circle\"}, \"mode\": \"markers\", \"name\": \"D\", \"text\": \"\", \"type\": \"scatter\", \"x\": [-0.7923640549556918, 0.7060011829427726, 0.053074085338747745, -0.04373058171070141, 1.2902719786567443, -2.326763076872465, -1.3418517772852283, -1.244226566661774, -1.2725757819383083, 0.8116159620087401, -1.3347429314666497, 1.9974754039201925, 3.083591238437029, 2.3008413741244005, -1.1481753738488727, -0.036496503084746126, 0.756114348876666, -1.2440613050199285, -1.7717376164523135, -0.8878555239734864, -0.2115320041638411, -1.0971836723653703, -0.4169210153464947, 1.3417489426063411, -0.5246637111690206, -0.3177934099124036, -0.2571240393150729, 0.9288404503289762, 0.03528544203319129, 0.4757650359206804, -0.645549547019227, -0.4481318637719594, 0.11346146345051843, -0.7116854064900161, 0.02714297486140097, 0.18863690436534306, -0.18890753331065516, -1.424125100200306, 0.7985810409051322, -0.15488734220601214, -1.4129076561771807, -0.9036584800564172, 1.0534613485746978, -0.17586761916965038, -0.834890119351905, -0.3804319921817218, -0.5983395201743344, 0.7618834321356988, -1.0388705038093977, 1.604583026296511, 1.609745753076099, 0.5084992671664441, 0.917704048571019, 0.035705704935170814, -1.790109534806381, -1.4528256522164633, 0.2573809571704151, -2.7204419428439186, -2.085340384186382, -1.2145036056315703, 0.5023647348944503, -2.213701898590148, -0.47829676342769706, -2.5730099967530844, 0.4571358653519451, 2.472072002879146, 0.6194573176805499, 2.2868673585320174, -1.9821511421713127, 0.4317938216034409, 0.5578887100422061, 0.27087700344252225, -1.0160152917858014, 0.6406702546846256, 1.9987664519338355, -0.7415962270901594, 0.47546693016211306, -0.27132943279261856, 0.10947170442269415, 1.0291226480146305, -1.3490987121450895, 0.38884298479254503, 1.5566147071556071, 0.02268900188241972, 0.7908201022912129, 0.5642606542958364, 0.029868823360865666, -0.5067955066289295, -0.3606413702074724, -0.4564280806954663, -1.6899277437796105, 0.6669022920252979, 0.38646340136473345, 0.7362584932574483, -1.21379691825534, 0.9554973406757821, -0.8200481457281502, 0.01586832049106004, -1.086412152419535, -0.353248937756514], \"xaxis\": \"x15\", \"y\": [-0.10295370891827925, -0.028289096356194837, -1.6022371865243943, -0.6677582850059303, 1.1592371615025454, -0.5785904830396258, -0.26899174641412266, 1.254733732425717, 0.1432799061338119, 0.8351102638532616, 1.1421703598713666, -0.11315422544466675, 1.7035099057363996, 0.20155281805517186, 0.12034356763459654, -0.48174767384418427, 0.6825131636537485, 1.2362873160690677, 0.9762762671532775, 0.41974336424934805, -1.4153766876496559, 0.4195292145664559, -0.9318567154789266, 1.7548517747759471, 1.329133611893916, -0.921620640483918, -0.5321456901115662, 0.2870265710468365, -1.3610985526958308, 0.4898054645904833, -2.0068460372937325, 1.4755629336770717, 0.7525438908823469, -0.22849772377726246, -1.562234324450787, -0.12261812750140202, 0.1559618417759451, -1.0157058307934412, 0.41269665446075054, 1.083012248685434, -0.07776225518611735, -0.6854181413064568, -0.5279926765284809, 1.744451380140734, -0.19199976218189435, 1.6568128125316335, -0.20558495057233275, -0.13691849636945613, -1.4389203517443772, -0.3011163949928156, 1.5299513750055738, -0.6849923951573995, 0.01886297449919174, -2.1279076038717304, -0.39051100833306857, 1.1945641170681096, 0.9164940428171159, -1.5626986542353312, -1.248276621642825, 1.239147022656453, 0.4418621713345895, 1.9792488191895308, -0.4473614741484713, -1.4278316918110363, 0.3495593316139144, -1.9695915574468457, 1.6856077507425953, -0.7361933174543438, 1.966813228659939, -0.13622705026676987, 0.9614499616870827, -1.0877516956148814, -0.08332493735616588, 0.5495898880959647, 0.15644478280110782, 0.7624766312617356, -0.6640685309410604, 0.5835478069488527, -0.41731487014395946, -0.7737318381820748, -0.18837187365190924, -0.1559897493782766, 0.469635617711406, -0.43390208956935267, 1.8405965262607913, 0.7392704238448753, -0.7980953711157764, 0.9870665794476245, -0.2921588384237159, -1.0753293546589404, -0.8458221376723069, 1.5781496355780706, 1.8588249813644777, -0.5686794581197042, 0.513763389326613, -1.2882016677308914, 0.7874154617671391, -1.0549207502128815, 1.006552024811664, 0.6604225423851702], \"yaxis\": \"y15\"}, {\"histfunc\": \"count\", \"histnorm\": \"\", \"marker\": {\"color\": \"rgba(128, 0, 128, 1.0)\", \"line\": {\"color\": \"#4D5663\", \"width\": 1.3}}, \"name\": \"D\", \"nbinsx\": 10, \"opacity\": 0.8, \"orientation\": \"v\", \"type\": \"histogram\", \"x\": [-0.10295370891827925, -0.028289096356194837, -1.6022371865243943, -0.6677582850059303, 1.1592371615025454, -0.5785904830396258, -0.26899174641412266, 1.254733732425717, 0.1432799061338119, 0.8351102638532616, 1.1421703598713666, -0.11315422544466675, 1.7035099057363996, 0.20155281805517186, 0.12034356763459654, -0.48174767384418427, 0.6825131636537485, 1.2362873160690677, 0.9762762671532775, 0.41974336424934805, -1.4153766876496559, 0.4195292145664559, -0.9318567154789266, 1.7548517747759471, 1.329133611893916, -0.921620640483918, -0.5321456901115662, 0.2870265710468365, -1.3610985526958308, 0.4898054645904833, -2.0068460372937325, 1.4755629336770717, 0.7525438908823469, -0.22849772377726246, -1.562234324450787, -0.12261812750140202, 0.1559618417759451, -1.0157058307934412, 0.41269665446075054, 1.083012248685434, -0.07776225518611735, -0.6854181413064568, -0.5279926765284809, 1.744451380140734, -0.19199976218189435, 1.6568128125316335, -0.20558495057233275, -0.13691849636945613, -1.4389203517443772, -0.3011163949928156, 1.5299513750055738, -0.6849923951573995, 0.01886297449919174, -2.1279076038717304, -0.39051100833306857, 1.1945641170681096, 0.9164940428171159, -1.5626986542353312, -1.248276621642825, 1.239147022656453, 0.4418621713345895, 1.9792488191895308, -0.4473614741484713, -1.4278316918110363, 0.3495593316139144, -1.9695915574468457, 1.6856077507425953, -0.7361933174543438, 1.966813228659939, -0.13622705026676987, 0.9614499616870827, -1.0877516956148814, -0.08332493735616588, 0.5495898880959647, 0.15644478280110782, 0.7624766312617356, -0.6640685309410604, 0.5835478069488527, -0.41731487014395946, -0.7737318381820748, -0.18837187365190924, -0.1559897493782766, 0.469635617711406, -0.43390208956935267, 1.8405965262607913, 0.7392704238448753, -0.7980953711157764, 0.9870665794476245, -0.2921588384237159, -1.0753293546589404, -0.8458221376723069, 1.5781496355780706, 1.8588249813644777, -0.5686794581197042, 0.513763389326613, -1.2882016677308914, 0.7874154617671391, -1.0549207502128815, 1.006552024811664, 0.6604225423851702], \"xaxis\": \"x16\", \"yaxis\": \"y16\"}],\n",
       "                        {\"bargap\": 0.02, \"legend\": {\"bgcolor\": \"#F5F6F9\", \"font\": {\"color\": \"#4D5663\"}}, \"paper_bgcolor\": \"#F5F6F9\", \"plot_bgcolor\": \"#F5F6F9\", \"showlegend\": false, \"template\": {\"data\": {\"bar\": [{\"error_x\": {\"color\": \"#2a3f5f\"}, \"error_y\": {\"color\": \"#2a3f5f\"}, \"marker\": {\"line\": {\"color\": \"#E5ECF6\", \"width\": 0.5}}, \"type\": \"bar\"}], \"barpolar\": [{\"marker\": {\"line\": {\"color\": \"#E5ECF6\", \"width\": 0.5}}, \"type\": \"barpolar\"}], \"carpet\": [{\"aaxis\": {\"endlinecolor\": \"#2a3f5f\", \"gridcolor\": \"white\", \"linecolor\": \"white\", \"minorgridcolor\": \"white\", \"startlinecolor\": \"#2a3f5f\"}, \"baxis\": {\"endlinecolor\": \"#2a3f5f\", \"gridcolor\": \"white\", \"linecolor\": \"white\", \"minorgridcolor\": \"white\", \"startlinecolor\": \"#2a3f5f\"}, \"type\": \"carpet\"}], \"choropleth\": [{\"colorbar\": {\"outlinewidth\": 0, \"ticks\": \"\"}, \"type\": \"choropleth\"}], \"contour\": [{\"colorbar\": {\"outlinewidth\": 0, \"ticks\": \"\"}, \"colorscale\": [[0.0, \"#0d0887\"], [0.1111111111111111, \"#46039f\"], [0.2222222222222222, \"#7201a8\"], [0.3333333333333333, \"#9c179e\"], [0.4444444444444444, \"#bd3786\"], [0.5555555555555556, \"#d8576b\"], [0.6666666666666666, \"#ed7953\"], [0.7777777777777778, \"#fb9f3a\"], [0.8888888888888888, \"#fdca26\"], [1.0, \"#f0f921\"]], \"type\": \"contour\"}], \"contourcarpet\": [{\"colorbar\": {\"outlinewidth\": 0, \"ticks\": \"\"}, \"type\": \"contourcarpet\"}], \"heatmap\": [{\"colorbar\": {\"outlinewidth\": 0, \"ticks\": \"\"}, \"colorscale\": [[0.0, \"#0d0887\"], [0.1111111111111111, \"#46039f\"], [0.2222222222222222, \"#7201a8\"], [0.3333333333333333, \"#9c179e\"], [0.4444444444444444, \"#bd3786\"], [0.5555555555555556, \"#d8576b\"], [0.6666666666666666, \"#ed7953\"], [0.7777777777777778, \"#fb9f3a\"], [0.8888888888888888, \"#fdca26\"], [1.0, \"#f0f921\"]], \"type\": \"heatmap\"}], \"heatmapgl\": [{\"colorbar\": {\"outlinewidth\": 0, \"ticks\": \"\"}, \"colorscale\": [[0.0, \"#0d0887\"], [0.1111111111111111, \"#46039f\"], [0.2222222222222222, \"#7201a8\"], [0.3333333333333333, \"#9c179e\"], [0.4444444444444444, \"#bd3786\"], [0.5555555555555556, \"#d8576b\"], [0.6666666666666666, \"#ed7953\"], [0.7777777777777778, \"#fb9f3a\"], [0.8888888888888888, \"#fdca26\"], [1.0, \"#f0f921\"]], \"type\": \"heatmapgl\"}], \"histogram\": [{\"marker\": {\"colorbar\": {\"outlinewidth\": 0, \"ticks\": \"\"}}, \"type\": \"histogram\"}], \"histogram2d\": [{\"colorbar\": {\"outlinewidth\": 0, \"ticks\": \"\"}, \"colorscale\": [[0.0, \"#0d0887\"], [0.1111111111111111, \"#46039f\"], [0.2222222222222222, \"#7201a8\"], [0.3333333333333333, \"#9c179e\"], [0.4444444444444444, \"#bd3786\"], [0.5555555555555556, \"#d8576b\"], [0.6666666666666666, \"#ed7953\"], [0.7777777777777778, \"#fb9f3a\"], [0.8888888888888888, \"#fdca26\"], [1.0, \"#f0f921\"]], \"type\": \"histogram2d\"}], \"histogram2dcontour\": [{\"colorbar\": {\"outlinewidth\": 0, \"ticks\": \"\"}, \"colorscale\": [[0.0, \"#0d0887\"], [0.1111111111111111, \"#46039f\"], [0.2222222222222222, \"#7201a8\"], [0.3333333333333333, \"#9c179e\"], [0.4444444444444444, \"#bd3786\"], [0.5555555555555556, \"#d8576b\"], [0.6666666666666666, \"#ed7953\"], [0.7777777777777778, \"#fb9f3a\"], [0.8888888888888888, \"#fdca26\"], [1.0, \"#f0f921\"]], \"type\": \"histogram2dcontour\"}], \"mesh3d\": [{\"colorbar\": {\"outlinewidth\": 0, \"ticks\": \"\"}, \"type\": \"mesh3d\"}], \"parcoords\": [{\"line\": {\"colorbar\": {\"outlinewidth\": 0, \"ticks\": \"\"}}, \"type\": \"parcoords\"}], \"pie\": [{\"automargin\": true, \"type\": \"pie\"}], \"scatter\": [{\"marker\": {\"colorbar\": {\"outlinewidth\": 0, \"ticks\": \"\"}}, \"type\": \"scatter\"}], \"scatter3d\": [{\"line\": {\"colorbar\": {\"outlinewidth\": 0, \"ticks\": \"\"}}, \"marker\": {\"colorbar\": {\"outlinewidth\": 0, \"ticks\": \"\"}}, \"type\": \"scatter3d\"}], \"scattercarpet\": [{\"marker\": {\"colorbar\": {\"outlinewidth\": 0, \"ticks\": \"\"}}, \"type\": \"scattercarpet\"}], \"scattergeo\": [{\"marker\": {\"colorbar\": {\"outlinewidth\": 0, \"ticks\": \"\"}}, \"type\": \"scattergeo\"}], \"scattergl\": [{\"marker\": {\"colorbar\": {\"outlinewidth\": 0, \"ticks\": \"\"}}, \"type\": \"scattergl\"}], \"scattermapbox\": [{\"marker\": {\"colorbar\": {\"outlinewidth\": 0, \"ticks\": \"\"}}, \"type\": \"scattermapbox\"}], \"scatterpolar\": [{\"marker\": {\"colorbar\": {\"outlinewidth\": 0, \"ticks\": \"\"}}, \"type\": \"scatterpolar\"}], \"scatterpolargl\": [{\"marker\": {\"colorbar\": {\"outlinewidth\": 0, \"ticks\": \"\"}}, \"type\": \"scatterpolargl\"}], \"scatterternary\": [{\"marker\": {\"colorbar\": {\"outlinewidth\": 0, \"ticks\": \"\"}}, \"type\": \"scatterternary\"}], \"surface\": [{\"colorbar\": {\"outlinewidth\": 0, \"ticks\": \"\"}, \"colorscale\": [[0.0, \"#0d0887\"], [0.1111111111111111, \"#46039f\"], [0.2222222222222222, \"#7201a8\"], [0.3333333333333333, \"#9c179e\"], [0.4444444444444444, \"#bd3786\"], [0.5555555555555556, \"#d8576b\"], [0.6666666666666666, \"#ed7953\"], [0.7777777777777778, \"#fb9f3a\"], [0.8888888888888888, \"#fdca26\"], [1.0, \"#f0f921\"]], \"type\": \"surface\"}], \"table\": [{\"cells\": {\"fill\": {\"color\": \"#EBF0F8\"}, \"line\": {\"color\": \"white\"}}, \"header\": {\"fill\": {\"color\": \"#C8D4E3\"}, \"line\": {\"color\": \"white\"}}, \"type\": \"table\"}]}, \"layout\": {\"annotationdefaults\": {\"arrowcolor\": \"#2a3f5f\", \"arrowhead\": 0, \"arrowwidth\": 1}, \"coloraxis\": {\"colorbar\": {\"outlinewidth\": 0, \"ticks\": \"\"}}, \"colorscale\": {\"diverging\": [[0, \"#8e0152\"], [0.1, \"#c51b7d\"], [0.2, \"#de77ae\"], [0.3, \"#f1b6da\"], [0.4, \"#fde0ef\"], [0.5, \"#f7f7f7\"], [0.6, \"#e6f5d0\"], [0.7, \"#b8e186\"], [0.8, \"#7fbc41\"], [0.9, \"#4d9221\"], [1, \"#276419\"]], \"sequential\": [[0.0, \"#0d0887\"], [0.1111111111111111, \"#46039f\"], [0.2222222222222222, \"#7201a8\"], [0.3333333333333333, \"#9c179e\"], [0.4444444444444444, \"#bd3786\"], [0.5555555555555556, \"#d8576b\"], [0.6666666666666666, \"#ed7953\"], [0.7777777777777778, \"#fb9f3a\"], [0.8888888888888888, \"#fdca26\"], [1.0, \"#f0f921\"]], \"sequentialminus\": [[0.0, \"#0d0887\"], [0.1111111111111111, \"#46039f\"], [0.2222222222222222, \"#7201a8\"], [0.3333333333333333, \"#9c179e\"], [0.4444444444444444, \"#bd3786\"], [0.5555555555555556, \"#d8576b\"], [0.6666666666666666, \"#ed7953\"], [0.7777777777777778, \"#fb9f3a\"], [0.8888888888888888, \"#fdca26\"], [1.0, \"#f0f921\"]]}, \"colorway\": [\"#636efa\", \"#EF553B\", \"#00cc96\", \"#ab63fa\", \"#FFA15A\", \"#19d3f3\", \"#FF6692\", \"#B6E880\", \"#FF97FF\", \"#FECB52\"], \"font\": {\"color\": \"#2a3f5f\"}, \"geo\": {\"bgcolor\": \"white\", \"lakecolor\": \"white\", \"landcolor\": \"#E5ECF6\", \"showlakes\": true, \"showland\": true, \"subunitcolor\": \"white\"}, \"hoverlabel\": {\"align\": \"left\"}, \"hovermode\": \"closest\", \"mapbox\": {\"style\": \"light\"}, \"paper_bgcolor\": \"white\", \"plot_bgcolor\": \"#E5ECF6\", \"polar\": {\"angularaxis\": {\"gridcolor\": \"white\", \"linecolor\": \"white\", \"ticks\": \"\"}, \"bgcolor\": \"#E5ECF6\", \"radialaxis\": {\"gridcolor\": \"white\", \"linecolor\": \"white\", \"ticks\": \"\"}}, \"scene\": {\"xaxis\": {\"backgroundcolor\": \"#E5ECF6\", \"gridcolor\": \"white\", \"gridwidth\": 2, \"linecolor\": \"white\", \"showbackground\": true, \"ticks\": \"\", \"zerolinecolor\": \"white\"}, \"yaxis\": {\"backgroundcolor\": \"#E5ECF6\", \"gridcolor\": \"white\", \"gridwidth\": 2, \"linecolor\": \"white\", \"showbackground\": true, \"ticks\": \"\", \"zerolinecolor\": \"white\"}, \"zaxis\": {\"backgroundcolor\": \"#E5ECF6\", \"gridcolor\": \"white\", \"gridwidth\": 2, \"linecolor\": \"white\", \"showbackground\": true, \"ticks\": \"\", \"zerolinecolor\": \"white\"}}, \"shapedefaults\": {\"line\": {\"color\": \"#2a3f5f\"}}, \"ternary\": {\"aaxis\": {\"gridcolor\": \"white\", \"linecolor\": \"white\", \"ticks\": \"\"}, \"baxis\": {\"gridcolor\": \"white\", \"linecolor\": \"white\", \"ticks\": \"\"}, \"bgcolor\": \"#E5ECF6\", \"caxis\": {\"gridcolor\": \"white\", \"linecolor\": \"white\", \"ticks\": \"\"}}, \"title\": {\"x\": 0.05}, \"xaxis\": {\"automargin\": true, \"gridcolor\": \"white\", \"linecolor\": \"white\", \"ticks\": \"\", \"title\": {\"standoff\": 15}, \"zerolinecolor\": \"white\", \"zerolinewidth\": 2}, \"yaxis\": {\"automargin\": true, \"gridcolor\": \"white\", \"linecolor\": \"white\", \"ticks\": \"\", \"title\": {\"standoff\": 15}, \"zerolinecolor\": \"white\", \"zerolinewidth\": 2}}}, \"title\": {\"font\": {\"color\": \"#4D5663\"}}, \"xaxis\": {\"anchor\": \"y\", \"domain\": [0.0, 0.2125], \"gridcolor\": \"#E1E5ED\", \"showgrid\": false, \"tickfont\": {\"color\": \"#4D5663\"}, \"title\": {\"font\": {\"color\": \"#4D5663\"}, \"text\": \"\"}, \"zerolinecolor\": \"#E1E5ED\"}, \"xaxis10\": {\"anchor\": \"y10\", \"domain\": [0.2625, 0.475], \"gridcolor\": \"#E1E5ED\", \"showgrid\": false, \"tickfont\": {\"color\": \"#4D5663\"}, \"title\": {\"font\": {\"color\": \"#4D5663\"}, \"text\": \"\"}, \"zerolinecolor\": \"#E1E5ED\"}, \"xaxis11\": {\"anchor\": \"y11\", \"domain\": [0.525, 0.7375], \"gridcolor\": \"#E1E5ED\", \"showgrid\": false, \"tickfont\": {\"color\": \"#4D5663\"}, \"title\": {\"font\": {\"color\": \"#4D5663\"}, \"text\": \"\"}, \"zerolinecolor\": \"#E1E5ED\"}, \"xaxis12\": {\"anchor\": \"y12\", \"domain\": [0.7875, 1.0], \"gridcolor\": \"#E1E5ED\", \"showgrid\": false, \"tickfont\": {\"color\": \"#4D5663\"}, \"title\": {\"font\": {\"color\": \"#4D5663\"}, \"text\": \"\"}, \"zerolinecolor\": \"#E1E5ED\"}, \"xaxis13\": {\"anchor\": \"y13\", \"domain\": [0.0, 0.2125], \"gridcolor\": \"#E1E5ED\", \"showgrid\": false, \"tickfont\": {\"color\": \"#4D5663\"}, \"title\": {\"font\": {\"color\": \"#4D5663\"}, \"text\": \"\"}, \"zerolinecolor\": \"#E1E5ED\"}, \"xaxis14\": {\"anchor\": \"y14\", \"domain\": [0.2625, 0.475], \"gridcolor\": \"#E1E5ED\", \"showgrid\": false, \"tickfont\": {\"color\": \"#4D5663\"}, \"title\": {\"font\": {\"color\": \"#4D5663\"}, \"text\": \"\"}, \"zerolinecolor\": \"#E1E5ED\"}, \"xaxis15\": {\"anchor\": \"y15\", \"domain\": [0.525, 0.7375], \"gridcolor\": \"#E1E5ED\", \"showgrid\": false, \"tickfont\": {\"color\": \"#4D5663\"}, \"title\": {\"font\": {\"color\": \"#4D5663\"}, \"text\": \"\"}, \"zerolinecolor\": \"#E1E5ED\"}, \"xaxis16\": {\"anchor\": \"y16\", \"domain\": [0.7875, 1.0], \"gridcolor\": \"#E1E5ED\", \"showgrid\": false, \"tickfont\": {\"color\": \"#4D5663\"}, \"title\": {\"font\": {\"color\": \"#4D5663\"}, \"text\": \"\"}, \"zerolinecolor\": \"#E1E5ED\"}, \"xaxis2\": {\"anchor\": \"y2\", \"domain\": [0.2625, 0.475], \"gridcolor\": \"#E1E5ED\", \"showgrid\": false, \"tickfont\": {\"color\": \"#4D5663\"}, \"title\": {\"font\": {\"color\": \"#4D5663\"}, \"text\": \"\"}, \"zerolinecolor\": \"#E1E5ED\"}, \"xaxis3\": {\"anchor\": \"y3\", \"domain\": [0.525, 0.7375], \"gridcolor\": \"#E1E5ED\", \"showgrid\": false, \"tickfont\": {\"color\": \"#4D5663\"}, \"title\": {\"font\": {\"color\": \"#4D5663\"}, \"text\": \"\"}, \"zerolinecolor\": \"#E1E5ED\"}, \"xaxis4\": {\"anchor\": \"y4\", \"domain\": [0.7875, 1.0], \"gridcolor\": \"#E1E5ED\", \"showgrid\": false, \"tickfont\": {\"color\": \"#4D5663\"}, \"title\": {\"font\": {\"color\": \"#4D5663\"}, \"text\": \"\"}, \"zerolinecolor\": \"#E1E5ED\"}, \"xaxis5\": {\"anchor\": \"y5\", \"domain\": [0.0, 0.2125], \"gridcolor\": \"#E1E5ED\", \"showgrid\": false, \"tickfont\": {\"color\": \"#4D5663\"}, \"title\": {\"font\": {\"color\": \"#4D5663\"}, \"text\": \"\"}, \"zerolinecolor\": \"#E1E5ED\"}, \"xaxis6\": {\"anchor\": \"y6\", \"domain\": [0.2625, 0.475], \"gridcolor\": \"#E1E5ED\", \"showgrid\": false, \"tickfont\": {\"color\": \"#4D5663\"}, \"title\": {\"font\": {\"color\": \"#4D5663\"}, \"text\": \"\"}, \"zerolinecolor\": \"#E1E5ED\"}, \"xaxis7\": {\"anchor\": \"y7\", \"domain\": [0.525, 0.7375], \"gridcolor\": \"#E1E5ED\", \"showgrid\": false, \"tickfont\": {\"color\": \"#4D5663\"}, \"title\": {\"font\": {\"color\": \"#4D5663\"}, \"text\": \"\"}, \"zerolinecolor\": \"#E1E5ED\"}, \"xaxis8\": {\"anchor\": \"y8\", \"domain\": [0.7875, 1.0], \"gridcolor\": \"#E1E5ED\", \"showgrid\": false, \"tickfont\": {\"color\": \"#4D5663\"}, \"title\": {\"font\": {\"color\": \"#4D5663\"}, \"text\": \"\"}, \"zerolinecolor\": \"#E1E5ED\"}, \"xaxis9\": {\"anchor\": \"y9\", \"domain\": [0.0, 0.2125], \"gridcolor\": \"#E1E5ED\", \"showgrid\": false, \"tickfont\": {\"color\": \"#4D5663\"}, \"title\": {\"font\": {\"color\": \"#4D5663\"}, \"text\": \"\"}, \"zerolinecolor\": \"#E1E5ED\"}, \"yaxis\": {\"anchor\": \"x\", \"domain\": [0.8025, 1.0], \"gridcolor\": \"#E1E5ED\", \"showgrid\": false, \"tickfont\": {\"color\": \"#4D5663\"}, \"title\": {\"font\": {\"color\": \"#4D5663\"}, \"text\": \"\"}, \"zerolinecolor\": \"#E1E5ED\"}, \"yaxis10\": {\"anchor\": \"x10\", \"domain\": [0.2675, 0.465], \"gridcolor\": \"#E1E5ED\", \"showgrid\": false, \"tickfont\": {\"color\": \"#4D5663\"}, \"title\": {\"font\": {\"color\": \"#4D5663\"}, \"text\": \"\"}, \"zerolinecolor\": \"#E1E5ED\"}, \"yaxis11\": {\"anchor\": \"x11\", \"domain\": [0.2675, 0.465], \"gridcolor\": \"#E1E5ED\", \"showgrid\": false, \"tickfont\": {\"color\": \"#4D5663\"}, \"title\": {\"font\": {\"color\": \"#4D5663\"}, \"text\": \"\"}, \"zerolinecolor\": \"#E1E5ED\"}, \"yaxis12\": {\"anchor\": \"x12\", \"domain\": [0.2675, 0.465], \"gridcolor\": \"#E1E5ED\", \"showgrid\": false, \"tickfont\": {\"color\": \"#4D5663\"}, \"title\": {\"font\": {\"color\": \"#4D5663\"}, \"text\": \"\"}, \"zerolinecolor\": \"#E1E5ED\"}, \"yaxis13\": {\"anchor\": \"x13\", \"domain\": [0.0, 0.1975], \"gridcolor\": \"#E1E5ED\", \"showgrid\": false, \"tickfont\": {\"color\": \"#4D5663\"}, \"title\": {\"font\": {\"color\": \"#4D5663\"}, \"text\": \"\"}, \"zerolinecolor\": \"#E1E5ED\"}, \"yaxis14\": {\"anchor\": \"x14\", \"domain\": [0.0, 0.1975], \"gridcolor\": \"#E1E5ED\", \"showgrid\": false, \"tickfont\": {\"color\": \"#4D5663\"}, \"title\": {\"font\": {\"color\": \"#4D5663\"}, \"text\": \"\"}, \"zerolinecolor\": \"#E1E5ED\"}, \"yaxis15\": {\"anchor\": \"x15\", \"domain\": [0.0, 0.1975], \"gridcolor\": \"#E1E5ED\", \"showgrid\": false, \"tickfont\": {\"color\": \"#4D5663\"}, \"title\": {\"font\": {\"color\": \"#4D5663\"}, \"text\": \"\"}, \"zerolinecolor\": \"#E1E5ED\"}, \"yaxis16\": {\"anchor\": \"x16\", \"domain\": [0.0, 0.1975], \"gridcolor\": \"#E1E5ED\", \"showgrid\": false, \"tickfont\": {\"color\": \"#4D5663\"}, \"title\": {\"font\": {\"color\": \"#4D5663\"}, \"text\": \"\"}, \"zerolinecolor\": \"#E1E5ED\"}, \"yaxis2\": {\"anchor\": \"x2\", \"domain\": [0.8025, 1.0], \"gridcolor\": \"#E1E5ED\", \"showgrid\": false, \"tickfont\": {\"color\": \"#4D5663\"}, \"title\": {\"font\": {\"color\": \"#4D5663\"}, \"text\": \"\"}, \"zerolinecolor\": \"#E1E5ED\"}, \"yaxis3\": {\"anchor\": \"x3\", \"domain\": [0.8025, 1.0], \"gridcolor\": \"#E1E5ED\", \"showgrid\": false, \"tickfont\": {\"color\": \"#4D5663\"}, \"title\": {\"font\": {\"color\": \"#4D5663\"}, \"text\": \"\"}, \"zerolinecolor\": \"#E1E5ED\"}, \"yaxis4\": {\"anchor\": \"x4\", \"domain\": [0.8025, 1.0], \"gridcolor\": \"#E1E5ED\", \"showgrid\": false, \"tickfont\": {\"color\": \"#4D5663\"}, \"title\": {\"font\": {\"color\": \"#4D5663\"}, \"text\": \"\"}, \"zerolinecolor\": \"#E1E5ED\"}, \"yaxis5\": {\"anchor\": \"x5\", \"domain\": [0.535, 0.7325], \"gridcolor\": \"#E1E5ED\", \"showgrid\": false, \"tickfont\": {\"color\": \"#4D5663\"}, \"title\": {\"font\": {\"color\": \"#4D5663\"}, \"text\": \"\"}, \"zerolinecolor\": \"#E1E5ED\"}, \"yaxis6\": {\"anchor\": \"x6\", \"domain\": [0.535, 0.7325], \"gridcolor\": \"#E1E5ED\", \"showgrid\": false, \"tickfont\": {\"color\": \"#4D5663\"}, \"title\": {\"font\": {\"color\": \"#4D5663\"}, \"text\": \"\"}, \"zerolinecolor\": \"#E1E5ED\"}, \"yaxis7\": {\"anchor\": \"x7\", \"domain\": [0.535, 0.7325], \"gridcolor\": \"#E1E5ED\", \"showgrid\": false, \"tickfont\": {\"color\": \"#4D5663\"}, \"title\": {\"font\": {\"color\": \"#4D5663\"}, \"text\": \"\"}, \"zerolinecolor\": \"#E1E5ED\"}, \"yaxis8\": {\"anchor\": \"x8\", \"domain\": [0.535, 0.7325], \"gridcolor\": \"#E1E5ED\", \"showgrid\": false, \"tickfont\": {\"color\": \"#4D5663\"}, \"title\": {\"font\": {\"color\": \"#4D5663\"}, \"text\": \"\"}, \"zerolinecolor\": \"#E1E5ED\"}, \"yaxis9\": {\"anchor\": \"x9\", \"domain\": [0.2675, 0.465], \"gridcolor\": \"#E1E5ED\", \"showgrid\": false, \"tickfont\": {\"color\": \"#4D5663\"}, \"title\": {\"font\": {\"color\": \"#4D5663\"}, \"text\": \"\"}, \"zerolinecolor\": \"#E1E5ED\"}},\n",
       "                        {\"showLink\": true, \"linkText\": \"Export to plot.ly\", \"plotlyServerURL\": \"https://plot.ly\", \"responsive\": true}\n",
       "                    ).then(function(){\n",
       "                            \n",
       "var gd = document.getElementById('a9ae8ead-0943-4acf-87e9-f215e93f3f6b');\n",
       "var x = new MutationObserver(function (mutations, observer) {{\n",
       "        var display = window.getComputedStyle(gd).display;\n",
       "        if (!display || display === 'none') {{\n",
       "            console.log([gd, 'removed!']);\n",
       "            Plotly.purge(gd);\n",
       "            observer.disconnect();\n",
       "        }}\n",
       "}});\n",
       "\n",
       "// Listen for the removal of the full notebook cells\n",
       "var notebookContainer = gd.closest('#notebook-container');\n",
       "if (notebookContainer) {{\n",
       "    x.observe(notebookContainer, {childList: true});\n",
       "}}\n",
       "\n",
       "// Listen for the clearing of the current output cell\n",
       "var outputEl = gd.closest('.output');\n",
       "if (outputEl) {{\n",
       "    x.observe(outputEl, {childList: true});\n",
       "}}\n",
       "\n",
       "                        })\n",
       "                };\n",
       "                });\n",
       "            </script>\n",
       "        </div>"
      ]
     },
     "metadata": {},
     "output_type": "display_data"
    }
   ],
   "source": [
    "df.scatter_matrix()"
   ]
  },
  {
   "cell_type": "markdown",
   "metadata": {
    "collapsed": true
   },
   "source": [
    "# Great Job!"
   ]
  }
 ],
 "metadata": {
  "kernelspec": {
   "display_name": "Python 3",
   "language": "python",
   "name": "python3"
  },
  "language_info": {
   "codemirror_mode": {
    "name": "ipython",
    "version": 3
   },
   "file_extension": ".py",
   "mimetype": "text/x-python",
   "name": "python",
   "nbconvert_exporter": "python",
   "pygments_lexer": "ipython3",
   "version": "3.7.1"
  }
 },
 "nbformat": 4,
 "nbformat_minor": 1
}
